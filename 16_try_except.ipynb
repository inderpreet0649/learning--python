{
 "cells": [
  {
   "cell_type": "code",
   "execution_count": 1,
   "id": "1e7dd0e7-9e07-421d-bd1f-be9883aa2770",
   "metadata": {},
   "outputs": [],
   "source": [
    "#easy code but important topic"
   ]
  },
  {
   "cell_type": "code",
   "execution_count": 2,
   "id": "8ecabb90-29b5-4e15-acf3-ad1b478a6967",
   "metadata": {},
   "outputs": [
    {
     "name": "stdout",
     "output_type": "stream",
     "text": [
      "hi\n"
     ]
    },
    {
     "ename": "ZeroDivisionError",
     "evalue": "division by zero",
     "output_type": "error",
     "traceback": [
      "\u001b[1;31m---------------------------------------------------------------------------\u001b[0m",
      "\u001b[1;31mZeroDivisionError\u001b[0m                         Traceback (most recent call last)",
      "Cell \u001b[1;32mIn[2], line 3\u001b[0m\n\u001b[0;32m      1\u001b[0m \u001b[38;5;66;03m#if we run this code error should be taken so we we use try\u001b[39;00m\n\u001b[0;32m      2\u001b[0m \u001b[38;5;28mprint\u001b[39m(\u001b[38;5;124m'\u001b[39m\u001b[38;5;124mhi\u001b[39m\u001b[38;5;124m'\u001b[39m)\n\u001b[1;32m----> 3\u001b[0m \u001b[38;5;28mprint\u001b[39m(\u001b[38;5;241m5\u001b[39m\u001b[38;5;241m/\u001b[39m\u001b[38;5;241m0\u001b[39m)\n\u001b[0;32m      4\u001b[0m \u001b[38;5;28mprint\u001b[39m(\u001b[38;5;124m'\u001b[39m\u001b[38;5;124mhello\u001b[39m\u001b[38;5;124m'\u001b[39m)\n",
      "\u001b[1;31mZeroDivisionError\u001b[0m: division by zero"
     ]
    }
   ],
   "source": [
    "#if we run this code error should be taken so we we use try\n",
    "print('hi')\n",
    "print(5/0)\n",
    "print('hello')"
   ]
  },
  {
   "cell_type": "code",
   "execution_count": 3,
   "id": "54c5426d-a881-49bd-81e7-5fdde24666ca",
   "metadata": {},
   "outputs": [
    {
     "name": "stdout",
     "output_type": "stream",
     "text": [
      "hi\n",
      "nhi chala code\n"
     ]
    }
   ],
   "source": [
    "try:\n",
    "    print('hi')\n",
    "    print(5/0)\n",
    "    print('hello')\n",
    "except:\n",
    "    print('nhi chala code')\n",
    "    \n"
   ]
  },
  {
   "cell_type": "code",
   "execution_count": 6,
   "id": "1149ad39-0fe5-4668-8497-b557797dbf1e",
   "metadata": {},
   "outputs": [
    {
     "name": "stdout",
     "output_type": "stream",
     "text": [
      "hi\n",
      "5\n",
      "hello\n",
      "hell0\n"
     ]
    }
   ],
   "source": [
    "#abh error too aaya n isme so else bhi print hogga jabh code binna kisi error se chale \n",
    "try:\n",
    "    print('hi')\n",
    "    print(5)\n",
    "    print('hello')\n",
    "except:\n",
    "    print('nhi chala code')\n",
    "else:\n",
    "    print('hell0')\n"
   ]
  },
  {
   "cell_type": "code",
   "execution_count": 15,
   "id": "31590c75-0a1d-4883-b1ee-1dbf69e010b7",
   "metadata": {},
   "outputs": [
    {
     "ename": "ZeroDivisionError",
     "evalue": "division by zero",
     "output_type": "error",
     "traceback": [
      "\u001b[1;31m---------------------------------------------------------------------------\u001b[0m",
      "\u001b[1;31mZeroDivisionError\u001b[0m                         Traceback (most recent call last)",
      "Cell \u001b[1;32mIn[15], line 1\u001b[0m\n\u001b[1;32m----> 1\u001b[0m \u001b[38;5;241m5\u001b[39m\u001b[38;5;241m/\u001b[39m\u001b[38;5;241m0\u001b[39m\n",
      "\u001b[1;31mZeroDivisionError\u001b[0m: division by zero"
     ]
    }
   ],
   "source": [
    "5/0\n"
   ]
  },
  {
   "cell_type": "code",
   "execution_count": 10,
   "id": "9216a9f9-3020-462c-b50f-030201aa00ab",
   "metadata": {},
   "outputs": [
    {
     "name": "stdout",
     "output_type": "stream",
     "text": [
      "hi\n",
      "ZeroDivisionError aya hai\n",
      "finally run hua\n"
     ]
    }
   ],
   "source": [
    "#finally run hota hi hota hai cahhe error aaye na aaye kuch bhi ho \n",
    "try:\n",
    "    print('hi')\n",
    "    print(5/0)\n",
    "    print('hello')\n",
    "except ZeroDivisionError:\n",
    "    print('ZeroDivisionError aya hai')\n",
    "else:\n",
    "    print('hell0')\n",
    "finally:\n",
    "    print('finally run hua')"
   ]
  },
  {
   "cell_type": "code",
   "execution_count": 14,
   "id": "0242b3f1-93a2-4237-9cf7-923c8ed70dc3",
   "metadata": {},
   "outputs": [
    {
     "name": "stdout",
     "output_type": "stream",
     "text": [
      "hi\n",
      "error hai\n",
      "finally run hua\n"
     ]
    }
   ],
   "source": [
    "try:\n",
    "    print('hi')\n",
    "    print(int(\"inder\"))\n",
    "    print('hello')\n",
    "except ZeroDivisionError:\n",
    "    print('ZeroDivisionError aya hai')\n",
    "except:#for this int(inder) code hai upr wala 0 error k liye tha\n",
    "    print('error hai')\n",
    "else:\n",
    "    print('hell0')\n",
    "finally:\n",
    "    print('finally run hua')"
   ]
  },
  {
   "cell_type": "code",
   "execution_count": 18,
   "id": "7319ead9-c4d2-466a-8a8f-be1942e314cc",
   "metadata": {},
   "outputs": [
    {
     "ename": "ZeroDivisionError",
     "evalue": "division by zero",
     "output_type": "error",
     "traceback": [
      "\u001b[1;31m---------------------------------------------------------------------------\u001b[0m",
      "\u001b[1;31mZeroDivisionError\u001b[0m                         Traceback (most recent call last)",
      "Cell \u001b[1;32mIn[18], line 2\u001b[0m\n\u001b[0;32m      1\u001b[0m \u001b[38;5;66;03m#as we copy error name if we save it as e or any alphabet then they give division already that given to the error name eg...\u001b[39;00m\n\u001b[1;32m----> 2\u001b[0m \u001b[38;5;241m5\u001b[39m\u001b[38;5;241m/\u001b[39m\u001b[38;5;241m0\u001b[39m\n",
      "\u001b[1;31mZeroDivisionError\u001b[0m: division by zero"
     ]
    }
   ],
   "source": [
    "#as we copy error name if we save it as e or any alphabet then they give division already that given to the error name eg...\n",
    "5/0"
   ]
  },
  {
   "cell_type": "code",
   "execution_count": 17,
   "id": "dae06e0d-79fb-4e17-9bd5-ee4287dfc777",
   "metadata": {},
   "outputs": [
    {
     "name": "stdout",
     "output_type": "stream",
     "text": [
      "hi\n",
      "division by zero\n",
      "finally run hua\n"
     ]
    }
   ],
   "source": [
    "try:\n",
    "    print('hi')\n",
    "    print(5/0)\n",
    "    print('hello')\n",
    "except ZeroDivisionError as e:\n",
    "    print(e)\n",
    "else:\n",
    "    print('hell0')\n",
    "finally:\n",
    "    print('finally run hua')"
   ]
  },
  {
   "cell_type": "code",
   "execution_count": 20,
   "id": "6156cb63-ef89-4cba-8761-2b3eb8c97e05",
   "metadata": {},
   "outputs": [
    {
     "name": "stdin",
     "output_type": "stream",
     "text": [
      " inder\n"
     ]
    },
    {
     "name": "stdout",
     "output_type": "stream",
     "text": [
      "invalid literal for int() with base 10: 'inder'\n",
      "check connection\n"
     ]
    }
   ],
   "source": [
    "try:\n",
    "    a=500\n",
    "    b=int(input())#isme error aane k chance hai\n",
    "    c=a/b #division error k chance\n",
    "    print(c)\n",
    "except ValueError as v:\n",
    "    print(v)\n",
    "except ZeroDivisionError as z:\n",
    "    print(z)\n",
    "except:\n",
    "    print(\"check something\")\n",
    "else:\n",
    "    print('everything is fine')\n",
    "finally:\n",
    "    print(\"check connection\")"
   ]
  },
  {
   "cell_type": "code",
   "execution_count": 21,
   "id": "cebf3db2-acc6-4e90-87db-604cac82d61b",
   "metadata": {},
   "outputs": [
    {
     "name": "stdin",
     "output_type": "stream",
     "text": [
      " 0\n"
     ]
    },
    {
     "name": "stdout",
     "output_type": "stream",
     "text": [
      "division by zero\n",
      "check connection\n"
     ]
    }
   ],
   "source": [
    "try:\n",
    "    a=500\n",
    "    b=int(input())#isme error aane k chance hai\n",
    "    c=a/b #division error k chance\n",
    "    print(c)\n",
    "except ValueError as v:\n",
    "    print(v)\n",
    "except ZeroDivisionError as z:\n",
    "    print(z)\n",
    "except:\n",
    "    print(\"check something\")\n",
    "else:\n",
    "    print('everything is fine')\n",
    "finally:\n",
    "    print(\"check connection\")"
   ]
  },
  {
   "cell_type": "code",
   "execution_count": null,
   "id": "80ac8872-cf6a-4a6f-8dba-22147e9ccbf2",
   "metadata": {},
   "outputs": [],
   "source": []
  }
 ],
 "metadata": {
  "kernelspec": {
   "display_name": "Python [conda env:base] *",
   "language": "python",
   "name": "conda-base-py"
  },
  "language_info": {
   "codemirror_mode": {
    "name": "ipython",
    "version": 3
   },
   "file_extension": ".py",
   "mimetype": "text/x-python",
   "name": "python",
   "nbconvert_exporter": "python",
   "pygments_lexer": "ipython3",
   "version": "3.13.5"
  }
 },
 "nbformat": 4,
 "nbformat_minor": 5
}
