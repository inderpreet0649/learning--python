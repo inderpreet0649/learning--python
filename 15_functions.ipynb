{
 "cells": [
  {
   "cell_type": "markdown",
   "id": "4c63f03c-1c2b-484d-ae42-58593f6a2ae9",
   "metadata": {},
   "source": [
    "# Funtions"
   ]
  },
  {
   "cell_type": "markdown",
   "id": "d540a7ff-d5be-4a9d-b947-2a24282fa4bf",
   "metadata": {},
   "source": [
    "## Function store code and it executes the code when called "
   ]
  },
  {
   "cell_type": "code",
   "execution_count": 1,
   "id": "d37767e6-c175-4ccc-aaba-8b4488665af3",
   "metadata": {},
   "outputs": [],
   "source": [
    "#there is a two ways of functions:\n",
    "# 1.define a function\n",
    "#2.call a function"
   ]
  },
  {
   "cell_type": "code",
   "execution_count": 2,
   "id": "698626d5-ef18-4501-9ca4-df095d16d85b",
   "metadata": {},
   "outputs": [],
   "source": [
    "#define a function \n",
    "\n",
    "def greeting():\n",
    "    print(\"hello everyone nice to meet you\")\n",
    "    print(2+2)"
   ]
  },
  {
   "cell_type": "code",
   "execution_count": 3,
   "id": "d0ab7433-86d8-4592-ab5b-fd0835407453",
   "metadata": {},
   "outputs": [
    {
     "name": "stdout",
     "output_type": "stream",
     "text": [
      "hello everyone nice to meet you\n",
      "4\n"
     ]
    }
   ],
   "source": [
    "#call a function\n",
    "greeting()"
   ]
  },
  {
   "cell_type": "code",
   "execution_count": 5,
   "id": "570fce51-b296-4eba-8293-702bebf059b0",
   "metadata": {
    "collapsed": true,
    "jupyter": {
     "outputs_hidden": true
    }
   },
   "outputs": [
    {
     "name": "stdout",
     "output_type": "stream",
     "text": [
      "hello everyone nice to meet you\n",
      "4\n",
      "hello world\n",
      "hello everyone nice to meet you\n",
      "4\n"
     ]
    }
   ],
   "source": [
    "greeting()\n",
    "print(\"hello world\")\n",
    "greeting()"
   ]
  },
  {
   "cell_type": "markdown",
   "id": "135c3fa2-1738-47b5-9ef9-63f980b38ee8",
   "metadata": {},
   "source": [
    "# Types of function"
   ]
  },
  {
   "cell_type": "markdown",
   "id": "cfbbcb2d-b285-4a79-9199-c44bbef8276b",
   "metadata": {},
   "source": [
    "### Built in functions"
   ]
  },
  {
   "cell_type": "code",
   "execution_count": 6,
   "id": "12c79769-f433-41bc-9158-03502d0fd7b9",
   "metadata": {},
   "outputs": [
    {
     "name": "stdout",
     "output_type": "stream",
     "text": [
      "hi\n"
     ]
    },
    {
     "data": {
      "text/plain": [
       "5"
      ]
     },
     "execution_count": 6,
     "metadata": {},
     "output_type": "execute_result"
    }
   ],
   "source": [
    "# built in functions\n",
    "print(\"hi\")\n",
    "len(\"inder\")"
   ]
  },
  {
   "cell_type": "code",
   "execution_count": 8,
   "id": "b52d62da-87cf-4ba5-9f46-4914dba3ea26",
   "metadata": {},
   "outputs": [
    {
     "data": {
      "text/plain": [
       "8"
      ]
     },
     "execution_count": 8,
     "metadata": {},
     "output_type": "execute_result"
    }
   ],
   "source": [
    "min([8,6,2])\n",
    "max([8,6,2])"
   ]
  },
  {
   "cell_type": "markdown",
   "id": "5aa05287-3766-45e7-ba7a-598768153cce",
   "metadata": {},
   "source": [
    "### user define function"
   ]
  },
  {
   "cell_type": "code",
   "execution_count": 11,
   "id": "4e612a62-1ea3-4e96-9c9f-d9f59496d101",
   "metadata": {},
   "outputs": [],
   "source": [
    "def greeting():\n",
    "    print(\"hellow everyone my name is inder\")"
   ]
  },
  {
   "cell_type": "code",
   "execution_count": 12,
   "id": "01e18898-0602-4bc9-a59f-771a1a8c58e5",
   "metadata": {},
   "outputs": [
    {
     "name": "stdout",
     "output_type": "stream",
     "text": [
      "hellow everyone my name is inder\n"
     ]
    }
   ],
   "source": [
    "greeting()"
   ]
  },
  {
   "cell_type": "code",
   "execution_count": 13,
   "id": "838d5ee4-f0b6-4f66-ad83-52e6cdb2a37e",
   "metadata": {},
   "outputs": [],
   "source": [
    "#isme error k agge kuj v print hogga error k pehle vale sare print honge\n",
    "def greeting():\n",
    "    print(\"hellow everyone my name is inder\")\n",
    "    print(8/0)\n",
    "    print(\"hi\")"
   ]
  },
  {
   "cell_type": "code",
   "execution_count": 14,
   "id": "017d2f7e-3f53-4364-8a0a-f4274b974418",
   "metadata": {},
   "outputs": [
    {
     "name": "stdout",
     "output_type": "stream",
     "text": [
      "hellow everyone my name is inder\n"
     ]
    },
    {
     "ename": "ZeroDivisionError",
     "evalue": "division by zero",
     "output_type": "error",
     "traceback": [
      "\u001b[1;31m---------------------------------------------------------------------------\u001b[0m",
      "\u001b[1;31mZeroDivisionError\u001b[0m                         Traceback (most recent call last)",
      "Cell \u001b[1;32mIn[14], line 1\u001b[0m\n\u001b[1;32m----> 1\u001b[0m greeting()\n",
      "Cell \u001b[1;32mIn[13], line 4\u001b[0m, in \u001b[0;36mgreeting\u001b[1;34m()\u001b[0m\n\u001b[0;32m      2\u001b[0m \u001b[38;5;28;01mdef\u001b[39;00m\u001b[38;5;250m \u001b[39m\u001b[38;5;21mgreeting\u001b[39m():\n\u001b[0;32m      3\u001b[0m     \u001b[38;5;28mprint\u001b[39m(\u001b[38;5;124m\"\u001b[39m\u001b[38;5;124mhellow everyone my name is inder\u001b[39m\u001b[38;5;124m\"\u001b[39m)\n\u001b[1;32m----> 4\u001b[0m     \u001b[38;5;28mprint\u001b[39m(\u001b[38;5;241m8\u001b[39m\u001b[38;5;241m/\u001b[39m\u001b[38;5;241m0\u001b[39m)\n\u001b[0;32m      5\u001b[0m     \u001b[38;5;28mprint\u001b[39m(\u001b[38;5;124m\"\u001b[39m\u001b[38;5;124mhi\u001b[39m\u001b[38;5;124m\"\u001b[39m)\n",
      "\u001b[1;31mZeroDivisionError\u001b[0m: division by zero"
     ]
    }
   ],
   "source": [
    "greeting()"
   ]
  },
  {
   "cell_type": "markdown",
   "id": "b4c8f0c8-9565-45c0-ae55-ca739c2a58d2",
   "metadata": {},
   "source": [
    "## user defined functions types"
   ]
  },
  {
   "cell_type": "code",
   "execution_count": 15,
   "id": "9f83d75a-0fd8-460b-b0f2-dca01956f12f",
   "metadata": {},
   "outputs": [],
   "source": [
    "# simple function\n",
    "def greeting():\n",
    "    print(\"hellow everyone my name is inder\")"
   ]
  },
  {
   "cell_type": "code",
   "execution_count": 16,
   "id": "d3b2e845-38d4-4fa8-ba83-c44654b740c8",
   "metadata": {},
   "outputs": [
    {
     "name": "stdout",
     "output_type": "stream",
     "text": [
      "hellow everyone my name is inder\n"
     ]
    }
   ],
   "source": [
    "greeting()"
   ]
  },
  {
   "cell_type": "code",
   "execution_count": 17,
   "id": "2a764360-c13e-46f6-81d3-b7bbe274faf9",
   "metadata": {},
   "outputs": [],
   "source": [
    "# input function\n",
    "\n",
    "def greeting():\n",
    "    name=\"inder\"\n",
    "    print(f\"hello {name} nice to meet you\")"
   ]
  },
  {
   "cell_type": "code",
   "execution_count": 18,
   "id": "26dc1b7a-0a50-4187-bf3c-faaeacb6916b",
   "metadata": {},
   "outputs": [
    {
     "name": "stdout",
     "output_type": "stream",
     "text": [
      "hello inder nice to meet you\n"
     ]
    }
   ],
   "source": [
    "greeting()"
   ]
  },
  {
   "cell_type": "code",
   "execution_count": 19,
   "id": "4fbba41b-958d-471e-bdd1-b1f890dc07dc",
   "metadata": {},
   "outputs": [],
   "source": [
    "#if i want ki user khud se change krre apna naam\n",
    "def greeting(name):\n",
    "    print(f\"hello {name} nice to meet you\")"
   ]
  },
  {
   "cell_type": "code",
   "execution_count": 76,
   "id": "7b353031-caf1-409b-b668-c94c04a8ec2d",
   "metadata": {},
   "outputs": [
    {
     "name": "stdout",
     "output_type": "stream",
     "text": [
      "hello inder nice to meet you\n"
     ]
    }
   ],
   "source": [
    "greeting(\"inder\")"
   ]
  },
  {
   "cell_type": "code",
   "execution_count": 75,
   "id": "6a304c24-c5c9-4c7d-b3c5-9cb288dc1b64",
   "metadata": {},
   "outputs": [],
   "source": [
    "def area_of_circle(r):\n",
    "    print((22/7)*r*r)"
   ]
  },
  {
   "cell_type": "code",
   "execution_count": 77,
   "id": "484f4e9a-143b-4ba0-8e43-269ba5adebf6",
   "metadata": {},
   "outputs": [
    {
     "name": "stdout",
     "output_type": "stream",
     "text": [
      "78.57142857142857\n"
     ]
    }
   ],
   "source": [
    "area_of_circle(5)"
   ]
  },
  {
   "cell_type": "code",
   "execution_count": 78,
   "id": "b96362ea-f91f-4d77-b96e-67452cb1dc8e",
   "metadata": {},
   "outputs": [],
   "source": [
    "def area_of_triangle(length,width):\n",
    "    print(length*width)"
   ]
  },
  {
   "cell_type": "code",
   "execution_count": 79,
   "id": "d6597016-d5ed-4a38-981d-7b3aa4d613ea",
   "metadata": {},
   "outputs": [
    {
     "name": "stdout",
     "output_type": "stream",
     "text": [
      "50\n"
     ]
    }
   ],
   "source": [
    "area_of_triangle(5,10)"
   ]
  },
  {
   "cell_type": "code",
   "execution_count": 40,
   "id": "53debaf3-9f34-4030-ac34-9b714cebf3b2",
   "metadata": {},
   "outputs": [],
   "source": [
    "# default function \n",
    "def greeting(name):\n",
    "    print(f\"hello {name} nice to meet you\")"
   ]
  },
  {
   "cell_type": "code",
   "execution_count": 41,
   "id": "8a1efbd8-060c-4907-ada3-caa9afd86b64",
   "metadata": {},
   "outputs": [
    {
     "name": "stdout",
     "output_type": "stream",
     "text": [
      "hello inder nice to meet you\n"
     ]
    }
   ],
   "source": [
    "greeting(\"inder\")"
   ]
  },
  {
   "cell_type": "code",
   "execution_count": 42,
   "id": "e3d09fba-0970-4b21-9bdb-702b46a0a13f",
   "metadata": {},
   "outputs": [],
   "source": [
    "#age isme hum name na like call krte time too error deta hai pr usse lanne k liye hum likhenge user\n",
    "def greeting(name=\"USER\"):\n",
    "    print(f\"hello {name} nice to meet you\")"
   ]
  },
  {
   "cell_type": "code",
   "execution_count": 43,
   "id": "25e6eaf5-2c7a-46f2-ba2e-8a657465f001",
   "metadata": {},
   "outputs": [
    {
     "name": "stdout",
     "output_type": "stream",
     "text": [
      "hello USER nice to meet you\n"
     ]
    }
   ],
   "source": [
    "greeting()"
   ]
  },
  {
   "cell_type": "code",
   "execution_count": 44,
   "id": "f39dc707-fcdf-4cc7-b1da-403324c6a0b1",
   "metadata": {},
   "outputs": [],
   "source": [
    "def salary_structure(salary,Tax_rate):\n",
    "    tax=salary*Tax_rate\n",
    "    print(tax)"
   ]
  },
  {
   "cell_type": "code",
   "execution_count": 45,
   "id": "07631cf3-76ae-4233-95d6-6ac730e7f057",
   "metadata": {},
   "outputs": [
    {
     "name": "stdout",
     "output_type": "stream",
     "text": [
      "96000.0\n"
     ]
    }
   ],
   "source": [
    "salary_structure(800000,0.12)"
   ]
  },
  {
   "cell_type": "code",
   "execution_count": 46,
   "id": "1181ef11-9990-4dfa-98dd-3482f707312d",
   "metadata": {},
   "outputs": [
    {
     "ename": "NameError",
     "evalue": "name 'tax' is not defined",
     "output_type": "error",
     "traceback": [
      "\u001b[1;31m---------------------------------------------------------------------------\u001b[0m",
      "\u001b[1;31mNameError\u001b[0m                                 Traceback (most recent call last)",
      "Cell \u001b[1;32mIn[46], line 1\u001b[0m\n\u001b[1;32m----> 1\u001b[0m tax\n",
      "\u001b[1;31mNameError\u001b[0m: name 'tax' is not defined"
     ]
    }
   ],
   "source": [
    "tax"
   ]
  },
  {
   "cell_type": "code",
   "execution_count": 55,
   "id": "2b762d1d-59cb-4492-bbea-f0818687018f",
   "metadata": {},
   "outputs": [],
   "source": [
    "##return function\n",
    "#print me value save n karva sakte hum ..isliye hum return krenge \n",
    "def salary_structure(salary,Tax_rate):\n",
    "    tax=salary*Tax_rate\n",
    "    return tax"
   ]
  },
  {
   "cell_type": "code",
   "execution_count": 56,
   "id": "62f86a1b-dfb7-4a48-99b6-5d2d6508c51d",
   "metadata": {},
   "outputs": [
    {
     "data": {
      "text/plain": [
       "9600.0"
      ]
     },
     "execution_count": 56,
     "metadata": {},
     "output_type": "execute_result"
    }
   ],
   "source": [
    "salary_structure(80000,0.12)"
   ]
  },
  {
   "cell_type": "code",
   "execution_count": 57,
   "id": "0686ef9f-7428-4465-9ac2-09bbf16e71ee",
   "metadata": {},
   "outputs": [],
   "source": [
    "#isme value save karva sakte hai\n",
    "tax=salary_structure(80000,0.12)"
   ]
  },
  {
   "cell_type": "code",
   "execution_count": 58,
   "id": "946fc570-694d-4762-b171-02dc7896bf63",
   "metadata": {},
   "outputs": [
    {
     "data": {
      "text/plain": [
       "9600.0"
      ]
     },
     "execution_count": 58,
     "metadata": {},
     "output_type": "execute_result"
    }
   ],
   "source": [
    "tax"
   ]
  },
  {
   "cell_type": "code",
   "execution_count": 59,
   "id": "ae605878-a829-4131-9b16-1986ab10c8aa",
   "metadata": {},
   "outputs": [],
   "source": [
    "#default values hmesha piche honi chahiye tabhi agge chalegi varna akele agge nhi chalegi\n",
    "def salary_structure(salary,Tax_rate=0.12):\n",
    "    tax=salary*Tax_rate\n",
    "    return tax"
   ]
  },
  {
   "cell_type": "code",
   "execution_count": 61,
   "id": "c22fc492-9f25-4f31-a798-94ddc5cfc4fc",
   "metadata": {},
   "outputs": [
    {
     "data": {
      "text/plain": [
       "9600.0"
      ]
     },
     "execution_count": 61,
     "metadata": {},
     "output_type": "execute_result"
    }
   ],
   "source": [
    "#3 conditions hai ya dono default ho ya pichla ho too hi chalega akele agge vala nhi chalega even for define and call function too\n",
    "salary_structure(80000,0.12)"
   ]
  },
  {
   "cell_type": "code",
   "execution_count": 63,
   "id": "42b06d72-b79b-4005-ba25-0a43ba76d3e0",
   "metadata": {},
   "outputs": [
    {
     "data": {
      "text/plain": [
       "9600.0"
      ]
     },
     "execution_count": 63,
     "metadata": {},
     "output_type": "execute_result"
    }
   ],
   "source": [
    "salary_structure(80000,Tax_rate=0.12)"
   ]
  },
  {
   "cell_type": "code",
   "execution_count": 64,
   "id": "4f516b85-fa83-4211-8f7f-2a987713e581",
   "metadata": {},
   "outputs": [],
   "source": [
    "#if area of cube =l*b*h...then l*b*h which all values inside the def function is called parameters \n",
    "#if salary structure=(salary,tax_rate=0.12) in this the value of salary(50000)is called argument and salary is knowm as parameter"
   ]
  },
  {
   "cell_type": "code",
   "execution_count": 66,
   "id": "882903b4-b1ab-480a-afcd-fb6f4e7f5533",
   "metadata": {},
   "outputs": [],
   "source": [
    "def volume_of_cuboid(length,width,hight):\n",
    "    dimension = f\"\"\"\n",
    "    length:{length}\n",
    "    width:{width}\n",
    "    hight:{hight}\n",
    "    \"\"\"\n",
    "    print(dimension)\n",
    "    return length*width*hight"
   ]
  },
  {
   "cell_type": "code",
   "execution_count": 83,
   "id": "8fa18e9a-0a53-470f-a7c6-92f038b4fde0",
   "metadata": {},
   "outputs": [
    {
     "name": "stdout",
     "output_type": "stream",
     "text": [
      "\n",
      "    length:80\n",
      "    width:50\n",
      "    hight:100\n",
      "    \n"
     ]
    },
    {
     "data": {
      "text/plain": [
       "400000"
      ]
     },
     "execution_count": 83,
     "metadata": {},
     "output_type": "execute_result"
    }
   ],
   "source": [
    "#positional argument\n",
    "#isme yeh index according apne app apni jagah pr le lete hai this is called positional argument\n",
    "volume_of_cuboid(80,50,100)"
   ]
  },
  {
   "cell_type": "code",
   "execution_count": 86,
   "id": "0d07d19e-1480-4093-a2aa-b440fafae8ab",
   "metadata": {},
   "outputs": [
    {
     "name": "stdout",
     "output_type": "stream",
     "text": [
      "\n",
      "    length:80\n",
      "    width:50\n",
      "    hight:100\n",
      "    \n"
     ]
    },
    {
     "data": {
      "text/plain": [
       "400000"
      ]
     },
     "execution_count": 86,
     "metadata": {},
     "output_type": "execute_result"
    }
   ],
   "source": [
    "#key word argument\n",
    "#jisme specific hum value denge\n",
    "volume_of_cuboid(length=80,width=50,hight=100)"
   ]
  },
  {
   "cell_type": "code",
   "execution_count": 88,
   "id": "aa476f4f-50bd-4c2a-b8d3-4a4e465ba67c",
   "metadata": {},
   "outputs": [
    {
     "ename": "SyntaxError",
     "evalue": "positional argument follows keyword argument (272809389.py, line 4)",
     "output_type": "error",
     "traceback": [
      "\u001b[1;36m  Cell \u001b[1;32mIn[88], line 4\u001b[1;36m\u001b[0m\n\u001b[1;33m    volume_of_cuboid(length=80,50,hight=100)\u001b[0m\n\u001b[1;37m                                           ^\u001b[0m\n\u001b[1;31mSyntaxError\u001b[0m\u001b[1;31m:\u001b[0m positional argument follows keyword argument\n"
     ]
    }
   ],
   "source": [
    "#error should be taken\n",
    "#positional argument in keyword argument\n",
    "#in this make sure about indexing(or their position orthewise there is error)\n",
    "volume_of_cuboid(length=80,50,hight=100)"
   ]
  },
  {
   "cell_type": "code",
   "execution_count": 69,
   "id": "5b00aeea-64a6-4381-b76a-2e94b8900735",
   "metadata": {},
   "outputs": [
    {
     "name": "stdout",
     "output_type": "stream",
     "text": [
      "Help on function volume_of_cuboid in module __main__:\n",
      "\n",
      "volume_of_cuboid(length, width, hight)\n",
      "\n"
     ]
    }
   ],
   "source": [
    "#if we don,t know about the function we take help but if they are not fully defined\n",
    "help(volume_of_cuboid)"
   ]
  },
  {
   "cell_type": "code",
   "execution_count": 80,
   "id": "4f374070-6fe4-467b-a057-e6791aeaf534",
   "metadata": {},
   "outputs": [],
   "source": [
    "#so we print details about the code in triple notation(doc string which is known as document string) exactly the bottom of the code:\n",
    "def volume_of_cuboid(length,width,hight):\n",
    "    \"\"\"\n",
    "    this function calculates volume of cuboid\n",
    "    it takes length,width,hight as input and multiplies them\n",
    "\n",
    "    doc string is printed in help\n",
    "    and position defines length,width,hight\n",
    "    \"\"\"\n",
    "    dimension = f\"\"\"\n",
    "    length:{length}\n",
    "    width:{width}\n",
    "    hight:{hight}\n",
    "    \"\"\"\n",
    "    print(dimension)\n",
    "    return length*width*hight"
   ]
  },
  {
   "cell_type": "code",
   "execution_count": 81,
   "id": "b735a6fa-abc7-4392-ba43-ce1a8e939527",
   "metadata": {},
   "outputs": [
    {
     "name": "stdout",
     "output_type": "stream",
     "text": [
      "\n",
      "    length:30\n",
      "    width:20\n",
      "    hight:29\n",
      "    \n"
     ]
    },
    {
     "data": {
      "text/plain": [
       "17400"
      ]
     },
     "execution_count": 81,
     "metadata": {},
     "output_type": "execute_result"
    }
   ],
   "source": [
    "volume_of_cuboid(30,20,29)"
   ]
  },
  {
   "cell_type": "code",
   "execution_count": 82,
   "id": "fee8e612-8482-43d4-9622-a082878d2233",
   "metadata": {},
   "outputs": [
    {
     "name": "stdout",
     "output_type": "stream",
     "text": [
      "Help on function volume_of_cuboid in module __main__:\n",
      "\n",
      "volume_of_cuboid(length, width, hight)\n",
      "    this function calculates volume of cuboid\n",
      "    it takes length,width,hight as input and multiplies them\n",
      "\n",
      "    doc string is printed in help\n",
      "    and position defines length,width,hight\n",
      "\n"
     ]
    }
   ],
   "source": [
    "help(volume_of_cuboid)"
   ]
  },
  {
   "cell_type": "code",
   "execution_count": 89,
   "id": "e7608a97-4125-4e73-bdee-e3cc8fa8724d",
   "metadata": {},
   "outputs": [],
   "source": [
    "li=[3,4,6,8,9,6,4,2,5,6]\n",
    "def Sorthalf(li : list):\n",
    "    length = len(li)\n",
    "    li.sort()\n",
    "    firsthalf = li[:length//2]\n",
    "    secondhalf=li[length//2:]\n",
    "    secondhalf.sort(reverse=True)\n",
    "\n",
    "    return firsthalf+secondhalf"
   ]
  },
  {
   "cell_type": "code",
   "execution_count": 91,
   "id": "c595c7d0-6008-4f64-a363-62a978e8c5c8",
   "metadata": {},
   "outputs": [
    {
     "data": {
      "text/plain": [
       "[2, 3, 4, 4, 5, 9, 8, 6, 6, 6]"
      ]
     },
     "execution_count": 91,
     "metadata": {},
     "output_type": "execute_result"
    }
   ],
   "source": [
    "Sorthalf(li)"
   ]
  },
  {
   "cell_type": "code",
   "execution_count": null,
   "id": "37a5ca30-4e61-4968-bbce-66e8bf39c3c5",
   "metadata": {},
   "outputs": [],
   "source": []
  },
  {
   "cell_type": "code",
   "execution_count": null,
   "id": "7462ac9a-0bf9-4fb8-926e-e16dc44fbe53",
   "metadata": {},
   "outputs": [],
   "source": []
  },
  {
   "cell_type": "markdown",
   "id": "69e857ad-373d-4a58-bab5-f87030b2d74a",
   "metadata": {},
   "source": [
    "#### Scope imp for interview question "
   ]
  },
  {
   "cell_type": "code",
   "execution_count": 28,
   "id": "bf4a8bb1-39b4-420d-ab54-66a0d1d71dd8",
   "metadata": {},
   "outputs": [],
   "source": [
    "#global scope(bahr print krva sakte hai)\n",
    "home = \"nangal\"\n",
    "def myProfile():\n",
    "    #local scope(bahr koi pata nhi kr sakta hai )\n",
    "    name = \"inder\"\n",
    "    age=20\n",
    "    education=\"B.Sc\"\n",
    "    print(name,age,education,home)"
   ]
  },
  {
   "cell_type": "code",
   "execution_count": 34,
   "id": "d5bdbf55-e81d-413a-a264-7e1a7792ebf4",
   "metadata": {},
   "outputs": [
    {
     "name": "stdout",
     "output_type": "stream",
     "text": [
      "inder 20 B.Sc nangal\n"
     ]
    }
   ],
   "source": [
    "myProfile()"
   ]
  },
  {
   "cell_type": "code",
   "execution_count": 33,
   "id": "c8886df4-169e-4f2e-a85a-80878219c797",
   "metadata": {},
   "outputs": [
    {
     "ename": "NameError",
     "evalue": "name 'name' is not defined",
     "output_type": "error",
     "traceback": [
      "\u001b[1;31m---------------------------------------------------------------------------\u001b[0m",
      "\u001b[1;31mNameError\u001b[0m                                 Traceback (most recent call last)",
      "Cell \u001b[1;32mIn[33], line 2\u001b[0m\n\u001b[0;32m      1\u001b[0m \u001b[38;5;66;03m#local scope pata mhi chalega\u001b[39;00m\n\u001b[1;32m----> 2\u001b[0m name\n",
      "\u001b[1;31mNameError\u001b[0m: name 'name' is not defined"
     ]
    }
   ],
   "source": [
    "#local scope pata mhi chalega\n",
    "name"
   ]
  },
  {
   "cell_type": "code",
   "execution_count": 39,
   "id": "3f763d4a-78b0-4af6-8d73-82022a0ede8b",
   "metadata": {},
   "outputs": [
    {
     "data": {
      "text/plain": [
       "'nangal'"
      ]
     },
     "execution_count": 39,
     "metadata": {},
     "output_type": "execute_result"
    }
   ],
   "source": [
    "#global scope(pata chal jayega)\n",
    "home"
   ]
  },
  {
   "cell_type": "code",
   "execution_count": 35,
   "id": "2b13aeed-90d1-4c57-b36f-5cbb60a2db9c",
   "metadata": {},
   "outputs": [],
   "source": [
    "#global scope(bahr print krva sakte hai)\n",
    "home = \"nangal\"\n",
    "def myProfile():\n",
    "    #local scope(bahr koi pata nhi kr sakta hai )\n",
    "    name = \"inder\"\n",
    "    global age\n",
    "    age=20\n",
    "    education=\"B.Sc\"\n",
    "    print(name,age,education,home)"
   ]
  },
  {
   "cell_type": "code",
   "execution_count": 36,
   "id": "c61892e6-a60f-488d-867e-eb318a74d04d",
   "metadata": {},
   "outputs": [
    {
     "name": "stdout",
     "output_type": "stream",
     "text": [
      "inder 20 B.Sc nangal\n"
     ]
    }
   ],
   "source": [
    "myProfile()"
   ]
  },
  {
   "cell_type": "code",
   "execution_count": 38,
   "id": "76ff17fb-7d29-41b4-bdad-025af0fceaf1",
   "metadata": {},
   "outputs": [
    {
     "data": {
      "text/plain": [
       "20"
      ]
     },
     "execution_count": 38,
     "metadata": {},
     "output_type": "execute_result"
    }
   ],
   "source": [
    "#isme humne agr dekhna ho kuj to global function lagana hai...uske vaad pehle call krni hai function ko fir hum cgeck kr sakte hai\n",
    "\n",
    "age"
   ]
  },
  {
   "cell_type": "code",
   "execution_count": null,
   "id": "4b7f46c3-8331-403b-92fb-7ce33f96e2ee",
   "metadata": {},
   "outputs": [],
   "source": []
  }
 ],
 "metadata": {
  "kernelspec": {
   "display_name": "Python [conda env:base] *",
   "language": "python",
   "name": "conda-base-py"
  },
  "language_info": {
   "codemirror_mode": {
    "name": "ipython",
    "version": 3
   },
   "file_extension": ".py",
   "mimetype": "text/x-python",
   "name": "python",
   "nbconvert_exporter": "python",
   "pygments_lexer": "ipython3",
   "version": "3.13.5"
  }
 },
 "nbformat": 4,
 "nbformat_minor": 5
}
