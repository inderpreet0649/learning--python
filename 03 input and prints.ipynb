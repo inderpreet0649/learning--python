{
 "cells": [
  {
   "cell_type": "code",
   "execution_count": 1,
   "id": "f1e72979-3a06-4399-b454-5e9e63cb0ac5",
   "metadata": {},
   "outputs": [
    {
     "data": {
      "text/plain": [
       "'inder'"
      ]
     },
     "execution_count": 1,
     "metadata": {},
     "output_type": "execute_result"
    }
   ],
   "source": [
    "\"inder\""
   ]
  },
  {
   "cell_type": "code",
   "execution_count": 3,
   "id": "faaf9c87-3c03-4492-ac45-dcc43b7c903c",
   "metadata": {},
   "outputs": [
    {
     "name": "stdout",
     "output_type": "stream",
     "text": [
      "inder\n"
     ]
    }
   ],
   "source": [
    "print('inder')"
   ]
  },
  {
   "cell_type": "code",
   "execution_count": 4,
   "id": "aa6a8f3d-5103-47c8-953f-eacf5e43094e",
   "metadata": {},
   "outputs": [],
   "source": [
    "a=5"
   ]
  },
  {
   "cell_type": "code",
   "execution_count": 5,
   "id": "e24c339b-cfd7-4b2b-b7d7-820206d65a63",
   "metadata": {},
   "outputs": [],
   "source": [
    "b=6"
   ]
  },
  {
   "cell_type": "code",
   "execution_count": 6,
   "id": "6d43e481-c770-4b79-9e06-15164bb73645",
   "metadata": {},
   "outputs": [
    {
     "data": {
      "text/plain": [
       "5"
      ]
     },
     "execution_count": 6,
     "metadata": {},
     "output_type": "execute_result"
    }
   ],
   "source": [
    "a"
   ]
  },
  {
   "cell_type": "code",
   "execution_count": 7,
   "id": "6118f59b-681e-41e9-9015-946893231b14",
   "metadata": {},
   "outputs": [
    {
     "data": {
      "text/plain": [
       "6"
      ]
     },
     "execution_count": 7,
     "metadata": {},
     "output_type": "execute_result"
    }
   ],
   "source": [
    "b"
   ]
  },
  {
   "cell_type": "code",
   "execution_count": 9,
   "id": "80a37c7d-79ce-4534-855a-c656adde4a6d",
   "metadata": {},
   "outputs": [
    {
     "name": "stdout",
     "output_type": "stream",
     "text": [
      "5\n",
      "6\n"
     ]
    }
   ],
   "source": [
    "print(a)\n",
    "print(b)"
   ]
  },
  {
   "cell_type": "code",
   "execution_count": 11,
   "id": "a26cdebf-7ad4-47c2-8fff-943417b7d68f",
   "metadata": {},
   "outputs": [],
   "source": [
    "a=5"
   ]
  },
  {
   "cell_type": "code",
   "execution_count": 12,
   "id": "4cf331bd-494a-4aa0-8826-259cec2d14d5",
   "metadata": {},
   "outputs": [
    {
     "data": {
      "text/plain": [
       "5"
      ]
     },
     "execution_count": 12,
     "metadata": {},
     "output_type": "execute_result"
    }
   ],
   "source": [
    "a"
   ]
  },
  {
   "cell_type": "code",
   "execution_count": 14,
   "id": "8959ec54-802e-4f36-8029-3b49b6bfdbb7",
   "metadata": {},
   "outputs": [
    {
     "name": "stdout",
     "output_type": "stream",
     "text": [
      "5\n"
     ]
    },
    {
     "data": {
      "text/plain": [
       "8"
      ]
     },
     "execution_count": 14,
     "metadata": {},
     "output_type": "execute_result"
    }
   ],
   "source": [
    "print(5)\n",
    "8"
   ]
  },
  {
   "cell_type": "raw",
   "id": "e82945de-22e6-4ba6-81e5-4b2e44c5cde4",
   "metadata": {},
   "source": []
  },
  {
   "cell_type": "code",
   "execution_count": 16,
   "id": "adc49a6c-af64-44f8-8ee4-a29ccfe826ef",
   "metadata": {},
   "outputs": [
    {
     "name": "stdout",
     "output_type": "stream",
     "text": [
      "5\n"
     ]
    }
   ],
   "source": [
    "print(5)\n",
    "b=5"
   ]
  },
  {
   "cell_type": "code",
   "execution_count": 17,
   "id": "30a80aa0-b3df-466d-9272-1cbc99201c90",
   "metadata": {},
   "outputs": [
    {
     "data": {
      "text/plain": [
       "5"
      ]
     },
     "execution_count": 17,
     "metadata": {},
     "output_type": "execute_result"
    }
   ],
   "source": [
    "b"
   ]
  },
  {
   "cell_type": "code",
   "execution_count": 18,
   "id": "194336a4-042c-4a50-9841-8810ab51ca3f",
   "metadata": {},
   "outputs": [
    {
     "name": "stdout",
     "output_type": "stream",
     "text": [
      "5\n"
     ]
    }
   ],
   "source": [
    "print(a)"
   ]
  },
  {
   "cell_type": "code",
   "execution_count": 19,
   "id": "9edb1399-96ee-4a9b-9de2-675ca621c03b",
   "metadata": {},
   "outputs": [
    {
     "name": "stdout",
     "output_type": "stream",
     "text": [
      "5\n"
     ]
    }
   ],
   "source": [
    "a =print(5)"
   ]
  },
  {
   "cell_type": "code",
   "execution_count": 20,
   "id": "51d21f42-1d47-4e79-976d-4e3feea5e46e",
   "metadata": {},
   "outputs": [
    {
     "name": "stdout",
     "output_type": "stream",
     "text": [
      "None\n"
     ]
    }
   ],
   "source": [
    "print(a)"
   ]
  },
  {
   "cell_type": "code",
   "execution_count": 22,
   "id": "d0e552db-292d-45eb-a153-0d0a596f1e0e",
   "metadata": {},
   "outputs": [
    {
     "data": {
      "text/plain": [
       "NoneType"
      ]
     },
     "execution_count": 22,
     "metadata": {},
     "output_type": "execute_result"
    }
   ],
   "source": [
    "type(a)"
   ]
  },
  {
   "cell_type": "markdown",
   "id": "e48ae120-40f6-4a9b-86e0-f044efd37200",
   "metadata": {},
   "source": [
    "# input"
   ]
  },
  {
   "cell_type": "code",
   "execution_count": null,
   "id": "2074f400-a1ad-4bfa-a2e0-ffbc2279c09a",
   "metadata": {},
   "outputs": [],
   "source": [
    "#"
   ]
  },
  {
   "cell_type": "markdown",
   "id": "244d462b-0c47-46da-9709-de11eedb55cf",
   "metadata": {},
   "source": [
    "#when it shows star * in side it means code is not complete so no code should be run due to this when we complete the code.inder is run only\n",
    "when you press enter not shift + enter\n",
    "name = input(\"enter your name\")\n"
   ]
  },
  {
   "cell_type": "code",
   "execution_count": 26,
   "id": "fcb0a13a-b9f9-4e38-8a72-afed0424ba72",
   "metadata": {},
   "outputs": [
    {
     "name": "stdin",
     "output_type": "stream",
     "text": [
      "enter your age inder\n"
     ]
    }
   ],
   "source": [
    "age=input('enter your age')"
   ]
  },
  {
   "cell_type": "code",
   "execution_count": 27,
   "id": "3529abe9-2aed-4cbc-96f9-75e838b5d4ab",
   "metadata": {},
   "outputs": [
    {
     "data": {
      "text/plain": [
       "'inder'"
      ]
     },
     "execution_count": 27,
     "metadata": {},
     "output_type": "execute_result"
    }
   ],
   "source": [
    "age"
   ]
  },
  {
   "cell_type": "code",
   "execution_count": 28,
   "id": "01dc17d0-899f-46f2-a22e-907b2b0bda92",
   "metadata": {},
   "outputs": [
    {
     "name": "stdin",
     "output_type": "stream",
     "text": [
      "enter your age 20\n"
     ]
    }
   ],
   "source": [
    "age=input('enter your age')"
   ]
  },
  {
   "cell_type": "code",
   "execution_count": 29,
   "id": "6e87538c-46e7-4511-9607-9a4699fc3e47",
   "metadata": {},
   "outputs": [
    {
     "data": {
      "text/plain": [
       "'20'"
      ]
     },
     "execution_count": 29,
     "metadata": {},
     "output_type": "execute_result"
    }
   ],
   "source": [
    "age"
   ]
  },
  {
   "cell_type": "code",
   "execution_count": 30,
   "id": "f39c378a-dacc-48f2-ab40-b66dbd83fa84",
   "metadata": {},
   "outputs": [
    {
     "data": {
      "text/plain": [
       "str"
      ]
     },
     "execution_count": 30,
     "metadata": {},
     "output_type": "execute_result"
    }
   ],
   "source": [
    "type(age)"
   ]
  },
  {
   "cell_type": "code",
   "execution_count": 31,
   "id": "2a4f0326-71ec-41aa-9cd3-e09d5387b33a",
   "metadata": {},
   "outputs": [
    {
     "data": {
      "text/plain": [
       "20"
      ]
     },
     "execution_count": 31,
     "metadata": {},
     "output_type": "execute_result"
    }
   ],
   "source": [
    "int(age)"
   ]
  },
  {
   "cell_type": "code",
   "execution_count": 32,
   "id": "3b2b2648-e521-4c33-a579-5b32c320e637",
   "metadata": {},
   "outputs": [
    {
     "data": {
      "text/plain": [
       "'20'"
      ]
     },
     "execution_count": 32,
     "metadata": {},
     "output_type": "execute_result"
    }
   ],
   "source": [
    "age"
   ]
  },
  {
   "cell_type": "code",
   "execution_count": 33,
   "id": "92e4a9ff-6d7b-41d3-8380-5db48a5442ff",
   "metadata": {},
   "outputs": [],
   "source": [
    "age=int(age)"
   ]
  },
  {
   "cell_type": "code",
   "execution_count": 34,
   "id": "ba2c9007-1a7f-4823-88cc-af211bb0efd9",
   "metadata": {},
   "outputs": [
    {
     "data": {
      "text/plain": [
       "int"
      ]
     },
     "execution_count": 34,
     "metadata": {},
     "output_type": "execute_result"
    }
   ],
   "source": [
    "type(age)"
   ]
  },
  {
   "cell_type": "code",
   "execution_count": 35,
   "id": "9e1b3b36-f39c-4d07-b626-6de139cfc668",
   "metadata": {},
   "outputs": [
    {
     "data": {
      "text/plain": [
       "20"
      ]
     },
     "execution_count": 35,
     "metadata": {},
     "output_type": "execute_result"
    }
   ],
   "source": [
    "age"
   ]
  },
  {
   "cell_type": "code",
   "execution_count": 36,
   "id": "c1dea890-e719-4b05-a010-326a95b190b6",
   "metadata": {},
   "outputs": [
    {
     "name": "stdin",
     "output_type": "stream",
     "text": [
      " age\n"
     ]
    },
    {
     "ename": "ValueError",
     "evalue": "invalid literal for int() with base 10: 'age'",
     "output_type": "error",
     "traceback": [
      "\u001b[1;31m---------------------------------------------------------------------------\u001b[0m",
      "\u001b[1;31mValueError\u001b[0m                                Traceback (most recent call last)",
      "Cell \u001b[1;32mIn[36], line 2\u001b[0m\n\u001b[0;32m      1\u001b[0m age\u001b[38;5;241m=\u001b[39m \u001b[38;5;28minput\u001b[39m()\n\u001b[1;32m----> 2\u001b[0m age \u001b[38;5;241m=\u001b[39m \u001b[38;5;28mint\u001b[39m(age)\n",
      "\u001b[1;31mValueError\u001b[0m: invalid literal for int() with base 10: 'age'"
     ]
    }
   ],
   "source": [
    "age= input()\n",
    "age = int(age)"
   ]
  },
  {
   "cell_type": "code",
   "execution_count": 45,
   "id": "d594fa72-fe2e-4437-91b3-ef7e962990d1",
   "metadata": {},
   "outputs": [
    {
     "name": "stdin",
     "output_type": "stream",
     "text": [
      " hello nice to meet you\n"
     ]
    }
   ],
   "source": [
    "name = input()\n",
    "l = len(name)//2\n",
    "new=name[:l] + name[l:][::-1]"
   ]
  },
  {
   "cell_type": "code",
   "execution_count": 46,
   "id": "2dcf6d1c-35df-40d8-8279-08e81db2e9ee",
   "metadata": {},
   "outputs": [
    {
     "data": {
      "text/plain": [
       "'hello nice uoy teem ot'"
      ]
     },
     "execution_count": 46,
     "metadata": {},
     "output_type": "execute_result"
    }
   ],
   "source": [
    "new\n"
   ]
  },
  {
   "cell_type": "code",
   "execution_count": null,
   "id": "377f0e2b-00c2-4928-9c26-ef02e43575b8",
   "metadata": {},
   "outputs": [],
   "source": []
  }
 ],
 "metadata": {
  "kernelspec": {
   "display_name": "Python [conda env:base] *",
   "language": "python",
   "name": "conda-base-py"
  },
  "language_info": {
   "codemirror_mode": {
    "name": "ipython",
    "version": 3
   },
   "file_extension": ".py",
   "mimetype": "text/x-python",
   "name": "python",
   "nbconvert_exporter": "python",
   "pygments_lexer": "ipython3",
   "version": "3.13.5"
  }
 },
 "nbformat": 4,
 "nbformat_minor": 5
}
