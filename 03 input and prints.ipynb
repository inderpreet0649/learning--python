{
 "cells": [
  {
   "cell_type": "code",
   "execution_count": 1,
   "id": "f1e72979-3a06-4399-b454-5e9e63cb0ac5",
   "metadata": {},
   "outputs": [
    {
     "data": {
      "text/plain": [
       "'inder'"
      ]
     },
     "execution_count": 1,
     "metadata": {},
     "output_type": "execute_result"
    }
   ],
   "source": [
    "\"inder\""
   ]
  },
  {
   "cell_type": "code",
   "execution_count": 3,
   "id": "faaf9c87-3c03-4492-ac45-dcc43b7c903c",
   "metadata": {},
   "outputs": [
    {
     "name": "stdout",
     "output_type": "stream",
     "text": [
      "inder\n"
     ]
    }
   ],
   "source": [
    "print('inder')"
   ]
  },
  {
   "cell_type": "code",
   "execution_count": 4,
   "id": "aa6a8f3d-5103-47c8-953f-eacf5e43094e",
   "metadata": {},
   "outputs": [],
   "source": [
    "a=5"
   ]
  },
  {
   "cell_type": "code",
   "execution_count": 5,
   "id": "e24c339b-cfd7-4b2b-b7d7-820206d65a63",
   "metadata": {},
   "outputs": [],
   "source": [
    "b=6"
   ]
  },
  {
   "cell_type": "code",
   "execution_count": 6,
   "id": "6d43e481-c770-4b79-9e06-15164bb73645",
   "metadata": {},
   "outputs": [
    {
     "data": {
      "text/plain": [
       "5"
      ]
     },
     "execution_count": 6,
     "metadata": {},
     "output_type": "execute_result"
    }
   ],
   "source": [
    "a"
   ]
  },
  {
   "cell_type": "code",
   "execution_count": 7,
   "id": "6118f59b-681e-41e9-9015-946893231b14",
   "metadata": {},
   "outputs": [
    {
     "data": {
      "text/plain": [
       "6"
      ]
     },
     "execution_count": 7,
     "metadata": {},
     "output_type": "execute_result"
    }
   ],
   "source": [
    "b"
   ]
  },
  {
   "cell_type": "code",
   "execution_count": 9,
   "id": "80a37c7d-79ce-4534-855a-c656adde4a6d",
   "metadata": {
    "scrolled": true
   },
   "outputs": [
    {
     "name": "stdout",
     "output_type": "stream",
     "text": [
      "5\n",
      "6\n"
     ]
    }
   ],
   "source": [
    "print(a)\n",
    "print(b)"
   ]
  },
  {
   "cell_type": "code",
   "execution_count": 11,
   "id": "a26cdebf-7ad4-47c2-8fff-943417b7d68f",
   "metadata": {},
   "outputs": [],
   "source": [
    "a=5"
   ]
  },
  {
   "cell_type": "code",
   "execution_count": 12,
   "id": "4cf331bd-494a-4aa0-8826-259cec2d14d5",
   "metadata": {},
   "outputs": [
    {
     "data": {
      "text/plain": [
       "5"
      ]
     },
     "execution_count": 12,
     "metadata": {},
     "output_type": "execute_result"
    }
   ],
   "source": [
    "a"
   ]
  },
  {
   "cell_type": "code",
   "execution_count": 14,
   "id": "8959ec54-802e-4f36-8029-3b49b6bfdbb7",
   "metadata": {},
   "outputs": [
    {
     "name": "stdout",
     "output_type": "stream",
     "text": [
      "5\n"
     ]
    },
    {
     "data": {
      "text/plain": [
       "8"
      ]
     },
     "execution_count": 14,
     "metadata": {},
     "output_type": "execute_result"
    }
   ],
   "source": [
    "print(5)\n",
    "8"
   ]
  },
  {
   "cell_type": "raw",
   "id": "e82945de-22e6-4ba6-81e5-4b2e44c5cde4",
   "metadata": {},
   "source": []
  },
  {
   "cell_type": "code",
   "execution_count": 16,
   "id": "adc49a6c-af64-44f8-8ee4-a29ccfe826ef",
   "metadata": {},
   "outputs": [
    {
     "name": "stdout",
     "output_type": "stream",
     "text": [
      "5\n"
     ]
    }
   ],
   "source": [
    "print(5)\n",
    "b=5"
   ]
  },
  {
   "cell_type": "code",
   "execution_count": 17,
   "id": "30a80aa0-b3df-466d-9272-1cbc99201c90",
   "metadata": {},
   "outputs": [
    {
     "data": {
      "text/plain": [
       "5"
      ]
     },
     "execution_count": 17,
     "metadata": {},
     "output_type": "execute_result"
    }
   ],
   "source": [
    "b"
   ]
  },
  {
   "cell_type": "code",
   "execution_count": 18,
   "id": "194336a4-042c-4a50-9841-8810ab51ca3f",
   "metadata": {},
   "outputs": [
    {
     "name": "stdout",
     "output_type": "stream",
     "text": [
      "5\n"
     ]
    }
   ],
   "source": [
    "print(a)"
   ]
  },
  {
   "cell_type": "code",
   "execution_count": 19,
   "id": "9edb1399-96ee-4a9b-9de2-675ca621c03b",
   "metadata": {},
   "outputs": [
    {
     "name": "stdout",
     "output_type": "stream",
     "text": [
      "5\n"
     ]
    }
   ],
   "source": [
    "a =print(5)"
   ]
  },
  {
   "cell_type": "code",
   "execution_count": 20,
   "id": "51d21f42-1d47-4e79-976d-4e3feea5e46e",
   "metadata": {},
   "outputs": [
    {
     "name": "stdout",
     "output_type": "stream",
     "text": [
      "None\n"
     ]
    }
   ],
   "source": [
    "print(a)"
   ]
  },
  {
   "cell_type": "code",
   "execution_count": 22,
   "id": "d0e552db-292d-45eb-a153-0d0a596f1e0e",
   "metadata": {},
   "outputs": [
    {
     "data": {
      "text/plain": [
       "NoneType"
      ]
     },
     "execution_count": 22,
     "metadata": {},
     "output_type": "execute_result"
    }
   ],
   "source": [
    "type(a)"
   ]
  },
  {
   "cell_type": "markdown",
   "id": "e48ae120-40f6-4a9b-86e0-f044efd37200",
   "metadata": {},
   "source": [
    "# input"
   ]
  },
  {
   "cell_type": "code",
   "execution_count": null,
   "id": "7e6c04c4-6b7a-4ed3-87a9-cb183802e722",
   "metadata": {},
   "outputs": [],
   "source": [
    "#errors:if u dont run this code other code also don't run and u have click on enter button only when u writw in input box u cant clich shift+enter also u can.t dlete the cell if u delete it to correct the error u have to go on interaapt the kernel(sqare sign)shows in upper bar\n"
   ]
  },
  {
   "cell_type": "markdown",
   "id": "244d462b-0c47-46da-9709-de11eedb55cf",
   "metadata": {},
   "source": [
    "#when it shows star * in side it means code is not complete so no code should be run due to this when we complete the code.inder is run only\n",
    "when you press enter not shift + enter\n",
    "name = input(\"enter your name\")\n"
   ]
  },
  {
   "cell_type": "code",
   "execution_count": 9,
   "id": "fcb0a13a-b9f9-4e38-8a72-afed0424ba72",
   "metadata": {},
   "outputs": [
    {
     "name": "stdin",
     "output_type": "stream",
     "text": [
      "enter your age 20\n"
     ]
    }
   ],
   "source": [
    "age=input('enter your age')"
   ]
  },
  {
   "cell_type": "code",
   "execution_count": 27,
   "id": "3529abe9-2aed-4cbc-96f9-75e838b5d4ab",
   "metadata": {},
   "outputs": [
    {
     "data": {
      "text/plain": [
       "'inder'"
      ]
     },
     "execution_count": 27,
     "metadata": {},
     "output_type": "execute_result"
    }
   ],
   "source": [
    "age"
   ]
  },
  {
   "cell_type": "code",
   "execution_count": 10,
   "id": "01dc17d0-899f-46f2-a22e-907b2b0bda92",
   "metadata": {},
   "outputs": [
    {
     "name": "stdin",
     "output_type": "stream",
     "text": [
      "enter your age 20\n"
     ]
    }
   ],
   "source": [
    "age=input('enter your age')"
   ]
  },
  {
   "cell_type": "code",
   "execution_count": 11,
   "id": "6e87538c-46e7-4511-9607-9a4699fc3e47",
   "metadata": {},
   "outputs": [
    {
     "data": {
      "text/plain": [
       "'20'"
      ]
     },
     "execution_count": 11,
     "metadata": {},
     "output_type": "execute_result"
    }
   ],
   "source": [
    "age"
   ]
  },
  {
   "cell_type": "code",
   "execution_count": 12,
   "id": "f39c378a-dacc-48f2-ab40-b66dbd83fa84",
   "metadata": {},
   "outputs": [
    {
     "data": {
      "text/plain": [
       "str"
      ]
     },
     "execution_count": 12,
     "metadata": {},
     "output_type": "execute_result"
    }
   ],
   "source": [
    "type(age)"
   ]
  },
  {
   "cell_type": "code",
   "execution_count": 13,
   "id": "2a4f0326-71ec-41aa-9cd3-e09d5387b33a",
   "metadata": {},
   "outputs": [
    {
     "data": {
      "text/plain": [
       "20"
      ]
     },
     "execution_count": 13,
     "metadata": {},
     "output_type": "execute_result"
    }
   ],
   "source": [
    "int(age)"
   ]
  },
  {
   "cell_type": "code",
   "execution_count": 32,
   "id": "3b2b2648-e521-4c33-a579-5b32c320e637",
   "metadata": {},
   "outputs": [
    {
     "data": {
      "text/plain": [
       "'20'"
      ]
     },
     "execution_count": 32,
     "metadata": {},
     "output_type": "execute_result"
    }
   ],
   "source": [
    "age"
   ]
  },
  {
   "cell_type": "code",
   "execution_count": 14,
   "id": "92e4a9ff-6d7b-41d3-8380-5db48a5442ff",
   "metadata": {},
   "outputs": [],
   "source": [
    "\n",
    "age=int(age)"
   ]
  },
  {
   "cell_type": "code",
   "execution_count": 15,
   "id": "ba2c9007-1a7f-4823-88cc-af211bb0efd9",
   "metadata": {},
   "outputs": [
    {
     "data": {
      "text/plain": [
       "int"
      ]
     },
     "execution_count": 15,
     "metadata": {},
     "output_type": "execute_result"
    }
   ],
   "source": [
    "type(age)"
   ]
  },
  {
   "cell_type": "code",
   "execution_count": 35,
   "id": "9e1b3b36-f39c-4d07-b626-6de139cfc668",
   "metadata": {},
   "outputs": [
    {
     "data": {
      "text/plain": [
       "20"
      ]
     },
     "execution_count": 35,
     "metadata": {},
     "output_type": "execute_result"
    }
   ],
   "source": [
    "age"
   ]
  },
  {
   "cell_type": "code",
   "execution_count": 16,
   "id": "c1dea890-e719-4b05-a010-326a95b190b6",
   "metadata": {},
   "outputs": [
    {
     "name": "stdin",
     "output_type": "stream",
     "text": [
      " \n"
     ]
    },
    {
     "ename": "ValueError",
     "evalue": "invalid literal for int() with base 10: ''",
     "output_type": "error",
     "traceback": [
      "\u001b[1;31m---------------------------------------------------------------------------\u001b[0m",
      "\u001b[1;31mValueError\u001b[0m                                Traceback (most recent call last)",
      "Cell \u001b[1;32mIn[16], line 2\u001b[0m\n\u001b[0;32m      1\u001b[0m age\u001b[38;5;241m=\u001b[39m \u001b[38;5;28minput\u001b[39m()\n\u001b[1;32m----> 2\u001b[0m age \u001b[38;5;241m=\u001b[39m \u001b[38;5;28mint\u001b[39m(age)\n",
      "\u001b[1;31mValueError\u001b[0m: invalid literal for int() with base 10: ''"
     ]
    }
   ],
   "source": [
    "age= input()\n",
    "age = int(age)"
   ]
  },
  {
   "cell_type": "code",
   "execution_count": 45,
   "id": "d594fa72-fe2e-4437-91b3-ef7e962990d1",
   "metadata": {},
   "outputs": [
    {
     "name": "stdin",
     "output_type": "stream",
     "text": [
      " hello nice to meet you\n"
     ]
    }
   ],
   "source": [
    "name = input()\n",
    "l = len(name)//2\n",
    "new=name[:l] + name[l:][::-1]"
   ]
  },
  {
   "cell_type": "code",
   "execution_count": 46,
   "id": "2dcf6d1c-35df-40d8-8279-08e81db2e9ee",
   "metadata": {},
   "outputs": [
    {
     "data": {
      "text/plain": [
       "'hello nice uoy teem ot'"
      ]
     },
     "execution_count": 46,
     "metadata": {},
     "output_type": "execute_result"
    }
   ],
   "source": [
    "new\n"
   ]
  },
  {
   "cell_type": "code",
   "execution_count": 17,
   "id": "377f0e2b-00c2-4928-9c26-ef02e43575b8",
   "metadata": {},
   "outputs": [
    {
     "name": "stdin",
     "output_type": "stream",
     "text": [
      " 20\n"
     ]
    }
   ],
   "source": [
    "age=input()"
   ]
  },
  {
   "cell_type": "code",
   "execution_count": 18,
   "id": "0179212b-c200-48e6-b582-e5b64dfacd2b",
   "metadata": {},
   "outputs": [
    {
     "data": {
      "text/plain": [
       "str"
      ]
     },
     "execution_count": 18,
     "metadata": {},
     "output_type": "execute_result"
    }
   ],
   "source": [
    "type(age)"
   ]
  },
  {
   "cell_type": "code",
   "execution_count": 19,
   "id": "ddd3497e-4dbf-4732-808a-a2e15e5cceb5",
   "metadata": {},
   "outputs": [],
   "source": [
    "age=int(age)"
   ]
  },
  {
   "cell_type": "code",
   "execution_count": 20,
   "id": "ec29d003-d471-45d7-ba4e-e9c1fa7515fc",
   "metadata": {},
   "outputs": [
    {
     "data": {
      "text/plain": [
       "int"
      ]
     },
     "execution_count": 20,
     "metadata": {},
     "output_type": "execute_result"
    }
   ],
   "source": [
    "type(age)"
   ]
  },
  {
   "cell_type": "code",
   "execution_count": 21,
   "id": "fc197d26-bbd7-4b6f-8894-b0be89cbf08e",
   "metadata": {},
   "outputs": [
    {
     "name": "stdin",
     "output_type": "stream",
     "text": [
      " inder\n"
     ]
    },
    {
     "ename": "ValueError",
     "evalue": "invalid literal for int() with base 10: 'inder'",
     "output_type": "error",
     "traceback": [
      "\u001b[1;31m---------------------------------------------------------------------------\u001b[0m",
      "\u001b[1;31mValueError\u001b[0m                                Traceback (most recent call last)",
      "Cell \u001b[1;32mIn[21], line 2\u001b[0m\n\u001b[0;32m      1\u001b[0m age\u001b[38;5;241m=\u001b[39m\u001b[38;5;28minput\u001b[39m()\n\u001b[1;32m----> 2\u001b[0m age\u001b[38;5;241m=\u001b[39m\u001b[38;5;28mint\u001b[39m(age)\n",
      "\u001b[1;31mValueError\u001b[0m: invalid literal for int() with base 10: 'inder'"
     ]
    }
   ],
   "source": [
    "age=input()\n",
    "age=int(age)"
   ]
  },
  {
   "cell_type": "code",
   "execution_count": 22,
   "id": "422bc934-9147-4363-bf6f-096af6c7124c",
   "metadata": {},
   "outputs": [
    {
     "name": "stdin",
     "output_type": "stream",
     "text": [
      " 20\n"
     ]
    }
   ],
   "source": [
    "age=input()\n",
    "age=int(age)\n"
   ]
  },
  {
   "cell_type": "markdown",
   "id": "148fd1be-ecf6-4bed-a3e2-ff87c71832ea",
   "metadata": {},
   "source": [
    "# type casting"
   ]
  },
  {
   "cell_type": "code",
   "execution_count": 5,
   "id": "09f7ec06-21e7-4920-93de-2fd34187c127",
   "metadata": {},
   "outputs": [
    {
     "data": {
      "text/plain": [
       "'59.6'"
      ]
     },
     "execution_count": 5,
     "metadata": {},
     "output_type": "execute_result"
    }
   ],
   "source": [
    "#when we give details what the function was is called explicit\n",
    "str(59.6)"
   ]
  },
  {
   "cell_type": "code",
   "execution_count": 3,
   "id": "81967265-3b10-4663-8ebf-6bfa9da3fe55",
   "metadata": {},
   "outputs": [
    {
     "data": {
      "text/plain": [
       "50"
      ]
     },
     "execution_count": 3,
     "metadata": {},
     "output_type": "execute_result"
    }
   ],
   "source": [
    "int(50.6)"
   ]
  },
  {
   "cell_type": "code",
   "execution_count": 4,
   "id": "2bfb05ef-4708-43cc-86c9-b781f275dfa6",
   "metadata": {},
   "outputs": [
    {
     "data": {
      "text/plain": [
       "50"
      ]
     },
     "execution_count": 4,
     "metadata": {},
     "output_type": "execute_result"
    }
   ],
   "source": [
    "int(float(\"50.6\"))"
   ]
  },
  {
   "cell_type": "code",
   "execution_count": 6,
   "id": "2b94c18f-699d-46b6-b8d0-2d9850a07a21",
   "metadata": {},
   "outputs": [
    {
     "data": {
      "text/plain": [
       "'inderpreet kaur'"
      ]
     },
     "execution_count": 6,
     "metadata": {},
     "output_type": "execute_result"
    }
   ],
   "source": [
    "#imlicit\n",
    "\"inderpreet kaur\""
   ]
  },
  {
   "cell_type": "markdown",
   "id": "0c63aaf3-ba88-4ed7-ba92-6afb20fd1c72",
   "metadata": {},
   "source": [
    "# print"
   ]
  },
  {
   "cell_type": "code",
   "execution_count": 7,
   "id": "5f19ba33-aeb6-419e-bba8-51f84f016730",
   "metadata": {},
   "outputs": [
    {
     "name": "stdout",
     "output_type": "stream",
     "text": [
      "5\n"
     ]
    }
   ],
   "source": [
    "print(5)"
   ]
  },
  {
   "cell_type": "code",
   "execution_count": 8,
   "id": "84594d9b-8ed9-40ad-97d2-4418843de399",
   "metadata": {},
   "outputs": [
    {
     "name": "stdout",
     "output_type": "stream",
     "text": [
      "5\n"
     ]
    }
   ],
   "source": [
    "a=print(5)"
   ]
  },
  {
   "cell_type": "code",
   "execution_count": 9,
   "id": "a97b04cd-a3fc-4392-b21c-ce6dcf23083b",
   "metadata": {},
   "outputs": [],
   "source": [
    "a"
   ]
  },
  {
   "cell_type": "code",
   "execution_count": 10,
   "id": "16fff5f6-fa95-41f2-a42d-1a68ed44b6bd",
   "metadata": {},
   "outputs": [
    {
     "data": {
      "text/plain": [
       "NoneType"
      ]
     },
     "execution_count": 10,
     "metadata": {},
     "output_type": "execute_result"
    }
   ],
   "source": [
    "type(a)"
   ]
  },
  {
   "cell_type": "code",
   "execution_count": 11,
   "id": "bf16e236-5800-4f0d-9104-d090a2092951",
   "metadata": {},
   "outputs": [
    {
     "name": "stdout",
     "output_type": "stream",
     "text": [
      "None\n"
     ]
    }
   ],
   "source": [
    "print(a)"
   ]
  },
  {
   "cell_type": "code",
   "execution_count": 13,
   "id": "c9277a3d-9d83-4570-91cd-d174be8d209d",
   "metadata": {},
   "outputs": [
    {
     "name": "stdout",
     "output_type": "stream",
     "text": [
      "5 6 Inderpreet Kaur\n"
     ]
    }
   ],
   "source": [
    "print(5,6,\"Inderpreet\",\"Kaur\")"
   ]
  },
  {
   "cell_type": "code",
   "execution_count": 17,
   "id": "ce89b78c-4f4e-4229-92ea-9a79569039d6",
   "metadata": {},
   "outputs": [
    {
     "name": "stdout",
     "output_type": "stream",
     "text": [
      "5 6 Inderpreet Kaur\n"
     ]
    }
   ],
   "source": [
    "print(5,6,\"Inderpreet\",\"Kaur\",sep=\" \")"
   ]
  },
  {
   "cell_type": "code",
   "execution_count": 18,
   "id": "6eebee57-f265-4901-99be-efc86be56ac6",
   "metadata": {},
   "outputs": [
    {
     "name": "stdout",
     "output_type": "stream",
     "text": [
      "56InderpreetKaur\n"
     ]
    }
   ],
   "source": [
    "print(5,6,\"Inderpreet\",\"Kaur\",sep=\"\")"
   ]
  },
  {
   "cell_type": "code",
   "execution_count": 15,
   "id": "2d3951d6-cde6-4201-90a6-9ce1b26e55f5",
   "metadata": {},
   "outputs": [
    {
     "name": "stdout",
     "output_type": "stream",
     "text": [
      "5*6*Inderpreet*Kaur\n"
     ]
    }
   ],
   "source": [
    "print(5,6,\"Inderpreet\",\"Kaur\",sep=\"*\")"
   ]
  },
  {
   "cell_type": "code",
   "execution_count": 16,
   "id": "7f5485fe-e43c-4b60-9a79-32523056a9c5",
   "metadata": {},
   "outputs": [
    {
     "name": "stdout",
     "output_type": "stream",
     "text": [
      "5 * 6 * Inderpreet * Kaur\n"
     ]
    }
   ],
   "source": [
    "print(5,6,\"Inderpreet\",\"Kaur\",sep=\" * \")"
   ]
  },
  {
   "cell_type": "code",
   "execution_count": 21,
   "id": "c6251d6c-5066-4e92-afe2-1e09d702cd66",
   "metadata": {},
   "outputs": [
    {
     "name": "stdout",
     "output_type": "stream",
     "text": [
      "30 40 50 * 50\n",
      "30\n"
     ]
    }
   ],
   "source": [
    "print(30,40,50 ,end=\" * \")\n",
    "print(50)\n",
    "print(30)"
   ]
  },
  {
   "cell_type": "code",
   "execution_count": 24,
   "id": "d30c63cb-4746-4649-99e2-d37bd58a1a17",
   "metadata": {},
   "outputs": [
    {
     "name": "stdout",
     "output_type": "stream",
     "text": [
      "30 40 50 50\n",
      "30\n"
     ]
    }
   ],
   "source": [
    "print(30,40,50 ,end=\" \")\n",
    "print(50)\n",
    "print(30)"
   ]
  },
  {
   "cell_type": "code",
   "execution_count": 26,
   "id": "8d0f609c-0c13-4eb7-89e1-f11661ee15b5",
   "metadata": {},
   "outputs": [
    {
     "name": "stdout",
     "output_type": "stream",
     "text": [
      "30 40 50 * 50 - 30\n"
     ]
    }
   ],
   "source": [
    "print(30,40,50 ,end=\" * \")\n",
    "print(50,end=\" - \")\n",
    "print(30)"
   ]
  },
  {
   "cell_type": "code",
   "execution_count": 32,
   "id": "aabd8573-1ba5-46f8-b463-0bfec36694c2",
   "metadata": {},
   "outputs": [
    {
     "ename": "TypeError",
     "evalue": "can only concatenate str (not \"int\") to str",
     "output_type": "error",
     "traceback": [
      "\u001b[1;31m---------------------------------------------------------------------------\u001b[0m",
      "\u001b[1;31mTypeError\u001b[0m                                 Traceback (most recent call last)",
      "Cell \u001b[1;32mIn[32], line 2\u001b[0m\n\u001b[0;32m      1\u001b[0m \u001b[38;5;66;03m#error in string\u001b[39;00m\n\u001b[1;32m----> 2\u001b[0m \u001b[38;5;124m\"\u001b[39m\u001b[38;5;124minderpreet\u001b[39m\u001b[38;5;124m\"\u001b[39m\u001b[38;5;241m+\u001b[39m\u001b[38;5;241m50000\u001b[39m\n",
      "\u001b[1;31mTypeError\u001b[0m: can only concatenate str (not \"int\") to str"
     ]
    }
   ],
   "source": [
    "#error in string\n",
    "\"inderpreet\"+50000"
   ]
  },
  {
   "cell_type": "code",
   "execution_count": 28,
   "id": "f4a9b4c6-d11b-4e65-b8c7-4e0b2925ceb8",
   "metadata": {},
   "outputs": [
    {
     "name": "stdout",
     "output_type": "stream",
     "text": [
      "inder 50000\n"
     ]
    }
   ],
   "source": [
    "print(\"inder\",50000)"
   ]
  },
  {
   "cell_type": "code",
   "execution_count": 29,
   "id": "ea30c380-77e3-41e2-a9d2-ec5844da1400",
   "metadata": {},
   "outputs": [],
   "source": [
    "name=\"inderpreet\""
   ]
  },
  {
   "cell_type": "code",
   "execution_count": 30,
   "id": "966e8aa2-e39b-493d-af53-9f2a74104019",
   "metadata": {},
   "outputs": [],
   "source": [
    "age=\"20\""
   ]
  },
  {
   "cell_type": "code",
   "execution_count": 34,
   "id": "8f0803f4-f9dc-456c-808f-1b0dd8c2fc22",
   "metadata": {},
   "outputs": [
    {
     "name": "stdout",
     "output_type": "stream",
     "text": [
      "inderpreet 20\n"
     ]
    }
   ],
   "source": [
    "#we use it in this because in some functions we can't use print so we use f\n",
    "print(f'{name} {age}')"
   ]
  },
  {
   "cell_type": "code",
   "execution_count": 36,
   "id": "b931f07e-6679-40f8-8c45-8ea6a8795e9c",
   "metadata": {},
   "outputs": [
    {
     "data": {
      "text/plain": [
       "'hahahahahahahahahahahahahahaha'"
      ]
     },
     "execution_count": 36,
     "metadata": {},
     "output_type": "execute_result"
    }
   ],
   "source": [
    "\"ha\"*15"
   ]
  },
  {
   "cell_type": "code",
   "execution_count": 37,
   "id": "15e4b569-0e3e-47e5-8512-00508c0be499",
   "metadata": {},
   "outputs": [],
   "source": [
    "a=\"\"\" hello \n",
    "bro\"\"\""
   ]
  },
  {
   "cell_type": "code",
   "execution_count": 38,
   "id": "7a1a5c46-0f86-4d5d-9fa1-ae3add784691",
   "metadata": {},
   "outputs": [
    {
     "data": {
      "text/plain": [
       "' hello \\nbro'"
      ]
     },
     "execution_count": 38,
     "metadata": {},
     "output_type": "execute_result"
    }
   ],
   "source": [
    "a"
   ]
  },
  {
   "cell_type": "code",
   "execution_count": 40,
   "id": "f896fcc4-4a6f-4264-b8a2-90d6a969ec10",
   "metadata": {},
   "outputs": [
    {
     "name": "stdout",
     "output_type": "stream",
     "text": [
      " hello \n",
      "bro\n"
     ]
    }
   ],
   "source": [
    "#in print enter show differently\n",
    "print(a)"
   ]
  },
  {
   "cell_type": "code",
   "execution_count": 49,
   "id": "e0af630d-af66-4775-b856-2f34a4d42dc9",
   "metadata": {},
   "outputs": [],
   "source": [
    "a=\"hello inder\\tpreet\""
   ]
  },
  {
   "cell_type": "code",
   "execution_count": 50,
   "id": "fc0b2826-9bf6-4ea4-b657-98fa8a671aa7",
   "metadata": {},
   "outputs": [
    {
     "data": {
      "text/plain": [
       "'hello inder\\tpreet'"
      ]
     },
     "execution_count": 50,
     "metadata": {},
     "output_type": "execute_result"
    }
   ],
   "source": [
    "a"
   ]
  },
  {
   "cell_type": "code",
   "execution_count": 53,
   "id": "3c128787-7da1-4653-9060-7a341e5c215d",
   "metadata": {},
   "outputs": [
    {
     "name": "stdout",
     "output_type": "stream",
     "text": [
      "hello inder\tpreet\n"
     ]
    }
   ],
   "source": [
    "#\\t=tab\n",
    "print(a)"
   ]
  },
  {
   "cell_type": "code",
   "execution_count": 57,
   "id": "12b299a4-ee1b-4b3c-a8e5-6f2de3bc9c65",
   "metadata": {},
   "outputs": [
    {
     "name": "stdout",
     "output_type": "stream",
     "text": [
      "a\\tb\n"
     ]
    }
   ],
   "source": [
    "#escape characters\n",
    "print('a\\\\tb')"
   ]
  },
  {
   "cell_type": "code",
   "execution_count": 55,
   "id": "e4ed1530-e3d2-436d-94b9-4bf3c4d481a3",
   "metadata": {},
   "outputs": [
    {
     "name": "stdout",
     "output_type": "stream",
     "text": [
      "a\\nb\n"
     ]
    }
   ],
   "source": [
    "print('a\\\\nb')"
   ]
  },
  {
   "cell_type": "raw",
   "id": "743283ce-6a8b-4908-aaa2-20868acc0367",
   "metadata": {},
   "source": [
    "print(\"hello\\r inder\")"
   ]
  },
  {
   "cell_type": "code",
   "execution_count": 56,
   "id": "45a330ff-12a8-4c12-86c7-090189763d26",
   "metadata": {},
   "outputs": [
    {
     "name": "stdout",
     "output_type": "stream",
     "text": [
      " inder\n"
     ]
    }
   ],
   "source": [
    "print(\"hello\\r inder\")"
   ]
  },
  {
   "cell_type": "code",
   "execution_count": 58,
   "id": "5e4781b7-0c25-4004-a3f3-b38958b78c0d",
   "metadata": {},
   "outputs": [
    {
     "name": "stdout",
     "output_type": "stream",
     "text": [
      "🤣\n"
     ]
    }
   ],
   "source": [
    "#unique code characters\n",
    "print(\"\\U0001F923\")"
   ]
  },
  {
   "cell_type": "code",
   "execution_count": 59,
   "id": "362a67ed-1f5c-4e6d-a760-0589e281389a",
   "metadata": {},
   "outputs": [
    {
     "data": {
      "text/plain": [
       "0"
      ]
     },
     "execution_count": 59,
     "metadata": {},
     "output_type": "execute_result"
    }
   ],
   "source": [
    "#1 bit\n",
    "0"
   ]
  },
  {
   "cell_type": "code",
   "execution_count": 61,
   "id": "71262bb3-1291-458c-a018-f51414a829af",
   "metadata": {},
   "outputs": [
    {
     "data": {
      "text/plain": [
       "10010010"
      ]
     },
     "execution_count": 61,
     "metadata": {},
     "output_type": "execute_result"
    }
   ],
   "source": [
    "#byte=8 bit\n",
    "10010010"
   ]
  },
  {
   "cell_type": "code",
   "execution_count": 62,
   "id": "fa2b2dcc-d02f-42a9-a23c-3857f5a444a6",
   "metadata": {},
   "outputs": [
    {
     "ename": "SyntaxError",
     "evalue": "invalid syntax (3894021662.py, line 2)",
     "output_type": "error",
     "traceback": [
      "\u001b[1;36m  Cell \u001b[1;32mIn[62], line 2\u001b[1;36m\u001b[0m\n\u001b[1;33m    1 kb =\u001b[0m\n\u001b[1;37m      ^\u001b[0m\n\u001b[1;31mSyntaxError\u001b[0m\u001b[1;31m:\u001b[0m invalid syntax\n"
     ]
    }
   ],
   "source": [
    "#kb=killo byte\n",
    "1 kb = "
   ]
  },
  {
   "cell_type": "code",
   "execution_count": 63,
   "id": "6e9f11d3-ea0d-4962-9a66-39d18f6b1983",
   "metadata": {},
   "outputs": [
    {
     "name": "stdout",
     "output_type": "stream",
     "text": [
      "Help on class bytes in module builtins:\n",
      "\n",
      "class bytes(object)\n",
      " |  bytes(iterable_of_ints) -> bytes\n",
      " |  bytes(string, encoding[, errors]) -> bytes\n",
      " |  bytes(bytes_or_buffer) -> immutable copy of bytes_or_buffer\n",
      " |  bytes(int) -> bytes object of size given by the parameter initialized with null bytes\n",
      " |  bytes() -> empty bytes object\n",
      " |\n",
      " |  Construct an immutable array of bytes from:\n",
      " |    - an iterable yielding integers in range(256)\n",
      " |    - a text string encoded using the specified encoding\n",
      " |    - any object implementing the buffer API.\n",
      " |    - an integer\n",
      " |\n",
      " |  Methods defined here:\n",
      " |\n",
      " |  __add__(self, value, /)\n",
      " |      Return self+value.\n",
      " |\n",
      " |  __buffer__(self, flags, /)\n",
      " |      Return a buffer object that exposes the underlying memory of the object.\n",
      " |\n",
      " |  __bytes__(self, /)\n",
      " |      Convert this value to exact type bytes.\n",
      " |\n",
      " |  __contains__(self, key, /)\n",
      " |      Return bool(key in self).\n",
      " |\n",
      " |  __eq__(self, value, /)\n",
      " |      Return self==value.\n",
      " |\n",
      " |  __ge__(self, value, /)\n",
      " |      Return self>=value.\n",
      " |\n",
      " |  __getattribute__(self, name, /)\n",
      " |      Return getattr(self, name).\n",
      " |\n",
      " |  __getitem__(self, key, /)\n",
      " |      Return self[key].\n",
      " |\n",
      " |  __getnewargs__(self, /)\n",
      " |\n",
      " |  __gt__(self, value, /)\n",
      " |      Return self>value.\n",
      " |\n",
      " |  __hash__(self, /)\n",
      " |      Return hash(self).\n",
      " |\n",
      " |  __iter__(self, /)\n",
      " |      Implement iter(self).\n",
      " |\n",
      " |  __le__(self, value, /)\n",
      " |      Return self<=value.\n",
      " |\n",
      " |  __len__(self, /)\n",
      " |      Return len(self).\n",
      " |\n",
      " |  __lt__(self, value, /)\n",
      " |      Return self<value.\n",
      " |\n",
      " |  __mod__(self, value, /)\n",
      " |      Return self%value.\n",
      " |\n",
      " |  __mul__(self, value, /)\n",
      " |      Return self*value.\n",
      " |\n",
      " |  __ne__(self, value, /)\n",
      " |      Return self!=value.\n",
      " |\n",
      " |  __repr__(self, /)\n",
      " |      Return repr(self).\n",
      " |\n",
      " |  __rmod__(self, value, /)\n",
      " |      Return value%self.\n",
      " |\n",
      " |  __rmul__(self, value, /)\n",
      " |      Return value*self.\n",
      " |\n",
      " |  __str__(self, /)\n",
      " |      Return str(self).\n",
      " |\n",
      " |  capitalize(self, /)\n",
      " |      B.capitalize() -> copy of B\n",
      " |\n",
      " |      Return a copy of B with only its first character capitalized (ASCII)\n",
      " |      and the rest lower-cased.\n",
      " |\n",
      " |  center(self, width, fillchar=b' ', /)\n",
      " |      Return a centered string of length width.\n",
      " |\n",
      " |      Padding is done using the specified fill character.\n",
      " |\n",
      " |  count(self, sub[, start[, end]], /)\n",
      " |      Return the number of non-overlapping occurrences of subsection 'sub' in bytes B[start:end].\n",
      " |\n",
      " |      start\n",
      " |        Optional start position. Default: start of the bytes.\n",
      " |      end\n",
      " |        Optional stop position. Default: end of the bytes.\n",
      " |\n",
      " |  decode(self, /, encoding='utf-8', errors='strict')\n",
      " |      Decode the bytes using the codec registered for encoding.\n",
      " |\n",
      " |      encoding\n",
      " |        The encoding with which to decode the bytes.\n",
      " |      errors\n",
      " |        The error handling scheme to use for the handling of decoding errors.\n",
      " |        The default is 'strict' meaning that decoding errors raise a\n",
      " |        UnicodeDecodeError. Other possible values are 'ignore' and 'replace'\n",
      " |        as well as any other name registered with codecs.register_error that\n",
      " |        can handle UnicodeDecodeErrors.\n",
      " |\n",
      " |  endswith(self, suffix[, start[, end]], /)\n",
      " |      Return True if the bytes ends with the specified suffix, False otherwise.\n",
      " |\n",
      " |      suffix\n",
      " |        A bytes or a tuple of bytes to try.\n",
      " |      start\n",
      " |        Optional start position. Default: start of the bytes.\n",
      " |      end\n",
      " |        Optional stop position. Default: end of the bytes.\n",
      " |\n",
      " |  expandtabs(self, /, tabsize=8)\n",
      " |      Return a copy where all tab characters are expanded using spaces.\n",
      " |\n",
      " |      If tabsize is not given, a tab size of 8 characters is assumed.\n",
      " |\n",
      " |  find(self, sub[, start[, end]], /)\n",
      " |      Return the lowest index in B where subsection 'sub' is found, such that 'sub' is contained within B[start,end].\n",
      " |\n",
      " |        start\n",
      " |          Optional start position. Default: start of the bytes.\n",
      " |        end\n",
      " |          Optional stop position. Default: end of the bytes.\n",
      " |\n",
      " |      Return -1 on failure.\n",
      " |\n",
      " |  hex(self, /, sep=<unrepresentable>, bytes_per_sep=1)\n",
      " |      Create a string of hexadecimal numbers from a bytes object.\n",
      " |\n",
      " |        sep\n",
      " |          An optional single character or byte to separate hex bytes.\n",
      " |        bytes_per_sep\n",
      " |          How many bytes between separators.  Positive values count from the\n",
      " |          right, negative values count from the left.\n",
      " |\n",
      " |      Example:\n",
      " |      >>> value = b'\\xb9\\x01\\xef'\n",
      " |      >>> value.hex()\n",
      " |      'b901ef'\n",
      " |      >>> value.hex(':')\n",
      " |      'b9:01:ef'\n",
      " |      >>> value.hex(':', 2)\n",
      " |      'b9:01ef'\n",
      " |      >>> value.hex(':', -2)\n",
      " |      'b901:ef'\n",
      " |\n",
      " |  index(self, sub[, start[, end]], /)\n",
      " |      Return the lowest index in B where subsection 'sub' is found, such that 'sub' is contained within B[start,end].\n",
      " |\n",
      " |        start\n",
      " |          Optional start position. Default: start of the bytes.\n",
      " |        end\n",
      " |          Optional stop position. Default: end of the bytes.\n",
      " |\n",
      " |      Raise ValueError if the subsection is not found.\n",
      " |\n",
      " |  isalnum(self, /)\n",
      " |      B.isalnum() -> bool\n",
      " |\n",
      " |      Return True if all characters in B are alphanumeric\n",
      " |      and there is at least one character in B, False otherwise.\n",
      " |\n",
      " |  isalpha(self, /)\n",
      " |      B.isalpha() -> bool\n",
      " |\n",
      " |      Return True if all characters in B are alphabetic\n",
      " |      and there is at least one character in B, False otherwise.\n",
      " |\n",
      " |  isascii(self, /)\n",
      " |      B.isascii() -> bool\n",
      " |\n",
      " |      Return True if B is empty or all characters in B are ASCII,\n",
      " |      False otherwise.\n",
      " |\n",
      " |  isdigit(self, /)\n",
      " |      B.isdigit() -> bool\n",
      " |\n",
      " |      Return True if all characters in B are digits\n",
      " |      and there is at least one character in B, False otherwise.\n",
      " |\n",
      " |  islower(self, /)\n",
      " |      B.islower() -> bool\n",
      " |\n",
      " |      Return True if all cased characters in B are lowercase and there is\n",
      " |      at least one cased character in B, False otherwise.\n",
      " |\n",
      " |  isspace(self, /)\n",
      " |      B.isspace() -> bool\n",
      " |\n",
      " |      Return True if all characters in B are whitespace\n",
      " |      and there is at least one character in B, False otherwise.\n",
      " |\n",
      " |  istitle(self, /)\n",
      " |      B.istitle() -> bool\n",
      " |\n",
      " |      Return True if B is a titlecased string and there is at least one\n",
      " |      character in B, i.e. uppercase characters may only follow uncased\n",
      " |      characters and lowercase characters only cased ones. Return False\n",
      " |      otherwise.\n",
      " |\n",
      " |  isupper(self, /)\n",
      " |      B.isupper() -> bool\n",
      " |\n",
      " |      Return True if all cased characters in B are uppercase and there is\n",
      " |      at least one cased character in B, False otherwise.\n",
      " |\n",
      " |  join(self, iterable_of_bytes, /)\n",
      " |      Concatenate any number of bytes objects.\n",
      " |\n",
      " |      The bytes whose method is called is inserted in between each pair.\n",
      " |\n",
      " |      The result is returned as a new bytes object.\n",
      " |\n",
      " |      Example: b'.'.join([b'ab', b'pq', b'rs']) -> b'ab.pq.rs'.\n",
      " |\n",
      " |  ljust(self, width, fillchar=b' ', /)\n",
      " |      Return a left-justified string of length width.\n",
      " |\n",
      " |      Padding is done using the specified fill character.\n",
      " |\n",
      " |  lower(self, /)\n",
      " |      B.lower() -> copy of B\n",
      " |\n",
      " |      Return a copy of B with all ASCII characters converted to lowercase.\n",
      " |\n",
      " |  lstrip(self, bytes=None, /)\n",
      " |      Strip leading bytes contained in the argument.\n",
      " |\n",
      " |      If the argument is omitted or None, strip leading  ASCII whitespace.\n",
      " |\n",
      " |  partition(self, sep, /)\n",
      " |      Partition the bytes into three parts using the given separator.\n",
      " |\n",
      " |      This will search for the separator sep in the bytes. If the separator is found,\n",
      " |      returns a 3-tuple containing the part before the separator, the separator\n",
      " |      itself, and the part after it.\n",
      " |\n",
      " |      If the separator is not found, returns a 3-tuple containing the original bytes\n",
      " |      object and two empty bytes objects.\n",
      " |\n",
      " |  removeprefix(self, prefix, /)\n",
      " |      Return a bytes object with the given prefix string removed if present.\n",
      " |\n",
      " |      If the bytes starts with the prefix string, return bytes[len(prefix):].\n",
      " |      Otherwise, return a copy of the original bytes.\n",
      " |\n",
      " |  removesuffix(self, suffix, /)\n",
      " |      Return a bytes object with the given suffix string removed if present.\n",
      " |\n",
      " |      If the bytes ends with the suffix string and that suffix is not empty,\n",
      " |      return bytes[:-len(prefix)].  Otherwise, return a copy of the original\n",
      " |      bytes.\n",
      " |\n",
      " |  replace(self, old, new, count=-1, /)\n",
      " |      Return a copy with all occurrences of substring old replaced by new.\n",
      " |\n",
      " |        count\n",
      " |          Maximum number of occurrences to replace.\n",
      " |          -1 (the default value) means replace all occurrences.\n",
      " |\n",
      " |      If the optional argument count is given, only the first count occurrences are\n",
      " |      replaced.\n",
      " |\n",
      " |  rfind(self, sub[, start[, end]], /)\n",
      " |      Return the highest index in B where subsection 'sub' is found, such that 'sub' is contained within B[start,end].\n",
      " |\n",
      " |        start\n",
      " |          Optional start position. Default: start of the bytes.\n",
      " |        end\n",
      " |          Optional stop position. Default: end of the bytes.\n",
      " |\n",
      " |      Return -1 on failure.\n",
      " |\n",
      " |  rindex(self, sub[, start[, end]], /)\n",
      " |      Return the highest index in B where subsection 'sub' is found, such that 'sub' is contained within B[start,end].\n",
      " |\n",
      " |        start\n",
      " |          Optional start position. Default: start of the bytes.\n",
      " |        end\n",
      " |          Optional stop position. Default: end of the bytes.\n",
      " |\n",
      " |      Raise ValueError if the subsection is not found.\n",
      " |\n",
      " |  rjust(self, width, fillchar=b' ', /)\n",
      " |      Return a right-justified string of length width.\n",
      " |\n",
      " |      Padding is done using the specified fill character.\n",
      " |\n",
      " |  rpartition(self, sep, /)\n",
      " |      Partition the bytes into three parts using the given separator.\n",
      " |\n",
      " |      This will search for the separator sep in the bytes, starting at the end. If\n",
      " |      the separator is found, returns a 3-tuple containing the part before the\n",
      " |      separator, the separator itself, and the part after it.\n",
      " |\n",
      " |      If the separator is not found, returns a 3-tuple containing two empty bytes\n",
      " |      objects and the original bytes object.\n",
      " |\n",
      " |  rsplit(self, /, sep=None, maxsplit=-1)\n",
      " |      Return a list of the sections in the bytes, using sep as the delimiter.\n",
      " |\n",
      " |        sep\n",
      " |          The delimiter according which to split the bytes.\n",
      " |          None (the default value) means split on ASCII whitespace characters\n",
      " |          (space, tab, return, newline, formfeed, vertical tab).\n",
      " |        maxsplit\n",
      " |          Maximum number of splits to do.\n",
      " |          -1 (the default value) means no limit.\n",
      " |\n",
      " |      Splitting is done starting at the end of the bytes and working to the front.\n",
      " |\n",
      " |  rstrip(self, bytes=None, /)\n",
      " |      Strip trailing bytes contained in the argument.\n",
      " |\n",
      " |      If the argument is omitted or None, strip trailing ASCII whitespace.\n",
      " |\n",
      " |  split(self, /, sep=None, maxsplit=-1)\n",
      " |      Return a list of the sections in the bytes, using sep as the delimiter.\n",
      " |\n",
      " |      sep\n",
      " |        The delimiter according which to split the bytes.\n",
      " |        None (the default value) means split on ASCII whitespace characters\n",
      " |        (space, tab, return, newline, formfeed, vertical tab).\n",
      " |      maxsplit\n",
      " |        Maximum number of splits to do.\n",
      " |        -1 (the default value) means no limit.\n",
      " |\n",
      " |  splitlines(self, /, keepends=False)\n",
      " |      Return a list of the lines in the bytes, breaking at line boundaries.\n",
      " |\n",
      " |      Line breaks are not included in the resulting list unless keepends is given and\n",
      " |      true.\n",
      " |\n",
      " |  startswith(self, prefix[, start[, end]], /)\n",
      " |      Return True if the bytes starts with the specified prefix, False otherwise.\n",
      " |\n",
      " |      prefix\n",
      " |        A bytes or a tuple of bytes to try.\n",
      " |      start\n",
      " |        Optional start position. Default: start of the bytes.\n",
      " |      end\n",
      " |        Optional stop position. Default: end of the bytes.\n",
      " |\n",
      " |  strip(self, bytes=None, /)\n",
      " |      Strip leading and trailing bytes contained in the argument.\n",
      " |\n",
      " |      If the argument is omitted or None, strip leading and trailing ASCII whitespace.\n",
      " |\n",
      " |  swapcase(self, /)\n",
      " |      B.swapcase() -> copy of B\n",
      " |\n",
      " |      Return a copy of B with uppercase ASCII characters converted\n",
      " |      to lowercase ASCII and vice versa.\n",
      " |\n",
      " |  title(self, /)\n",
      " |      B.title() -> copy of B\n",
      " |\n",
      " |      Return a titlecased version of B, i.e. ASCII words start with uppercase\n",
      " |      characters, all remaining cased characters have lowercase.\n",
      " |\n",
      " |  translate(self, table, /, delete=b'')\n",
      " |      Return a copy with each character mapped by the given translation table.\n",
      " |\n",
      " |        table\n",
      " |          Translation table, which must be a bytes object of length 256.\n",
      " |\n",
      " |      All characters occurring in the optional argument delete are removed.\n",
      " |      The remaining characters are mapped through the given translation table.\n",
      " |\n",
      " |  upper(self, /)\n",
      " |      B.upper() -> copy of B\n",
      " |\n",
      " |      Return a copy of B with all ASCII characters converted to uppercase.\n",
      " |\n",
      " |  zfill(self, width, /)\n",
      " |      Pad a numeric string with zeros on the left, to fill a field of the given width.\n",
      " |\n",
      " |      The original string is never truncated.\n",
      " |\n",
      " |  ----------------------------------------------------------------------\n",
      " |  Class methods defined here:\n",
      " |\n",
      " |  fromhex(string, /)\n",
      " |      Create a bytes object from a string of hexadecimal numbers.\n",
      " |\n",
      " |      Spaces between two numbers are accepted.\n",
      " |      Example: bytes.fromhex('B9 01EF') -> b'\\\\xb9\\\\x01\\\\xef'.\n",
      " |\n",
      " |  ----------------------------------------------------------------------\n",
      " |  Static methods defined here:\n",
      " |\n",
      " |  __new__(*args, **kwargs)\n",
      " |      Create and return a new object.  See help(type) for accurate signature.\n",
      " |\n",
      " |  maketrans(frm, to, /)\n",
      " |      Return a translation table usable for the bytes or bytearray translate method.\n",
      " |\n",
      " |      The returned table will be one where each byte in frm is mapped to the byte at\n",
      " |      the same position in to.\n",
      " |\n",
      " |      The bytes objects frm and to must be of the same length.\n",
      "\n"
     ]
    }
   ],
   "source": [
    "help(bytes)"
   ]
  },
  {
   "cell_type": "code",
   "execution_count": 64,
   "id": "9e9b9dc2-e8f5-4b3e-be59-51135f823a85",
   "metadata": {},
   "outputs": [
    {
     "data": {
      "text/plain": [
       "b'\\x00\\x00\\x00\\x00\\x00\\x00\\x00\\x00\\x00\\x00'"
      ]
     },
     "execution_count": 64,
     "metadata": {},
     "output_type": "execute_result"
    }
   ],
   "source": [
    "bytes(10)"
   ]
  },
  {
   "cell_type": "code",
   "execution_count": 67,
   "id": "81a6616d-335d-4558-9079-a5896f3c5c05",
   "metadata": {},
   "outputs": [],
   "source": [
    "#1Mb= 1024 KB(mega bit)\n",
    "#1 MB =(mega byte)\n",
    "#0 or 1-bit\n",
    "#8 bit = 1 byte\n",
    "#1024 byte=1 killobytee\n",
    "#1024kb=1 megabyte\n",
    "#1024 Mb=1 gegabyte\n",
    "#1024 gb = 1 terabyte\n",
    "#1024 tb=1 petabyte"
   ]
  },
  {
   "cell_type": "code",
   "execution_count": 68,
   "id": "e2f58b17-7dae-4502-b25f-3d4e529e43b4",
   "metadata": {},
   "outputs": [
    {
     "name": "stdout",
     "output_type": "stream",
     "text": [
      "🤣\n"
     ]
    }
   ],
   "source": [
    "print(\"\\U0001F923\")"
   ]
  },
  {
   "cell_type": "code",
   "execution_count": 71,
   "id": "1bcc0747-957f-426e-9c4e-e066b2a7c01d",
   "metadata": {},
   "outputs": [
    {
     "data": {
      "text/plain": [
       "129315"
      ]
     },
     "execution_count": 71,
     "metadata": {},
     "output_type": "execute_result"
    }
   ],
   "source": [
    "#unicorn code\n",
    "ord('🤣')"
   ]
  },
  {
   "cell_type": "code",
   "execution_count": 72,
   "id": "0dd388cb-f550-4872-b9e6-6234dd180bb5",
   "metadata": {},
   "outputs": [
    {
     "data": {
      "text/plain": [
       "1686060924976"
      ]
     },
     "execution_count": 72,
     "metadata": {},
     "output_type": "execute_result"
    }
   ],
   "source": [
    "#memory code ram me khan save hai\n",
    "id('🤣')"
   ]
  },
  {
   "cell_type": "code",
   "execution_count": 74,
   "id": "3ad7e347-768d-4253-a859-2ce3ad51c3ee",
   "metadata": {},
   "outputs": [
    {
     "data": {
      "text/plain": [
       "49"
      ]
     },
     "execution_count": 74,
     "metadata": {},
     "output_type": "execute_result"
    }
   ],
   "source": [
    "ord('1')"
   ]
  },
  {
   "cell_type": "code",
   "execution_count": 75,
   "id": "6a008efe-d9c4-4ef9-8e05-57945ba3b7bd",
   "metadata": {},
   "outputs": [
    {
     "data": {
      "text/plain": [
       "50"
      ]
     },
     "execution_count": 75,
     "metadata": {},
     "output_type": "execute_result"
    }
   ],
   "source": [
    "ord('2')"
   ]
  },
  {
   "cell_type": "code",
   "execution_count": 76,
   "id": "87400382-743d-44c2-84be-06c373c54118",
   "metadata": {},
   "outputs": [
    {
     "data": {
      "text/plain": [
       "97"
      ]
     },
     "execution_count": 76,
     "metadata": {},
     "output_type": "execute_result"
    }
   ],
   "source": [
    "ord('a')"
   ]
  },
  {
   "cell_type": "code",
   "execution_count": 77,
   "id": "1094d86e-3a25-4096-b894-d115d37a7751",
   "metadata": {},
   "outputs": [
    {
     "data": {
      "text/plain": [
       "98"
      ]
     },
     "execution_count": 77,
     "metadata": {},
     "output_type": "execute_result"
    }
   ],
   "source": [
    "ord('b')"
   ]
  },
  {
   "cell_type": "code",
   "execution_count": 78,
   "id": "4b5be0ad-4d5b-403a-b378-3bb6b1ce2ea8",
   "metadata": {},
   "outputs": [
    {
     "ename": "NameError",
     "evalue": "name 'A' is not defined",
     "output_type": "error",
     "traceback": [
      "\u001b[1;31m---------------------------------------------------------------------------\u001b[0m",
      "\u001b[1;31mNameError\u001b[0m                                 Traceback (most recent call last)",
      "Cell \u001b[1;32mIn[78], line 1\u001b[0m\n\u001b[1;32m----> 1\u001b[0m \u001b[38;5;28mord\u001b[39m(A)\n",
      "\u001b[1;31mNameError\u001b[0m: name 'A' is not defined"
     ]
    }
   ],
   "source": [
    "ord(A)"
   ]
  },
  {
   "cell_type": "code",
   "execution_count": null,
   "id": "99c009e1-6090-43f2-8d12-2a79f4686c58",
   "metadata": {},
   "outputs": [],
   "source": []
  }
 ],
 "metadata": {
  "kernelspec": {
   "display_name": "Python [conda env:base] *",
   "language": "python",
   "name": "conda-base-py"
  },
  "language_info": {
   "codemirror_mode": {
    "name": "ipython",
    "version": 3
   },
   "file_extension": ".py",
   "mimetype": "text/x-python",
   "name": "python",
   "nbconvert_exporter": "python",
   "pygments_lexer": "ipython3",
   "version": "3.13.5"
  }
 },
 "nbformat": 4,
 "nbformat_minor": 5
}
