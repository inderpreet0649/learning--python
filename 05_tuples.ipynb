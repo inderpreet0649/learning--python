{
 "cells": [
  {
   "cell_type": "markdown",
   "id": "260554f2-38d0-4d17-bcce-198447e70f28",
   "metadata": {},
   "source": [
    "# tuples"
   ]
  },
  {
   "cell_type": "code",
   "execution_count": 1,
   "id": "be4f7659-909e-4431-a644-059911ac73de",
   "metadata": {},
   "outputs": [],
   "source": [
    "#for multiple items we use tuples"
   ]
  },
  {
   "cell_type": "code",
   "execution_count": 2,
   "id": "0eb942c1-4796-4193-8c39-b27d9fff744e",
   "metadata": {},
   "outputs": [],
   "source": [
    "dogs = (\"tom\",\"kutta\",\"doggy\")"
   ]
  },
  {
   "cell_type": "code",
   "execution_count": 3,
   "id": "a7b6f395-6428-49c0-aa77-b9070ec66c34",
   "metadata": {},
   "outputs": [
    {
     "data": {
      "text/plain": [
       "('tom', 'kutta', 'doggy')"
      ]
     },
     "execution_count": 3,
     "metadata": {},
     "output_type": "execute_result"
    }
   ],
   "source": [
    "dogs"
   ]
  },
  {
   "cell_type": "code",
   "execution_count": 4,
   "id": "b08f8222-5cc0-459d-8a7f-1a607b0d0ac8",
   "metadata": {},
   "outputs": [
    {
     "data": {
      "text/plain": [
       "(2, 4, 6)"
      ]
     },
     "execution_count": 4,
     "metadata": {},
     "output_type": "execute_result"
    }
   ],
   "source": [
    "#comma subtutle value also in tuples\n",
    "2,4,6"
   ]
  },
  {
   "cell_type": "code",
   "execution_count": 5,
   "id": "8acfcd2d-31a4-4285-a527-605a6051746a",
   "metadata": {},
   "outputs": [
    {
     "data": {
      "text/plain": [
       "(('tom', 'kutta', 'doggy'), 2, 7)"
      ]
     },
     "execution_count": 5,
     "metadata": {},
     "output_type": "execute_result"
    }
   ],
   "source": [
    "dogs,2,7"
   ]
  },
  {
   "cell_type": "code",
   "execution_count": 6,
   "id": "206529df-9a77-48b8-bc24-965de3e81379",
   "metadata": {},
   "outputs": [
    {
     "data": {
      "text/plain": [
       "(5, 6)"
      ]
     },
     "execution_count": 6,
     "metadata": {},
     "output_type": "execute_result"
    }
   ],
   "source": [
    "5,6"
   ]
  },
  {
   "cell_type": "markdown",
   "id": "b6612e31-227b-4b02-9d29-d7d7e9dbea32",
   "metadata": {},
   "source": [
    "# tuples unpacking"
   ]
  },
  {
   "cell_type": "code",
   "execution_count": 11,
   "id": "0d56bbb9-2f2a-4afb-af0b-a5d1c5e1510a",
   "metadata": {
    "jupyter": {
     "source_hidden": true
    }
   },
   "outputs": [],
   "source": [
    "#tuple unpacking(jitne variables utni values)\n",
    "a,b=5,6"
   ]
  },
  {
   "cell_type": "code",
   "execution_count": 8,
   "id": "3da98796-773d-4deb-a9af-87fb37980dee",
   "metadata": {},
   "outputs": [
    {
     "data": {
      "text/plain": [
       "5"
      ]
     },
     "execution_count": 8,
     "metadata": {},
     "output_type": "execute_result"
    }
   ],
   "source": [
    "a"
   ]
  },
  {
   "cell_type": "code",
   "execution_count": 9,
   "id": "adeb200f-aeca-4a79-a09d-d42b57763b59",
   "metadata": {},
   "outputs": [
    {
     "data": {
      "text/plain": [
       "6"
      ]
     },
     "execution_count": 9,
     "metadata": {},
     "output_type": "execute_result"
    }
   ],
   "source": [
    "b"
   ]
  },
  {
   "cell_type": "code",
   "execution_count": 12,
   "id": "89ea93a1-00ca-472d-b4e9-576dbf70d9d5",
   "metadata": {},
   "outputs": [],
   "source": [
    "a,b=b,a"
   ]
  },
  {
   "cell_type": "code",
   "execution_count": 13,
   "id": "14cca40a-ab91-44e6-89a0-639aa9af5baa",
   "metadata": {},
   "outputs": [
    {
     "data": {
      "text/plain": [
       "6"
      ]
     },
     "execution_count": 13,
     "metadata": {},
     "output_type": "execute_result"
    }
   ],
   "source": [
    "a"
   ]
  },
  {
   "cell_type": "code",
   "execution_count": 14,
   "id": "58613c78-b988-4f1a-a141-c0098dde59b9",
   "metadata": {},
   "outputs": [
    {
     "data": {
      "text/plain": [
       "5"
      ]
     },
     "execution_count": 14,
     "metadata": {},
     "output_type": "execute_result"
    }
   ],
   "source": [
    "b"
   ]
  },
  {
   "cell_type": "markdown",
   "id": "5bb8a5e6-477a-402a-9976-7633fb3dea10",
   "metadata": {},
   "source": [
    "# tuples understanding\n",
    "\n",
    "tuples ,strings and list are ordered squence"
   ]
  },
  {
   "cell_type": "code",
   "execution_count": 20,
   "id": "7ef754c0-1149-4cb3-a389-7e6fda81d794",
   "metadata": {},
   "outputs": [
    {
     "data": {
      "text/plain": [
       "('tom', 'kutta', 'doggy')"
      ]
     },
     "execution_count": 20,
     "metadata": {},
     "output_type": "execute_result"
    }
   ],
   "source": [
    "#indexing slicing in tuples\n",
    "dogs"
   ]
  },
  {
   "cell_type": "code",
   "execution_count": 17,
   "id": "1ad09084-de85-4f20-a2f2-12ad3f5f7db1",
   "metadata": {},
   "outputs": [
    {
     "data": {
      "text/plain": [
       "'tom'"
      ]
     },
     "execution_count": 17,
     "metadata": {},
     "output_type": "execute_result"
    }
   ],
   "source": [
    "dogs[0]"
   ]
  },
  {
   "cell_type": "code",
   "execution_count": 18,
   "id": "12f56d6b-710c-439b-9239-b235c069fd26",
   "metadata": {},
   "outputs": [
    {
     "data": {
      "text/plain": [
       "'kutta'"
      ]
     },
     "execution_count": 18,
     "metadata": {},
     "output_type": "execute_result"
    }
   ],
   "source": [
    "dogs[1]"
   ]
  },
  {
   "cell_type": "code",
   "execution_count": 19,
   "id": "28885d6d-d837-47b1-a1f9-8463fcbb6151",
   "metadata": {},
   "outputs": [
    {
     "data": {
      "text/plain": [
       "'doggy'"
      ]
     },
     "execution_count": 19,
     "metadata": {},
     "output_type": "execute_result"
    }
   ],
   "source": [
    "dogs[2]"
   ]
  },
  {
   "cell_type": "code",
   "execution_count": 22,
   "id": "32427298-f75d-4b84-a777-3d5cf32b4571",
   "metadata": {},
   "outputs": [
    {
     "data": {
      "text/plain": [
       "('doggy',)"
      ]
     },
     "execution_count": 22,
     "metadata": {},
     "output_type": "execute_result"
    }
   ],
   "source": [
    "dogs[-1:]"
   ]
  },
  {
   "cell_type": "code",
   "execution_count": 25,
   "id": "b622f78f-a8e9-4f1a-9eab-a70d33b4af87",
   "metadata": {},
   "outputs": [
    {
     "data": {
      "text/plain": [
       "'k'"
      ]
     },
     "execution_count": 25,
     "metadata": {},
     "output_type": "execute_result"
    }
   ],
   "source": [
    "#indexing to indexing\n",
    "dogs[1][0]"
   ]
  },
  {
   "cell_type": "code",
   "execution_count": 26,
   "id": "80107fc9-df07-4180-973c-0aec70fa953b",
   "metadata": {},
   "outputs": [
    {
     "data": {
      "text/plain": [
       "'kutta'"
      ]
     },
     "execution_count": 26,
     "metadata": {},
     "output_type": "execute_result"
    }
   ],
   "source": [
    "#for nothing\n",
    "dogs[1][:]"
   ]
  },
  {
   "cell_type": "code",
   "execution_count": 41,
   "id": "870bb7f6-66ec-43e9-85ef-a6fd983316aa",
   "metadata": {},
   "outputs": [
    {
     "ename": "TypeError",
     "evalue": "'tuple' object does not support item assignment",
     "output_type": "error",
     "traceback": [
      "\u001b[1;31m---------------------------------------------------------------------------\u001b[0m",
      "\u001b[1;31mTypeError\u001b[0m                                 Traceback (most recent call last)",
      "Cell \u001b[1;32mIn[41], line 2\u001b[0m\n\u001b[0;32m      1\u001b[0m \u001b[38;5;66;03m#tuple and strings never a element be changed\u001b[39;00m\n\u001b[1;32m----> 2\u001b[0m dogs[\u001b[38;5;241m0\u001b[39m]\u001b[38;5;241m=\u001b[39m\u001b[38;5;124m\"\u001b[39m\u001b[38;5;124mbilli\u001b[39m\u001b[38;5;124m\"\u001b[39m\n",
      "\u001b[1;31mTypeError\u001b[0m: 'tuple' object does not support item assignment"
     ]
    }
   ],
   "source": [
    "#tuple and strings never a element be changed\n",
    "dogs[0]=\"billi\""
   ]
  },
  {
   "cell_type": "code",
   "execution_count": 29,
   "id": "ab96a05e-a50e-4ae4-8bce-08c9f6d94de5",
   "metadata": {
    "jupyter": {
     "source_hidden": true
    }
   },
   "outputs": [
    {
     "data": {
      "text/plain": [
       "'i'"
      ]
     },
     "execution_count": 29,
     "metadata": {},
     "output_type": "execute_result"
    }
   ],
   "source": [
    "\"inder\"[0]"
   ]
  },
  {
   "cell_type": "code",
   "execution_count": 30,
   "id": "bd83a2a6-62c5-4660-bf77-c69b3fbb3dac",
   "metadata": {},
   "outputs": [
    {
     "ename": "NameError",
     "evalue": "name 'inder' is not defined",
     "output_type": "error",
     "traceback": [
      "\u001b[1;31m---------------------------------------------------------------------------\u001b[0m",
      "\u001b[1;31mNameError\u001b[0m                                 Traceback (most recent call last)",
      "Cell \u001b[1;32mIn[30], line 1\u001b[0m\n\u001b[1;32m----> 1\u001b[0m inder[\u001b[38;5;241m0\u001b[39m]\u001b[38;5;241m=\u001b[39m\u001b[38;5;124m\"\u001b[39m\u001b[38;5;124ma\u001b[39m\u001b[38;5;124m\"\u001b[39m\n",
      "\u001b[1;31mNameError\u001b[0m: name 'inder' is not defined"
     ]
    }
   ],
   "source": [
    "inder[0]=\"a\""
   ]
  },
  {
   "cell_type": "code",
   "execution_count": 31,
   "id": "c25111c3-d05c-4029-863e-377a55cccb10",
   "metadata": {},
   "outputs": [],
   "source": [
    "#for list it works\n",
    "li=[0,1,2]"
   ]
  },
  {
   "cell_type": "code",
   "execution_count": 32,
   "id": "769b3614-1046-4fdd-8a6f-1e2314dc81ef",
   "metadata": {},
   "outputs": [
    {
     "data": {
      "text/plain": [
       "0"
      ]
     },
     "execution_count": 32,
     "metadata": {},
     "output_type": "execute_result"
    }
   ],
   "source": [
    "li[0]"
   ]
  },
  {
   "cell_type": "code",
   "execution_count": 33,
   "id": "595e48ac-5ebf-4956-a5f7-fd1b3ef247e8",
   "metadata": {},
   "outputs": [],
   "source": [
    "li[0]=\"[100]\""
   ]
  },
  {
   "cell_type": "code",
   "execution_count": 34,
   "id": "10cc6e10-5bfb-4d6a-8a5e-a95b6e46a555",
   "metadata": {},
   "outputs": [
    {
     "data": {
      "text/plain": [
       "['[100]', 1, 2]"
      ]
     },
     "execution_count": 34,
     "metadata": {},
     "output_type": "execute_result"
    }
   ],
   "source": [
    "li"
   ]
  },
  {
   "cell_type": "markdown",
   "id": "d134f28c-c351-4e36-9ded-7ad49d56cdc8",
   "metadata": {},
   "source": [
    "# tuple method(only 2 method)"
   ]
  },
  {
   "cell_type": "code",
   "execution_count": 35,
   "id": "1467f1b7-8b5a-4725-961d-76b75d568e2d",
   "metadata": {},
   "outputs": [
    {
     "data": {
      "text/plain": [
       "1"
      ]
     },
     "execution_count": 35,
     "metadata": {},
     "output_type": "execute_result"
    }
   ],
   "source": [
    "dogs.count(\"tom\")"
   ]
  },
  {
   "cell_type": "code",
   "execution_count": 56,
   "id": "1cf7c637-e9b9-462f-92cd-1f9d37cf4327",
   "metadata": {},
   "outputs": [],
   "source": [
    "tu =(1,1,2,2,3,4,4,5,5,5,5,5,5,5,5,6,6,7,7,7,)"
   ]
  },
  {
   "cell_type": "code",
   "execution_count": 46,
   "id": "df2ea56f-b146-46df-9b84-4da719b63c21",
   "metadata": {},
   "outputs": [
    {
     "data": {
      "text/plain": [
       "2"
      ]
     },
     "execution_count": 46,
     "metadata": {},
     "output_type": "execute_result"
    }
   ],
   "source": [
    "tu.count(6)"
   ]
  },
  {
   "cell_type": "code",
   "execution_count": 47,
   "id": "51fdbc00-4ec9-47fe-ac34-f421e4f96a97",
   "metadata": {},
   "outputs": [
    {
     "data": {
      "text/plain": [
       "5"
      ]
     },
     "execution_count": 47,
     "metadata": {},
     "output_type": "execute_result"
    }
   ],
   "source": [
    "tu.index(4)"
   ]
  },
  {
   "cell_type": "markdown",
   "id": "a83c8669-1f94-4b21-a56f-ce97eb83eb10",
   "metadata": {},
   "source": [
    "# indexing slicing"
   ]
  },
  {
   "cell_type": "code",
   "execution_count": 57,
   "id": "c6bb2726-f974-4689-94f9-7bfacba659c7",
   "metadata": {},
   "outputs": [
    {
     "data": {
      "text/plain": [
       "(3, 4, 4, 5)"
      ]
     },
     "execution_count": 57,
     "metadata": {},
     "output_type": "execute_result"
    }
   ],
   "source": [
    "#for change in tuples we make a new tuple\n",
    "tu[4:8]"
   ]
  },
  {
   "cell_type": "code",
   "execution_count": 58,
   "id": "bd0e5bf3-0f11-4e31-a101-b4fb638f5069",
   "metadata": {},
   "outputs": [
    {
     "data": {
      "text/plain": [
       "(1, 1, 2, 2, 3, 4, 4, 5, 5, 5, 5, 5, 5, 5, 5, 6, 6, 7, 7, 7)"
      ]
     },
     "execution_count": 58,
     "metadata": {},
     "output_type": "execute_result"
    }
   ],
   "source": [
    "tu"
   ]
  },
  {
   "cell_type": "code",
   "execution_count": 59,
   "id": "075428fc-1b10-49c9-a86f-686b9e45ab33",
   "metadata": {},
   "outputs": [],
   "source": [
    "tu=tu[4:8]"
   ]
  },
  {
   "cell_type": "code",
   "execution_count": 60,
   "id": "4f1fbf71-f7b5-45d8-a1d9-1362bbf7527b",
   "metadata": {},
   "outputs": [
    {
     "data": {
      "text/plain": [
       "(3, 4, 4, 5)"
      ]
     },
     "execution_count": 60,
     "metadata": {},
     "output_type": "execute_result"
    }
   ],
   "source": [
    "tu"
   ]
  },
  {
   "cell_type": "code",
   "execution_count": 61,
   "id": "c23332aa-147f-4ea2-b1ad-c3b75436d352",
   "metadata": {},
   "outputs": [],
   "source": [
    "dice = (1,2,3,4,5,6)"
   ]
  },
  {
   "cell_type": "code",
   "execution_count": 62,
   "id": "fc436ce5-9887-44e9-93f2-372f9bf1d261",
   "metadata": {},
   "outputs": [
    {
     "data": {
      "text/plain": [
       "'kutta'"
      ]
     },
     "execution_count": 62,
     "metadata": {},
     "output_type": "execute_result"
    }
   ],
   "source": [
    "#u get single item in indexing\n",
    "dogs[1]"
   ]
  },
  {
   "cell_type": "code",
   "execution_count": 63,
   "id": "908fc50a-f90b-40dc-8fb1-c12b3f41f4c2",
   "metadata": {},
   "outputs": [
    {
     "data": {
      "text/plain": [
       "'tom'"
      ]
     },
     "execution_count": 63,
     "metadata": {},
     "output_type": "execute_result"
    }
   ],
   "source": [
    "#u get multiple itwm and change in indexing slicing\n",
    "dogs[0][0:]"
   ]
  },
  {
   "cell_type": "code",
   "execution_count": 67,
   "id": "07c8d9ac-1792-487b-9427-aa5e4b52314b",
   "metadata": {},
   "outputs": [
    {
     "data": {
      "text/plain": [
       "('kutta',)"
      ]
     },
     "execution_count": 67,
     "metadata": {},
     "output_type": "execute_result"
    }
   ],
   "source": [
    "#brackets shows it is a tuple function in slicing\n",
    "dogs[1:2]"
   ]
  },
  {
   "cell_type": "code",
   "execution_count": 68,
   "id": "b15cf4a6-ac12-4f71-afcb-e1b725f91046",
   "metadata": {},
   "outputs": [
    {
     "data": {
      "text/plain": [
       "'kutta'"
      ]
     },
     "execution_count": 68,
     "metadata": {},
     "output_type": "execute_result"
    }
   ],
   "source": [
    "#indexing only\n",
    "dogs[1]"
   ]
  },
  {
   "cell_type": "code",
   "execution_count": null,
   "id": "cdd345a2-10a2-4baa-988a-8646c59741ce",
   "metadata": {},
   "outputs": [],
   "source": []
  }
 ],
 "metadata": {
  "kernelspec": {
   "display_name": "Python [conda env:base] *",
   "language": "python",
   "name": "conda-base-py"
  },
  "language_info": {
   "codemirror_mode": {
    "name": "ipython",
    "version": 3
   },
   "file_extension": ".py",
   "mimetype": "text/x-python",
   "name": "python",
   "nbconvert_exporter": "python",
   "pygments_lexer": "ipython3",
   "version": "3.13.5"
  }
 },
 "nbformat": 4,
 "nbformat_minor": 5
}
