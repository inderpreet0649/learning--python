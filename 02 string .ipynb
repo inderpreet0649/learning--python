{
 "cells": [
  {
   "cell_type": "code",
   "execution_count": 1,
   "id": "9bdef62d-8d97-4fc6-8cc6-06227477079a",
   "metadata": {},
   "outputs": [
    {
     "data": {
      "text/plain": [
       "'inder'"
      ]
     },
     "execution_count": 1,
     "metadata": {},
     "output_type": "execute_result"
    }
   ],
   "source": [
    "\"inder\"\n"
   ]
  },
  {
   "cell_type": "code",
   "execution_count": 2,
   "id": "520e9c18-e9c7-49f8-b357-eedd2d138720",
   "metadata": {},
   "outputs": [
    {
     "data": {
      "text/plain": [
       "'inder'"
      ]
     },
     "execution_count": 2,
     "metadata": {},
     "output_type": "execute_result"
    }
   ],
   "source": [
    "'inder'"
   ]
  },
  {
   "cell_type": "code",
   "execution_count": 3,
   "id": "6daf00c1-fc74-456e-ab2e-08dd43b6d597",
   "metadata": {},
   "outputs": [
    {
     "data": {
      "text/plain": [
       "'inder'"
      ]
     },
     "execution_count": 3,
     "metadata": {},
     "output_type": "execute_result"
    }
   ],
   "source": [
    "\"\"\"inder\"\"\""
   ]
  },
  {
   "cell_type": "code",
   "execution_count": 4,
   "id": "ae6edc75-a5a0-4193-866e-6413189fb366",
   "metadata": {},
   "outputs": [
    {
     "ename": "SyntaxError",
     "evalue": "unterminated string literal (detected at line 1) (1088974085.py, line 1)",
     "output_type": "error",
     "traceback": [
      "\u001b[1;36m  Cell \u001b[1;32mIn[4], line 1\u001b[1;36m\u001b[0m\n\u001b[1;33m    'that's mine'\u001b[0m\n\u001b[1;37m                ^\u001b[0m\n\u001b[1;31mSyntaxError\u001b[0m\u001b[1;31m:\u001b[0m unterminated string literal (detected at line 1)\n"
     ]
    }
   ],
   "source": [
    "'that's mine'"
   ]
  },
  {
   "cell_type": "code",
   "execution_count": 5,
   "id": "8505cda9-f6b7-4dbb-bdce-2d8ffb602a8c",
   "metadata": {},
   "outputs": [
    {
     "data": {
      "text/plain": [
       "\"that's mine\""
      ]
     },
     "execution_count": 5,
     "metadata": {},
     "output_type": "execute_result"
    }
   ],
   "source": [
    "\"that's mine\""
   ]
  },
  {
   "cell_type": "code",
   "execution_count": 7,
   "id": "0d678564-90ec-49e7-893d-def276c150f9",
   "metadata": {},
   "outputs": [
    {
     "ename": "SyntaxError",
     "evalue": "unterminated string literal (detected at line 1) (1683323690.py, line 1)",
     "output_type": "error",
     "traceback": [
      "\u001b[1;36m  Cell \u001b[1;32mIn[7], line 1\u001b[1;36m\u001b[0m\n\u001b[1;33m    \"hi nice to meet you\u001b[0m\n\u001b[1;37m    ^\u001b[0m\n\u001b[1;31mSyntaxError\u001b[0m\u001b[1;31m:\u001b[0m unterminated string literal (detected at line 1)\n"
     ]
    }
   ],
   "source": [
    "\"hi nice to meet you\n",
    "my name is inder\""
   ]
  },
  {
   "cell_type": "code",
   "execution_count": 9,
   "id": "d4e8a751-b0c1-41cb-a262-eefe4f89a0e8",
   "metadata": {},
   "outputs": [
    {
     "name": "stdout",
     "output_type": "stream",
     "text": [
      "hi nice to meet you\n",
      "my name is inder\n"
     ]
    }
   ],
   "source": [
    "print(\"\"\"hi nice to meet you\n",
    "my name is inder\"\"\")"
   ]
  },
  {
   "cell_type": "code",
   "execution_count": 10,
   "id": "5129a306-328f-48a6-b50b-39a3ba165d75",
   "metadata": {},
   "outputs": [
    {
     "data": {
      "text/plain": [
       "' hi nice to meet you\\nmy name is inder '"
      ]
     },
     "execution_count": 10,
     "metadata": {},
     "output_type": "execute_result"
    }
   ],
   "source": [
    "\"\"\" hi nice to meet you\n",
    "my name is inder \"\"\""
   ]
  },
  {
   "cell_type": "code",
   "execution_count": 11,
   "id": "c8191d11-1ab5-46dd-ba80-1d0cd7de4325",
   "metadata": {},
   "outputs": [
    {
     "data": {
      "text/plain": [
       "str"
      ]
     },
     "execution_count": 11,
     "metadata": {},
     "output_type": "execute_result"
    }
   ],
   "source": [
    "type(\"inder\")"
   ]
  },
  {
   "cell_type": "code",
   "execution_count": 14,
   "id": "83f3ecc7-b9a0-451b-bd6c-b11dd7b86a58",
   "metadata": {},
   "outputs": [
    {
     "data": {
      "text/plain": [
       "'Inder'"
      ]
     },
     "execution_count": 14,
     "metadata": {},
     "output_type": "execute_result"
    }
   ],
   "source": [
    "\"inder\".capitalize()\n",
    "#after dot tap the tab button and select one and then write brackets .capitalize used for first letter capital"
   ]
  },
  {
   "cell_type": "code",
   "execution_count": 15,
   "id": "242bd9c4-2cba-4427-9a75-ace203b65f96",
   "metadata": {},
   "outputs": [
    {
     "data": {
      "text/plain": [
       "'INDER'"
      ]
     },
     "execution_count": 15,
     "metadata": {},
     "output_type": "execute_result"
    }
   ],
   "source": [
    "\"inder\".upper()\n",
    "#for fulll name capital"
   ]
  },
  {
   "cell_type": "code",
   "execution_count": 18,
   "id": "c4bdef33-dd7e-45da-a714-5dbcfa399bc6",
   "metadata": {},
   "outputs": [
    {
     "data": {
      "text/plain": [
       "3"
      ]
     },
     "execution_count": 18,
     "metadata": {},
     "output_type": "execute_result"
    }
   ],
   "source": [
    "\"inderpreetkaur\".count('r')\n",
    "#for count any word in name "
   ]
  },
  {
   "cell_type": "code",
   "execution_count": 27,
   "id": "d2272600-5460-428f-be6a-5c34ff08c6f9",
   "metadata": {},
   "outputs": [],
   "source": [
    "name = \"inderpreetKaur\""
   ]
  },
  {
   "cell_type": "code",
   "execution_count": 28,
   "id": "15e0006c-74ea-426c-b262-79d72043c347",
   "metadata": {},
   "outputs": [
    {
     "data": {
      "text/plain": [
       "'inderpreetKaur'"
      ]
     },
     "execution_count": 28,
     "metadata": {},
     "output_type": "execute_result"
    }
   ],
   "source": [
    "name"
   ]
  },
  {
   "cell_type": "code",
   "execution_count": 29,
   "id": "61a8f0b8-e5d2-43e4-85f4-04994cc594a5",
   "metadata": {},
   "outputs": [
    {
     "data": {
      "text/plain": [
       "0"
      ]
     },
     "execution_count": 29,
     "metadata": {},
     "output_type": "execute_result"
    }
   ],
   "source": [
    "name.find('i')\n",
    "#find the position of any word and count from 0"
   ]
  },
  {
   "cell_type": "code",
   "execution_count": 26,
   "id": "db5f00bd-b42e-410f-8528-fb4df8722066",
   "metadata": {},
   "outputs": [
    {
     "data": {
      "text/plain": [
       "4"
      ]
     },
     "execution_count": 26,
     "metadata": {},
     "output_type": "execute_result"
    }
   ],
   "source": [
    "name.find('r')\n",
    "#for repeat words is tell the position of first letter who came first"
   ]
  },
  {
   "cell_type": "code",
   "execution_count": 31,
   "id": "77c6cca9-cde3-4661-80cf-8d5e7bfced4f",
   "metadata": {},
   "outputs": [
    {
     "data": {
      "text/plain": [
       "-1"
      ]
     },
     "execution_count": 31,
     "metadata": {},
     "output_type": "execute_result"
    }
   ],
   "source": [
    "#if any letter can't find or capital small issue it give the answer in minus \n",
    "name.find('k')"
   ]
  },
  {
   "cell_type": "code",
   "execution_count": 33,
   "id": "b2545823-1a9c-472a-979c-0a311fffea7f",
   "metadata": {},
   "outputs": [
    {
     "data": {
      "text/plain": [
       "14"
      ]
     },
     "execution_count": 33,
     "metadata": {},
     "output_type": "execute_result"
    }
   ],
   "source": [
    "#for count the total words\n",
    "len(name)"
   ]
  },
  {
   "cell_type": "code",
   "execution_count": 34,
   "id": "6531f1f6-714a-452f-a6c5-879272a6a4a0",
   "metadata": {},
   "outputs": [],
   "source": [
    "first_name = \"inder\""
   ]
  },
  {
   "cell_type": "code",
   "execution_count": 35,
   "id": "959538b0-84dd-48a1-b332-fcfbb3e1d8b4",
   "metadata": {},
   "outputs": [],
   "source": [
    "last_name = \"kaur\""
   ]
  },
  {
   "cell_type": "code",
   "execution_count": 38,
   "id": "835f2ae2-94a1-4d06-b562-9acef694fd20",
   "metadata": {},
   "outputs": [
    {
     "data": {
      "text/plain": [
       "'inderkaur'"
      ]
     },
     "execution_count": 38,
     "metadata": {},
     "output_type": "execute_result"
    }
   ],
   "source": [
    "first_name+last_name"
   ]
  },
  {
   "cell_type": "code",
   "execution_count": 42,
   "id": "ff8a9188-b330-4c6e-97a5-0a2704d74877",
   "metadata": {},
   "outputs": [
    {
     "data": {
      "text/plain": [
       "'inder kaur'"
      ]
     },
     "execution_count": 42,
     "metadata": {},
     "output_type": "execute_result"
    }
   ],
   "source": [
    "first_name + \" \" + last_name"
   ]
  },
  {
   "cell_type": "code",
   "execution_count": 43,
   "id": "884fee0d-b6a6-4c63-b4f5-2b554f90e5c2",
   "metadata": {},
   "outputs": [
    {
     "data": {
      "text/plain": [
       "10"
      ]
     },
     "execution_count": 43,
     "metadata": {},
     "output_type": "execute_result"
    }
   ],
   "source": [
    "5+5"
   ]
  },
  {
   "cell_type": "code",
   "execution_count": 44,
   "id": "41bb2472-c79a-4ef7-8c2c-a2b3378c67cd",
   "metadata": {},
   "outputs": [
    {
     "data": {
      "text/plain": [
       "'55'"
      ]
     },
     "execution_count": 44,
     "metadata": {},
     "output_type": "execute_result"
    }
   ],
   "source": [
    "\"5\"+\"5\""
   ]
  },
  {
   "cell_type": "code",
   "execution_count": 48,
   "id": "e68f4bcb-4e58-4821-a883-2a67948eff49",
   "metadata": {},
   "outputs": [
    {
     "name": "stdout",
     "output_type": "stream",
     "text": [
      "55\n",
      "55\n"
     ]
    }
   ],
   "source": [
    "print(\"55\")\n",
    "print(55)"
   ]
  },
  {
   "cell_type": "code",
   "execution_count": 45,
   "id": "169268c5-1198-4cc5-a74c-5707e3e7a335",
   "metadata": {},
   "outputs": [
    {
     "data": {
      "text/plain": [
       "str"
      ]
     },
     "execution_count": 45,
     "metadata": {},
     "output_type": "execute_result"
    }
   ],
   "source": [
    "type('55')"
   ]
  },
  {
   "cell_type": "code",
   "execution_count": 47,
   "id": "01a79564-a6ae-4c23-9848-14945ab15e6b",
   "metadata": {},
   "outputs": [
    {
     "data": {
      "text/plain": [
       "int"
      ]
     },
     "execution_count": 47,
     "metadata": {},
     "output_type": "execute_result"
    }
   ],
   "source": [
    "type(55)"
   ]
  },
  {
   "cell_type": "code",
   "execution_count": 49,
   "id": "051aa8b3-7ee7-43ac-abb3-0070ab48614c",
   "metadata": {},
   "outputs": [
    {
     "ename": "TypeError",
     "evalue": "can only concatenate str (not \"int\") to str",
     "output_type": "error",
     "traceback": [
      "\u001b[1;31m---------------------------------------------------------------------------\u001b[0m",
      "\u001b[1;31mTypeError\u001b[0m                                 Traceback (most recent call last)",
      "Cell \u001b[1;32mIn[49], line 1\u001b[0m\n\u001b[1;32m----> 1\u001b[0m \u001b[38;5;124m\"\u001b[39m\u001b[38;5;124m5\u001b[39m\u001b[38;5;124m\"\u001b[39m \u001b[38;5;241m+\u001b[39m \u001b[38;5;241m5\u001b[39m\n",
      "\u001b[1;31mTypeError\u001b[0m: can only concatenate str (not \"int\") to str"
     ]
    }
   ],
   "source": [
    "\"5\" + 5"
   ]
  },
  {
   "cell_type": "code",
   "execution_count": 50,
   "id": "ec2dded4-c5b8-4832-8daa-518847aff80e",
   "metadata": {},
   "outputs": [
    {
     "ename": "TypeError",
     "evalue": "unsupported operand type(s) for +: 'int' and 'str'",
     "output_type": "error",
     "traceback": [
      "\u001b[1;31m---------------------------------------------------------------------------\u001b[0m",
      "\u001b[1;31mTypeError\u001b[0m                                 Traceback (most recent call last)",
      "Cell \u001b[1;32mIn[50], line 1\u001b[0m\n\u001b[1;32m----> 1\u001b[0m \u001b[38;5;241m5\u001b[39m \u001b[38;5;241m+\u001b[39m \u001b[38;5;124m\"\u001b[39m\u001b[38;5;124m5\u001b[39m\u001b[38;5;124m\"\u001b[39m\n",
      "\u001b[1;31mTypeError\u001b[0m: unsupported operand type(s) for +: 'int' and 'str'"
     ]
    }
   ],
   "source": [
    "5 + \"5\""
   ]
  },
  {
   "cell_type": "code",
   "execution_count": 51,
   "id": "70182620-6775-4919-87f2-35e069be117a",
   "metadata": {},
   "outputs": [],
   "source": [
    "name = \"inder\"\n",
    "salary = \"100000\""
   ]
  },
  {
   "cell_type": "code",
   "execution_count": 52,
   "id": "3130ed22-3fc1-4742-9403-42991a65cba2",
   "metadata": {},
   "outputs": [
    {
     "data": {
      "text/plain": [
       "'hi my name is inder and my salary is 100000'"
      ]
     },
     "execution_count": 52,
     "metadata": {},
     "output_type": "execute_result"
    }
   ],
   "source": [
    "\"hi my name is inder and my salary is 100000\""
   ]
  },
  {
   "cell_type": "code",
   "execution_count": 57,
   "id": "31eee25a-9fe8-401d-9f06-569be3d14907",
   "metadata": {},
   "outputs": [
    {
     "data": {
      "text/plain": [
       "'hi my name is inder100000'"
      ]
     },
     "execution_count": 57,
     "metadata": {},
     "output_type": "execute_result"
    }
   ],
   "source": [
    "\"hi my name is \"+ name + salary"
   ]
  },
  {
   "cell_type": "code",
   "execution_count": 59,
   "id": "d72e690e-38e3-44c2-81f2-8374a6f9c6c6",
   "metadata": {},
   "outputs": [
    {
     "data": {
      "text/plain": [
       "'hi my name is inderand my salary is 100000'"
      ]
     },
     "execution_count": 59,
     "metadata": {},
     "output_type": "execute_result"
    }
   ],
   "source": [
    "\"hi my name is \"+ name + \"and my salary is \"+ salary"
   ]
  },
  {
   "cell_type": "code",
   "execution_count": 61,
   "id": "581cd990-b47a-49de-b619-acfdf4daceda",
   "metadata": {},
   "outputs": [
    {
     "data": {
      "text/plain": [
       "'hi my name is inder and my salary is 100000'"
      ]
     },
     "execution_count": 61,
     "metadata": {},
     "output_type": "execute_result"
    }
   ],
   "source": [
    "\"hi my name is {} and my salary is {}\".format(\"inder\",100000)"
   ]
  },
  {
   "cell_type": "code",
   "execution_count": 64,
   "id": "4f35808c-55b5-4900-a8c2-2b0c6fa4ec37",
   "metadata": {},
   "outputs": [
    {
     "data": {
      "text/plain": [
       "'hi my name is inder jr and my salary is 100000.i am of inder'"
      ]
     },
     "execution_count": 64,
     "metadata": {},
     "output_type": "execute_result"
    }
   ],
   "source": [
    "\"hi my name is {0} jr and my salary is {1}.i am of {0}\".format(\"inder\",100000)"
   ]
  },
  {
   "cell_type": "code",
   "execution_count": 73,
   "id": "d5753c22-b2c5-400a-a1da-e38599ccb699",
   "metadata": {},
   "outputs": [
    {
     "data": {
      "text/plain": [
       "'hi my name is inder jr and my salary is 100000.i am of inder, and i live in punjab'"
      ]
     },
     "execution_count": 73,
     "metadata": {},
     "output_type": "execute_result"
    }
   ],
   "source": [
    "\"hi my name is {0} jr and my salary is {1}.i am of {0}, and i live in {2}\".format(\"inder\", 100000,\"punjab\")"
   ]
  },
  {
   "cell_type": "code",
   "execution_count": 84,
   "id": "868f5f94-8b50-4533-8893-99efadb01be8",
   "metadata": {},
   "outputs": [
    {
     "data": {
      "text/plain": [
       "'hi my name is sukhdeep jr and my salary is 100000.i am of sukhdeep, and i live in punjab'"
      ]
     },
     "execution_count": 84,
     "metadata": {},
     "output_type": "execute_result"
    }
   ],
   "source": [
    "\"hi my name is {name} jr and my salary is {salary}.i am of {name}, and i live in {place}\".format(name=\"inder|\",salary= 100000,place=\"punjab\")"
   ]
  },
  {
   "cell_type": "code",
   "execution_count": null,
   "id": "8bff34f7-5e7a-4ae6-ac85-ed84b65e4dff",
   "metadata": {},
   "outputs": [],
   "source": []
  },
  {
   "cell_type": "code",
   "execution_count": 71,
   "id": "04476db3-d2c3-4958-9d59-b45a60af2e5e",
   "metadata": {
    "jupyter": {
     "source_hidden": true
    }
   },
   "outputs": [],
   "source": [
    "name =\"inder\"\n",
    "age=20\n",
    "salary= 100000\n",
    "place=\"nangal\""
   ]
  },
  {
   "cell_type": "code",
   "execution_count": 72,
   "id": "81bfcbbc-0a45-483e-a11b-f5c0d3fc32e4",
   "metadata": {},
   "outputs": [
    {
     "data": {
      "text/plain": [
       "'hi my name is inder,and my age is 20,and my salary is 100000,and i live in nangal'"
      ]
     },
     "execution_count": 72,
     "metadata": {},
     "output_type": "execute_result"
    }
   ],
   "source": [
    "f'hi my name is {name},and my age is {age},and my salary is {salary},and i live in {place}'"
   ]
  },
  {
   "cell_type": "code",
   "execution_count": 75,
   "id": "a629659c-8a55-4f2e-8480-6c5dd950f95f",
   "metadata": {},
   "outputs": [
    {
     "data": {
      "text/plain": [
       "'inderpreet kaur'"
      ]
     },
     "execution_count": 75,
     "metadata": {},
     "output_type": "execute_result"
    }
   ],
   "source": [
    "\"inderpreet kaur\".lower()"
   ]
  },
  {
   "cell_type": "code",
   "execution_count": 77,
   "id": "cd62bb6f-5989-4139-837d-9ce27ab5721c",
   "metadata": {},
   "outputs": [
    {
     "data": {
      "text/plain": [
       "['inderpreet', 'kaur']"
      ]
     },
     "execution_count": 77,
     "metadata": {},
     "output_type": "execute_result"
    }
   ],
   "source": [
    "#most important \n",
    "\"inderpreet kaur\".split()"
   ]
  },
  {
   "cell_type": "code",
   "execution_count": 78,
   "id": "154e16b5-2b87-45cb-9ad8-a07424034724",
   "metadata": {},
   "outputs": [
    {
     "data": {
      "text/plain": [
       "['dog', 'cat', 'buffalo', 'cow']"
      ]
     },
     "execution_count": 78,
     "metadata": {},
     "output_type": "execute_result"
    }
   ],
   "source": [
    "\"dog cat buffalo cow\".split()"
   ]
  },
  {
   "cell_type": "code",
   "execution_count": 85,
   "id": "0001976e-8421-4d7c-b8fa-4e78307006ff",
   "metadata": {},
   "outputs": [
    {
     "data": {
      "text/plain": [
       "['d', 'g cat buffal', ' c', 'w']"
      ]
     },
     "execution_count": 85,
     "metadata": {},
     "output_type": "execute_result"
    }
   ],
   "source": [
    "\"dog cat buffalo cow\".split(\"o\")"
   ]
  },
  {
   "cell_type": "code",
   "execution_count": 86,
   "id": "2eefd117-d640-4a8b-a5df-db9b0ea597ad",
   "metadata": {},
   "outputs": [
    {
     "data": {
      "text/plain": [
       "['d', 'gcatbuffal', 'c', 'w']"
      ]
     },
     "execution_count": 86,
     "metadata": {},
     "output_type": "execute_result"
    }
   ],
   "source": [
    "\"dogcatbuffalocow\".split(\"o\")"
   ]
  },
  {
   "cell_type": "code",
   "execution_count": 79,
   "id": "e297436f-fa71-49b9-a352-69d92f6eae87",
   "metadata": {},
   "outputs": [
    {
     "data": {
      "text/plain": [
       "'INDER'"
      ]
     },
     "execution_count": 79,
     "metadata": {},
     "output_type": "execute_result"
    }
   ],
   "source": [
    "name.upper()"
   ]
  },
  {
   "cell_type": "code",
   "execution_count": 80,
   "id": "1798da83-9e1c-4d87-a985-ac928e243b92",
   "metadata": {},
   "outputs": [
    {
     "data": {
      "text/plain": [
       "'inder'"
      ]
     },
     "execution_count": 80,
     "metadata": {},
     "output_type": "execute_result"
    }
   ],
   "source": [
    "name"
   ]
  },
  {
   "cell_type": "code",
   "execution_count": 81,
   "id": "f8525b00-aab1-4914-9482-3db956095259",
   "metadata": {},
   "outputs": [],
   "source": [
    "name = name.upper()"
   ]
  },
  {
   "cell_type": "code",
   "execution_count": 82,
   "id": "51e5b826-cc9f-4f8d-8c10-8722320a3d67",
   "metadata": {},
   "outputs": [
    {
     "data": {
      "text/plain": [
       "'INDER'"
      ]
     },
     "execution_count": 82,
     "metadata": {},
     "output_type": "execute_result"
    }
   ],
   "source": [
    "name"
   ]
  },
  {
   "cell_type": "code",
   "execution_count": 87,
   "id": "43245518-e3eb-401f-85e8-270355ec7fa9",
   "metadata": {},
   "outputs": [
    {
     "data": {
      "text/plain": [
       "['hi', 'my', 'name', 'is', 'inder']"
      ]
     },
     "execution_count": 87,
     "metadata": {},
     "output_type": "execute_result"
    }
   ],
   "source": [
    "\"hi my name is inder\".split()"
   ]
  },
  {
   "cell_type": "code",
   "execution_count": 88,
   "id": "b091db0f-f83e-4440-9ddd-95ae5b1da033",
   "metadata": {},
   "outputs": [
    {
     "data": {
      "text/plain": [
       "['2025', '07', '25']"
      ]
     },
     "execution_count": 88,
     "metadata": {},
     "output_type": "execute_result"
    }
   ],
   "source": [
    "\"2025-07-25\".split(\"-\")"
   ]
  },
  {
   "cell_type": "code",
   "execution_count": 91,
   "id": "7c3dee23-46af-4769-8d3d-85cff21e1e37",
   "metadata": {},
   "outputs": [
    {
     "data": {
      "text/plain": [
       "'inderpreetkaur'"
      ]
     },
     "execution_count": 91,
     "metadata": {},
     "output_type": "execute_result"
    }
   ],
   "source": [
    "\"   inderpreetkaur   \".strip()"
   ]
  },
  {
   "cell_type": "code",
   "execution_count": 92,
   "id": "0a539881-f570-4416-8ffc-cec0c67ace7c",
   "metadata": {},
   "outputs": [
    {
     "name": "stdout",
     "output_type": "stream",
     "text": [
      "inder\n",
      "   inder\n"
     ]
    }
   ],
   "source": [
    "print('inder')\n",
    "print('   inder')"
   ]
  },
  {
   "cell_type": "code",
   "execution_count": 95,
   "id": "de9dc539-3a53-43da-9aee-a2b2a61c89d0",
   "metadata": {},
   "outputs": [
    {
     "data": {
      "text/plain": [
       "'inder'"
      ]
     },
     "execution_count": 95,
     "metadata": {},
     "output_type": "execute_result"
    }
   ],
   "source": [
    "'inder'.strip()"
   ]
  },
  {
   "cell_type": "code",
   "execution_count": 96,
   "id": "31923310-649a-4799-a35f-2f4f93f4477e",
   "metadata": {},
   "outputs": [
    {
     "data": {
      "text/plain": [
       "True"
      ]
     },
     "execution_count": 96,
     "metadata": {},
     "output_type": "execute_result"
    }
   ],
   "source": [
    "\"inder\".islower()\n",
    "#boolean yes or no"
   ]
  },
  {
   "cell_type": "code",
   "execution_count": 98,
   "id": "75e607c1-bdfb-4fc5-aafc-c4fad4d4d0e0",
   "metadata": {},
   "outputs": [
    {
     "data": {
      "text/plain": [
       "True"
      ]
     },
     "execution_count": 98,
     "metadata": {},
     "output_type": "execute_result"
    }
   ],
   "source": [
    "\"INDER\".isupper()"
   ]
  },
  {
   "cell_type": "code",
   "execution_count": 100,
   "id": "7fbd1d4b-86f1-4eb6-921d-fb229637404a",
   "metadata": {},
   "outputs": [
    {
     "data": {
      "text/plain": [
       "False"
      ]
     },
     "execution_count": 100,
     "metadata": {},
     "output_type": "execute_result"
    }
   ],
   "source": [
    "\"inder\".isupper()"
   ]
  },
  {
   "cell_type": "code",
   "execution_count": 101,
   "id": "72431d0f-5d22-45b0-bf44-dc8fbe8a9812",
   "metadata": {},
   "outputs": [
    {
     "data": {
      "text/plain": [
       "True"
      ]
     },
     "execution_count": 101,
     "metadata": {},
     "output_type": "execute_result"
    }
   ],
   "source": [
    "\"inder\".isalpha()"
   ]
  },
  {
   "cell_type": "code",
   "execution_count": 103,
   "id": "4729b188-cf5b-4c94-87bb-ea1fa4c2f46e",
   "metadata": {},
   "outputs": [
    {
     "data": {
      "text/plain": [
       "True"
      ]
     },
     "execution_count": 103,
     "metadata": {},
     "output_type": "execute_result"
    }
   ],
   "source": [
    "\"324364758\".isnumeric()"
   ]
  },
  {
   "cell_type": "code",
   "execution_count": 105,
   "id": "52ed5001-1bba-4868-b06d-1c8f30dcb3c5",
   "metadata": {},
   "outputs": [
    {
     "data": {
      "text/plain": [
       "False"
      ]
     },
     "execution_count": 105,
     "metadata": {},
     "output_type": "execute_result"
    }
   ],
   "source": [
    "\"inder\".isnumeric()"
   ]
  },
  {
   "cell_type": "code",
   "execution_count": 106,
   "id": "bed82359-53f6-430d-9694-631d538e9e94",
   "metadata": {},
   "outputs": [
    {
     "data": {
      "text/plain": [
       "True"
      ]
     },
     "execution_count": 106,
     "metadata": {},
     "output_type": "execute_result"
    }
   ],
   "source": [
    "\"inder0649\".isalnum()"
   ]
  },
  {
   "cell_type": "code",
   "execution_count": 108,
   "id": "9d927e7e-d880-402a-ab0b-feeeb34876be",
   "metadata": {},
   "outputs": [
    {
     "data": {
      "text/plain": [
       "False"
      ]
     },
     "execution_count": 108,
     "metadata": {},
     "output_type": "execute_result"
    }
   ],
   "source": [
    "#because it not identify the space\n",
    "\"inder preet\".isalpha()"
   ]
  },
  {
   "cell_type": "code",
   "execution_count": 109,
   "id": "80c58887-b847-48d0-9ddb-c47229e9c84c",
   "metadata": {},
   "outputs": [
    {
     "data": {
      "text/plain": [
       "True"
      ]
     },
     "execution_count": 109,
     "metadata": {},
     "output_type": "execute_result"
    }
   ],
   "source": [
    "\" \".isspace()"
   ]
  },
  {
   "cell_type": "code",
   "execution_count": 113,
   "id": "def73ccd-6bf7-4ff0-b228-0fee6cc657f1",
   "metadata": {},
   "outputs": [
    {
     "name": "stdout",
     "output_type": "stream",
     "text": [
      "Help on built-in function replace:\n",
      "\n",
      "replace(old, new, /, count=-1) method of builtins.str instance\n",
      "    Return a copy with all occurrences of substring old replaced by new.\n",
      "\n",
      "      count\n",
      "        Maximum number of occurrences to replace.\n",
      "        -1 (the default value) means replace all occurrences.\n",
      "\n",
      "    If the optional argument count is given, only the first count occurrences are\n",
      "    replaced.\n",
      "\n"
     ]
    }
   ],
   "source": [
    "#if u don't know about the any function\n",
    "help(\"inder preet\".replace)"
   ]
  },
  {
   "cell_type": "code",
   "execution_count": 115,
   "id": "ca3a2788-fc0c-43da-97ae-f45aef13d464",
   "metadata": {},
   "outputs": [
    {
     "data": {
      "text/plain": [
       "'1nderpreet kaur'"
      ]
     },
     "execution_count": 115,
     "metadata": {},
     "output_type": "execute_result"
    }
   ],
   "source": [
    "#replace a word with another word or number\n",
    "\"inderpreet kaur\".replace(\"i\",\"1\")"
   ]
  },
  {
   "cell_type": "code",
   "execution_count": 117,
   "id": "c843bee0-1a45-46c5-89f5-be5cdeb69cb7",
   "metadata": {},
   "outputs": [
    {
     "ename": "TypeError",
     "evalue": "'str' object cannot be interpreted as an integer",
     "output_type": "error",
     "traceback": [
      "\u001b[1;31m---------------------------------------------------------------------------\u001b[0m",
      "\u001b[1;31mTypeError\u001b[0m                                 Traceback (most recent call last)",
      "Cell \u001b[1;32mIn[117], line 2\u001b[0m\n\u001b[0;32m      1\u001b[0m \u001b[38;5;66;03m#if there is more letter u can replace it by showing its positions\u001b[39;00m\n\u001b[1;32m----> 2\u001b[0m \u001b[38;5;124m\"\u001b[39m\u001b[38;5;124minderpreet kaur\u001b[39m\u001b[38;5;124m\"\u001b[39m\u001b[38;5;241m.\u001b[39mreplace(\u001b[38;5;124m\"\u001b[39m\u001b[38;5;124me\u001b[39m\u001b[38;5;124m\"\u001b[39m,\u001b[38;5;124m\"\u001b[39m\u001b[38;5;124mp\u001b[39m\u001b[38;5;124m\"\u001b[39m,\u001b[38;5;124m\"\u001b[39m\u001b[38;5;124m1\u001b[39m\u001b[38;5;124m\"\u001b[39m)\n",
      "\u001b[1;31mTypeError\u001b[0m: 'str' object cannot be interpreted as an integer"
     ]
    }
   ],
   "source": [
    "#if there is more letter u can replace it by showing its positions\n",
    "\"inderpreet kaur\".replace(\"e\",\"p\",\"1\")"
   ]
  },
  {
   "cell_type": "code",
   "execution_count": 118,
   "id": "25da3aaf-3767-4dc0-96c8-070a50319798",
   "metadata": {},
   "outputs": [
    {
     "data": {
      "text/plain": [
       "'INDER'"
      ]
     },
     "execution_count": 118,
     "metadata": {},
     "output_type": "execute_result"
    }
   ],
   "source": [
    "name"
   ]
  },
  {
   "cell_type": "code",
   "execution_count": 119,
   "id": "f71c90e4-39a5-4f14-95dc-2724cc9f7746",
   "metadata": {},
   "outputs": [],
   "source": [
    "name=\"inder preet kaur\""
   ]
  },
  {
   "cell_type": "code",
   "execution_count": 120,
   "id": "d09daaf5-2922-47eb-a76c-919747a83f0f",
   "metadata": {},
   "outputs": [
    {
     "data": {
      "text/plain": [
       "'t'"
      ]
     },
     "execution_count": 120,
     "metadata": {},
     "output_type": "execute_result"
    }
   ],
   "source": [
    "name[10]"
   ]
  },
  {
   "cell_type": "code",
   "execution_count": 121,
   "id": "dbdb6f1a-f657-48a7-a37a-798c1a75ce44",
   "metadata": {},
   "outputs": [
    {
     "data": {
      "text/plain": [
       "'e'"
      ]
     },
     "execution_count": 121,
     "metadata": {},
     "output_type": "execute_result"
    }
   ],
   "source": [
    "name[3]"
   ]
  },
  {
   "cell_type": "code",
   "execution_count": 122,
   "id": "d93b983a-b7c4-47d7-8c53-76f9a356bfb9",
   "metadata": {},
   "outputs": [
    {
     "data": {
      "text/plain": [
       "'p'"
      ]
     },
     "execution_count": 122,
     "metadata": {},
     "output_type": "execute_result"
    }
   ],
   "source": [
    "name[6]"
   ]
  },
  {
   "cell_type": "code",
   "execution_count": 124,
   "id": "ba44c6df-ae72-44df-b616-f79d1dce98de",
   "metadata": {},
   "outputs": [
    {
     "data": {
      "text/plain": [
       "16"
      ]
     },
     "execution_count": 124,
     "metadata": {},
     "output_type": "execute_result"
    }
   ],
   "source": [
    "len(name)"
   ]
  },
  {
   "cell_type": "code",
   "execution_count": 128,
   "id": "fdbcb7dd-82de-496a-9ad6-0c127ea41749",
   "metadata": {},
   "outputs": [
    {
     "data": {
      "text/plain": [
       "'r'"
      ]
     },
     "execution_count": 128,
     "metadata": {},
     "output_type": "execute_result"
    }
   ],
   "source": [
    "#from last letters \n",
    "name[-1]"
   ]
  },
  {
   "cell_type": "code",
   "execution_count": 127,
   "id": "437d4661-4302-44e3-8848-d574d7ff3f5b",
   "metadata": {},
   "outputs": [
    {
     "data": {
      "text/plain": [
       "'a'"
      ]
     },
     "execution_count": 127,
     "metadata": {},
     "output_type": "execute_result"
    }
   ],
   "source": [
    "name[-3]"
   ]
  },
  {
   "cell_type": "code",
   "execution_count": null,
   "id": "e5aae1ac-f25b-44f8-9590-9fbe0099915e",
   "metadata": {},
   "outputs": [],
   "source": []
  }
 ],
 "metadata": {
  "kernelspec": {
   "display_name": "Python [conda env:base] *",
   "language": "python",
   "name": "conda-base-py"
  },
  "language_info": {
   "codemirror_mode": {
    "name": "ipython",
    "version": 3
   },
   "file_extension": ".py",
   "mimetype": "text/x-python",
   "name": "python",
   "nbconvert_exporter": "python",
   "pygments_lexer": "ipython3",
   "version": "3.13.5"
  }
 },
 "nbformat": 4,
 "nbformat_minor": 5
}
