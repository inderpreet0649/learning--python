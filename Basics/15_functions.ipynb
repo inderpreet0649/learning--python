{
 "cells": [
  {
   "cell_type": "markdown",
   "id": "4c63f03c-1c2b-484d-ae42-58593f6a2ae9",
   "metadata": {},
   "source": [
    "# Funtions"
   ]
  },
  {
   "cell_type": "markdown",
   "id": "d540a7ff-d5be-4a9d-b947-2a24282fa4bf",
   "metadata": {},
   "source": [
    "## Function store code and it executes the code when called "
   ]
  },
  {
   "cell_type": "code",
   "execution_count": 1,
   "id": "d37767e6-c175-4ccc-aaba-8b4488665af3",
   "metadata": {},
   "outputs": [],
   "source": [
    "#there is a two ways of functions:\n",
    "# 1.define a function\n",
    "#2.call a function"
   ]
  },
  {
   "cell_type": "code",
   "execution_count": 2,
   "id": "698626d5-ef18-4501-9ca4-df095d16d85b",
   "metadata": {},
   "outputs": [],
   "source": [
    "#define a function \n",
    "\n",
    "def greeting():\n",
    "    print(\"hello everyone nice to meet you\")\n",
    "    print(2+2)"
   ]
  },
  {
   "cell_type": "code",
   "execution_count": 3,
   "id": "d0ab7433-86d8-4592-ab5b-fd0835407453",
   "metadata": {},
   "outputs": [
    {
     "name": "stdout",
     "output_type": "stream",
     "text": [
      "hello everyone nice to meet you\n",
      "4\n"
     ]
    }
   ],
   "source": [
    "#call a function\n",
    "greeting()"
   ]
  },
  {
   "cell_type": "code",
   "execution_count": 5,
   "id": "570fce51-b296-4eba-8293-702bebf059b0",
   "metadata": {},
   "outputs": [
    {
     "name": "stdout",
     "output_type": "stream",
     "text": [
      "hello everyone nice to meet you\n",
      "4\n",
      "hello world\n",
      "hello everyone nice to meet you\n",
      "4\n"
     ]
    }
   ],
   "source": [
    "greeting()\n",
    "print(\"hello world\")\n",
    "greeting()"
   ]
  },
  {
   "cell_type": "markdown",
   "id": "135c3fa2-1738-47b5-9ef9-63f980b38ee8",
   "metadata": {},
   "source": [
    "# Types of function"
   ]
  },
  {
   "cell_type": "markdown",
   "id": "cfbbcb2d-b285-4a79-9199-c44bbef8276b",
   "metadata": {},
   "source": [
    "### Built in functions"
   ]
  },
  {
   "cell_type": "code",
   "execution_count": 6,
   "id": "12c79769-f433-41bc-9158-03502d0fd7b9",
   "metadata": {},
   "outputs": [
    {
     "name": "stdout",
     "output_type": "stream",
     "text": [
      "hi\n"
     ]
    },
    {
     "data": {
      "text/plain": [
       "5"
      ]
     },
     "execution_count": 6,
     "metadata": {},
     "output_type": "execute_result"
    }
   ],
   "source": [
    "# built in functions\n",
    "print(\"hi\")\n",
    "len(\"inder\")"
   ]
  },
  {
   "cell_type": "code",
   "execution_count": 8,
   "id": "b52d62da-87cf-4ba5-9f46-4914dba3ea26",
   "metadata": {},
   "outputs": [
    {
     "data": {
      "text/plain": [
       "8"
      ]
     },
     "execution_count": 8,
     "metadata": {},
     "output_type": "execute_result"
    }
   ],
   "source": [
    "min([8,6,2])\n",
    "max([8,6,2])"
   ]
  },
  {
   "cell_type": "markdown",
   "id": "5aa05287-3766-45e7-ba7a-598768153cce",
   "metadata": {},
   "source": [
    "### user define function"
   ]
  },
  {
   "cell_type": "code",
   "execution_count": 11,
   "id": "4e612a62-1ea3-4e96-9c9f-d9f59496d101",
   "metadata": {},
   "outputs": [],
   "source": [
    "def greeting():\n",
    "    print(\"hellow everyone my name is inder\")"
   ]
  },
  {
   "cell_type": "code",
   "execution_count": 12,
   "id": "01e18898-0602-4bc9-a59f-771a1a8c58e5",
   "metadata": {},
   "outputs": [
    {
     "name": "stdout",
     "output_type": "stream",
     "text": [
      "hellow everyone my name is inder\n"
     ]
    }
   ],
   "source": [
    "greeting()"
   ]
  },
  {
   "cell_type": "code",
   "execution_count": 13,
   "id": "838d5ee4-f0b6-4f66-ad83-52e6cdb2a37e",
   "metadata": {},
   "outputs": [],
   "source": [
    "#isme error k agge kuj v print hogga error k pehle vale sare print honge\n",
    "def greeting():\n",
    "    print(\"hellow everyone my name is inder\")\n",
    "    print(8/0)\n",
    "    print(\"hi\")"
   ]
  },
  {
   "cell_type": "code",
   "execution_count": 14,
   "id": "017d2f7e-3f53-4364-8a0a-f4274b974418",
   "metadata": {},
   "outputs": [
    {
     "name": "stdout",
     "output_type": "stream",
     "text": [
      "hellow everyone my name is inder\n"
     ]
    },
    {
     "ename": "ZeroDivisionError",
     "evalue": "division by zero",
     "output_type": "error",
     "traceback": [
      "\u001b[1;31m---------------------------------------------------------------------------\u001b[0m",
      "\u001b[1;31mZeroDivisionError\u001b[0m                         Traceback (most recent call last)",
      "Cell \u001b[1;32mIn[14], line 1\u001b[0m\n\u001b[1;32m----> 1\u001b[0m greeting()\n",
      "Cell \u001b[1;32mIn[13], line 4\u001b[0m, in \u001b[0;36mgreeting\u001b[1;34m()\u001b[0m\n\u001b[0;32m      2\u001b[0m \u001b[38;5;28;01mdef\u001b[39;00m\u001b[38;5;250m \u001b[39m\u001b[38;5;21mgreeting\u001b[39m():\n\u001b[0;32m      3\u001b[0m     \u001b[38;5;28mprint\u001b[39m(\u001b[38;5;124m\"\u001b[39m\u001b[38;5;124mhellow everyone my name is inder\u001b[39m\u001b[38;5;124m\"\u001b[39m)\n\u001b[1;32m----> 4\u001b[0m     \u001b[38;5;28mprint\u001b[39m(\u001b[38;5;241m8\u001b[39m\u001b[38;5;241m/\u001b[39m\u001b[38;5;241m0\u001b[39m)\n\u001b[0;32m      5\u001b[0m     \u001b[38;5;28mprint\u001b[39m(\u001b[38;5;124m\"\u001b[39m\u001b[38;5;124mhi\u001b[39m\u001b[38;5;124m\"\u001b[39m)\n",
      "\u001b[1;31mZeroDivisionError\u001b[0m: division by zero"
     ]
    }
   ],
   "source": [
    "greeting()"
   ]
  },
  {
   "cell_type": "markdown",
   "id": "b4c8f0c8-9565-45c0-ae55-ca739c2a58d2",
   "metadata": {},
   "source": [
    "## user defined functions types"
   ]
  },
  {
   "cell_type": "code",
   "execution_count": 15,
   "id": "9f83d75a-0fd8-460b-b0f2-dca01956f12f",
   "metadata": {},
   "outputs": [],
   "source": [
    "# simple function\n",
    "def greeting():\n",
    "    print(\"hellow everyone my name is inder\")"
   ]
  },
  {
   "cell_type": "code",
   "execution_count": 16,
   "id": "d3b2e845-38d4-4fa8-ba83-c44654b740c8",
   "metadata": {},
   "outputs": [
    {
     "name": "stdout",
     "output_type": "stream",
     "text": [
      "hellow everyone my name is inder\n"
     ]
    }
   ],
   "source": [
    "greeting()"
   ]
  },
  {
   "cell_type": "code",
   "execution_count": 1,
   "id": "2a764360-c13e-46f6-81d3-b7bbe274faf9",
   "metadata": {},
   "outputs": [],
   "source": [
    "# input function\n",
    "\n",
    "def greeting():\n",
    "    name=\"inder\"\n",
    "    print(f\"hello {name} nice to meet you\")"
   ]
  },
  {
   "cell_type": "code",
   "execution_count": 18,
   "id": "26dc1b7a-0a50-4187-bf3c-faaeacb6916b",
   "metadata": {},
   "outputs": [
    {
     "name": "stdout",
     "output_type": "stream",
     "text": [
      "hello inder nice to meet you\n"
     ]
    }
   ],
   "source": [
    "greeting()"
   ]
  },
  {
   "cell_type": "code",
   "execution_count": 19,
   "id": "4fbba41b-958d-471e-bdd1-b1f890dc07dc",
   "metadata": {},
   "outputs": [],
   "source": [
    "#if i want ki user khud se change krre apna naam\n",
    "def greeting(name):\n",
    "    print(f\"hello {name} nice to meet you\")"
   ]
  },
  {
   "cell_type": "code",
   "execution_count": 76,
   "id": "7b353031-caf1-409b-b668-c94c04a8ec2d",
   "metadata": {},
   "outputs": [
    {
     "name": "stdout",
     "output_type": "stream",
     "text": [
      "hello inder nice to meet you\n"
     ]
    }
   ],
   "source": [
    "greeting(\"inder\")"
   ]
  },
  {
   "cell_type": "code",
   "execution_count": 75,
   "id": "6a304c24-c5c9-4c7d-b3c5-9cb288dc1b64",
   "metadata": {},
   "outputs": [],
   "source": [
    "def area_of_circle(r):\n",
    "    print((22/7)*r*r)"
   ]
  },
  {
   "cell_type": "code",
   "execution_count": 77,
   "id": "484f4e9a-143b-4ba0-8e43-269ba5adebf6",
   "metadata": {},
   "outputs": [
    {
     "name": "stdout",
     "output_type": "stream",
     "text": [
      "78.57142857142857\n"
     ]
    }
   ],
   "source": [
    "area_of_circle(5)"
   ]
  },
  {
   "cell_type": "code",
   "execution_count": 78,
   "id": "b96362ea-f91f-4d77-b96e-67452cb1dc8e",
   "metadata": {},
   "outputs": [],
   "source": [
    "def area_of_triangle(length,width):\n",
    "    print(length*width)"
   ]
  },
  {
   "cell_type": "code",
   "execution_count": 79,
   "id": "d6597016-d5ed-4a38-981d-7b3aa4d613ea",
   "metadata": {},
   "outputs": [
    {
     "name": "stdout",
     "output_type": "stream",
     "text": [
      "50\n"
     ]
    }
   ],
   "source": [
    "area_of_triangle(5,10)"
   ]
  },
  {
   "cell_type": "code",
   "execution_count": 40,
   "id": "53debaf3-9f34-4030-ac34-9b714cebf3b2",
   "metadata": {},
   "outputs": [],
   "source": [
    "# default function \n",
    "def greeting(name):\n",
    "    print(f\"hello {name} nice to meet you\")"
   ]
  },
  {
   "cell_type": "code",
   "execution_count": 41,
   "id": "8a1efbd8-060c-4907-ada3-caa9afd86b64",
   "metadata": {},
   "outputs": [
    {
     "name": "stdout",
     "output_type": "stream",
     "text": [
      "hello inder nice to meet you\n"
     ]
    }
   ],
   "source": [
    "greeting(\"inder\")"
   ]
  },
  {
   "cell_type": "code",
   "execution_count": 3,
   "id": "e3d09fba-0970-4b21-9bdb-702b46a0a13f",
   "metadata": {},
   "outputs": [],
   "source": [
    "#age isme hum name na like call krte time too error deta hai pr usse lanne k liye hum likhenge user\n",
    "def greeting(name=\"USER\"):\n",
    "    print(f\"hello {name} nice to meet you\")"
   ]
  },
  {
   "cell_type": "code",
   "execution_count": 4,
   "id": "25e6eaf5-2c7a-46f2-ba2e-8a657465f001",
   "metadata": {},
   "outputs": [
    {
     "name": "stdout",
     "output_type": "stream",
     "text": [
      "hello USER nice to meet you\n"
     ]
    }
   ],
   "source": [
    "greeting()"
   ]
  },
  {
   "cell_type": "code",
   "execution_count": 44,
   "id": "f39dc707-fcdf-4cc7-b1da-403324c6a0b1",
   "metadata": {},
   "outputs": [],
   "source": [
    "def salary_structure(salary,Tax_rate):\n",
    "    tax=salary*Tax_rate\n",
    "    print(tax)"
   ]
  },
  {
   "cell_type": "code",
   "execution_count": 45,
   "id": "07631cf3-76ae-4233-95d6-6ac730e7f057",
   "metadata": {},
   "outputs": [
    {
     "name": "stdout",
     "output_type": "stream",
     "text": [
      "96000.0\n"
     ]
    }
   ],
   "source": [
    "salary_structure(800000,0.12)"
   ]
  },
  {
   "cell_type": "code",
   "execution_count": 46,
   "id": "1181ef11-9990-4dfa-98dd-3482f707312d",
   "metadata": {},
   "outputs": [
    {
     "ename": "NameError",
     "evalue": "name 'tax' is not defined",
     "output_type": "error",
     "traceback": [
      "\u001b[1;31m---------------------------------------------------------------------------\u001b[0m",
      "\u001b[1;31mNameError\u001b[0m                                 Traceback (most recent call last)",
      "Cell \u001b[1;32mIn[46], line 1\u001b[0m\n\u001b[1;32m----> 1\u001b[0m tax\n",
      "\u001b[1;31mNameError\u001b[0m: name 'tax' is not defined"
     ]
    }
   ],
   "source": [
    "tax"
   ]
  },
  {
   "cell_type": "code",
   "execution_count": 55,
   "id": "2b762d1d-59cb-4492-bbea-f0818687018f",
   "metadata": {},
   "outputs": [],
   "source": [
    "##return function\n",
    "#print me value save n karva sakte hum ..isliye hum return krenge \n",
    "def salary_structure(salary,Tax_rate):\n",
    "    tax=salary*Tax_rate\n",
    "    return tax"
   ]
  },
  {
   "cell_type": "code",
   "execution_count": 56,
   "id": "62f86a1b-dfb7-4a48-99b6-5d2d6508c51d",
   "metadata": {},
   "outputs": [
    {
     "data": {
      "text/plain": [
       "9600.0"
      ]
     },
     "execution_count": 56,
     "metadata": {},
     "output_type": "execute_result"
    }
   ],
   "source": [
    "salary_structure(80000,0.12)"
   ]
  },
  {
   "cell_type": "code",
   "execution_count": 57,
   "id": "0686ef9f-7428-4465-9ac2-09bbf16e71ee",
   "metadata": {},
   "outputs": [],
   "source": [
    "#isme value save karva sakte hai\n",
    "tax=salary_structure(80000,0.12)"
   ]
  },
  {
   "cell_type": "code",
   "execution_count": 58,
   "id": "946fc570-694d-4762-b171-02dc7896bf63",
   "metadata": {},
   "outputs": [
    {
     "data": {
      "text/plain": [
       "9600.0"
      ]
     },
     "execution_count": 58,
     "metadata": {},
     "output_type": "execute_result"
    }
   ],
   "source": [
    "tax"
   ]
  },
  {
   "cell_type": "code",
   "execution_count": 59,
   "id": "ae605878-a829-4131-9b16-1986ab10c8aa",
   "metadata": {},
   "outputs": [],
   "source": [
    "#default values hmesha piche honi chahiye tabhi agge chalegi varna akele agge nhi chalegi\n",
    "def salary_structure(salary,Tax_rate=0.12):\n",
    "    tax=salary*Tax_rate\n",
    "    return tax"
   ]
  },
  {
   "cell_type": "code",
   "execution_count": 61,
   "id": "c22fc492-9f25-4f31-a798-94ddc5cfc4fc",
   "metadata": {},
   "outputs": [
    {
     "data": {
      "text/plain": [
       "9600.0"
      ]
     },
     "execution_count": 61,
     "metadata": {},
     "output_type": "execute_result"
    }
   ],
   "source": [
    "#3 conditions hai ya dono default ho ya pichla ho too hi chalega akele agge vala nhi chalega even for define and call function too\n",
    "salary_structure(80000,0.12)"
   ]
  },
  {
   "cell_type": "code",
   "execution_count": 63,
   "id": "42b06d72-b79b-4005-ba25-0a43ba76d3e0",
   "metadata": {},
   "outputs": [
    {
     "data": {
      "text/plain": [
       "9600.0"
      ]
     },
     "execution_count": 63,
     "metadata": {},
     "output_type": "execute_result"
    }
   ],
   "source": [
    "salary_structure(80000,Tax_rate=0.12)"
   ]
  },
  {
   "cell_type": "code",
   "execution_count": 64,
   "id": "4f516b85-fa83-4211-8f7f-2a987713e581",
   "metadata": {},
   "outputs": [],
   "source": [
    "#if area of cube =l*b*h...then l*b*h which all values inside the def function is called parameters \n",
    "#if salary structure=(salary,tax_rate=0.12) in this the value of salary(50000)is called argument and salary is knowm as parameter"
   ]
  },
  {
   "cell_type": "code",
   "execution_count": 66,
   "id": "882903b4-b1ab-480a-afcd-fb6f4e7f5533",
   "metadata": {},
   "outputs": [],
   "source": [
    "def volume_of_cuboid(length,width,hight):\n",
    "    dimension = f\"\"\"\n",
    "    length:{length}\n",
    "    width:{width}\n",
    "    hight:{hight}\n",
    "    \"\"\"\n",
    "    print(dimension)\n",
    "    return length*width*hight"
   ]
  },
  {
   "cell_type": "code",
   "execution_count": 83,
   "id": "8fa18e9a-0a53-470f-a7c6-92f038b4fde0",
   "metadata": {},
   "outputs": [
    {
     "name": "stdout",
     "output_type": "stream",
     "text": [
      "\n",
      "    length:80\n",
      "    width:50\n",
      "    hight:100\n",
      "    \n"
     ]
    },
    {
     "data": {
      "text/plain": [
       "400000"
      ]
     },
     "execution_count": 83,
     "metadata": {},
     "output_type": "execute_result"
    }
   ],
   "source": [
    "#positional argument\n",
    "#isme yeh index according apne app apni jagah pr le lete hai this is called positional argument\n",
    "volume_of_cuboid(80,50,100)"
   ]
  },
  {
   "cell_type": "code",
   "execution_count": 86,
   "id": "0d07d19e-1480-4093-a2aa-b440fafae8ab",
   "metadata": {},
   "outputs": [
    {
     "name": "stdout",
     "output_type": "stream",
     "text": [
      "\n",
      "    length:80\n",
      "    width:50\n",
      "    hight:100\n",
      "    \n"
     ]
    },
    {
     "data": {
      "text/plain": [
       "400000"
      ]
     },
     "execution_count": 86,
     "metadata": {},
     "output_type": "execute_result"
    }
   ],
   "source": [
    "#key word argument\n",
    "#jisme specific hum value denge\n",
    "volume_of_cuboid(length=80,width=50,hight=100)"
   ]
  },
  {
   "cell_type": "code",
   "execution_count": 88,
   "id": "aa476f4f-50bd-4c2a-b8d3-4a4e465ba67c",
   "metadata": {},
   "outputs": [
    {
     "ename": "SyntaxError",
     "evalue": "positional argument follows keyword argument (272809389.py, line 4)",
     "output_type": "error",
     "traceback": [
      "\u001b[1;36m  Cell \u001b[1;32mIn[88], line 4\u001b[1;36m\u001b[0m\n\u001b[1;33m    volume_of_cuboid(length=80,50,hight=100)\u001b[0m\n\u001b[1;37m                                           ^\u001b[0m\n\u001b[1;31mSyntaxError\u001b[0m\u001b[1;31m:\u001b[0m positional argument follows keyword argument\n"
     ]
    }
   ],
   "source": [
    "#error should be taken\n",
    "#positional argument in keyword argument\n",
    "#in this make sure about indexing(or their position orthewise there is error)\n",
    "volume_of_cuboid(length=80,50,hight=100)"
   ]
  },
  {
   "cell_type": "code",
   "execution_count": 69,
   "id": "5b00aeea-64a6-4381-b76a-2e94b8900735",
   "metadata": {},
   "outputs": [
    {
     "name": "stdout",
     "output_type": "stream",
     "text": [
      "Help on function volume_of_cuboid in module __main__:\n",
      "\n",
      "volume_of_cuboid(length, width, hight)\n",
      "\n"
     ]
    }
   ],
   "source": [
    "#if we don,t know about the function we take help but if they are not fully defined\n",
    "help(volume_of_cuboid)"
   ]
  },
  {
   "cell_type": "code",
   "execution_count": 80,
   "id": "4f374070-6fe4-467b-a057-e6791aeaf534",
   "metadata": {},
   "outputs": [],
   "source": [
    "#so we print details about the code in triple notation(doc string which is known as document string) exactly the bottom of the code:\n",
    "def volume_of_cuboid(length,width,hight):\n",
    "    \"\"\"\n",
    "    this function calculates volume of cuboid\n",
    "    it takes length,width,hight as input and multiplies them\n",
    "\n",
    "    doc string is printed in help\n",
    "    and position defines length,width,hight\n",
    "    \"\"\"\n",
    "    dimension = f\"\"\"\n",
    "    length:{length}\n",
    "    width:{width}\n",
    "    hight:{hight}\n",
    "    \"\"\"\n",
    "    print(dimension)\n",
    "    return length*width*hight"
   ]
  },
  {
   "cell_type": "code",
   "execution_count": 81,
   "id": "b735a6fa-abc7-4392-ba43-ce1a8e939527",
   "metadata": {},
   "outputs": [
    {
     "name": "stdout",
     "output_type": "stream",
     "text": [
      "\n",
      "    length:30\n",
      "    width:20\n",
      "    hight:29\n",
      "    \n"
     ]
    },
    {
     "data": {
      "text/plain": [
       "17400"
      ]
     },
     "execution_count": 81,
     "metadata": {},
     "output_type": "execute_result"
    }
   ],
   "source": [
    "volume_of_cuboid(30,20,29)"
   ]
  },
  {
   "cell_type": "code",
   "execution_count": 82,
   "id": "fee8e612-8482-43d4-9622-a082878d2233",
   "metadata": {},
   "outputs": [
    {
     "name": "stdout",
     "output_type": "stream",
     "text": [
      "Help on function volume_of_cuboid in module __main__:\n",
      "\n",
      "volume_of_cuboid(length, width, hight)\n",
      "    this function calculates volume of cuboid\n",
      "    it takes length,width,hight as input and multiplies them\n",
      "\n",
      "    doc string is printed in help\n",
      "    and position defines length,width,hight\n",
      "\n"
     ]
    }
   ],
   "source": [
    "help(volume_of_cuboid)"
   ]
  },
  {
   "cell_type": "code",
   "execution_count": 6,
   "id": "e7608a97-4125-4e73-bdee-e3cc8fa8724d",
   "metadata": {},
   "outputs": [],
   "source": [
    "li=[3,4,6,8,9,6,4,2,5,6]\n",
    "def Sorthalf(li : list): #we write here list because when we write dot then tap tab we get the functions options here\n",
    "    #li.append()\n",
    "    length = len(li)\n",
    "    li.sort()\n",
    "    firsthalf = li[:length//2]\n",
    "    secondhalf=li[length//2:]\n",
    "    secondhalf.sort(reverse=True)\n",
    "\n",
    "    return firsthalf+secondhalf"
   ]
  },
  {
   "cell_type": "code",
   "execution_count": 91,
   "id": "c595c7d0-6008-4f64-a363-62a978e8c5c8",
   "metadata": {},
   "outputs": [
    {
     "data": {
      "text/plain": [
       "[2, 3, 4, 4, 5, 9, 8, 6, 6, 6]"
      ]
     },
     "execution_count": 91,
     "metadata": {},
     "output_type": "execute_result"
    }
   ],
   "source": [
    "Sorthalf(li)"
   ]
  },
  {
   "cell_type": "code",
   "execution_count": null,
   "id": "37a5ca30-4e61-4968-bbce-66e8bf39c3c5",
   "metadata": {},
   "outputs": [],
   "source": []
  },
  {
   "cell_type": "code",
   "execution_count": null,
   "id": "7462ac9a-0bf9-4fb8-926e-e16dc44fbe53",
   "metadata": {},
   "outputs": [],
   "source": []
  },
  {
   "cell_type": "markdown",
   "id": "69e857ad-373d-4a58-bab5-f87030b2d74a",
   "metadata": {},
   "source": [
    "#### Scope imp for interview question "
   ]
  },
  {
   "cell_type": "code",
   "execution_count": 28,
   "id": "bf4a8bb1-39b4-420d-ab54-66a0d1d71dd8",
   "metadata": {},
   "outputs": [],
   "source": [
    "#global scope(bahr print krva sakte hai)\n",
    "home = \"nangal\"\n",
    "def myProfile():\n",
    "    #local scope(bahr koi pata nhi kr sakta hai )\n",
    "    name = \"inder\"\n",
    "    age=20\n",
    "    education=\"B.Sc\"\n",
    "    print(name,age,education,home)"
   ]
  },
  {
   "cell_type": "code",
   "execution_count": 34,
   "id": "d5bdbf55-e81d-413a-a264-7e1a7792ebf4",
   "metadata": {},
   "outputs": [
    {
     "name": "stdout",
     "output_type": "stream",
     "text": [
      "inder 20 B.Sc nangal\n"
     ]
    }
   ],
   "source": [
    "myProfile()"
   ]
  },
  {
   "cell_type": "code",
   "execution_count": 33,
   "id": "c8886df4-169e-4f2e-a85a-80878219c797",
   "metadata": {},
   "outputs": [
    {
     "ename": "NameError",
     "evalue": "name 'name' is not defined",
     "output_type": "error",
     "traceback": [
      "\u001b[1;31m---------------------------------------------------------------------------\u001b[0m",
      "\u001b[1;31mNameError\u001b[0m                                 Traceback (most recent call last)",
      "Cell \u001b[1;32mIn[33], line 2\u001b[0m\n\u001b[0;32m      1\u001b[0m \u001b[38;5;66;03m#local scope pata mhi chalega\u001b[39;00m\n\u001b[1;32m----> 2\u001b[0m name\n",
      "\u001b[1;31mNameError\u001b[0m: name 'name' is not defined"
     ]
    }
   ],
   "source": [
    "#local scope pata mhi chalega\n",
    "name"
   ]
  },
  {
   "cell_type": "code",
   "execution_count": 39,
   "id": "3f763d4a-78b0-4af6-8d73-82022a0ede8b",
   "metadata": {},
   "outputs": [
    {
     "data": {
      "text/plain": [
       "'nangal'"
      ]
     },
     "execution_count": 39,
     "metadata": {},
     "output_type": "execute_result"
    }
   ],
   "source": [
    "#global scope(pata chal jayega)\n",
    "home"
   ]
  },
  {
   "cell_type": "code",
   "execution_count": 8,
   "id": "2b13aeed-90d1-4c57-b36f-5cbb60a2db9c",
   "metadata": {},
   "outputs": [],
   "source": [
    "#global scope(bahr print krva sakte hai)\n",
    "home = \"nangal\"\n",
    "def myProfile():\n",
    "    #local scope(bahr koi pata nhi kr sakta hai )\n",
    "    name = \"inder\"\n",
    "    global age\n",
    "    age=20\n",
    "    education=\"B.Sc\"\n",
    "    print(name,age,education,home)"
   ]
  },
  {
   "cell_type": "code",
   "execution_count": 9,
   "id": "c61892e6-a60f-488d-867e-eb318a74d04d",
   "metadata": {},
   "outputs": [
    {
     "name": "stdout",
     "output_type": "stream",
     "text": [
      "inder 20 B.Sc nangal\n"
     ]
    }
   ],
   "source": [
    "myProfile()"
   ]
  },
  {
   "cell_type": "code",
   "execution_count": 10,
   "id": "76ff17fb-7d29-41b4-bdad-025af0fceaf1",
   "metadata": {},
   "outputs": [
    {
     "data": {
      "text/plain": [
       "20"
      ]
     },
     "execution_count": 10,
     "metadata": {},
     "output_type": "execute_result"
    }
   ],
   "source": [
    "#isme humne agr dekhna ho kuj to global function lagana hai...uske vaad pehle call krni hai function ko fir hum check kr sakte hai\n",
    "\n",
    "age"
   ]
  },
  {
   "cell_type": "code",
   "execution_count": 1,
   "id": "4b7f46c3-8331-403b-92fb-7ce33f96e2ee",
   "metadata": {},
   "outputs": [],
   "source": [
    "def greetings(age,name=\"user\"):\n",
    "    return name,age"
   ]
  },
  {
   "cell_type": "markdown",
   "id": "78973e2e-4dcf-4b8b-b179-2a77e84bd7f4",
   "metadata": {},
   "source": [
    "# next day questions"
   ]
  },
  {
   "cell_type": "code",
   "execution_count": 10,
   "id": "1f0dcb9e-56d8-4e53-a310-3e5c4b9ff47e",
   "metadata": {},
   "outputs": [],
   "source": [
    "#if we want different values\n",
    "name,age=greetings(25)"
   ]
  },
  {
   "cell_type": "code",
   "execution_count": 8,
   "id": "300e75e5-61f2-44f1-b65f-f34d170362dd",
   "metadata": {},
   "outputs": [
    {
     "data": {
      "text/plain": [
       "'user'"
      ]
     },
     "execution_count": 8,
     "metadata": {},
     "output_type": "execute_result"
    }
   ],
   "source": [
    "name"
   ]
  },
  {
   "cell_type": "code",
   "execution_count": 9,
   "id": "6fd1b921-93ff-4f12-8f3b-d7aa46fc6696",
   "metadata": {},
   "outputs": [
    {
     "data": {
      "text/plain": [
       "25"
      ]
     },
     "execution_count": 9,
     "metadata": {},
     "output_type": "execute_result"
    }
   ],
   "source": [
    "age"
   ]
  },
  {
   "cell_type": "code",
   "execution_count": 11,
   "id": "31004303-3307-4c5a-a758-610b7c50a898",
   "metadata": {},
   "outputs": [],
   "source": [
    "#PALINDROME --matlab jis marji taraf se dekho same lgta hai eg 110011"
   ]
  },
  {
   "cell_type": "code",
   "execution_count": 17,
   "id": "23e876b3-5ee4-46cb-846d-5663fa5e015d",
   "metadata": {},
   "outputs": [],
   "source": [
    "#is it panlindrome or not...?\n",
    "def check_palindrome(n):\n",
    "    return str(n)== str(n)[::-1]"
   ]
  },
  {
   "cell_type": "code",
   "execution_count": 18,
   "id": "197126bf-a7b1-4628-9506-831f8b91b804",
   "metadata": {},
   "outputs": [
    {
     "data": {
      "text/plain": [
       "True"
      ]
     },
     "execution_count": 18,
     "metadata": {},
     "output_type": "execute_result"
    }
   ],
   "source": [
    "check_palindrome(\"SAS\")"
   ]
  },
  {
   "cell_type": "code",
   "execution_count": 20,
   "id": "9c8d99dd-d1e3-4538-9a28-4ac62b3d28e4",
   "metadata": {},
   "outputs": [],
   "source": [
    "#answer simple me aa rha hai ...but hum vaad me security add krenge ki isme koi space etc ho ya letters small ho\n",
    "def check_palindrome(n):\n",
    "    return str(n).strip().lower() == str(n)[::-1].strip().lower() "
   ]
  },
  {
   "cell_type": "code",
   "execution_count": 21,
   "id": "b4f49a4d-26d9-4739-b37c-df327d601713",
   "metadata": {},
   "outputs": [
    {
     "data": {
      "text/plain": [
       "True"
      ]
     },
     "execution_count": 21,
     "metadata": {},
     "output_type": "execute_result"
    }
   ],
   "source": [
    "check_palindrome(\"SAS\")"
   ]
  },
  {
   "cell_type": "code",
   "execution_count": 23,
   "id": "a57a6cb2-e525-4640-933c-fdacc3236f8b",
   "metadata": {},
   "outputs": [
    {
     "data": {
      "text/plain": [
       "80"
      ]
     },
     "execution_count": 23,
     "metadata": {},
     "output_type": "execute_result"
    }
   ],
   "source": [
    "\"\" or 80"
   ]
  },
  {
   "cell_type": "code",
   "execution_count": 26,
   "id": "273225ef-3ad7-48a2-bfb7-d98afb086721",
   "metadata": {},
   "outputs": [
    {
     "data": {
      "text/plain": [
       "7"
      ]
     },
     "execution_count": 26,
     "metadata": {},
     "output_type": "execute_result"
    }
   ],
   "source": [
    "7 or 9"
   ]
  },
  {
   "cell_type": "code",
   "execution_count": 24,
   "id": "462991d7-9f14-4e4c-bfb3-e1c76cbec61d",
   "metadata": {},
   "outputs": [],
   "source": [
    "def check_palindrome(n):\n",
    "    n=n or input()                \n",
    "    return str(n)== str(n)[::-1]"
   ]
  },
  {
   "cell_type": "code",
   "execution_count": 25,
   "id": "1d4ad646-c5c5-470c-9562-79ada188a405",
   "metadata": {},
   "outputs": [
    {
     "data": {
      "text/plain": [
       "True"
      ]
     },
     "execution_count": 25,
     "metadata": {},
     "output_type": "execute_result"
    }
   ],
   "source": [
    "check_palindrome(11011)"
   ]
  },
  {
   "cell_type": "code",
   "execution_count": 32,
   "id": "ac326de3-6e82-4901-93e9-91317a33af9a",
   "metadata": {},
   "outputs": [
    {
     "ename": "_IncompleteInputError",
     "evalue": "incomplete input (2529615954.py, line 1)",
     "output_type": "error",
     "traceback": [
      "\u001b[1;36m  Cell \u001b[1;32mIn[32], line 1\u001b[1;36m\u001b[0m\n\u001b[1;33m    def check_palindrome():\u001b[0m\n\u001b[1;37m                           ^\u001b[0m\n\u001b[1;31m_IncompleteInputError\u001b[0m\u001b[1;31m:\u001b[0m incomplete input\n"
     ]
    }
   ],
   "source": [
    "def check_palindrome():"
   ]
  },
  {
   "cell_type": "code",
   "execution_count": 36,
   "id": "fdea97dc-642e-45e2-af1e-00991a2193a2",
   "metadata": {},
   "outputs": [],
   "source": [
    "#if code is iincomplete we write pass execute next\n",
    "def check_palindrome(n):\n",
    "    pass"
   ]
  },
  {
   "cell_type": "code",
   "execution_count": 34,
   "id": "0494d78f-2ced-421f-9548-22938a788d22",
   "metadata": {},
   "outputs": [],
   "source": [
    "def check_prime(n):\n",
    "    for i in range(2,n):\n",
    "        if n%i==0:\n",
    "            return False\n",
    "        return True"
   ]
  },
  {
   "cell_type": "code",
   "execution_count": 35,
   "id": "6764f81f-ffb5-4821-bea5-ee458affe5f2",
   "metadata": {},
   "outputs": [
    {
     "data": {
      "text/plain": [
       "True"
      ]
     },
     "execution_count": 35,
     "metadata": {},
     "output_type": "execute_result"
    }
   ],
   "source": [
    "check_prime(7)"
   ]
  },
  {
   "cell_type": "code",
   "execution_count": 52,
   "id": "cc3fc0d2-c1e6-45d4-909e-ecaf12f0604b",
   "metadata": {},
   "outputs": [
    {
     "name": "stdout",
     "output_type": "stream",
     "text": [
      "50 2 0\n"
     ]
    },
    {
     "data": {
      "text/plain": [
       "False"
      ]
     },
     "execution_count": 52,
     "metadata": {},
     "output_type": "execute_result"
    }
   ],
   "source": [
    "check_prime(50)"
   ]
  },
  {
   "cell_type": "code",
   "execution_count": 42,
   "id": "6e399f77-2953-4250-b267-f53a66a93ee3",
   "metadata": {},
   "outputs": [],
   "source": [
    "def check_prime(n):\n",
    "    for i in range(2,n):\n",
    "        print(n,i,n%i)\n",
    "        if n%i==0:\n",
    "            return False\n",
    "    return True"
   ]
  },
  {
   "cell_type": "code",
   "execution_count": 43,
   "id": "36c6127b-65f6-4e67-b2fb-307f592a57bd",
   "metadata": {},
   "outputs": [
    {
     "name": "stdout",
     "output_type": "stream",
     "text": [
      "9 2 1\n",
      "9 3 0\n"
     ]
    },
    {
     "data": {
      "text/plain": [
       "False"
      ]
     },
     "execution_count": 43,
     "metadata": {},
     "output_type": "execute_result"
    }
   ],
   "source": [
    "check_prime(9)"
   ]
  },
  {
   "cell_type": "code",
   "execution_count": 44,
   "id": "cd83c53f-0e46-435a-b4c5-a602d6476036",
   "metadata": {},
   "outputs": [
    {
     "name": "stdout",
     "output_type": "stream",
     "text": [
      "7 2 1\n",
      "7 3 1\n",
      "7 4 3\n",
      "7 5 2\n",
      "7 6 1\n"
     ]
    },
    {
     "data": {
      "text/plain": [
       "True"
      ]
     },
     "execution_count": 44,
     "metadata": {},
     "output_type": "execute_result"
    }
   ],
   "source": [
    "check_prime(7)"
   ]
  },
  {
   "cell_type": "code",
   "execution_count": 45,
   "id": "c1c08b58-06f2-4ef1-bc3f-0200350c423e",
   "metadata": {},
   "outputs": [
    {
     "name": "stdout",
     "output_type": "stream",
     "text": [
      "25 2 1\n",
      "25 3 1\n",
      "25 4 1\n",
      "25 5 0\n"
     ]
    },
    {
     "data": {
      "text/plain": [
       "False"
      ]
     },
     "execution_count": 45,
     "metadata": {},
     "output_type": "execute_result"
    }
   ],
   "source": [
    "check_prime(25)"
   ]
  },
  {
   "cell_type": "code",
   "execution_count": 46,
   "id": "c0e3a87f-e835-45ae-96f4-cda349331727",
   "metadata": {},
   "outputs": [
    {
     "data": {
      "text/plain": [
       "True"
      ]
     },
     "execution_count": 46,
     "metadata": {},
     "output_type": "execute_result"
    }
   ],
   "source": [
    "check_prime(0)"
   ]
  },
  {
   "cell_type": "code",
   "execution_count": 49,
   "id": "c5bed1e7-4b5a-411a-bb73-fd2a2f49c0fd",
   "metadata": {},
   "outputs": [],
   "source": [
    "def check_prime(n):\n",
    "    for i in range(2,int(n**(1/2))+1):\n",
    "        print(n,i,n%i)\n",
    "        if n%i==0:\n",
    "            return False\n",
    "    return True"
   ]
  },
  {
   "cell_type": "code",
   "execution_count": 50,
   "id": "c1a928c5-32a2-40d6-9618-f58000b55344",
   "metadata": {},
   "outputs": [
    {
     "name": "stdout",
     "output_type": "stream",
     "text": [
      "55 2 1\n",
      "55 3 1\n",
      "55 4 3\n",
      "55 5 0\n"
     ]
    },
    {
     "data": {
      "text/plain": [
       "False"
      ]
     },
     "execution_count": 50,
     "metadata": {},
     "output_type": "execute_result"
    }
   ],
   "source": [
    "check_prime(55)"
   ]
  },
  {
   "cell_type": "code",
   "execution_count": 53,
   "id": "78e8821d-3f0e-4354-84a7-39ce36f810de",
   "metadata": {},
   "outputs": [
    {
     "name": "stdout",
     "output_type": "stream",
     "text": [
      "50 2 0\n"
     ]
    },
    {
     "data": {
      "text/plain": [
       "False"
      ]
     },
     "execution_count": 53,
     "metadata": {},
     "output_type": "execute_result"
    }
   ],
   "source": [
    "check_prime(50)"
   ]
  },
  {
   "cell_type": "code",
   "execution_count": 54,
   "id": "a5a67b6a-a446-4b6f-9c94-17c0e58b9a7e",
   "metadata": {},
   "outputs": [],
   "source": [
    "def check_prime(n):\n",
    "    if n<2:\n",
    "        return False\n",
    "    for i in range(2,int(n**(1/2))+1):\n",
    "        print(n,i,n%i)\n",
    "        if n%i==0:\n",
    "            return False\n",
    "    return True"
   ]
  },
  {
   "cell_type": "code",
   "execution_count": 55,
   "id": "6de3460a-8959-49c6-be2b-af4cd281aa61",
   "metadata": {},
   "outputs": [
    {
     "name": "stdout",
     "output_type": "stream",
     "text": [
      "50 2 0\n"
     ]
    },
    {
     "data": {
      "text/plain": [
       "False"
      ]
     },
     "execution_count": 55,
     "metadata": {},
     "output_type": "execute_result"
    }
   ],
   "source": [
    "check_prime(50)"
   ]
  },
  {
   "cell_type": "code",
   "execution_count": 64,
   "id": "5b5c8cdc-59c6-4b9a-b8d5-37eafe329117",
   "metadata": {},
   "outputs": [],
   "source": [
    "def primeInRange(RANGE):\n",
    "    l=[]\n",
    "    for n in range(RANGE):\n",
    "        if check_prime(n):\n",
    "            l.append(n)\n",
    "    return l"
   ]
  },
  {
   "cell_type": "code",
   "execution_count": 65,
   "id": "eb8a12ff-65ee-4e61-a452-c255db778fdf",
   "metadata": {},
   "outputs": [
    {
     "name": "stdout",
     "output_type": "stream",
     "text": [
      "4 2 0\n",
      "5 2 1\n",
      "6 2 0\n",
      "7 2 1\n",
      "8 2 0\n",
      "9 2 1\n",
      "9 3 0\n",
      "10 2 0\n",
      "11 2 1\n",
      "11 3 2\n",
      "12 2 0\n",
      "13 2 1\n",
      "13 3 1\n",
      "14 2 0\n",
      "15 2 1\n",
      "15 3 0\n",
      "16 2 0\n",
      "17 2 1\n",
      "17 3 2\n",
      "17 4 1\n",
      "18 2 0\n",
      "19 2 1\n",
      "19 3 1\n",
      "19 4 3\n",
      "20 2 0\n",
      "21 2 1\n",
      "21 3 0\n",
      "22 2 0\n",
      "23 2 1\n",
      "23 3 2\n",
      "23 4 3\n",
      "24 2 0\n",
      "25 2 1\n",
      "25 3 1\n",
      "25 4 1\n",
      "25 5 0\n",
      "26 2 0\n",
      "27 2 1\n",
      "27 3 0\n",
      "28 2 0\n",
      "29 2 1\n",
      "29 3 2\n",
      "29 4 1\n",
      "29 5 4\n",
      "30 2 0\n",
      "31 2 1\n",
      "31 3 1\n",
      "31 4 3\n",
      "31 5 1\n",
      "32 2 0\n",
      "33 2 1\n",
      "33 3 0\n",
      "34 2 0\n",
      "35 2 1\n",
      "35 3 2\n",
      "35 4 3\n",
      "35 5 0\n",
      "36 2 0\n",
      "37 2 1\n",
      "37 3 1\n",
      "37 4 1\n",
      "37 5 2\n",
      "37 6 1\n",
      "38 2 0\n",
      "39 2 1\n",
      "39 3 0\n",
      "40 2 0\n",
      "41 2 1\n",
      "41 3 2\n",
      "41 4 1\n",
      "41 5 1\n",
      "41 6 5\n",
      "42 2 0\n",
      "43 2 1\n",
      "43 3 1\n",
      "43 4 3\n",
      "43 5 3\n",
      "43 6 1\n",
      "44 2 0\n",
      "45 2 1\n",
      "45 3 0\n",
      "46 2 0\n",
      "47 2 1\n",
      "47 3 2\n",
      "47 4 3\n",
      "47 5 2\n",
      "47 6 5\n",
      "48 2 0\n",
      "49 2 1\n",
      "49 3 1\n",
      "49 4 1\n",
      "49 5 4\n",
      "49 6 1\n",
      "49 7 0\n"
     ]
    },
    {
     "data": {
      "text/plain": [
       "[2, 3, 5, 7, 11, 13, 17, 19, 23, 29, 31, 37, 41, 43, 47]"
      ]
     },
     "execution_count": 65,
     "metadata": {},
     "output_type": "execute_result"
    }
   ],
   "source": [
    " primeInRange(50)"
   ]
  },
  {
   "cell_type": "code",
   "execution_count": 68,
   "id": "6ab1803f-39d2-47ef-b263-6d9601ab6ebb",
   "metadata": {},
   "outputs": [],
   "source": [
    "def primeInRange(start,end):\n",
    "    if start>end:\n",
    "        start,end=end,start\n",
    "    l=[]\n",
    "    for n in range(start,end):\n",
    "        if check_prime(n):\n",
    "            l.append(n)\n",
    "    return l"
   ]
  },
  {
   "cell_type": "code",
   "execution_count": 69,
   "id": "f3de7660-3a0f-4ee9-8c13-bb29c55148a7",
   "metadata": {},
   "outputs": [
    {
     "name": "stdout",
     "output_type": "stream",
     "text": [
      "7 2 1\n",
      "8 2 0\n",
      "9 2 1\n",
      "9 3 0\n",
      "10 2 0\n",
      "11 2 1\n",
      "11 3 2\n",
      "12 2 0\n",
      "13 2 1\n",
      "13 3 1\n",
      "14 2 0\n",
      "15 2 1\n",
      "15 3 0\n",
      "16 2 0\n",
      "17 2 1\n",
      "17 3 2\n",
      "17 4 1\n"
     ]
    },
    {
     "data": {
      "text/plain": [
       "[7, 11, 13, 17]"
      ]
     },
     "execution_count": 69,
     "metadata": {},
     "output_type": "execute_result"
    }
   ],
   "source": [
    "primeInRange(18,7)"
   ]
  },
  {
   "cell_type": "code",
   "execution_count": 72,
   "id": "6a283371-d9ec-4654-a752-14a70dab4b37",
   "metadata": {},
   "outputs": [],
   "source": [
    "#end 0 hai siliye change kar diya start k sath\n",
    "def primeInRange(start,end=0):\n",
    "    if start>end:\n",
    "        start,end=end,start\n",
    "    l=[]\n",
    "    for n in range(start,end):\n",
    "        if check_prime(n):\n",
    "            l.append(n)\n",
    "    return l"
   ]
  },
  {
   "cell_type": "code",
   "execution_count": 73,
   "id": "9160e3b2-263b-4e2f-af98-931bbae92747",
   "metadata": {},
   "outputs": [
    {
     "name": "stdout",
     "output_type": "stream",
     "text": [
      "4 2 0\n",
      "5 2 1\n",
      "6 2 0\n",
      "7 2 1\n",
      "8 2 0\n",
      "9 2 1\n",
      "9 3 0\n",
      "10 2 0\n",
      "11 2 1\n",
      "11 3 2\n",
      "12 2 0\n",
      "13 2 1\n",
      "13 3 1\n",
      "14 2 0\n",
      "15 2 1\n",
      "15 3 0\n",
      "16 2 0\n"
     ]
    },
    {
     "data": {
      "text/plain": [
       "[2, 3, 5, 7, 11, 13]"
      ]
     },
     "execution_count": 73,
     "metadata": {},
     "output_type": "execute_result"
    }
   ],
   "source": [
    "primeInRange(17)"
   ]
  },
  {
   "cell_type": "markdown",
   "id": "b7775a73-8c8c-4951-8765-1abf5725a747",
   "metadata": {},
   "source": [
    "# next day "
   ]
  },
  {
   "cell_type": "code",
   "execution_count": 1,
   "id": "00c0f350-9613-49fb-83f1-1aeb321c0b79",
   "metadata": {},
   "outputs": [
    {
     "data": {
      "text/plain": [
       "map"
      ]
     },
     "execution_count": 1,
     "metadata": {},
     "output_type": "execute_result"
    }
   ],
   "source": [
    "map"
   ]
  },
  {
   "cell_type": "code",
   "execution_count": 2,
   "id": "7b4e36bd-b8e8-42e1-ab3c-9e68f8046a0a",
   "metadata": {},
   "outputs": [],
   "source": [
    "def makeSquare(n):\n",
    "    return n**2"
   ]
  },
  {
   "cell_type": "code",
   "execution_count": 4,
   "id": "a8d78b42-aba5-4b14-a788-71f242494772",
   "metadata": {},
   "outputs": [],
   "source": [
    "a=[1,2,3]\n",
    "b=[\"a\",\"b\",\"c\"]"
   ]
  },
  {
   "cell_type": "code",
   "execution_count": 15,
   "id": "a752243d-920a-49a4-91be-d688c90ccfd9",
   "metadata": {},
   "outputs": [
    {
     "name": "stdout",
     "output_type": "stream",
     "text": [
      "1 a\n",
      "2 b\n",
      "3 c\n"
     ]
    }
   ],
   "source": [
    "#length of both must be equal\n",
    "for i,j in zip(a,b):\n",
    "    print(i,j)"
   ]
  },
  {
   "cell_type": "code",
   "execution_count": 8,
   "id": "156d059c-b10b-49b3-9222-cf47a6d65c2b",
   "metadata": {},
   "outputs": [
    {
     "data": {
      "text/plain": [
       "[1, 2, 3]"
      ]
     },
     "execution_count": 8,
     "metadata": {},
     "output_type": "execute_result"
    }
   ],
   "source": [
    "a"
   ]
  },
  {
   "cell_type": "code",
   "execution_count": 11,
   "id": "ea952f36-68c0-465b-9ebc-f45715baf560",
   "metadata": {},
   "outputs": [],
   "source": [
    "#map=map function bina loop chalaye sare items per code run sakte hai eg.all elements ka square sath me kar deta hai \n",
    "ans=list(map(makeSquare,a))"
   ]
  },
  {
   "cell_type": "code",
   "execution_count": 12,
   "id": "4751ef15-f479-442d-97e5-7a3441a33015",
   "metadata": {},
   "outputs": [
    {
     "data": {
      "text/plain": [
       "[1, 4, 9]"
      ]
     },
     "execution_count": 12,
     "metadata": {},
     "output_type": "execute_result"
    }
   ],
   "source": [
    "ans"
   ]
  },
  {
   "cell_type": "code",
   "execution_count": 13,
   "id": "b38cca7c-ccd0-4889-9c1c-5cfd3f8068c6",
   "metadata": {},
   "outputs": [],
   "source": [
    "for i in a:\n",
    "    ans.append(makeSquare(i))"
   ]
  },
  {
   "cell_type": "code",
   "execution_count": 14,
   "id": "12e45e71-e40b-4669-817a-5f9430e1105e",
   "metadata": {},
   "outputs": [
    {
     "data": {
      "text/plain": [
       "[1, 4, 9, 1, 4, 9]"
      ]
     },
     "execution_count": 14,
     "metadata": {},
     "output_type": "execute_result"
    }
   ],
   "source": [
    "ans"
   ]
  },
  {
   "cell_type": "code",
   "execution_count": 16,
   "id": "c488b754-4073-4aa0-ab02-b020380efdf9",
   "metadata": {},
   "outputs": [
    {
     "name": "stdout",
     "output_type": "stream",
     "text": [
      "1 i\n",
      "2 n\n",
      "3 d\n"
     ]
    }
   ],
   "source": [
    "#taking two itreables in which indexing and slicing can do eg. string,list,tuples,dic.\n",
    "for i,j  in zip([1,2,3],\"ind\"):\n",
    "    print(i,j)"
   ]
  },
  {
   "cell_type": "code",
   "execution_count": 18,
   "id": "f4e1571e-7da9-4218-9c28-3db4420d76b4",
   "metadata": {},
   "outputs": [],
   "source": [
    "def mul(a,b):\n",
    "    return a*b"
   ]
  },
  {
   "cell_type": "code",
   "execution_count": 22,
   "id": "6942d6ac-ac0c-4ca2-aee3-f619d245709b",
   "metadata": {},
   "outputs": [
    {
     "ename": "TypeError",
     "evalue": "can't multiply sequence by non-int of type 'list'",
     "output_type": "error",
     "traceback": [
      "\u001b[1;31m---------------------------------------------------------------------------\u001b[0m",
      "\u001b[1;31mTypeError\u001b[0m                                 Traceback (most recent call last)",
      "Cell \u001b[1;32mIn[22], line 3\u001b[0m\n\u001b[0;32m      1\u001b[0m a\u001b[38;5;241m=\u001b[39m[\u001b[38;5;241m3\u001b[39m,\u001b[38;5;241m4\u001b[39m,\u001b[38;5;241m5\u001b[39m,\u001b[38;5;241m6\u001b[39m,\u001b[38;5;241m7\u001b[39m]\n\u001b[0;32m      2\u001b[0m b\u001b[38;5;241m=\u001b[39m[\u001b[38;5;241m2\u001b[39m,\u001b[38;5;241m3\u001b[39m,\u001b[38;5;241m4\u001b[39m,\u001b[38;5;241m5\u001b[39m,\u001b[38;5;241m6\u001b[39m]\n\u001b[1;32m----> 3\u001b[0m ans\u001b[38;5;241m=\u001b[39m\u001b[38;5;28mlist\u001b[39m[\u001b[38;5;28mmap\u001b[39m(a\u001b[38;5;241m*\u001b[39mb)]\n\u001b[0;32m      4\u001b[0m \u001b[38;5;28;01mpass\u001b[39;00m\n",
      "\u001b[1;31mTypeError\u001b[0m: can't multiply sequence by non-int of type 'list'"
     ]
    }
   ],
   "source": [
    "a=[3,4,5,6,7]\n",
    "b=[2,3,4,5,6]\n",
    "ans=list[map(a*b)]\n"
   ]
  },
  {
   "cell_type": "code",
   "execution_count": 25,
   "id": "de711520-9dc3-4c33-9492-294af905f829",
   "metadata": {},
   "outputs": [
    {
     "data": {
      "text/plain": [
       "['inderpreet', 'kaur']"
      ]
     },
     "execution_count": 25,
     "metadata": {},
     "output_type": "execute_result"
    }
   ],
   "source": [
    "# to convert item string into a list but still items are in string\n",
    "\"inderpreet kaur\".split()"
   ]
  },
  {
   "cell_type": "code",
   "execution_count": 38,
   "id": "db779905-7bfd-42d1-877c-212690e2adec",
   "metadata": {},
   "outputs": [
    {
     "data": {
      "text/plain": [
       "['5', '6', '4', '3', '2']"
      ]
     },
     "execution_count": 38,
     "metadata": {},
     "output_type": "execute_result"
    }
   ],
   "source": [
    "#split coma\n",
    "\"5,6,4,3,2\".split(\",\")"
   ]
  },
  {
   "cell_type": "code",
   "execution_count": 37,
   "id": "f2649745-517e-49a2-b86b-e53dd95a00e5",
   "metadata": {},
   "outputs": [],
   "source": [
    "#split space\n",
    "a=\"5 4 3 2 1\".split()"
   ]
  },
  {
   "cell_type": "code",
   "execution_count": 39,
   "id": "64c1f132-8bd6-4686-acb4-720ba476c2a7",
   "metadata": {},
   "outputs": [
    {
     "data": {
      "text/plain": [
       "['hell', ' nice t', ' meet y', 'u']"
      ]
     },
     "execution_count": 39,
     "metadata": {},
     "output_type": "execute_result"
    }
   ],
   "source": [
    "\"hello nice to meet you\".split('o')"
   ]
  },
  {
   "cell_type": "code",
   "execution_count": 30,
   "id": "01460623-fecb-4818-b2c4-4cb9a793fca1",
   "metadata": {},
   "outputs": [
    {
     "data": {
      "text/plain": [
       "['5', '4', '3', '2', '1']"
      ]
     },
     "execution_count": 30,
     "metadata": {},
     "output_type": "execute_result"
    }
   ],
   "source": [
    "a"
   ]
  },
  {
   "cell_type": "code",
   "execution_count": 33,
   "id": "ca75c9c7-d641-463b-85c8-dadd47c1fc04",
   "metadata": {},
   "outputs": [],
   "source": [
    "#to covert all strings into integer\n",
    "ans=list(map(int,a))"
   ]
  },
  {
   "cell_type": "code",
   "execution_count": 34,
   "id": "c0e0d55a-e86a-444b-aa3f-c4d5a83424d4",
   "metadata": {},
   "outputs": [
    {
     "data": {
      "text/plain": [
       "[5, 4, 3, 2, 1]"
      ]
     },
     "execution_count": 34,
     "metadata": {},
     "output_type": "execute_result"
    }
   ],
   "source": [
    "ans"
   ]
  },
  {
   "cell_type": "code",
   "execution_count": 43,
   "id": "afd866c8-299d-4900-b9e7-77a721cc4fb5",
   "metadata": {},
   "outputs": [],
   "source": [
    "# jabh apke pass bdde code na ho chote chote code run krne ho too yeh use hota hai...but mostly function banana hi hai \n",
    "z=lambda x,y:x*y"
   ]
  },
  {
   "cell_type": "code",
   "execution_count": 42,
   "id": "ca84f37f-5678-437d-91fb-40e7eb70e54e",
   "metadata": {},
   "outputs": [
    {
     "data": {
      "text/plain": [
       "30"
      ]
     },
     "execution_count": 42,
     "metadata": {},
     "output_type": "execute_result"
    }
   ],
   "source": [
    "z(5,6)"
   ]
  },
  {
   "cell_type": "code",
   "execution_count": 44,
   "id": "a4f49679-668f-4c51-b384-f661608ce3db",
   "metadata": {},
   "outputs": [],
   "source": [
    "z=lambda x:x**3"
   ]
  },
  {
   "cell_type": "code",
   "execution_count": 45,
   "id": "8c696493-c9ef-4d56-9df6-3a7a3b1fde8b",
   "metadata": {},
   "outputs": [],
   "source": [
    "a=[5,2,3]"
   ]
  },
  {
   "cell_type": "code",
   "execution_count": 48,
   "id": "bd0fae6b-57e8-4892-98ba-d63a484daa0c",
   "metadata": {},
   "outputs": [
    {
     "data": {
      "text/plain": [
       "[125, 8, 27]"
      ]
     },
     "execution_count": 48,
     "metadata": {},
     "output_type": "execute_result"
    }
   ],
   "source": [
    "list(map(z,a))"
   ]
  },
  {
   "cell_type": "code",
   "execution_count": 49,
   "id": "113d21ab-1370-4b5d-9eb7-09de88fcce96",
   "metadata": {},
   "outputs": [],
   "source": [
    "z=lambda x,y:x*y"
   ]
  },
  {
   "cell_type": "code",
   "execution_count": 50,
   "id": "6d79828a-8aa0-4077-9815-5e96d70f9f45",
   "metadata": {},
   "outputs": [
    {
     "data": {
      "text/plain": [
       "30"
      ]
     },
     "execution_count": 50,
     "metadata": {},
     "output_type": "execute_result"
    }
   ],
   "source": [
    "z(5,6)"
   ]
  },
  {
   "cell_type": "code",
   "execution_count": 51,
   "id": "3c62b99f-2627-4b9a-be0a-c7a18cb9b559",
   "metadata": {},
   "outputs": [],
   "source": [
    "a=[5,6,7,8,9]"
   ]
  },
  {
   "cell_type": "code",
   "execution_count": 52,
   "id": "608c0360-a794-43cf-9b74-250330c4a02d",
   "metadata": {},
   "outputs": [],
   "source": [
    "b=[10,50,60,80,20]"
   ]
  },
  {
   "cell_type": "code",
   "execution_count": 53,
   "id": "6bf4e7cc-98ea-419b-b54e-1025ce296a13",
   "metadata": {},
   "outputs": [
    {
     "data": {
      "text/plain": [
       "[50, 300, 420, 640, 180]"
      ]
     },
     "execution_count": 53,
     "metadata": {},
     "output_type": "execute_result"
    }
   ],
   "source": [
    "list(map(z,a,b))"
   ]
  },
  {
   "cell_type": "code",
   "execution_count": null,
   "id": "9ea515af-8280-4b03-b37e-6e039caac412",
   "metadata": {},
   "outputs": [],
   "source": []
  }
 ],
 "metadata": {
  "kernelspec": {
   "display_name": "Python [conda env:base] *",
   "language": "python",
   "name": "conda-base-py"
  },
  "language_info": {
   "codemirror_mode": {
    "name": "ipython",
    "version": 3
   },
   "file_extension": ".py",
   "mimetype": "text/x-python",
   "name": "python",
   "nbconvert_exporter": "python",
   "pygments_lexer": "ipython3",
   "version": "3.13.5"
  }
 },
 "nbformat": 4,
 "nbformat_minor": 5
}
