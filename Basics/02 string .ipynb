{
 "cells": [
  {
   "cell_type": "code",
   "execution_count": 1,
   "id": "9bdef62d-8d97-4fc6-8cc6-06227477079a",
   "metadata": {},
   "outputs": [
    {
     "data": {
      "text/plain": [
       "'inder'"
      ]
     },
     "execution_count": 1,
     "metadata": {},
     "output_type": "execute_result"
    }
   ],
   "source": [
    "\"inder\"\n"
   ]
  },
  {
   "cell_type": "code",
   "execution_count": 2,
   "id": "520e9c18-e9c7-49f8-b357-eedd2d138720",
   "metadata": {},
   "outputs": [
    {
     "data": {
      "text/plain": [
       "'inder'"
      ]
     },
     "execution_count": 2,
     "metadata": {},
     "output_type": "execute_result"
    }
   ],
   "source": [
    "'inder'"
   ]
  },
  {
   "cell_type": "code",
   "execution_count": 3,
   "id": "6daf00c1-fc74-456e-ab2e-08dd43b6d597",
   "metadata": {},
   "outputs": [
    {
     "data": {
      "text/plain": [
       "'inder'"
      ]
     },
     "execution_count": 3,
     "metadata": {},
     "output_type": "execute_result"
    }
   ],
   "source": [
    "\"\"\"inder\"\"\""
   ]
  },
  {
   "cell_type": "code",
   "execution_count": 4,
   "id": "ae6edc75-a5a0-4193-866e-6413189fb366",
   "metadata": {},
   "outputs": [
    {
     "ename": "SyntaxError",
     "evalue": "unterminated string literal (detected at line 1) (1088974085.py, line 1)",
     "output_type": "error",
     "traceback": [
      "\u001b[1;36m  Cell \u001b[1;32mIn[4], line 1\u001b[1;36m\u001b[0m\n\u001b[1;33m    'that's mine'\u001b[0m\n\u001b[1;37m                ^\u001b[0m\n\u001b[1;31mSyntaxError\u001b[0m\u001b[1;31m:\u001b[0m unterminated string literal (detected at line 1)\n"
     ]
    }
   ],
   "source": [
    "'that's mine'"
   ]
  },
  {
   "cell_type": "code",
   "execution_count": 5,
   "id": "8505cda9-f6b7-4dbb-bdce-2d8ffb602a8c",
   "metadata": {},
   "outputs": [
    {
     "data": {
      "text/plain": [
       "\"that's mine\""
      ]
     },
     "execution_count": 5,
     "metadata": {},
     "output_type": "execute_result"
    }
   ],
   "source": [
    "\"that's mine\""
   ]
  },
  {
   "cell_type": "code",
   "execution_count": 7,
   "id": "0d678564-90ec-49e7-893d-def276c150f9",
   "metadata": {},
   "outputs": [
    {
     "ename": "SyntaxError",
     "evalue": "unterminated string literal (detected at line 1) (1683323690.py, line 1)",
     "output_type": "error",
     "traceback": [
      "\u001b[1;36m  Cell \u001b[1;32mIn[7], line 1\u001b[1;36m\u001b[0m\n\u001b[1;33m    \"hi nice to meet you\u001b[0m\n\u001b[1;37m    ^\u001b[0m\n\u001b[1;31mSyntaxError\u001b[0m\u001b[1;31m:\u001b[0m unterminated string literal (detected at line 1)\n"
     ]
    }
   ],
   "source": [
    "\"hi nice to meet you\n",
    "my name is inder\""
   ]
  },
  {
   "cell_type": "code",
   "execution_count": 9,
   "id": "d4e8a751-b0c1-41cb-a262-eefe4f89a0e8",
   "metadata": {},
   "outputs": [
    {
     "name": "stdout",
     "output_type": "stream",
     "text": [
      "hi nice to meet you\n",
      "my name is inder\n"
     ]
    }
   ],
   "source": [
    "print(\"\"\"hi nice to meet you\n",
    "my name is inder\"\"\")"
   ]
  },
  {
   "cell_type": "code",
   "execution_count": 10,
   "id": "5129a306-328f-48a6-b50b-39a3ba165d75",
   "metadata": {},
   "outputs": [
    {
     "data": {
      "text/plain": [
       "' hi nice to meet you\\nmy name is inder '"
      ]
     },
     "execution_count": 10,
     "metadata": {},
     "output_type": "execute_result"
    }
   ],
   "source": [
    "\"\"\" hi nice to meet you\n",
    "my name is inder \"\"\""
   ]
  },
  {
   "cell_type": "code",
   "execution_count": 11,
   "id": "c8191d11-1ab5-46dd-ba80-1d0cd7de4325",
   "metadata": {},
   "outputs": [
    {
     "data": {
      "text/plain": [
       "str"
      ]
     },
     "execution_count": 11,
     "metadata": {},
     "output_type": "execute_result"
    }
   ],
   "source": [
    "type(\"inder\")"
   ]
  },
  {
   "cell_type": "code",
   "execution_count": 14,
   "id": "83f3ecc7-b9a0-451b-bd6c-b11dd7b86a58",
   "metadata": {},
   "outputs": [
    {
     "data": {
      "text/plain": [
       "'Inder'"
      ]
     },
     "execution_count": 14,
     "metadata": {},
     "output_type": "execute_result"
    }
   ],
   "source": [
    "\"inder\".capitalize()\n",
    "#after dot tap the tab button and select one and then write brackets .capitalize used for first letter capital"
   ]
  },
  {
   "cell_type": "code",
   "execution_count": 15,
   "id": "242bd9c4-2cba-4427-9a75-ace203b65f96",
   "metadata": {},
   "outputs": [
    {
     "data": {
      "text/plain": [
       "'INDER'"
      ]
     },
     "execution_count": 15,
     "metadata": {},
     "output_type": "execute_result"
    }
   ],
   "source": [
    "\"inder\".upper()\n",
    "#for fulll name capital"
   ]
  },
  {
   "cell_type": "code",
   "execution_count": 18,
   "id": "c4bdef33-dd7e-45da-a714-5dbcfa399bc6",
   "metadata": {},
   "outputs": [
    {
     "data": {
      "text/plain": [
       "3"
      ]
     },
     "execution_count": 18,
     "metadata": {},
     "output_type": "execute_result"
    }
   ],
   "source": [
    "\"inderpreetkaur\".count('r')\n",
    "#for count any word in name "
   ]
  },
  {
   "cell_type": "code",
   "execution_count": 27,
   "id": "d2272600-5460-428f-be6a-5c34ff08c6f9",
   "metadata": {},
   "outputs": [],
   "source": [
    "name = \"inderpreetKaur\""
   ]
  },
  {
   "cell_type": "code",
   "execution_count": 28,
   "id": "15e0006c-74ea-426c-b262-79d72043c347",
   "metadata": {},
   "outputs": [
    {
     "data": {
      "text/plain": [
       "'inderpreetKaur'"
      ]
     },
     "execution_count": 28,
     "metadata": {},
     "output_type": "execute_result"
    }
   ],
   "source": [
    "name"
   ]
  },
  {
   "cell_type": "code",
   "execution_count": 29,
   "id": "61a8f0b8-e5d2-43e4-85f4-04994cc594a5",
   "metadata": {},
   "outputs": [
    {
     "data": {
      "text/plain": [
       "0"
      ]
     },
     "execution_count": 29,
     "metadata": {},
     "output_type": "execute_result"
    }
   ],
   "source": [
    "name.find('i')\n",
    "#find the position of any word and count from 0"
   ]
  },
  {
   "cell_type": "code",
   "execution_count": 26,
   "id": "db5f00bd-b42e-410f-8528-fb4df8722066",
   "metadata": {},
   "outputs": [
    {
     "data": {
      "text/plain": [
       "4"
      ]
     },
     "execution_count": 26,
     "metadata": {},
     "output_type": "execute_result"
    }
   ],
   "source": [
    "name.find('r')\n",
    "#for repeat words is tell the position of first letter who came first"
   ]
  },
  {
   "cell_type": "code",
   "execution_count": 31,
   "id": "77c6cca9-cde3-4661-80cf-8d5e7bfced4f",
   "metadata": {},
   "outputs": [
    {
     "data": {
      "text/plain": [
       "-1"
      ]
     },
     "execution_count": 31,
     "metadata": {},
     "output_type": "execute_result"
    }
   ],
   "source": [
    "#if any letter can't find or capital small issue it give the answer in minus \n",
    "name.find('k')"
   ]
  },
  {
   "cell_type": "code",
   "execution_count": 33,
   "id": "b2545823-1a9c-472a-979c-0a311fffea7f",
   "metadata": {},
   "outputs": [
    {
     "data": {
      "text/plain": [
       "14"
      ]
     },
     "execution_count": 33,
     "metadata": {},
     "output_type": "execute_result"
    }
   ],
   "source": [
    "#for count the total words\n",
    "len(name)"
   ]
  },
  {
   "cell_type": "code",
   "execution_count": 34,
   "id": "6531f1f6-714a-452f-a6c5-879272a6a4a0",
   "metadata": {},
   "outputs": [],
   "source": [
    "first_name = \"inder\""
   ]
  },
  {
   "cell_type": "code",
   "execution_count": 35,
   "id": "959538b0-84dd-48a1-b332-fcfbb3e1d8b4",
   "metadata": {},
   "outputs": [],
   "source": [
    "last_name = \"kaur\""
   ]
  },
  {
   "cell_type": "code",
   "execution_count": 38,
   "id": "835f2ae2-94a1-4d06-b562-9acef694fd20",
   "metadata": {},
   "outputs": [
    {
     "data": {
      "text/plain": [
       "'inderkaur'"
      ]
     },
     "execution_count": 38,
     "metadata": {},
     "output_type": "execute_result"
    }
   ],
   "source": [
    "first_name+last_name"
   ]
  },
  {
   "cell_type": "code",
   "execution_count": 42,
   "id": "ff8a9188-b330-4c6e-97a5-0a2704d74877",
   "metadata": {},
   "outputs": [
    {
     "data": {
      "text/plain": [
       "'inder kaur'"
      ]
     },
     "execution_count": 42,
     "metadata": {},
     "output_type": "execute_result"
    }
   ],
   "source": [
    "first_name + \" \" + last_name"
   ]
  },
  {
   "cell_type": "code",
   "execution_count": 43,
   "id": "884fee0d-b6a6-4c63-b4f5-2b554f90e5c2",
   "metadata": {},
   "outputs": [
    {
     "data": {
      "text/plain": [
       "10"
      ]
     },
     "execution_count": 43,
     "metadata": {},
     "output_type": "execute_result"
    }
   ],
   "source": [
    "5+5"
   ]
  },
  {
   "cell_type": "code",
   "execution_count": 44,
   "id": "41bb2472-c79a-4ef7-8c2c-a2b3378c67cd",
   "metadata": {},
   "outputs": [
    {
     "data": {
      "text/plain": [
       "'55'"
      ]
     },
     "execution_count": 44,
     "metadata": {},
     "output_type": "execute_result"
    }
   ],
   "source": [
    "\"5\"+\"5\""
   ]
  },
  {
   "cell_type": "code",
   "execution_count": 48,
   "id": "e68f4bcb-4e58-4821-a883-2a67948eff49",
   "metadata": {},
   "outputs": [
    {
     "name": "stdout",
     "output_type": "stream",
     "text": [
      "55\n",
      "55\n"
     ]
    }
   ],
   "source": [
    "print(\"55\")\n",
    "print(55)"
   ]
  },
  {
   "cell_type": "code",
   "execution_count": 45,
   "id": "169268c5-1198-4cc5-a74c-5707e3e7a335",
   "metadata": {},
   "outputs": [
    {
     "data": {
      "text/plain": [
       "str"
      ]
     },
     "execution_count": 45,
     "metadata": {},
     "output_type": "execute_result"
    }
   ],
   "source": [
    "type('55')"
   ]
  },
  {
   "cell_type": "code",
   "execution_count": 47,
   "id": "01a79564-a6ae-4c23-9848-14945ab15e6b",
   "metadata": {},
   "outputs": [
    {
     "data": {
      "text/plain": [
       "int"
      ]
     },
     "execution_count": 47,
     "metadata": {},
     "output_type": "execute_result"
    }
   ],
   "source": [
    "type(55)"
   ]
  },
  {
   "cell_type": "code",
   "execution_count": 49,
   "id": "051aa8b3-7ee7-43ac-abb3-0070ab48614c",
   "metadata": {},
   "outputs": [
    {
     "ename": "TypeError",
     "evalue": "can only concatenate str (not \"int\") to str",
     "output_type": "error",
     "traceback": [
      "\u001b[1;31m---------------------------------------------------------------------------\u001b[0m",
      "\u001b[1;31mTypeError\u001b[0m                                 Traceback (most recent call last)",
      "Cell \u001b[1;32mIn[49], line 1\u001b[0m\n\u001b[1;32m----> 1\u001b[0m \u001b[38;5;124m\"\u001b[39m\u001b[38;5;124m5\u001b[39m\u001b[38;5;124m\"\u001b[39m \u001b[38;5;241m+\u001b[39m \u001b[38;5;241m5\u001b[39m\n",
      "\u001b[1;31mTypeError\u001b[0m: can only concatenate str (not \"int\") to str"
     ]
    }
   ],
   "source": [
    "\"5\" + 5"
   ]
  },
  {
   "cell_type": "code",
   "execution_count": 50,
   "id": "ec2dded4-c5b8-4832-8daa-518847aff80e",
   "metadata": {},
   "outputs": [
    {
     "ename": "TypeError",
     "evalue": "unsupported operand type(s) for +: 'int' and 'str'",
     "output_type": "error",
     "traceback": [
      "\u001b[1;31m---------------------------------------------------------------------------\u001b[0m",
      "\u001b[1;31mTypeError\u001b[0m                                 Traceback (most recent call last)",
      "Cell \u001b[1;32mIn[50], line 1\u001b[0m\n\u001b[1;32m----> 1\u001b[0m \u001b[38;5;241m5\u001b[39m \u001b[38;5;241m+\u001b[39m \u001b[38;5;124m\"\u001b[39m\u001b[38;5;124m5\u001b[39m\u001b[38;5;124m\"\u001b[39m\n",
      "\u001b[1;31mTypeError\u001b[0m: unsupported operand type(s) for +: 'int' and 'str'"
     ]
    }
   ],
   "source": [
    "5 + \"5\""
   ]
  },
  {
   "cell_type": "code",
   "execution_count": 51,
   "id": "70182620-6775-4919-87f2-35e069be117a",
   "metadata": {},
   "outputs": [],
   "source": [
    "name = \"inder\"\n",
    "salary = \"100000\""
   ]
  },
  {
   "cell_type": "code",
   "execution_count": 52,
   "id": "3130ed22-3fc1-4742-9403-42991a65cba2",
   "metadata": {},
   "outputs": [
    {
     "data": {
      "text/plain": [
       "'hi my name is inder and my salary is 100000'"
      ]
     },
     "execution_count": 52,
     "metadata": {},
     "output_type": "execute_result"
    }
   ],
   "source": [
    "\"hi my name is inder and my salary is 100000\""
   ]
  },
  {
   "cell_type": "code",
   "execution_count": 57,
   "id": "31eee25a-9fe8-401d-9f06-569be3d14907",
   "metadata": {},
   "outputs": [
    {
     "data": {
      "text/plain": [
       "'hi my name is inder100000'"
      ]
     },
     "execution_count": 57,
     "metadata": {},
     "output_type": "execute_result"
    }
   ],
   "source": [
    "\"hi my name is \"+ name + salary"
   ]
  },
  {
   "cell_type": "code",
   "execution_count": 59,
   "id": "d72e690e-38e3-44c2-81f2-8374a6f9c6c6",
   "metadata": {},
   "outputs": [
    {
     "data": {
      "text/plain": [
       "'hi my name is inderand my salary is 100000'"
      ]
     },
     "execution_count": 59,
     "metadata": {},
     "output_type": "execute_result"
    }
   ],
   "source": [
    "\"hi my name is \"+ name + \"and my salary is \"+ salary"
   ]
  },
  {
   "cell_type": "code",
   "execution_count": 61,
   "id": "581cd990-b47a-49de-b619-acfdf4daceda",
   "metadata": {},
   "outputs": [
    {
     "data": {
      "text/plain": [
       "'hi my name is inder and my salary is 100000'"
      ]
     },
     "execution_count": 61,
     "metadata": {},
     "output_type": "execute_result"
    }
   ],
   "source": [
    "\"hi my name is {} and my salary is {}\".format(\"inder\",100000)"
   ]
  },
  {
   "cell_type": "code",
   "execution_count": 64,
   "id": "4f35808c-55b5-4900-a8c2-2b0c6fa4ec37",
   "metadata": {},
   "outputs": [
    {
     "data": {
      "text/plain": [
       "'hi my name is inder jr and my salary is 100000.i am of inder'"
      ]
     },
     "execution_count": 64,
     "metadata": {},
     "output_type": "execute_result"
    }
   ],
   "source": [
    "\"hi my name is {0} jr and my salary is {1}.i am of {0}\".format(\"inder\",100000)"
   ]
  },
  {
   "cell_type": "code",
   "execution_count": 73,
   "id": "d5753c22-b2c5-400a-a1da-e38599ccb699",
   "metadata": {},
   "outputs": [
    {
     "data": {
      "text/plain": [
       "'hi my name is inder jr and my salary is 100000.i am of inder, and i live in punjab'"
      ]
     },
     "execution_count": 73,
     "metadata": {},
     "output_type": "execute_result"
    }
   ],
   "source": [
    "\"hi my name is {0} jr and my salary is {1}.i am of {0}, and i live in {2}\".format(\"inder\", 100000,\"punjab\")"
   ]
  },
  {
   "cell_type": "code",
   "execution_count": 84,
   "id": "868f5f94-8b50-4533-8893-99efadb01be8",
   "metadata": {},
   "outputs": [
    {
     "data": {
      "text/plain": [
       "'hi my name is sukhdeep jr and my salary is 100000.i am of sukhdeep, and i live in punjab'"
      ]
     },
     "execution_count": 84,
     "metadata": {},
     "output_type": "execute_result"
    }
   ],
   "source": [
    "\"hi my name is {name} jr and my salary is {salary}.i am of {name}, and i live in {place}\".format(name=\"inder|\",salary= 100000,place=\"punjab\")"
   ]
  },
  {
   "cell_type": "code",
   "execution_count": null,
   "id": "8bff34f7-5e7a-4ae6-ac85-ed84b65e4dff",
   "metadata": {},
   "outputs": [],
   "source": []
  },
  {
   "cell_type": "code",
   "execution_count": 1,
   "id": "04476db3-d2c3-4958-9d59-b45a60af2e5e",
   "metadata": {},
   "outputs": [],
   "source": [
    "name =\"inder\"\n",
    "age=20\n",
    "salary= 100000\n",
    "place=\"nangal\""
   ]
  },
  {
   "cell_type": "code",
   "execution_count": 72,
   "id": "81bfcbbc-0a45-483e-a11b-f5c0d3fc32e4",
   "metadata": {},
   "outputs": [
    {
     "data": {
      "text/plain": [
       "'hi my name is inder,and my age is 20,and my salary is 100000,and i live in nangal'"
      ]
     },
     "execution_count": 72,
     "metadata": {},
     "output_type": "execute_result"
    }
   ],
   "source": [
    "f'hi my name is {name},and my age is {age},and my salary is {salary},and i live in {place}'"
   ]
  },
  {
   "cell_type": "code",
   "execution_count": 75,
   "id": "a629659c-8a55-4f2e-8480-6c5dd950f95f",
   "metadata": {},
   "outputs": [
    {
     "data": {
      "text/plain": [
       "'inderpreet kaur'"
      ]
     },
     "execution_count": 75,
     "metadata": {},
     "output_type": "execute_result"
    }
   ],
   "source": [
    "\"inderpreet kaur\".lower()"
   ]
  },
  {
   "cell_type": "code",
   "execution_count": 77,
   "id": "cd62bb6f-5989-4139-837d-9ce27ab5721c",
   "metadata": {},
   "outputs": [
    {
     "data": {
      "text/plain": [
       "['inderpreet', 'kaur']"
      ]
     },
     "execution_count": 77,
     "metadata": {},
     "output_type": "execute_result"
    }
   ],
   "source": [
    "#most important \n",
    "\"inderpreet kaur\".split()"
   ]
  },
  {
   "cell_type": "code",
   "execution_count": 78,
   "id": "154e16b5-2b87-45cb-9ad8-a07424034724",
   "metadata": {},
   "outputs": [
    {
     "data": {
      "text/plain": [
       "['dog', 'cat', 'buffalo', 'cow']"
      ]
     },
     "execution_count": 78,
     "metadata": {},
     "output_type": "execute_result"
    }
   ],
   "source": [
    "\"dog cat buffalo cow\".split()"
   ]
  },
  {
   "cell_type": "code",
   "execution_count": 85,
   "id": "0001976e-8421-4d7c-b8fa-4e78307006ff",
   "metadata": {},
   "outputs": [
    {
     "data": {
      "text/plain": [
       "['d', 'g cat buffal', ' c', 'w']"
      ]
     },
     "execution_count": 85,
     "metadata": {},
     "output_type": "execute_result"
    }
   ],
   "source": [
    "\"dog cat buffalo cow\".split(\"o\")"
   ]
  },
  {
   "cell_type": "code",
   "execution_count": 86,
   "id": "2eefd117-d640-4a8b-a5df-db9b0ea597ad",
   "metadata": {},
   "outputs": [
    {
     "data": {
      "text/plain": [
       "['d', 'gcatbuffal', 'c', 'w']"
      ]
     },
     "execution_count": 86,
     "metadata": {},
     "output_type": "execute_result"
    }
   ],
   "source": [
    "\"dogcatbuffalocow\".split(\"o\")"
   ]
  },
  {
   "cell_type": "code",
   "execution_count": 79,
   "id": "e297436f-fa71-49b9-a352-69d92f6eae87",
   "metadata": {},
   "outputs": [
    {
     "data": {
      "text/plain": [
       "'INDER'"
      ]
     },
     "execution_count": 79,
     "metadata": {},
     "output_type": "execute_result"
    }
   ],
   "source": [
    "name.upper()"
   ]
  },
  {
   "cell_type": "code",
   "execution_count": 80,
   "id": "1798da83-9e1c-4d87-a985-ac928e243b92",
   "metadata": {},
   "outputs": [
    {
     "data": {
      "text/plain": [
       "'inder'"
      ]
     },
     "execution_count": 80,
     "metadata": {},
     "output_type": "execute_result"
    }
   ],
   "source": [
    "name"
   ]
  },
  {
   "cell_type": "code",
   "execution_count": 81,
   "id": "f8525b00-aab1-4914-9482-3db956095259",
   "metadata": {},
   "outputs": [],
   "source": [
    "name = name.upper()"
   ]
  },
  {
   "cell_type": "code",
   "execution_count": 82,
   "id": "51e5b826-cc9f-4f8d-8c10-8722320a3d67",
   "metadata": {},
   "outputs": [
    {
     "data": {
      "text/plain": [
       "'INDER'"
      ]
     },
     "execution_count": 82,
     "metadata": {},
     "output_type": "execute_result"
    }
   ],
   "source": [
    "name"
   ]
  },
  {
   "cell_type": "code",
   "execution_count": 87,
   "id": "43245518-e3eb-401f-85e8-270355ec7fa9",
   "metadata": {},
   "outputs": [
    {
     "data": {
      "text/plain": [
       "['hi', 'my', 'name', 'is', 'inder']"
      ]
     },
     "execution_count": 87,
     "metadata": {},
     "output_type": "execute_result"
    }
   ],
   "source": [
    "\"hi my name is inder\".split()"
   ]
  },
  {
   "cell_type": "code",
   "execution_count": 88,
   "id": "b091db0f-f83e-4440-9ddd-95ae5b1da033",
   "metadata": {},
   "outputs": [
    {
     "data": {
      "text/plain": [
       "['2025', '07', '25']"
      ]
     },
     "execution_count": 88,
     "metadata": {},
     "output_type": "execute_result"
    }
   ],
   "source": [
    "\"2025-07-25\".split(\"-\")"
   ]
  },
  {
   "cell_type": "code",
   "execution_count": 91,
   "id": "7c3dee23-46af-4769-8d3d-85cff21e1e37",
   "metadata": {},
   "outputs": [
    {
     "data": {
      "text/plain": [
       "'inderpreetkaur'"
      ]
     },
     "execution_count": 91,
     "metadata": {},
     "output_type": "execute_result"
    }
   ],
   "source": [
    "\"   inderpreetkaur   \".strip()"
   ]
  },
  {
   "cell_type": "code",
   "execution_count": 92,
   "id": "0a539881-f570-4416-8ffc-cec0c67ace7c",
   "metadata": {},
   "outputs": [
    {
     "name": "stdout",
     "output_type": "stream",
     "text": [
      "inder\n",
      "   inder\n"
     ]
    }
   ],
   "source": [
    "print('inder')\n",
    "print('   inder')"
   ]
  },
  {
   "cell_type": "code",
   "execution_count": 95,
   "id": "de9dc539-3a53-43da-9aee-a2b2a61c89d0",
   "metadata": {},
   "outputs": [
    {
     "data": {
      "text/plain": [
       "'inder'"
      ]
     },
     "execution_count": 95,
     "metadata": {},
     "output_type": "execute_result"
    }
   ],
   "source": [
    "'inder'.strip()"
   ]
  },
  {
   "cell_type": "code",
   "execution_count": 96,
   "id": "31923310-649a-4799-a35f-2f4f93f4477e",
   "metadata": {},
   "outputs": [
    {
     "data": {
      "text/plain": [
       "True"
      ]
     },
     "execution_count": 96,
     "metadata": {},
     "output_type": "execute_result"
    }
   ],
   "source": [
    "\"inder\".islower()\n",
    "#boolean yes or no"
   ]
  },
  {
   "cell_type": "code",
   "execution_count": 98,
   "id": "75e607c1-bdfb-4fc5-aafc-c4fad4d4d0e0",
   "metadata": {},
   "outputs": [
    {
     "data": {
      "text/plain": [
       "True"
      ]
     },
     "execution_count": 98,
     "metadata": {},
     "output_type": "execute_result"
    }
   ],
   "source": [
    "\"INDER\".isupper()"
   ]
  },
  {
   "cell_type": "code",
   "execution_count": 100,
   "id": "7fbd1d4b-86f1-4eb6-921d-fb229637404a",
   "metadata": {},
   "outputs": [
    {
     "data": {
      "text/plain": [
       "False"
      ]
     },
     "execution_count": 100,
     "metadata": {},
     "output_type": "execute_result"
    }
   ],
   "source": [
    "\"inder\".isupper()"
   ]
  },
  {
   "cell_type": "code",
   "execution_count": 101,
   "id": "72431d0f-5d22-45b0-bf44-dc8fbe8a9812",
   "metadata": {},
   "outputs": [
    {
     "data": {
      "text/plain": [
       "True"
      ]
     },
     "execution_count": 101,
     "metadata": {},
     "output_type": "execute_result"
    }
   ],
   "source": [
    "\"inder\".isalpha()"
   ]
  },
  {
   "cell_type": "code",
   "execution_count": 103,
   "id": "4729b188-cf5b-4c94-87bb-ea1fa4c2f46e",
   "metadata": {},
   "outputs": [
    {
     "data": {
      "text/plain": [
       "True"
      ]
     },
     "execution_count": 103,
     "metadata": {},
     "output_type": "execute_result"
    }
   ],
   "source": [
    "\"324364758\".isnumeric()"
   ]
  },
  {
   "cell_type": "code",
   "execution_count": 105,
   "id": "52ed5001-1bba-4868-b06d-1c8f30dcb3c5",
   "metadata": {},
   "outputs": [
    {
     "data": {
      "text/plain": [
       "False"
      ]
     },
     "execution_count": 105,
     "metadata": {},
     "output_type": "execute_result"
    }
   ],
   "source": [
    "\"inder\".isnumeric()"
   ]
  },
  {
   "cell_type": "code",
   "execution_count": 106,
   "id": "bed82359-53f6-430d-9694-631d538e9e94",
   "metadata": {},
   "outputs": [
    {
     "data": {
      "text/plain": [
       "True"
      ]
     },
     "execution_count": 106,
     "metadata": {},
     "output_type": "execute_result"
    }
   ],
   "source": [
    "\"inder0649\".isalnum()"
   ]
  },
  {
   "cell_type": "code",
   "execution_count": 108,
   "id": "9d927e7e-d880-402a-ab0b-feeeb34876be",
   "metadata": {},
   "outputs": [
    {
     "data": {
      "text/plain": [
       "False"
      ]
     },
     "execution_count": 108,
     "metadata": {},
     "output_type": "execute_result"
    }
   ],
   "source": [
    "#because it not identify the space\n",
    "\"inder preet\".isalpha()"
   ]
  },
  {
   "cell_type": "code",
   "execution_count": 109,
   "id": "80c58887-b847-48d0-9ddb-c47229e9c84c",
   "metadata": {},
   "outputs": [
    {
     "data": {
      "text/plain": [
       "True"
      ]
     },
     "execution_count": 109,
     "metadata": {},
     "output_type": "execute_result"
    }
   ],
   "source": [
    "\" \".isspace()"
   ]
  },
  {
   "cell_type": "code",
   "execution_count": 113,
   "id": "def73ccd-6bf7-4ff0-b228-0fee6cc657f1",
   "metadata": {},
   "outputs": [
    {
     "name": "stdout",
     "output_type": "stream",
     "text": [
      "Help on built-in function replace:\n",
      "\n",
      "replace(old, new, /, count=-1) method of builtins.str instance\n",
      "    Return a copy with all occurrences of substring old replaced by new.\n",
      "\n",
      "      count\n",
      "        Maximum number of occurrences to replace.\n",
      "        -1 (the default value) means replace all occurrences.\n",
      "\n",
      "    If the optional argument count is given, only the first count occurrences are\n",
      "    replaced.\n",
      "\n"
     ]
    }
   ],
   "source": [
    "#if u don't know about the any function\n",
    "help(\"inder preet\".replace)"
   ]
  },
  {
   "cell_type": "code",
   "execution_count": 115,
   "id": "ca3a2788-fc0c-43da-97ae-f45aef13d464",
   "metadata": {},
   "outputs": [
    {
     "data": {
      "text/plain": [
       "'1nderpreet kaur'"
      ]
     },
     "execution_count": 115,
     "metadata": {},
     "output_type": "execute_result"
    }
   ],
   "source": [
    "#replace a word with another word or number\n",
    "\"inderpreet kaur\".replace(\"i\",\"1\")"
   ]
  },
  {
   "cell_type": "code",
   "execution_count": 1,
   "id": "c843bee0-1a45-46c5-89f5-be5cdeb69cb7",
   "metadata": {},
   "outputs": [
    {
     "data": {
      "text/plain": [
       "'indprpreet kaur'"
      ]
     },
     "execution_count": 1,
     "metadata": {},
     "output_type": "execute_result"
    }
   ],
   "source": [
    "#if there is more letter u can replace it by showing its positions\n",
    "\"inderpreet kaur\".replace(\"e\",\"p\",1)"
   ]
  },
  {
   "cell_type": "markdown",
   "id": "30b7c86a-86ae-4a32-bc6a-c5b6e1948092",
   "metadata": {},
   "source": [
    "# indexing"
   ]
  },
  {
   "cell_type": "code",
   "execution_count": 118,
   "id": "25da3aaf-3767-4dc0-96c8-070a50319798",
   "metadata": {},
   "outputs": [
    {
     "data": {
      "text/plain": [
       "'INDER'"
      ]
     },
     "execution_count": 118,
     "metadata": {},
     "output_type": "execute_result"
    }
   ],
   "source": [
    "name"
   ]
  },
  {
   "cell_type": "code",
   "execution_count": 119,
   "id": "f71c90e4-39a5-4f14-95dc-2724cc9f7746",
   "metadata": {},
   "outputs": [],
   "source": [
    "name=\"inder preet kaur\""
   ]
  },
  {
   "cell_type": "code",
   "execution_count": 120,
   "id": "d09daaf5-2922-47eb-a76c-919747a83f0f",
   "metadata": {},
   "outputs": [
    {
     "data": {
      "text/plain": [
       "'t'"
      ]
     },
     "execution_count": 120,
     "metadata": {},
     "output_type": "execute_result"
    }
   ],
   "source": [
    "name[10]"
   ]
  },
  {
   "cell_type": "code",
   "execution_count": 121,
   "id": "dbdb6f1a-f657-48a7-a37a-798c1a75ce44",
   "metadata": {},
   "outputs": [
    {
     "data": {
      "text/plain": [
       "'e'"
      ]
     },
     "execution_count": 121,
     "metadata": {},
     "output_type": "execute_result"
    }
   ],
   "source": [
    "name[3]"
   ]
  },
  {
   "cell_type": "code",
   "execution_count": 122,
   "id": "d93b983a-b7c4-47d7-8c53-76f9a356bfb9",
   "metadata": {},
   "outputs": [
    {
     "data": {
      "text/plain": [
       "'p'"
      ]
     },
     "execution_count": 122,
     "metadata": {},
     "output_type": "execute_result"
    }
   ],
   "source": [
    "name[6]"
   ]
  },
  {
   "cell_type": "code",
   "execution_count": 124,
   "id": "ba44c6df-ae72-44df-b616-f79d1dce98de",
   "metadata": {},
   "outputs": [
    {
     "data": {
      "text/plain": [
       "16"
      ]
     },
     "execution_count": 124,
     "metadata": {},
     "output_type": "execute_result"
    }
   ],
   "source": [
    "len(name)"
   ]
  },
  {
   "cell_type": "code",
   "execution_count": 128,
   "id": "fdbcb7dd-82de-496a-9ad6-0c127ea41749",
   "metadata": {},
   "outputs": [
    {
     "data": {
      "text/plain": [
       "'r'"
      ]
     },
     "execution_count": 128,
     "metadata": {},
     "output_type": "execute_result"
    }
   ],
   "source": [
    "#from last letters \n",
    "name[-1]"
   ]
  },
  {
   "cell_type": "code",
   "execution_count": 127,
   "id": "437d4661-4302-44e3-8848-d574d7ff3f5b",
   "metadata": {},
   "outputs": [
    {
     "data": {
      "text/plain": [
       "'a'"
      ]
     },
     "execution_count": 127,
     "metadata": {},
     "output_type": "execute_result"
    }
   ],
   "source": [
    "name[-3]"
   ]
  },
  {
   "cell_type": "code",
   "execution_count": 1,
   "id": "e5aae1ac-f25b-44f8-9590-9fbe0099915e",
   "metadata": {},
   "outputs": [
    {
     "data": {
      "text/plain": [
       "'r'"
      ]
     },
     "execution_count": 1,
     "metadata": {},
     "output_type": "execute_result"
    }
   ],
   "source": [
    "\"inderpreet\"[6]"
   ]
  },
  {
   "cell_type": "code",
   "execution_count": 2,
   "id": "22538b3c-6b44-4aab-b336-54d7927ef139",
   "metadata": {},
   "outputs": [
    {
     "data": {
      "text/plain": [
       "5"
      ]
     },
     "execution_count": 2,
     "metadata": {},
     "output_type": "execute_result"
    }
   ],
   "source": [
    "len(\"inder\")"
   ]
  },
  {
   "cell_type": "code",
   "execution_count": 3,
   "id": "91cc0e84-f1e8-48a2-aa9f-24423b965834",
   "metadata": {},
   "outputs": [
    {
     "data": {
      "text/plain": [
       "'e'"
      ]
     },
     "execution_count": 3,
     "metadata": {},
     "output_type": "execute_result"
    }
   ],
   "source": [
    "\"inderpreet\"[-2]"
   ]
  },
  {
   "cell_type": "code",
   "execution_count": 4,
   "id": "a1c8f05b-baba-4ce1-8105-79e59eecc239",
   "metadata": {},
   "outputs": [],
   "source": [
    "name = \"Inderpreet kaur\""
   ]
  },
  {
   "cell_type": "code",
   "execution_count": 5,
   "id": "6acb064a-f349-4b30-9740-20c6c15e347f",
   "metadata": {},
   "outputs": [
    {
     "data": {
      "text/plain": [
       "'Inderpreet kaur'"
      ]
     },
     "execution_count": 5,
     "metadata": {},
     "output_type": "execute_result"
    }
   ],
   "source": [
    "name"
   ]
  },
  {
   "cell_type": "code",
   "execution_count": 6,
   "id": "838b8f44-17b4-433c-b6ff-3f413879b03a",
   "metadata": {},
   "outputs": [
    {
     "data": {
      "text/plain": [
       "' '"
      ]
     },
     "execution_count": 6,
     "metadata": {},
     "output_type": "execute_result"
    }
   ],
   "source": [
    "#space\n",
    "name[10]"
   ]
  },
  {
   "cell_type": "code",
   "execution_count": 7,
   "id": "dc973cc3-ca23-4aab-957f-dc9c732df72e",
   "metadata": {},
   "outputs": [
    {
     "data": {
      "text/plain": [
       "'t'"
      ]
     },
     "execution_count": 7,
     "metadata": {},
     "output_type": "execute_result"
    }
   ],
   "source": [
    "name[9]"
   ]
  },
  {
   "cell_type": "markdown",
   "id": "6693b116-3296-46b6-99de-682d0fc072b5",
   "metadata": {},
   "source": [
    "# index slicing"
   ]
  },
  {
   "cell_type": "code",
   "execution_count": 9,
   "id": "1d2ab85e-2905-4d7a-9316-5ca34cbff7e1",
   "metadata": {},
   "outputs": [
    {
     "data": {
      "text/plain": [
       "'reet kaur'"
      ]
     },
     "execution_count": 9,
     "metadata": {},
     "output_type": "execute_result"
    }
   ],
   "source": [
    "name[6:]"
   ]
  },
  {
   "cell_type": "code",
   "execution_count": 10,
   "id": "1d500073-8464-40b3-9bb3-03c7d1c5eec1",
   "metadata": {},
   "outputs": [
    {
     "data": {
      "text/plain": [
       "'eet kaur'"
      ]
     },
     "execution_count": 10,
     "metadata": {},
     "output_type": "execute_result"
    }
   ],
   "source": [
    "name[7:]"
   ]
  },
  {
   "cell_type": "markdown",
   "id": "ddef4354-bfb4-4178-ad57-7640deda3979",
   "metadata": {},
   "source": []
  },
  {
   "cell_type": "code",
   "execution_count": 12,
   "id": "3927b47e-14b4-4c09-acaa-3e7798c4d6c7",
   "metadata": {},
   "outputs": [
    {
     "data": {
      "text/plain": [
       "'r'"
      ]
     },
     "execution_count": 12,
     "metadata": {},
     "output_type": "execute_result"
    }
   ],
   "source": [
    "name[-1:]"
   ]
  },
  {
   "cell_type": "code",
   "execution_count": 14,
   "id": "4bc9b49b-d417-43fe-a881-ae552c39b90c",
   "metadata": {},
   "outputs": [
    {
     "data": {
      "text/plain": [
       "'Inderpr'"
      ]
     },
     "execution_count": 14,
     "metadata": {},
     "output_type": "execute_result"
    }
   ],
   "source": [
    "#read it as up to but not included\n",
    "name[:7]"
   ]
  },
  {
   "cell_type": "code",
   "execution_count": 15,
   "id": "4454b76f-d08d-40ee-badf-d39a9ef4674a",
   "metadata": {},
   "outputs": [
    {
     "data": {
      "text/plain": [
       "'Inderpreet kau'"
      ]
     },
     "execution_count": 15,
     "metadata": {},
     "output_type": "execute_result"
    }
   ],
   "source": [
    "name[:14]"
   ]
  },
  {
   "cell_type": "code",
   "execution_count": 16,
   "id": "dd9defa0-277a-4d16-8546-2f015afffd5d",
   "metadata": {},
   "outputs": [
    {
     "data": {
      "text/plain": [
       "'Inderpreet kaur'"
      ]
     },
     "execution_count": 16,
     "metadata": {},
     "output_type": "execute_result"
    }
   ],
   "source": [
    "name[:15]"
   ]
  },
  {
   "cell_type": "code",
   "execution_count": 17,
   "id": "7fb12d67-b189-4d87-94ee-8cdcab4f285e",
   "metadata": {},
   "outputs": [
    {
     "data": {
      "text/plain": [
       "'Inderpreet kaur'"
      ]
     },
     "execution_count": 17,
     "metadata": {},
     "output_type": "execute_result"
    }
   ],
   "source": [
    "name[:16]"
   ]
  },
  {
   "cell_type": "code",
   "execution_count": 18,
   "id": "727b2e51-f362-4ccc-bfc7-bef1386bfda2",
   "metadata": {},
   "outputs": [],
   "source": [
    "greet = \"hello inder nice to meet you\""
   ]
  },
  {
   "cell_type": "code",
   "execution_count": 19,
   "id": "87fd66b1-fda4-4390-be3a-e9e2d85c22b9",
   "metadata": {},
   "outputs": [
    {
     "data": {
      "text/plain": [
       "'hello inder nice to meet you'"
      ]
     },
     "execution_count": 19,
     "metadata": {},
     "output_type": "execute_result"
    }
   ],
   "source": [
    "greet"
   ]
  },
  {
   "cell_type": "code",
   "execution_count": 21,
   "id": "1b70dc4a-77e3-42b9-8ebc-85e07cc158e4",
   "metadata": {},
   "outputs": [
    {
     "data": {
      "text/plain": [
       "'nder nice to meet you'"
      ]
     },
     "execution_count": 21,
     "metadata": {},
     "output_type": "execute_result"
    }
   ],
   "source": [
    "greet[7:]"
   ]
  },
  {
   "cell_type": "code",
   "execution_count": 22,
   "id": "3e0902cc-d698-4cab-a3b3-0c104b90b3ea",
   "metadata": {},
   "outputs": [
    {
     "data": {
      "text/plain": [
       "'nice to meet you'"
      ]
     },
     "execution_count": 22,
     "metadata": {},
     "output_type": "execute_result"
    }
   ],
   "source": [
    "greet[12:]"
   ]
  },
  {
   "cell_type": "code",
   "execution_count": 23,
   "id": "5dabfb74-48eb-4187-a9d2-7e4790a27c99",
   "metadata": {},
   "outputs": [
    {
     "data": {
      "text/plain": [
       "'inder '"
      ]
     },
     "execution_count": 23,
     "metadata": {},
     "output_type": "execute_result"
    }
   ],
   "source": [
    "greet[6:12]"
   ]
  },
  {
   "cell_type": "code",
   "execution_count": 26,
   "id": "602a4ad1-c0af-4c11-b5c9-5a1a7447de3a",
   "metadata": {},
   "outputs": [
    {
     "data": {
      "text/plain": [
       "'inder'"
      ]
     },
     "execution_count": 26,
     "metadata": {},
     "output_type": "execute_result"
    }
   ],
   "source": [
    "greet[6:11]"
   ]
  },
  {
   "cell_type": "code",
   "execution_count": 28,
   "id": "9440e9a5-3497-4183-a771-107ab77877e1",
   "metadata": {},
   "outputs": [
    {
     "data": {
      "text/plain": [
       "'0123456789'"
      ]
     },
     "execution_count": 28,
     "metadata": {},
     "output_type": "execute_result"
    }
   ],
   "source": [
    "\"0123456789\""
   ]
  },
  {
   "cell_type": "code",
   "execution_count": 29,
   "id": "c5086278-6934-4dc0-9b17-b7364bb8c42c",
   "metadata": {},
   "outputs": [
    {
     "data": {
      "text/plain": [
       "'456'"
      ]
     },
     "execution_count": 29,
     "metadata": {},
     "output_type": "execute_result"
    }
   ],
   "source": [
    "\"0123456789\"[4:7]"
   ]
  },
  {
   "cell_type": "code",
   "execution_count": 30,
   "id": "9edd730e-494a-458c-993d-acc96734f6ae",
   "metadata": {},
   "outputs": [
    {
     "data": {
      "text/plain": [
       "'345'"
      ]
     },
     "execution_count": 30,
     "metadata": {},
     "output_type": "execute_result"
    }
   ],
   "source": [
    "\"0123456789\"[3:6]"
   ]
  },
  {
   "cell_type": "code",
   "execution_count": 31,
   "id": "840e0a1c-6c5b-4f36-81db-8dbb821a9143",
   "metadata": {},
   "outputs": [],
   "source": [
    "s=\"the fox ran\""
   ]
  },
  {
   "cell_type": "code",
   "execution_count": 32,
   "id": "d6219018-bbde-418d-b455-beaef6a3f4f0",
   "metadata": {},
   "outputs": [
    {
     "data": {
      "text/plain": [
       "'the fox ran'"
      ]
     },
     "execution_count": 32,
     "metadata": {},
     "output_type": "execute_result"
    }
   ],
   "source": [
    "s"
   ]
  },
  {
   "cell_type": "code",
   "execution_count": 33,
   "id": "98908d68-faa9-46b8-ad8d-46efd2b70721",
   "metadata": {},
   "outputs": [
    {
     "data": {
      "text/plain": [
       "'fox'"
      ]
     },
     "execution_count": 33,
     "metadata": {},
     "output_type": "execute_result"
    }
   ],
   "source": [
    "s[4:7]"
   ]
  },
  {
   "cell_type": "code",
   "execution_count": 35,
   "id": "920bc8f4-e2e4-43a6-b97b-34d0188a5ce6",
   "metadata": {},
   "outputs": [],
   "source": [
    "p = \"we are very happy to be there in chandigarh\""
   ]
  },
  {
   "cell_type": "code",
   "execution_count": 36,
   "id": "16c32f6a-bb1c-4fdd-8df3-aa56d89e5aff",
   "metadata": {},
   "outputs": [
    {
     "data": {
      "text/plain": [
       "'we are very happy to be there in chandigarh'"
      ]
     },
     "execution_count": 36,
     "metadata": {},
     "output_type": "execute_result"
    }
   ],
   "source": [
    "p"
   ]
  },
  {
   "cell_type": "code",
   "execution_count": 38,
   "id": "1ec057e0-92d0-4cb4-b99b-9a5ebae05805",
   "metadata": {},
   "outputs": [
    {
     "data": {
      "text/plain": [
       "' very happy'"
      ]
     },
     "execution_count": 38,
     "metadata": {},
     "output_type": "execute_result"
    }
   ],
   "source": [
    "#from starting it start from that number which you write but from back it start from by excluded that u write\n",
    "p[6:17]"
   ]
  },
  {
   "cell_type": "code",
   "execution_count": 39,
   "id": "95ede2b0-3ff6-4435-a03b-e1b682085395",
   "metadata": {},
   "outputs": [
    {
     "data": {
      "text/plain": [
       "' to be there '"
      ]
     },
     "execution_count": 39,
     "metadata": {},
     "output_type": "execute_result"
    }
   ],
   "source": [
    "p[17:30]"
   ]
  },
  {
   "cell_type": "code",
   "execution_count": 40,
   "id": "c5d936a0-8556-416b-8f95-aaf6e3ed98f3",
   "metadata": {},
   "outputs": [],
   "source": [
    "name = \"dhyanender pratap singh\""
   ]
  },
  {
   "cell_type": "markdown",
   "id": "99fcc4ff-716e-48c7-a41a-0b9b8d6aaf45",
   "metadata": {},
   "source": []
  },
  {
   "cell_type": "code",
   "execution_count": 42,
   "id": "4006711c-05ca-468e-8fcb-cf8c1d12d56e",
   "metadata": {},
   "outputs": [
    {
     "data": {
      "text/plain": [
       "'dhyanender pratap singh'"
      ]
     },
     "execution_count": 42,
     "metadata": {},
     "output_type": "execute_result"
    }
   ],
   "source": [
    "name[:]"
   ]
  },
  {
   "cell_type": "code",
   "execution_count": 43,
   "id": "d04d640a-a656-4e02-a962-130a46e35502",
   "metadata": {},
   "outputs": [
    {
     "data": {
      "text/plain": [
       "'dynne rtpsnh'"
      ]
     },
     "execution_count": 43,
     "metadata": {},
     "output_type": "execute_result"
    }
   ],
   "source": [
    "#step size\n",
    "name[::2]"
   ]
  },
  {
   "cell_type": "code",
   "execution_count": 44,
   "id": "4c22d96f-e840-4a7e-9b6b-1a74745908ac",
   "metadata": {},
   "outputs": [
    {
     "data": {
      "text/plain": [
       "'danrrasg'"
      ]
     },
     "execution_count": 44,
     "metadata": {},
     "output_type": "execute_result"
    }
   ],
   "source": [
    "name[::3]"
   ]
  },
  {
   "cell_type": "code",
   "execution_count": 45,
   "id": "1bfc85e0-bbb5-475f-b87c-8bc75797992c",
   "metadata": {},
   "outputs": [
    {
     "data": {
      "text/plain": [
       "'dynne rtpsnh'"
      ]
     },
     "execution_count": 45,
     "metadata": {},
     "output_type": "execute_result"
    }
   ],
   "source": [
    "name[0::2]"
   ]
  },
  {
   "cell_type": "code",
   "execution_count": 47,
   "id": "a8d6bf21-7263-417a-9f53-48bdce2b488b",
   "metadata": {},
   "outputs": [
    {
     "data": {
      "text/plain": [
       "'dynne'"
      ]
     },
     "execution_count": 47,
     "metadata": {},
     "output_type": "execute_result"
    }
   ],
   "source": [
    "name[0:10:2]"
   ]
  },
  {
   "cell_type": "code",
   "execution_count": 48,
   "id": "bfce960d-cf9b-4070-b69f-3f82e3bee550",
   "metadata": {},
   "outputs": [
    {
     "data": {
      "text/plain": [
       "23"
      ]
     },
     "execution_count": 48,
     "metadata": {},
     "output_type": "execute_result"
    }
   ],
   "source": [
    "len(name)"
   ]
  },
  {
   "cell_type": "code",
   "execution_count": 49,
   "id": "b3f1db7e-de4b-4db9-a0d8-c1d6677ef106",
   "metadata": {},
   "outputs": [
    {
     "data": {
      "text/plain": [
       "'ynne rtpsnh'"
      ]
     },
     "execution_count": 49,
     "metadata": {},
     "output_type": "execute_result"
    }
   ],
   "source": [
    "name[2:24:2]"
   ]
  },
  {
   "cell_type": "code",
   "execution_count": 50,
   "id": "0441078c-4e85-4acc-aa22-284163223c2c",
   "metadata": {},
   "outputs": [
    {
     "data": {
      "text/plain": [
       "'dhyanender pratap'"
      ]
     },
     "execution_count": 50,
     "metadata": {},
     "output_type": "execute_result"
    }
   ],
   "source": [
    "name[:-6]"
   ]
  },
  {
   "cell_type": "code",
   "execution_count": 51,
   "id": "c36ab5c8-0f68-4a3d-a203-8f70c2ce90bf",
   "metadata": {},
   "outputs": [
    {
     "data": {
      "text/plain": [
       "'ender pratap'"
      ]
     },
     "execution_count": 51,
     "metadata": {},
     "output_type": "execute_result"
    }
   ],
   "source": [
    "name[5:-6]"
   ]
  },
  {
   "cell_type": "code",
   "execution_count": 52,
   "id": "0fbc5fe5-b5a4-4f13-89c8-6364ff2b5e23",
   "metadata": {},
   "outputs": [
    {
     "data": {
      "text/plain": [
       "'dhyanender pratap sing'"
      ]
     },
     "execution_count": 52,
     "metadata": {},
     "output_type": "execute_result"
    }
   ],
   "source": [
    "name[0:-1:1]"
   ]
  },
  {
   "cell_type": "code",
   "execution_count": 54,
   "id": "673fd4ca-bd26-41a3-9116-ac488557d7ec",
   "metadata": {},
   "outputs": [
    {
     "data": {
      "text/plain": [
       "'dhyanender pratap sing'"
      ]
     },
     "execution_count": 54,
     "metadata": {},
     "output_type": "execute_result"
    }
   ],
   "source": [
    "name[0:-1:1]"
   ]
  },
  {
   "cell_type": "code",
   "execution_count": 56,
   "id": "9c1abe9e-85c4-4335-9d48-4b088af2ef53",
   "metadata": {},
   "outputs": [
    {
     "data": {
      "text/plain": [
       "'pratap'"
      ]
     },
     "execution_count": 56,
     "metadata": {},
     "output_type": "execute_result"
    }
   ],
   "source": [
    "name[5:-6][6:]"
   ]
  },
  {
   "cell_type": "code",
   "execution_count": 58,
   "id": "6eb8db77-88f7-421b-b8f1-32255f2a14ac",
   "metadata": {},
   "outputs": [
    {
     "data": {
      "text/plain": [
       "'p'"
      ]
     },
     "execution_count": 58,
     "metadata": {},
     "output_type": "execute_result"
    }
   ],
   "source": [
    "name[1:-1][15:-5]"
   ]
  },
  {
   "cell_type": "code",
   "execution_count": 62,
   "id": "deaafcba-cade-4d99-9cf3-078b5d9a1635",
   "metadata": {},
   "outputs": [
    {
     "data": {
      "text/plain": [
       "'hgnis patarp rednenayhd'"
      ]
     },
     "execution_count": 62,
     "metadata": {},
     "output_type": "execute_result"
    }
   ],
   "source": [
    "#from last to first\n",
    "name[::-1]"
   ]
  },
  {
   "cell_type": "code",
   "execution_count": 65,
   "id": "c184d5e6-fd30-40cb-802a-32fc80494214",
   "metadata": {},
   "outputs": [
    {
     "data": {
      "text/plain": [
       "'pratap'"
      ]
     },
     "execution_count": 65,
     "metadata": {},
     "output_type": "execute_result"
    }
   ],
   "source": [
    "name[11:17]"
   ]
  },
  {
   "cell_type": "code",
   "execution_count": 66,
   "id": "b3f5ae4a-47c9-485f-99e3-6e205f4b834f",
   "metadata": {},
   "outputs": [
    {
     "data": {
      "text/plain": [
       "'patarp'"
      ]
     },
     "execution_count": 66,
     "metadata": {},
     "output_type": "execute_result"
    }
   ],
   "source": [
    "name[11:17][::-1]"
   ]
  },
  {
   "cell_type": "code",
   "execution_count": 67,
   "id": "4c599726-00ba-4863-8f3b-19eaacf8a20c",
   "metadata": {},
   "outputs": [
    {
     "data": {
      "text/plain": [
       "'dhyanender pratap singh'"
      ]
     },
     "execution_count": 67,
     "metadata": {},
     "output_type": "execute_result"
    }
   ],
   "source": [
    "name"
   ]
  },
  {
   "cell_type": "code",
   "execution_count": 68,
   "id": "072d3086-fd43-477b-bb2b-fb78e0da5595",
   "metadata": {},
   "outputs": [
    {
     "data": {
      "text/plain": [
       "'pr'"
      ]
     },
     "execution_count": 68,
     "metadata": {},
     "output_type": "execute_result"
    }
   ],
   "source": [
    "name[11:-10]"
   ]
  },
  {
   "cell_type": "code",
   "execution_count": 70,
   "id": "13b00f68-00e1-4206-b583-62179fb4beec",
   "metadata": {},
   "outputs": [
    {
     "data": {
      "text/plain": [
       "'pratap singh'"
      ]
     },
     "execution_count": 70,
     "metadata": {},
     "output_type": "execute_result"
    }
   ],
   "source": [
    "name[11:]"
   ]
  },
  {
   "cell_type": "code",
   "execution_count": 72,
   "id": "02e99006-00a4-44b8-adfb-b38c70acd6e4",
   "metadata": {},
   "outputs": [
    {
     "data": {
      "text/plain": [
       "'dhyanender'"
      ]
     },
     "execution_count": 72,
     "metadata": {},
     "output_type": "execute_result"
    }
   ],
   "source": [
    "name[:-13]"
   ]
  },
  {
   "cell_type": "code",
   "execution_count": 73,
   "id": "f7a2f247-b412-4eef-b8ad-4d7a7f07dfc9",
   "metadata": {},
   "outputs": [
    {
     "data": {
      "text/plain": [
       "'pratap singh'"
      ]
     },
     "execution_count": 73,
     "metadata": {},
     "output_type": "execute_result"
    }
   ],
   "source": [
    "name[11:]"
   ]
  },
  {
   "cell_type": "code",
   "execution_count": 74,
   "id": "7e1c1d6a-b8a1-45c2-834c-09981851e008",
   "metadata": {},
   "outputs": [
    {
     "data": {
      "text/plain": [
       "''"
      ]
     },
     "execution_count": 74,
     "metadata": {},
     "output_type": "execute_result"
    }
   ],
   "source": [
    "name[11:-13]"
   ]
  },
  {
   "cell_type": "code",
   "execution_count": 86,
   "id": "99c299d1-ac26-4e4b-add7-bc5f7de49ff8",
   "metadata": {},
   "outputs": [
    {
     "data": {
      "text/plain": [
       "'hgnis patarp'"
      ]
     },
     "execution_count": 86,
     "metadata": {},
     "output_type": "execute_result"
    }
   ],
   "source": [
    "name[::-1][:-11]"
   ]
  },
  {
   "cell_type": "code",
   "execution_count": 93,
   "id": "a5cfc129-7905-476f-8394-d9b0dd161a71",
   "metadata": {},
   "outputs": [
    {
     "data": {
      "text/plain": [
       "' rednenayhd'"
      ]
     },
     "execution_count": 93,
     "metadata": {},
     "output_type": "execute_result"
    }
   ],
   "source": [
    "name[:11][::-1]"
   ]
  },
  {
   "cell_type": "code",
   "execution_count": 94,
   "id": "c548992c-919d-4aa2-a6a2-0a02ab59b1a6",
   "metadata": {},
   "outputs": [
    {
     "data": {
      "text/plain": [
       "' pratap singh'"
      ]
     },
     "execution_count": 94,
     "metadata": {},
     "output_type": "execute_result"
    }
   ],
   "source": [
    "name[10:]"
   ]
  },
  {
   "cell_type": "code",
   "execution_count": 95,
   "id": "6a6dbde6-b773-4003-9e20-18741dca74ea",
   "metadata": {},
   "outputs": [
    {
     "data": {
      "text/plain": [
       "' rednenayhd pratap singh'"
      ]
     },
     "execution_count": 95,
     "metadata": {},
     "output_type": "execute_result"
    }
   ],
   "source": [
    "name[:11][::-1]+name[10:]"
   ]
  },
  {
   "cell_type": "code",
   "execution_count": 8,
   "id": "1eb38d6c-608c-475d-9b26-e0ab575eb5aa",
   "metadata": {},
   "outputs": [],
   "source": [
    "name= \"dhyanender pratap singh\""
   ]
  },
  {
   "cell_type": "code",
   "execution_count": 9,
   "id": "d13533a8-3677-4d2d-acae-a0a26730d4bf",
   "metadata": {},
   "outputs": [
    {
     "data": {
      "text/plain": [
       "'dhyanender pratap singh'"
      ]
     },
     "execution_count": 9,
     "metadata": {},
     "output_type": "execute_result"
    }
   ],
   "source": [
    "name"
   ]
  },
  {
   "cell_type": "code",
   "execution_count": 11,
   "id": "39d175f1-203c-4c51-8c5d-ce52a55e319c",
   "metadata": {},
   "outputs": [],
   "source": [
    "a=len(name)//2"
   ]
  },
  {
   "cell_type": "code",
   "execution_count": 97,
   "id": "bc3d27aa-a636-4e55-9763-b736400e1b40",
   "metadata": {},
   "outputs": [
    {
     "data": {
      "text/plain": [
       "11"
      ]
     },
     "execution_count": 97,
     "metadata": {},
     "output_type": "execute_result"
    }
   ],
   "source": [
    "a"
   ]
  },
  {
   "cell_type": "code",
   "execution_count": 98,
   "id": "9aa42512-0753-4ee6-9c7e-8ab0cd759cdb",
   "metadata": {},
   "outputs": [
    {
     "data": {
      "text/plain": [
       "' rednenayhdpratap singh'"
      ]
     },
     "execution_count": 98,
     "metadata": {},
     "output_type": "execute_result"
    }
   ],
   "source": [
    "name[:a][::-1]+name[a:]"
   ]
  },
  {
   "cell_type": "code",
   "execution_count": null,
   "id": "2316ca52-1386-4d31-9c50-b71a4fd4b3f6",
   "metadata": {},
   "outputs": [],
   "source": []
  }
 ],
 "metadata": {
  "kernelspec": {
   "display_name": "Python [conda env:base] *",
   "language": "python",
   "name": "conda-base-py"
  },
  "language_info": {
   "codemirror_mode": {
    "name": "ipython",
    "version": 3
   },
   "file_extension": ".py",
   "mimetype": "text/x-python",
   "name": "python",
   "nbconvert_exporter": "python",
   "pygments_lexer": "ipython3",
   "version": "3.13.5"
  }
 },
 "nbformat": 4,
 "nbformat_minor": 5
}
