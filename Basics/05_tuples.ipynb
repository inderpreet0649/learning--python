{
 "cells": [
  {
   "cell_type": "markdown",
   "id": "260554f2-38d0-4d17-bcce-198447e70f28",
   "metadata": {},
   "source": [
    "# tuples"
   ]
  },
  {
   "cell_type": "code",
   "execution_count": 1,
   "id": "be4f7659-909e-4431-a644-059911ac73de",
   "metadata": {},
   "outputs": [],
   "source": [
    "#for multiple items we use tuples"
   ]
  },
  {
   "cell_type": "code",
   "execution_count": 4,
   "id": "0eb942c1-4796-4193-8c39-b27d9fff744e",
   "metadata": {},
   "outputs": [],
   "source": [
    "dogs = (\"tom\",\"kutta\",\"doggy\")\n"
   ]
  },
  {
   "cell_type": "code",
   "execution_count": 3,
   "id": "a7b6f395-6428-49c0-aa77-b9070ec66c34",
   "metadata": {},
   "outputs": [
    {
     "data": {
      "text/plain": [
       "('tom', 'kutta', 'doggy')"
      ]
     },
     "execution_count": 3,
     "metadata": {},
     "output_type": "execute_result"
    }
   ],
   "source": [
    "dogs"
   ]
  },
  {
   "cell_type": "code",
   "execution_count": 4,
   "id": "b08f8222-5cc0-459d-8a7f-1a607b0d0ac8",
   "metadata": {},
   "outputs": [
    {
     "data": {
      "text/plain": [
       "(2, 4, 6)"
      ]
     },
     "execution_count": 4,
     "metadata": {},
     "output_type": "execute_result"
    }
   ],
   "source": [
    "#comma subtutle value also in tuples\n",
    "2,4,6"
   ]
  },
  {
   "cell_type": "code",
   "execution_count": 5,
   "id": "8acfcd2d-31a4-4285-a527-605a6051746a",
   "metadata": {},
   "outputs": [
    {
     "data": {
      "text/plain": [
       "(('tom', 'kutta', 'doggy'), 2, 7)"
      ]
     },
     "execution_count": 5,
     "metadata": {},
     "output_type": "execute_result"
    }
   ],
   "source": [
    "dogs,2,7"
   ]
  },
  {
   "cell_type": "code",
   "execution_count": 6,
   "id": "206529df-9a77-48b8-bc24-965de3e81379",
   "metadata": {},
   "outputs": [
    {
     "data": {
      "text/plain": [
       "(5, 6)"
      ]
     },
     "execution_count": 6,
     "metadata": {},
     "output_type": "execute_result"
    }
   ],
   "source": [
    "5,6"
   ]
  },
  {
   "cell_type": "markdown",
   "id": "b6612e31-227b-4b02-9d29-d7d7e9dbea32",
   "metadata": {},
   "source": [
    "# tuples unpacking"
   ]
  },
  {
   "cell_type": "code",
   "execution_count": 1,
   "id": "0d56bbb9-2f2a-4afb-af0b-a5d1c5e1510a",
   "metadata": {},
   "outputs": [],
   "source": [
    "#tuple unpacking(jitne variables utni values)\n",
    "a,b=5,6"
   ]
  },
  {
   "cell_type": "code",
   "execution_count": 8,
   "id": "3da98796-773d-4deb-a9af-87fb37980dee",
   "metadata": {},
   "outputs": [
    {
     "data": {
      "text/plain": [
       "5"
      ]
     },
     "execution_count": 8,
     "metadata": {},
     "output_type": "execute_result"
    }
   ],
   "source": [
    "a"
   ]
  },
  {
   "cell_type": "code",
   "execution_count": 9,
   "id": "adeb200f-aeca-4a79-a09d-d42b57763b59",
   "metadata": {},
   "outputs": [
    {
     "data": {
      "text/plain": [
       "6"
      ]
     },
     "execution_count": 9,
     "metadata": {},
     "output_type": "execute_result"
    }
   ],
   "source": [
    "b"
   ]
  },
  {
   "cell_type": "code",
   "execution_count": 12,
   "id": "89ea93a1-00ca-472d-b4e9-576dbf70d9d5",
   "metadata": {},
   "outputs": [],
   "source": [
    "a,b=b,a"
   ]
  },
  {
   "cell_type": "code",
   "execution_count": 13,
   "id": "14cca40a-ab91-44e6-89a0-639aa9af5baa",
   "metadata": {},
   "outputs": [
    {
     "data": {
      "text/plain": [
       "6"
      ]
     },
     "execution_count": 13,
     "metadata": {},
     "output_type": "execute_result"
    }
   ],
   "source": [
    "a"
   ]
  },
  {
   "cell_type": "code",
   "execution_count": 14,
   "id": "58613c78-b988-4f1a-a141-c0098dde59b9",
   "metadata": {},
   "outputs": [
    {
     "data": {
      "text/plain": [
       "5"
      ]
     },
     "execution_count": 14,
     "metadata": {},
     "output_type": "execute_result"
    }
   ],
   "source": [
    "b"
   ]
  },
  {
   "cell_type": "markdown",
   "id": "5bb8a5e6-477a-402a-9976-7633fb3dea10",
   "metadata": {},
   "source": [
    "# tuples understanding\n",
    "\n",
    "tuples ,strings and list are ordered squence"
   ]
  },
  {
   "cell_type": "code",
   "execution_count": 20,
   "id": "7ef754c0-1149-4cb3-a389-7e6fda81d794",
   "metadata": {},
   "outputs": [
    {
     "data": {
      "text/plain": [
       "('tom', 'kutta', 'doggy')"
      ]
     },
     "execution_count": 20,
     "metadata": {},
     "output_type": "execute_result"
    }
   ],
   "source": [
    "#indexing slicing in tuples\n",
    "dogs"
   ]
  },
  {
   "cell_type": "code",
   "execution_count": 17,
   "id": "1ad09084-de85-4f20-a2f2-12ad3f5f7db1",
   "metadata": {},
   "outputs": [
    {
     "data": {
      "text/plain": [
       "'tom'"
      ]
     },
     "execution_count": 17,
     "metadata": {},
     "output_type": "execute_result"
    }
   ],
   "source": [
    "dogs[0]"
   ]
  },
  {
   "cell_type": "code",
   "execution_count": 18,
   "id": "12f56d6b-710c-439b-9239-b235c069fd26",
   "metadata": {},
   "outputs": [
    {
     "data": {
      "text/plain": [
       "'kutta'"
      ]
     },
     "execution_count": 18,
     "metadata": {},
     "output_type": "execute_result"
    }
   ],
   "source": [
    "dogs[1]"
   ]
  },
  {
   "cell_type": "code",
   "execution_count": 19,
   "id": "28885d6d-d837-47b1-a1f9-8463fcbb6151",
   "metadata": {},
   "outputs": [
    {
     "data": {
      "text/plain": [
       "'doggy'"
      ]
     },
     "execution_count": 19,
     "metadata": {},
     "output_type": "execute_result"
    }
   ],
   "source": [
    "dogs[2]"
   ]
  },
  {
   "cell_type": "code",
   "execution_count": 22,
   "id": "32427298-f75d-4b84-a777-3d5cf32b4571",
   "metadata": {},
   "outputs": [
    {
     "data": {
      "text/plain": [
       "('doggy',)"
      ]
     },
     "execution_count": 22,
     "metadata": {},
     "output_type": "execute_result"
    }
   ],
   "source": [
    "dogs[-1:]"
   ]
  },
  {
   "cell_type": "code",
   "execution_count": 25,
   "id": "b622f78f-a8e9-4f1a-9eab-a70d33b4af87",
   "metadata": {},
   "outputs": [
    {
     "data": {
      "text/plain": [
       "'k'"
      ]
     },
     "execution_count": 25,
     "metadata": {},
     "output_type": "execute_result"
    }
   ],
   "source": [
    "#indexing to indexing\n",
    "dogs[1][0]"
   ]
  },
  {
   "cell_type": "code",
   "execution_count": 26,
   "id": "80107fc9-df07-4180-973c-0aec70fa953b",
   "metadata": {},
   "outputs": [
    {
     "data": {
      "text/plain": [
       "'kutta'"
      ]
     },
     "execution_count": 26,
     "metadata": {},
     "output_type": "execute_result"
    }
   ],
   "source": [
    "#for nothing\n",
    "dogs[1][:]"
   ]
  },
  {
   "cell_type": "code",
   "execution_count": 1,
   "id": "870bb7f6-66ec-43e9-85ef-a6fd983316aa",
   "metadata": {},
   "outputs": [
    {
     "ename": "NameError",
     "evalue": "name 'dogs' is not defined",
     "output_type": "error",
     "traceback": [
      "\u001b[1;31m---------------------------------------------------------------------------\u001b[0m",
      "\u001b[1;31mNameError\u001b[0m                                 Traceback (most recent call last)",
      "Cell \u001b[1;32mIn[1], line 2\u001b[0m\n\u001b[0;32m      1\u001b[0m \u001b[38;5;66;03m#tuple and strings element neverchanged\u001b[39;00m\n\u001b[1;32m----> 2\u001b[0m dogs[\u001b[38;5;241m0\u001b[39m]\u001b[38;5;241m=\u001b[39m\u001b[38;5;124m\"\u001b[39m\u001b[38;5;124mbilli\u001b[39m\u001b[38;5;124m\"\u001b[39m\n",
      "\u001b[1;31mNameError\u001b[0m: name 'dogs' is not defined"
     ]
    }
   ],
   "source": [
    "#tuple and strings element neverchanged\n",
    "dogs[0]=\"billi\""
   ]
  },
  {
   "cell_type": "code",
   "execution_count": 29,
   "id": "ab96a05e-a50e-4ae4-8bce-08c9f6d94de5",
   "metadata": {},
   "outputs": [
    {
     "data": {
      "text/plain": [
       "'i'"
      ]
     },
     "execution_count": 29,
     "metadata": {},
     "output_type": "execute_result"
    }
   ],
   "source": [
    "\"inder\"[0]"
   ]
  },
  {
   "cell_type": "code",
   "execution_count": 30,
   "id": "bd83a2a6-62c5-4660-bf77-c69b3fbb3dac",
   "metadata": {},
   "outputs": [
    {
     "ename": "NameError",
     "evalue": "name 'inder' is not defined",
     "output_type": "error",
     "traceback": [
      "\u001b[1;31m---------------------------------------------------------------------------\u001b[0m",
      "\u001b[1;31mNameError\u001b[0m                                 Traceback (most recent call last)",
      "Cell \u001b[1;32mIn[30], line 1\u001b[0m\n\u001b[1;32m----> 1\u001b[0m inder[\u001b[38;5;241m0\u001b[39m]\u001b[38;5;241m=\u001b[39m\u001b[38;5;124m\"\u001b[39m\u001b[38;5;124ma\u001b[39m\u001b[38;5;124m\"\u001b[39m\n",
      "\u001b[1;31mNameError\u001b[0m: name 'inder' is not defined"
     ]
    }
   ],
   "source": [
    "inder[0]=\"a\""
   ]
  },
  {
   "cell_type": "code",
   "execution_count": 31,
   "id": "c25111c3-d05c-4029-863e-377a55cccb10",
   "metadata": {},
   "outputs": [],
   "source": [
    "#for list it works\n",
    "li=[0,1,2]"
   ]
  },
  {
   "cell_type": "code",
   "execution_count": 32,
   "id": "769b3614-1046-4fdd-8a6f-1e2314dc81ef",
   "metadata": {},
   "outputs": [
    {
     "data": {
      "text/plain": [
       "0"
      ]
     },
     "execution_count": 32,
     "metadata": {},
     "output_type": "execute_result"
    }
   ],
   "source": [
    "li[0]"
   ]
  },
  {
   "cell_type": "code",
   "execution_count": 33,
   "id": "595e48ac-5ebf-4956-a5f7-fd1b3ef247e8",
   "metadata": {},
   "outputs": [],
   "source": [
    "li[0]=\"[100]\""
   ]
  },
  {
   "cell_type": "code",
   "execution_count": 34,
   "id": "10cc6e10-5bfb-4d6a-8a5e-a95b6e46a555",
   "metadata": {},
   "outputs": [
    {
     "data": {
      "text/plain": [
       "['[100]', 1, 2]"
      ]
     },
     "execution_count": 34,
     "metadata": {},
     "output_type": "execute_result"
    }
   ],
   "source": [
    "li"
   ]
  },
  {
   "cell_type": "markdown",
   "id": "d134f28c-c351-4e36-9ded-7ad49d56cdc8",
   "metadata": {},
   "source": [
    "# tuple method(only 2 method)"
   ]
  },
  {
   "cell_type": "code",
   "execution_count": 35,
   "id": "1467f1b7-8b5a-4725-961d-76b75d568e2d",
   "metadata": {},
   "outputs": [
    {
     "data": {
      "text/plain": [
       "1"
      ]
     },
     "execution_count": 35,
     "metadata": {},
     "output_type": "execute_result"
    }
   ],
   "source": [
    "dogs.count(\"tom\")"
   ]
  },
  {
   "cell_type": "code",
   "execution_count": 56,
   "id": "1cf7c637-e9b9-462f-92cd-1f9d37cf4327",
   "metadata": {},
   "outputs": [],
   "source": [
    "tu =(1,1,2,2,3,4,4,5,5,5,5,5,5,5,5,6,6,7,7,7,)"
   ]
  },
  {
   "cell_type": "code",
   "execution_count": 46,
   "id": "df2ea56f-b146-46df-9b84-4da719b63c21",
   "metadata": {},
   "outputs": [
    {
     "data": {
      "text/plain": [
       "2"
      ]
     },
     "execution_count": 46,
     "metadata": {},
     "output_type": "execute_result"
    }
   ],
   "source": [
    "tu.count(6)"
   ]
  },
  {
   "cell_type": "code",
   "execution_count": 47,
   "id": "51fdbc00-4ec9-47fe-ac34-f421e4f96a97",
   "metadata": {},
   "outputs": [
    {
     "data": {
      "text/plain": [
       "5"
      ]
     },
     "execution_count": 47,
     "metadata": {},
     "output_type": "execute_result"
    }
   ],
   "source": [
    "tu.index(4)"
   ]
  },
  {
   "cell_type": "markdown",
   "id": "a83c8669-1f94-4b21-a56f-ce97eb83eb10",
   "metadata": {},
   "source": [
    "# indexing slicing"
   ]
  },
  {
   "cell_type": "code",
   "execution_count": 57,
   "id": "c6bb2726-f974-4689-94f9-7bfacba659c7",
   "metadata": {},
   "outputs": [
    {
     "data": {
      "text/plain": [
       "(3, 4, 4, 5)"
      ]
     },
     "execution_count": 57,
     "metadata": {},
     "output_type": "execute_result"
    }
   ],
   "source": [
    "#for change in tuples we make a new tuple\n",
    "tu[4:8]"
   ]
  },
  {
   "cell_type": "code",
   "execution_count": 58,
   "id": "bd0e5bf3-0f11-4e31-a101-b4fb638f5069",
   "metadata": {},
   "outputs": [
    {
     "data": {
      "text/plain": [
       "(1, 1, 2, 2, 3, 4, 4, 5, 5, 5, 5, 5, 5, 5, 5, 6, 6, 7, 7, 7)"
      ]
     },
     "execution_count": 58,
     "metadata": {},
     "output_type": "execute_result"
    }
   ],
   "source": [
    "tu"
   ]
  },
  {
   "cell_type": "code",
   "execution_count": 59,
   "id": "075428fc-1b10-49c9-a86f-686b9e45ab33",
   "metadata": {},
   "outputs": [],
   "source": [
    "tu=tu[4:8]"
   ]
  },
  {
   "cell_type": "code",
   "execution_count": 60,
   "id": "4f1fbf71-f7b5-45d8-a1d9-1362bbf7527b",
   "metadata": {},
   "outputs": [
    {
     "data": {
      "text/plain": [
       "(3, 4, 4, 5)"
      ]
     },
     "execution_count": 60,
     "metadata": {},
     "output_type": "execute_result"
    }
   ],
   "source": [
    "tu"
   ]
  },
  {
   "cell_type": "code",
   "execution_count": 61,
   "id": "c23332aa-147f-4ea2-b1ad-c3b75436d352",
   "metadata": {},
   "outputs": [],
   "source": [
    "dice = (1,2,3,4,5,6)"
   ]
  },
  {
   "cell_type": "code",
   "execution_count": 62,
   "id": "fc436ce5-9887-44e9-93f2-372f9bf1d261",
   "metadata": {},
   "outputs": [
    {
     "data": {
      "text/plain": [
       "'kutta'"
      ]
     },
     "execution_count": 62,
     "metadata": {},
     "output_type": "execute_result"
    }
   ],
   "source": [
    "#u get single item in indexing\n",
    "dogs[1]"
   ]
  },
  {
   "cell_type": "code",
   "execution_count": 5,
   "id": "908fc50a-f90b-40dc-8fb1-c12b3f41f4c2",
   "metadata": {},
   "outputs": [
    {
     "data": {
      "text/plain": [
       "'tom'"
      ]
     },
     "execution_count": 5,
     "metadata": {},
     "output_type": "execute_result"
    }
   ],
   "source": [
    "#u get multiple item and change in indexing slicing\n",
    "dogs[0][0:]"
   ]
  },
  {
   "cell_type": "code",
   "execution_count": 67,
   "id": "07c8d9ac-1792-487b-9427-aa5e4b52314b",
   "metadata": {},
   "outputs": [
    {
     "data": {
      "text/plain": [
       "('kutta',)"
      ]
     },
     "execution_count": 67,
     "metadata": {},
     "output_type": "execute_result"
    }
   ],
   "source": [
    "#brackets shows it is a tuple function in slicing\n",
    "dogs[1:2]"
   ]
  },
  {
   "cell_type": "code",
   "execution_count": 68,
   "id": "b15cf4a6-ac12-4f71-afcb-e1b725f91046",
   "metadata": {},
   "outputs": [
    {
     "data": {
      "text/plain": [
       "'kutta'"
      ]
     },
     "execution_count": 68,
     "metadata": {},
     "output_type": "execute_result"
    }
   ],
   "source": [
    "#indexing only\n",
    "dogs[1]"
   ]
  },
  {
   "cell_type": "markdown",
   "id": "d9165d27-87d1-4314-8169-6efa54171602",
   "metadata": {},
   "source": [
    "# practice"
   ]
  },
  {
   "cell_type": "code",
   "execution_count": 1,
   "id": "018f98ad-e8e4-4b47-8c66-cf4e182e0348",
   "metadata": {},
   "outputs": [],
   "source": [
    "#level 1\n",
    "t=(1,2,3,4,5)"
   ]
  },
  {
   "cell_type": "code",
   "execution_count": 2,
   "id": "7a5efb20-7a72-4a7b-81dd-0d5280cb35d1",
   "metadata": {},
   "outputs": [
    {
     "data": {
      "text/plain": [
       "(1, 2, 3, 4, 5)"
      ]
     },
     "execution_count": 2,
     "metadata": {},
     "output_type": "execute_result"
    }
   ],
   "source": [
    "t"
   ]
  },
  {
   "cell_type": "code",
   "execution_count": 3,
   "id": "8a40485f-5e27-49a5-8533-b8362a2479a1",
   "metadata": {},
   "outputs": [
    {
     "data": {
      "text/plain": [
       "tuple"
      ]
     },
     "execution_count": 3,
     "metadata": {},
     "output_type": "execute_result"
    }
   ],
   "source": [
    "type(t)"
   ]
  },
  {
   "cell_type": "code",
   "execution_count": 4,
   "id": "2c57573b-3f35-4c2d-9f8f-c147dd7e4ac0",
   "metadata": {},
   "outputs": [],
   "source": [
    "t=(10,)"
   ]
  },
  {
   "cell_type": "code",
   "execution_count": 18,
   "id": "b86157b3-30a4-498d-afcc-1461f410e820",
   "metadata": {},
   "outputs": [],
   "source": [
    "tuple=tuple([1,2,3])"
   ]
  },
  {
   "cell_type": "code",
   "execution_count": 19,
   "id": "ecaefd24-4f3a-4ce4-8520-6af9f5810722",
   "metadata": {},
   "outputs": [
    {
     "data": {
      "text/plain": [
       "tuple"
      ]
     },
     "execution_count": 19,
     "metadata": {},
     "output_type": "execute_result"
    }
   ],
   "source": [
    "type(tuple)"
   ]
  },
  {
   "cell_type": "code",
   "execution_count": 10,
   "id": "cef3c881-cf9a-475f-8ed3-2d58aa6631c8",
   "metadata": {},
   "outputs": [],
   "source": [
    "s=1,3,4,7"
   ]
  },
  {
   "cell_type": "code",
   "execution_count": 12,
   "id": "a60ae7b3-26f3-466b-8bc8-e8b296403ea8",
   "metadata": {},
   "outputs": [
    {
     "name": "stdout",
     "output_type": "stream",
     "text": [
      "True\n"
     ]
    }
   ],
   "source": [
    "print(4 in s)"
   ]
  },
  {
   "cell_type": "code",
   "execution_count": 14,
   "id": "a93d21ad-2268-44df-87af-34a30baaa52e",
   "metadata": {},
   "outputs": [
    {
     "name": "stdout",
     "output_type": "stream",
     "text": [
      "1 3\n"
     ]
    }
   ],
   "source": [
    "t=(1,2,3)\n",
    "print(t[0],t[-1])"
   ]
  },
  {
   "cell_type": "code",
   "execution_count": 20,
   "id": "2be58047-566e-4d90-a079-71262972c0c8",
   "metadata": {},
   "outputs": [],
   "source": [
    "#level2\n",
    "t=(10,20,30,40,50)"
   ]
  },
  {
   "cell_type": "code",
   "execution_count": 22,
   "id": "bb82b341-3a9f-4836-a3be-f73a90456fd1",
   "metadata": {},
   "outputs": [
    {
     "data": {
      "text/plain": [
       "(10, 20, 30)"
      ]
     },
     "execution_count": 22,
     "metadata": {},
     "output_type": "execute_result"
    }
   ],
   "source": [
    "t[0:3]"
   ]
  },
  {
   "cell_type": "code",
   "execution_count": 23,
   "id": "93d4a0ae-3ac3-499d-87e9-cbb65b13d6d4",
   "metadata": {},
   "outputs": [
    {
     "data": {
      "text/plain": [
       "(50, 40, 30, 20, 10)"
      ]
     },
     "execution_count": 23,
     "metadata": {},
     "output_type": "execute_result"
    }
   ],
   "source": [
    "t[::-1]"
   ]
  },
  {
   "cell_type": "code",
   "execution_count": 24,
   "id": "84dc24b0-20d9-4bd7-8ea0-63639003235c",
   "metadata": {},
   "outputs": [],
   "source": [
    "tuple=(10,(20,30),40)"
   ]
  },
  {
   "cell_type": "code",
   "execution_count": 25,
   "id": "b1dcd801-1c92-4964-9920-51b43d3ba551",
   "metadata": {},
   "outputs": [
    {
     "data": {
      "text/plain": [
       "(20, 30)"
      ]
     },
     "execution_count": 25,
     "metadata": {},
     "output_type": "execute_result"
    }
   ],
   "source": [
    "tuple[1]"
   ]
  },
  {
   "cell_type": "code",
   "execution_count": 26,
   "id": "c8a4c456-1040-49c2-af69-b59bea62119d",
   "metadata": {},
   "outputs": [
    {
     "data": {
      "text/plain": [
       "30"
      ]
     },
     "execution_count": 26,
     "metadata": {},
     "output_type": "execute_result"
    }
   ],
   "source": [
    "tuple[1][1]"
   ]
  },
  {
   "cell_type": "code",
   "execution_count": 27,
   "id": "304bacab-e18f-4db7-b9bb-b42e7cbb08d0",
   "metadata": {},
   "outputs": [
    {
     "name": "stdout",
     "output_type": "stream",
     "text": [
      "(2, 3)\n"
     ]
    }
   ],
   "source": [
    "t=(1,2,3,4)\n",
    "print(t[1:3])"
   ]
  },
  {
   "cell_type": "code",
   "execution_count": 28,
   "id": "0662239c-08b3-4916-a5a2-e891a11b5bc8",
   "metadata": {},
   "outputs": [],
   "source": [
    "#level3\n",
    "t1=(1,2)\n",
    "t2=(3,4)"
   ]
  },
  {
   "cell_type": "code",
   "execution_count": 29,
   "id": "09556376-3184-4aba-aaba-242222665dee",
   "metadata": {},
   "outputs": [
    {
     "data": {
      "text/plain": [
       "(1, 2, 3, 4)"
      ]
     },
     "execution_count": 29,
     "metadata": {},
     "output_type": "execute_result"
    }
   ],
   "source": [
    "t1+t2"
   ]
  },
  {
   "cell_type": "code",
   "execution_count": 30,
   "id": "d50bff58-6715-4bd1-9705-db5bd0f887f4",
   "metadata": {},
   "outputs": [
    {
     "data": {
      "text/plain": [
       "(1, 2, 1, 2, 1, 2)"
      ]
     },
     "execution_count": 30,
     "metadata": {},
     "output_type": "execute_result"
    }
   ],
   "source": [
    "t1*3"
   ]
  },
  {
   "cell_type": "code",
   "execution_count": 31,
   "id": "59257cf5-0a0f-4c75-9777-f5136fa6b4a9",
   "metadata": {},
   "outputs": [],
   "source": [
    "t3=(1,2,2,3,2)"
   ]
  },
  {
   "cell_type": "code",
   "execution_count": 32,
   "id": "3df530d7-56dc-4721-bd54-86cbbe7e8898",
   "metadata": {},
   "outputs": [
    {
     "data": {
      "text/plain": [
       "3"
      ]
     },
     "execution_count": 32,
     "metadata": {},
     "output_type": "execute_result"
    }
   ],
   "source": [
    "t3.count(2)"
   ]
  },
  {
   "cell_type": "code",
   "execution_count": 33,
   "id": "7c5953bf-1f93-4ace-8c42-d4a2ee151a88",
   "metadata": {},
   "outputs": [],
   "source": [
    "t4=(1,2,3,4)"
   ]
  },
  {
   "cell_type": "code",
   "execution_count": 34,
   "id": "9ad227ce-3ba9-40e9-936a-edbae44ca233",
   "metadata": {},
   "outputs": [
    {
     "data": {
      "text/plain": [
       "2"
      ]
     },
     "execution_count": 34,
     "metadata": {},
     "output_type": "execute_result"
    }
   ],
   "source": [
    "t4.index(3)"
   ]
  },
  {
   "cell_type": "code",
   "execution_count": 35,
   "id": "247b0c7c-ad76-4cf9-ac17-850a0c974f10",
   "metadata": {},
   "outputs": [
    {
     "name": "stdout",
     "output_type": "stream",
     "text": [
      "(1, [99, 3])\n"
     ]
    }
   ],
   "source": [
    "t=(1,[2,3])\n",
    "t[1][0]=99\n",
    "print(t)"
   ]
  },
  {
   "cell_type": "code",
   "execution_count": 40,
   "id": "0727e938-1ca7-44d9-b729-05c0abeaca34",
   "metadata": {},
   "outputs": [],
   "source": [
    "#level4\n",
    "a,b,c=(10,20,30)"
   ]
  },
  {
   "cell_type": "code",
   "execution_count": 41,
   "id": "40600cd2-1c82-47b4-b9ae-7fdb26e20fc9",
   "metadata": {},
   "outputs": [
    {
     "data": {
      "text/plain": [
       "(10, 20, 30)"
      ]
     },
     "execution_count": 41,
     "metadata": {},
     "output_type": "execute_result"
    }
   ],
   "source": [
    "t1"
   ]
  },
  {
   "cell_type": "code",
   "execution_count": 42,
   "id": "2d5d14bc-ea78-4d4c-85ec-c74937a9af0f",
   "metadata": {},
   "outputs": [
    {
     "data": {
      "text/plain": [
       "10"
      ]
     },
     "execution_count": 42,
     "metadata": {},
     "output_type": "execute_result"
    }
   ],
   "source": [
    "a"
   ]
  },
  {
   "cell_type": "code",
   "execution_count": 43,
   "id": "2b805ca4-b887-49e4-b25d-68c8bf5ef3bf",
   "metadata": {},
   "outputs": [
    {
     "data": {
      "text/plain": [
       "30"
      ]
     },
     "execution_count": 43,
     "metadata": {},
     "output_type": "execute_result"
    }
   ],
   "source": [
    "c"
   ]
  },
  {
   "cell_type": "code",
   "execution_count": 44,
   "id": "8a753f27-2f93-4a43-bd0e-7cdc13d33740",
   "metadata": {},
   "outputs": [],
   "source": [
    "a,b,c=c,b,a"
   ]
  },
  {
   "cell_type": "code",
   "execution_count": 45,
   "id": "66280244-c64c-46d8-a28e-d581991b495c",
   "metadata": {},
   "outputs": [
    {
     "data": {
      "text/plain": [
       "30"
      ]
     },
     "execution_count": 45,
     "metadata": {},
     "output_type": "execute_result"
    }
   ],
   "source": [
    "a"
   ]
  },
  {
   "cell_type": "code",
   "execution_count": 46,
   "id": "06c44f1c-7797-4f09-9aae-0eb522928801",
   "metadata": {},
   "outputs": [
    {
     "data": {
      "text/plain": [
       "20"
      ]
     },
     "execution_count": 46,
     "metadata": {},
     "output_type": "execute_result"
    }
   ],
   "source": [
    "b"
   ]
  },
  {
   "cell_type": "code",
   "execution_count": 47,
   "id": "1a8192e3-4125-457b-98c2-c40ff527f45b",
   "metadata": {},
   "outputs": [
    {
     "data": {
      "text/plain": [
       "10"
      ]
     },
     "execution_count": 47,
     "metadata": {},
     "output_type": "execute_result"
    }
   ],
   "source": [
    "c"
   ]
  },
  {
   "cell_type": "code",
   "execution_count": 48,
   "id": "b665284e-b3bd-4cc8-b67d-2190982d8e94",
   "metadata": {},
   "outputs": [],
   "source": [
    "t1=(1,2,3,4,5)"
   ]
  },
  {
   "cell_type": "code",
   "execution_count": 9,
   "id": "ffc21918-e07e-4604-99c3-a4d77edf66a4",
   "metadata": {},
   "outputs": [],
   "source": [
    "a,*b,c=1,[2,3,4],5"
   ]
  },
  {
   "cell_type": "code",
   "execution_count": 10,
   "id": "ea9ff993-c448-4c0c-a491-3718d12149a5",
   "metadata": {},
   "outputs": [
    {
     "data": {
      "text/plain": [
       "(1, [2, 3, 4], 5)"
      ]
     },
     "execution_count": 10,
     "metadata": {},
     "output_type": "execute_result"
    }
   ],
   "source": [
    "a,*b,c"
   ]
  },
  {
   "cell_type": "code",
   "execution_count": 52,
   "id": "ef61a3db-709f-4bcc-9f04-481b11835381",
   "metadata": {},
   "outputs": [],
   "source": [
    "x=5\n",
    "y=10"
   ]
  },
  {
   "cell_type": "code",
   "execution_count": 53,
   "id": "8cfc8704-948e-4d60-9d0c-f610ab76078e",
   "metadata": {},
   "outputs": [],
   "source": [
    "x,y=y,x"
   ]
  },
  {
   "cell_type": "code",
   "execution_count": 55,
   "id": "9765d7cb-6238-4680-8faf-699703ecc08f",
   "metadata": {},
   "outputs": [
    {
     "data": {
      "text/plain": [
       "10"
      ]
     },
     "execution_count": 55,
     "metadata": {},
     "output_type": "execute_result"
    }
   ],
   "source": [
    "x\n"
   ]
  },
  {
   "cell_type": "code",
   "execution_count": 56,
   "id": "af5b142e-afe2-4ed9-b828-a692574917cc",
   "metadata": {},
   "outputs": [
    {
     "data": {
      "text/plain": [
       "5"
      ]
     },
     "execution_count": 56,
     "metadata": {},
     "output_type": "execute_result"
    }
   ],
   "source": [
    "y"
   ]
  },
  {
   "cell_type": "code",
   "execution_count": 61,
   "id": "314fe8e1-dbbe-431a-bd11-eca37feee1a0",
   "metadata": {},
   "outputs": [],
   "source": [
    "location={(10,20):\"park\",(30,40):\"mall\"}"
   ]
  },
  {
   "cell_type": "code",
   "execution_count": 59,
   "id": "c305116b-923c-4cf7-bcfb-9c8b96e3fb60",
   "metadata": {},
   "outputs": [
    {
     "data": {
      "text/plain": [
       "dict_keys([(10, 20), (30, 40)])"
      ]
     },
     "execution_count": 59,
     "metadata": {},
     "output_type": "execute_result"
    }
   ],
   "source": [
    "location.keys()"
   ]
  },
  {
   "cell_type": "code",
   "execution_count": 64,
   "id": "a2d86147-4d33-44f1-b569-4f4826c75110",
   "metadata": {},
   "outputs": [
    {
     "name": "stdout",
     "output_type": "stream",
     "text": [
      "park\n"
     ]
    }
   ],
   "source": [
    "print(location[(10,20)])"
   ]
  },
  {
   "cell_type": "code",
   "execution_count": 66,
   "id": "7eedad3f-f1bb-4f26-b105-9df2405660e2",
   "metadata": {},
   "outputs": [
    {
     "name": "stdout",
     "output_type": "stream",
     "text": [
      "(1, 2, 3, 4)\n"
     ]
    }
   ],
   "source": [
    "t=(1,2,3)\n",
    "t=t+(4,)\n",
    "print(t)"
   ]
  },
  {
   "cell_type": "code",
   "execution_count": 71,
   "id": "617e2708-f2c9-4965-93a0-6a38209ff55d",
   "metadata": {},
   "outputs": [
    {
     "ename": "TypeError",
     "evalue": "'tuple' object is not callable",
     "output_type": "error",
     "traceback": [
      "\u001b[1;31m---------------------------------------------------------------------------\u001b[0m",
      "\u001b[1;31mTypeError\u001b[0m                                 Traceback (most recent call last)",
      "Cell \u001b[1;32mIn[71], line 4\u001b[0m\n\u001b[0;32m      1\u001b[0m \u001b[38;5;66;03m#level5\u001b[39;00m\n\u001b[0;32m      2\u001b[0m \u001b[38;5;66;03m#for remove duplicates\u001b[39;00m\n\u001b[0;32m      3\u001b[0m \u001b[38;5;28mtuple\u001b[39m\u001b[38;5;241m=\u001b[39m(\u001b[38;5;241m1\u001b[39m,\u001b[38;5;241m2\u001b[39m,\u001b[38;5;241m2\u001b[39m,\u001b[38;5;241m3\u001b[39m,\u001b[38;5;241m4\u001b[39m,\u001b[38;5;241m4\u001b[39m)\n\u001b[1;32m----> 4\u001b[0m unique_tuple\u001b[38;5;241m=\u001b[39m\u001b[38;5;28mtuple\u001b[39m(\u001b[38;5;28mset\u001b[39m(\u001b[38;5;28mtuple\u001b[39m))\n\u001b[0;32m      5\u001b[0m \u001b[38;5;28mprint\u001b[39m(unique_tuple)\n",
      "\u001b[1;31mTypeError\u001b[0m: 'tuple' object is not callable"
     ]
    }
   ],
   "source": [
    "#level5\n",
    "#for remove duplicates\n",
    "tuple=(1,2,2,3,4,4)\n",
    "unique_tuple=tuple(set(tuple))\n",
    "print(unique_tuple)"
   ]
  },
  {
   "cell_type": "code",
   "execution_count": null,
   "id": "492bd313-e24b-47ed-a2a2-79fd3443766c",
   "metadata": {},
   "outputs": [],
   "source": []
  }
 ],
 "metadata": {
  "kernelspec": {
   "display_name": "Python [conda env:base] *",
   "language": "python",
   "name": "conda-base-py"
  },
  "language_info": {
   "codemirror_mode": {
    "name": "ipython",
    "version": 3
   },
   "file_extension": ".py",
   "mimetype": "text/x-python",
   "name": "python",
   "nbconvert_exporter": "python",
   "pygments_lexer": "ipython3",
   "version": "3.13.5"
  }
 },
 "nbformat": 4,
 "nbformat_minor": 5
}
