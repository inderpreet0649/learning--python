{
 "cells": [
  {
   "cell_type": "markdown",
   "id": "f4aa53a9-4a4d-465d-8199-f0bdba308185",
   "metadata": {},
   "source": [
    "# Recursion"
   ]
  },
  {
   "cell_type": "markdown",
   "id": "ade7fe03-86a0-48f5-b703-c2929d5c559b",
   "metadata": {},
   "source": [
    "#### when we call a function in itself.its called a recursion\n",
    "..MAJOR POINTS\n",
    "1. we call a function in itself\n",
    "2. we assume a second call will give a correct output\n",
    "3. it must have a terminating condition"
   ]
  },
  {
   "cell_type": "code",
   "execution_count": 1,
   "id": "25e6b730-3ae2-4f75-9f22-5822562a5aad",
   "metadata": {},
   "outputs": [],
   "source": [
    "# if we don't give any terminated condition..then (recursion depth reached) error occured or the laptop clashed \n",
    "def factorial(n):\n",
    "    print(n,n-1)\n",
    "    if n== 0:\n",
    "        return 1\n",
    "    return n*factorial(n-1)\n",
    "    "
   ]
  },
  {
   "cell_type": "code",
   "execution_count": 2,
   "id": "2b8e39dc-89eb-48cd-96c7-af20cc2ac9a5",
   "metadata": {},
   "outputs": [
    {
     "name": "stdout",
     "output_type": "stream",
     "text": [
      "5 4\n",
      "4 3\n",
      "3 2\n",
      "2 1\n",
      "1 0\n",
      "0 -1\n"
     ]
    },
    {
     "data": {
      "text/plain": [
       "120"
      ]
     },
     "execution_count": 2,
     "metadata": {},
     "output_type": "execute_result"
    }
   ],
   "source": [
    "factorial(5)"
   ]
  },
  {
   "cell_type": "code",
   "execution_count": 3,
   "id": "a63f7b43-7ee3-4547-8532-25673eeaf752",
   "metadata": {},
   "outputs": [],
   "source": [
    "def factorial(n):\n",
    "   \n",
    "    if n== 0:\n",
    "        return 1\n",
    "    print(n,n-1)\n",
    "    return n*factorial(n-1)\n",
    "    "
   ]
  },
  {
   "cell_type": "code",
   "execution_count": 4,
   "id": "d4bcaa15-6195-42bb-9779-30e8064881b7",
   "metadata": {},
   "outputs": [
    {
     "name": "stdout",
     "output_type": "stream",
     "text": [
      "5 4\n",
      "4 3\n",
      "3 2\n",
      "2 1\n",
      "1 0\n"
     ]
    },
    {
     "data": {
      "text/plain": [
       "120"
      ]
     },
     "execution_count": 4,
     "metadata": {},
     "output_type": "execute_result"
    }
   ],
   "source": [
    "factorial(5)"
   ]
  },
  {
   "cell_type": "code",
   "execution_count": 5,
   "id": "751aa221-394f-40c4-8db1-b929b99ec303",
   "metadata": {},
   "outputs": [],
   "source": [
    "def factorial(n):\n",
    "    print(n,n-1)\n",
    "    if n== 0 or n==1:\n",
    "        return 1\n",
    "    return n*factorial(n-1)\n",
    "    "
   ]
  },
  {
   "cell_type": "code",
   "execution_count": 6,
   "id": "6b8038a8-7be8-415e-a778-d743fddd4668",
   "metadata": {},
   "outputs": [
    {
     "name": "stdout",
     "output_type": "stream",
     "text": [
      "5 4\n",
      "4 3\n",
      "3 2\n",
      "2 1\n",
      "1 0\n"
     ]
    },
    {
     "data": {
      "text/plain": [
       "120"
      ]
     },
     "execution_count": 6,
     "metadata": {},
     "output_type": "execute_result"
    }
   ],
   "source": [
    "factorial(5)"
   ]
  },
  {
   "cell_type": "code",
   "execution_count": 9,
   "id": "9c366a43-0301-4587-a941-24b43f4fb9ff",
   "metadata": {},
   "outputs": [],
   "source": [
    "def factorial(n):\n",
    "    \n",
    "    if n== 0:\n",
    "        return 1\n",
    "    abc = n*factorial(n-1)\n",
    "    print(abc)\n",
    "    return abc"
   ]
  },
  {
   "cell_type": "code",
   "execution_count": 10,
   "id": "4f4ddb5e-62a5-48f8-aff8-877a5b1bbdf4",
   "metadata": {},
   "outputs": [
    {
     "name": "stdout",
     "output_type": "stream",
     "text": [
      "1\n",
      "2\n",
      "6\n",
      "24\n",
      "120\n"
     ]
    },
    {
     "data": {
      "text/plain": [
       "120"
      ]
     },
     "execution_count": 10,
     "metadata": {},
     "output_type": "execute_result"
    }
   ],
   "source": [
    "factorial(5)"
   ]
  },
  {
   "cell_type": "code",
   "execution_count": 21,
   "id": "aa812ae1-b9e6-4fbe-813f-72c0f370dcbf",
   "metadata": {},
   "outputs": [],
   "source": [
    "L=[4,5,7,9,4,3,1,6]\n",
    "def addList(L):\n",
    "    print(L)\n",
    "    if len(L)==0:\n",
    "        return 0\n",
    "    return L[0]+addList(L[1:])"
   ]
  },
  {
   "cell_type": "code",
   "execution_count": 22,
   "id": "aa09e383-8c3c-45d9-b32d-b654a3680633",
   "metadata": {},
   "outputs": [
    {
     "name": "stdout",
     "output_type": "stream",
     "text": [
      "[4, 5, 7, 9, 4, 3, 1, 6]\n",
      "[5, 7, 9, 4, 3, 1, 6]\n",
      "[7, 9, 4, 3, 1, 6]\n",
      "[9, 4, 3, 1, 6]\n",
      "[4, 3, 1, 6]\n",
      "[3, 1, 6]\n",
      "[1, 6]\n",
      "[6]\n",
      "[]\n"
     ]
    },
    {
     "data": {
      "text/plain": [
       "39"
      ]
     },
     "execution_count": 22,
     "metadata": {},
     "output_type": "execute_result"
    }
   ],
   "source": [
    "addList(L)"
   ]
  },
  {
   "cell_type": "code",
   "execution_count": 17,
   "id": "dccbdb71-2330-45a3-97de-2ca1ad648f88",
   "metadata": {},
   "outputs": [],
   "source": [
    "L=[4,5,7,9,4,3,1,6]\n",
    "def addList(L):\n",
    "    #print(L)\n",
    "    if len(L)==0:\n",
    "        return 0 \n",
    "    return L[0]+addList(L[1:])"
   ]
  },
  {
   "cell_type": "code",
   "execution_count": 18,
   "id": "8872f8fd-2440-454a-9130-27b16ea6c3ab",
   "metadata": {},
   "outputs": [
    {
     "data": {
      "text/plain": [
       "39"
      ]
     },
     "execution_count": 18,
     "metadata": {},
     "output_type": "execute_result"
    }
   ],
   "source": [
    "addList(L)"
   ]
  },
  {
   "cell_type": "code",
   "execution_count": 24,
   "id": "2fceec62-ea17-4c6d-b635-fbbf84b356c0",
   "metadata": {},
   "outputs": [
    {
     "data": {
      "text/plain": [
       "True"
      ]
     },
     "execution_count": 24,
     "metadata": {},
     "output_type": "execute_result"
    }
   ],
   "source": [
    "type(5) is int"
   ]
  },
  {
   "cell_type": "code",
   "execution_count": 30,
   "id": "bfb87d58-71fd-43f3-844e-6803d7f1e92e",
   "metadata": {},
   "outputs": [],
   "source": [
    "L=[4,5,7,9,4,3,1,6]\n",
    "def addList(L):\n",
    "    print(L)\n",
    "    if type(L) is int:\n",
    "        return L\n",
    "    elif len(L)==0:\n",
    "        return 0 \n",
    "    abc= addList(L[0]) + addList(L[1:])\n",
    "    #print(L,abc)\n",
    "    return abc"
   ]
  },
  {
   "cell_type": "code",
   "execution_count": 31,
   "id": "0b70231a-69bf-4cd5-8ff1-4189e9070d40",
   "metadata": {},
   "outputs": [
    {
     "name": "stdout",
     "output_type": "stream",
     "text": [
      "[1, 2, [9, 6, 4, 2], 7, 5, 6, 3]\n",
      "1\n",
      "[2, [9, 6, 4, 2], 7, 5, 6, 3]\n",
      "2\n",
      "[[9, 6, 4, 2], 7, 5, 6, 3]\n",
      "[9, 6, 4, 2]\n",
      "9\n",
      "[6, 4, 2]\n",
      "6\n",
      "[4, 2]\n",
      "4\n",
      "[2]\n",
      "2\n",
      "[]\n",
      "[7, 5, 6, 3]\n",
      "7\n",
      "[5, 6, 3]\n",
      "5\n",
      "[6, 3]\n",
      "6\n",
      "[3]\n",
      "3\n",
      "[]\n"
     ]
    },
    {
     "data": {
      "text/plain": [
       "45"
      ]
     },
     "execution_count": 31,
     "metadata": {},
     "output_type": "execute_result"
    }
   ],
   "source": [
    "addList([1,2,[9,6,4,2],7,5,6,3]) "
   ]
  },
  {
   "cell_type": "code",
   "execution_count": null,
   "id": "7887925f-f003-4a3f-a325-c5c91baa0d4e",
   "metadata": {},
   "outputs": [],
   "source": []
  }
 ],
 "metadata": {
  "kernelspec": {
   "display_name": "Python [conda env:base] *",
   "language": "python",
   "name": "conda-base-py"
  },
  "language_info": {
   "codemirror_mode": {
    "name": "ipython",
    "version": 3
   },
   "file_extension": ".py",
   "mimetype": "text/x-python",
   "name": "python",
   "nbconvert_exporter": "python",
   "pygments_lexer": "ipython3",
   "version": "3.13.5"
  }
 },
 "nbformat": 4,
 "nbformat_minor": 5
}
