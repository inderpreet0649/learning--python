{
 "cells": [
  {
   "cell_type": "code",
   "execution_count": null,
   "id": "c4cf5326-9fd5-4978-9b61-5da8df5a0772",
   "metadata": {},
   "outputs": [],
   "source": [
    "using a u can add new upper row and using d u can remove it"
   ]
  },
  {
   "cell_type": "markdown",
   "id": "27c44bc7-9c9b-48e6-bb10-fc01e0eb8210",
   "metadata": {},
   "source": [
    "#working with numbers"
   ]
  },
  {
   "cell_type": "markdown",
   "id": "2f0c1bc0-6c9c-4ca6-9064-f045b431fd0d",
   "metadata": {},
   "source": [
    "8/3"
   ]
  },
  {
   "cell_type": "code",
   "execution_count": 2,
   "id": "8f86018b-9635-4668-9723-4b4f65026a42",
   "metadata": {},
   "outputs": [
    {
     "data": {
      "text/plain": [
       "int"
      ]
     },
     "execution_count": 2,
     "metadata": {},
     "output_type": "execute_result"
    }
   ],
   "source": [
    "type(5)"
   ]
  },
  {
   "cell_type": "code",
   "execution_count": 4,
   "id": "9fba23bb-c7e4-4365-87a2-5751593686ad",
   "metadata": {},
   "outputs": [
    {
     "data": {
      "text/plain": [
       "float"
      ]
     },
     "execution_count": 4,
     "metadata": {},
     "output_type": "execute_result"
    }
   ],
   "source": [
    "type(8/3)"
   ]
  },
  {
   "cell_type": "code",
   "execution_count": 5,
   "id": "28ecc999-5100-4781-aa8c-d94369471d76",
   "metadata": {},
   "outputs": [
    {
     "data": {
      "text/plain": [
       "3.0"
      ]
     },
     "execution_count": 5,
     "metadata": {},
     "output_type": "execute_result"
    }
   ],
   "source": [
    "27**(1/3)"
   ]
  },
  {
   "cell_type": "code",
   "execution_count": 7,
   "id": "a8e549db-2c93-444c-9ac8-e407e2368957",
   "metadata": {},
   "outputs": [
    {
     "data": {
      "text/plain": [
       "3.142857142857143"
      ]
     },
     "execution_count": 7,
     "metadata": {},
     "output_type": "execute_result"
    }
   ],
   "source": [
    "22/7"
   ]
  },
  {
   "cell_type": "code",
   "execution_count": 8,
   "id": "d696b028-ca5b-41aa-9b6c-073de312c374",
   "metadata": {},
   "outputs": [
    {
     "data": {
      "text/plain": [
       "3"
      ]
     },
     "execution_count": 8,
     "metadata": {},
     "output_type": "execute_result"
    }
   ],
   "source": [
    "22//7"
   ]
  },
  {
   "cell_type": "code",
   "execution_count": 9,
   "id": "d077260d-573f-4de7-9ac8-3131294656c7",
   "metadata": {},
   "outputs": [
    {
     "data": {
      "text/plain": [
       "1"
      ]
     },
     "execution_count": 9,
     "metadata": {},
     "output_type": "execute_result"
    }
   ],
   "source": [
    "22%7"
   ]
  },
  {
   "cell_type": "markdown",
   "id": "78a12cdf-1783-4837-9ddc-ed7f5809a7c8",
   "metadata": {},
   "source": [
    "#working with variables"
   ]
  },
  {
   "cell_type": "code",
   "execution_count": 11,
   "id": "ed8cfd22-44de-493e-ac3b-2c7ec29861eb",
   "metadata": {},
   "outputs": [],
   "source": [
    "a=5"
   ]
  },
  {
   "cell_type": "code",
   "execution_count": 12,
   "id": "be868c3b-256b-4e8f-a860-3a25553a541e",
   "metadata": {},
   "outputs": [
    {
     "data": {
      "text/plain": [
       "5"
      ]
     },
     "execution_count": 12,
     "metadata": {},
     "output_type": "execute_result"
    }
   ],
   "source": [
    "a"
   ]
  },
  {
   "cell_type": "code",
   "execution_count": 15,
   "id": "4c8cd14f-e1b6-4a1e-ac96-5ea87c507553",
   "metadata": {},
   "outputs": [],
   "source": [
    "a= 50.6"
   ]
  },
  {
   "cell_type": "code",
   "execution_count": 16,
   "id": "253d1291-a67b-456a-83d9-345d0d4c3f28",
   "metadata": {},
   "outputs": [
    {
     "data": {
      "text/plain": [
       "50.6"
      ]
     },
     "execution_count": 16,
     "metadata": {},
     "output_type": "execute_result"
    }
   ],
   "source": [
    "a"
   ]
  },
  {
   "cell_type": "code",
   "execution_count": 17,
   "id": "dd39b73b-901d-4b50-a09f-af9ac9b7dd5b",
   "metadata": {},
   "outputs": [],
   "source": [
    "#u can not use this symbols !@#$%^&*()-+= to create a  variables"
   ]
  },
  {
   "cell_type": "code",
   "execution_count": null,
   "id": "9300d836-6bb7-4f66-b80d-5abc99fa2ff3",
   "metadata": {},
   "outputs": [],
   "source": [
    "#space in a variable is not allowed\n",
    "roll no =24"
   ]
  },
  {
   "cell_type": "code",
   "execution_count": 19,
   "id": "ba669cf4-cace-49aa-b5c6-b411df5db651",
   "metadata": {},
   "outputs": [],
   "source": [
    "# snake casing\n",
    "roll_no =24"
   ]
  },
  {
   "cell_type": "raw",
   "id": "62331a1c-0436-4ebd-9a89-2edee4c0ced3",
   "metadata": {},
   "source": [
    "password_of_wifi =123456"
   ]
  },
  {
   "cell_type": "code",
   "execution_count": null,
   "id": "53f51382-bba6-4fc1-826e-21865f2f0927",
   "metadata": {},
   "outputs": [],
   "source": [
    "#camel casing"
   ]
  },
  {
   "cell_type": "code",
   "execution_count": null,
   "id": "73afb7d8-f3b0-4727-9a8c-3398e1f63484",
   "metadata": {},
   "outputs": [],
   "source": [
    "passwordOfWifi = 876554324"
   ]
  },
  {
   "cell_type": "code",
   "execution_count": null,
   "id": "64fad79d-b59d-44a4-9793-eb8dc48a66ec",
   "metadata": {},
   "outputs": [],
   "source": [
    "# be more specific with ur naming\n",
    "d=4"
   ]
  },
  {
   "cell_type": "code",
   "execution_count": null,
   "id": "efdf753a-d607-424e-9ff7-066e23b8b9cb",
   "metadata": {},
   "outputs": [],
   "source": [
    "dogs = 4"
   ]
  },
  {
   "cell_type": "code",
   "execution_count": 20,
   "id": "4c39af80-3f88-4732-8583-dc5f8273adfb",
   "metadata": {},
   "outputs": [],
   "source": [
    "#python is case sensitive language \n",
    "name='inder'"
   ]
  },
  {
   "cell_type": "code",
   "execution_count": null,
   "id": "15081e6b-c252-498a-88c7-b0047b838026",
   "metadata": {},
   "outputs": [],
   "source": [
    "name=\"inder\"\n"
   ]
  },
  {
   "cell_type": "code",
   "execution_count": 21,
   "id": "b7944e73-e2c0-4693-ad6b-d16130cdf6e3",
   "metadata": {},
   "outputs": [],
   "source": [
    "Name='kanu'"
   ]
  },
  {
   "cell_type": "markdown",
   "id": "4ace136b-a1f4-44b5-96b8-96c895980064",
   "metadata": {},
   "source": [
    "name"
   ]
  },
  {
   "cell_type": "code",
   "execution_count": 22,
   "id": "12823be0-1285-46f9-b293-c7c3e503a2e0",
   "metadata": {},
   "outputs": [
    {
     "data": {
      "text/plain": [
       "'inder'"
      ]
     },
     "execution_count": 22,
     "metadata": {},
     "output_type": "execute_result"
    }
   ],
   "source": [
    "name"
   ]
  },
  {
   "cell_type": "code",
   "execution_count": 23,
   "id": "5cebf600-6e71-427d-9b3d-3b9d30681a14",
   "metadata": {},
   "outputs": [
    {
     "data": {
      "text/plain": [
       "'kanu'"
      ]
     },
     "execution_count": 23,
     "metadata": {},
     "output_type": "execute_result"
    }
   ],
   "source": [
    "Name"
   ]
  },
  {
   "cell_type": "code",
   "execution_count": null,
   "id": "af90d579-b699-4f5f-8c23-578e327b222f",
   "metadata": {},
   "outputs": [],
   "source": [
    "#if variables does not exist then we get a name error\n",
    "p"
   ]
  },
  {
   "cell_type": "code",
   "execution_count": null,
   "id": "4e4ba37d-c713-41f3-81dc-d474ba0f0a7d",
   "metadata": {},
   "outputs": [],
   "source": [
    "n=5"
   ]
  },
  {
   "cell_type": "code",
   "execution_count": 24,
   "id": "47a8c926-acaa-4e88-aeaf-da0616ead4f3",
   "metadata": {},
   "outputs": [
    {
     "ename": "NameError",
     "evalue": "name 'n' is not defined",
     "output_type": "error",
     "traceback": [
      "\u001b[1;31m---------------------------------------------------------------------------\u001b[0m",
      "\u001b[1;31mNameError\u001b[0m                                 Traceback (most recent call last)",
      "Cell \u001b[1;32mIn[24], line 1\u001b[0m\n\u001b[1;32m----> 1\u001b[0m n\n",
      "\u001b[1;31mNameError\u001b[0m: name 'n' is not defined"
     ]
    }
   ],
   "source": [
    "n"
   ]
  },
  {
   "cell_type": "code",
   "execution_count": 25,
   "id": "87991222-1296-462c-9356-41230adbd08d",
   "metadata": {},
   "outputs": [],
   "source": [
    "n=20"
   ]
  },
  {
   "cell_type": "code",
   "execution_count": 26,
   "id": "da667b96-b58c-44bc-bfc5-a0449f5670d4",
   "metadata": {},
   "outputs": [
    {
     "data": {
      "text/plain": [
       "20"
      ]
     },
     "execution_count": 26,
     "metadata": {},
     "output_type": "execute_result"
    }
   ],
   "source": [
    "n"
   ]
  },
  {
   "cell_type": "code",
   "execution_count": null,
   "id": "f47e4187-f6c1-49ff-8d2c-38e50c54ac8e",
   "metadata": {},
   "outputs": [],
   "source": [
    "n=15"
   ]
  },
  {
   "cell_type": "code",
   "execution_count": 27,
   "id": "1210fc45-a91f-418c-afc9-0ce9bd23dace",
   "metadata": {},
   "outputs": [
    {
     "data": {
      "text/plain": [
       "20"
      ]
     },
     "execution_count": 27,
     "metadata": {},
     "output_type": "execute_result"
    }
   ],
   "source": [
    "n"
   ]
  },
  {
   "cell_type": "code",
   "execution_count": null,
   "id": "02a3e21e-ebb5-4fba-947b-e6594f886d69",
   "metadata": {},
   "outputs": [],
   "source": [
    "#sometimes students not execute the code "
   ]
  },
  {
   "cell_type": "code",
   "execution_count": 67,
   "id": "78a300e4-5f6d-48c0-820b-1a0665c4529b",
   "metadata": {},
   "outputs": [],
   "source": [
    "ammount =6"
   ]
  },
  {
   "cell_type": "code",
   "execution_count": 68,
   "id": "851dd5a7-d4e9-4b88-8bf4-a73905dcb11d",
   "metadata": {},
   "outputs": [
    {
     "data": {
      "text/plain": [
       "8"
      ]
     },
     "execution_count": 68,
     "metadata": {},
     "output_type": "execute_result"
    }
   ],
   "source": [
    "ammount +2"
   ]
  },
  {
   "cell_type": "code",
   "execution_count": 69,
   "id": "4fe7fb42-d2e7-4710-a1f4-57e382d0a6b7",
   "metadata": {},
   "outputs": [
    {
     "data": {
      "text/plain": [
       "18"
      ]
     },
     "execution_count": 69,
     "metadata": {},
     "output_type": "execute_result"
    }
   ],
   "source": [
    "ammount *3"
   ]
  },
  {
   "cell_type": "code",
   "execution_count": 70,
   "id": "b7b3ac79-36c5-4ec5-ad62-0269c9ac1174",
   "metadata": {},
   "outputs": [
    {
     "data": {
      "text/plain": [
       "6"
      ]
     },
     "execution_count": 70,
     "metadata": {},
     "output_type": "execute_result"
    }
   ],
   "source": [
    "ammount"
   ]
  },
  {
   "cell_type": "code",
   "execution_count": 71,
   "id": "415ef7a2-3b10-4754-aaef-3ba97c07588e",
   "metadata": {},
   "outputs": [],
   "source": [
    "ammount = 10"
   ]
  },
  {
   "cell_type": "code",
   "execution_count": 72,
   "id": "1aea4c6e-6277-4288-84c2-3b3135b5eca1",
   "metadata": {},
   "outputs": [
    {
     "data": {
      "text/plain": [
       "10"
      ]
     },
     "execution_count": 72,
     "metadata": {},
     "output_type": "execute_result"
    }
   ],
   "source": [
    "ammount"
   ]
  },
  {
   "cell_type": "code",
   "execution_count": 73,
   "id": "568a56f7-008f-47fd-a625-416c9fd5e700",
   "metadata": {},
   "outputs": [],
   "source": [
    "ammount = ammount + 6"
   ]
  },
  {
   "cell_type": "code",
   "execution_count": 74,
   "id": "73ef75d7-e801-46e0-888a-cb11a9627227",
   "metadata": {},
   "outputs": [
    {
     "data": {
      "text/plain": [
       "16"
      ]
     },
     "execution_count": 74,
     "metadata": {},
     "output_type": "execute_result"
    }
   ],
   "source": [
    "ammount"
   ]
  },
  {
   "cell_type": "code",
   "execution_count": null,
   "id": "05e28b31-b18c-412f-acbf-aa21775c60cb",
   "metadata": {},
   "outputs": [],
   "source": [
    "##assignment variables"
   ]
  },
  {
   "cell_type": "code",
   "execution_count": 82,
   "id": "92e89a20-25be-4f54-872e-72e0c8a202d1",
   "metadata": {},
   "outputs": [],
   "source": [
    "a =10"
   ]
  },
  {
   "cell_type": "code",
   "execution_count": 83,
   "id": "0999db7b-6a28-4345-b7d1-071dc80ec968",
   "metadata": {},
   "outputs": [
    {
     "data": {
      "text/plain": [
       "10"
      ]
     },
     "execution_count": 83,
     "metadata": {},
     "output_type": "execute_result"
    }
   ],
   "source": [
    "a"
   ]
  },
  {
   "cell_type": "code",
   "execution_count": 84,
   "id": "b6157575-73ab-4271-b057-4e7ad51b98ad",
   "metadata": {},
   "outputs": [],
   "source": [
    "a=a+1"
   ]
  },
  {
   "cell_type": "code",
   "execution_count": 85,
   "id": "ca863f23-2b3f-46ac-b125-95639b06df78",
   "metadata": {},
   "outputs": [
    {
     "data": {
      "text/plain": [
       "11"
      ]
     },
     "execution_count": 85,
     "metadata": {},
     "output_type": "execute_result"
    }
   ],
   "source": [
    "a"
   ]
  },
  {
   "cell_type": "code",
   "execution_count": 66,
   "id": "10ad591a-4db8-4a2f-9423-9902fe2b3a30",
   "metadata": {},
   "outputs": [],
   "source": [
    "a-=1"
   ]
  },
  {
   "cell_type": "code",
   "execution_count": 86,
   "id": "9d606f28-1af9-4fb0-bf7a-cc62bbf062e2",
   "metadata": {},
   "outputs": [
    {
     "data": {
      "text/plain": [
       "11"
      ]
     },
     "execution_count": 86,
     "metadata": {},
     "output_type": "execute_result"
    }
   ],
   "source": [
    "\n",
    "a"
   ]
  },
  {
   "cell_type": "code",
   "execution_count": 76,
   "id": "20746b4e-93fc-47a7-a632-b654a6ac00f4",
   "metadata": {},
   "outputs": [],
   "source": [
    "a*=2"
   ]
  },
  {
   "cell_type": "code",
   "execution_count": 87,
   "id": "056abc74-cc95-430d-b5d6-83d7e5728366",
   "metadata": {},
   "outputs": [
    {
     "data": {
      "text/plain": [
       "11"
      ]
     },
     "execution_count": 87,
     "metadata": {},
     "output_type": "execute_result"
    }
   ],
   "source": [
    "a"
   ]
  },
  {
   "cell_type": "code",
   "execution_count": 78,
   "id": "614b8570-ae33-405d-a74e-45144c387747",
   "metadata": {},
   "outputs": [],
   "source": [
    "a/=3"
   ]
  },
  {
   "cell_type": "code",
   "execution_count": 88,
   "id": "34faa332-0cad-44fe-b02a-aa9ab77b753f",
   "metadata": {},
   "outputs": [
    {
     "data": {
      "text/plain": [
       "11"
      ]
     },
     "execution_count": 88,
     "metadata": {},
     "output_type": "execute_result"
    }
   ],
   "source": [
    "a"
   ]
  },
  {
   "cell_type": "code",
   "execution_count": 89,
   "id": "6d501f7b-a7b4-487b-9e44-db74a4a4f383",
   "metadata": {},
   "outputs": [
    {
     "data": {
      "text/plain": [
       "3"
      ]
     },
     "execution_count": 89,
     "metadata": {},
     "output_type": "execute_result"
    }
   ],
   "source": [
    "a//3"
   ]
  },
  {
   "cell_type": "code",
   "execution_count": 90,
   "id": "c7856703-6c21-4808-a8d4-93d310007446",
   "metadata": {},
   "outputs": [
    {
     "data": {
      "text/plain": [
       "2"
      ]
     },
     "execution_count": 90,
     "metadata": {},
     "output_type": "execute_result"
    }
   ],
   "source": [
    "a%3"
   ]
  },
  {
   "cell_type": "code",
   "execution_count": 91,
   "id": "3d52be2d-bb28-43ac-9502-619c9f60b9c2",
   "metadata": {},
   "outputs": [],
   "source": [
    "a**=2"
   ]
  },
  {
   "cell_type": "code",
   "execution_count": 92,
   "id": "7cc45ce7-94e4-448d-8890-cdc5f15b4d37",
   "metadata": {},
   "outputs": [
    {
     "data": {
      "text/plain": [
       "121"
      ]
     },
     "execution_count": 92,
     "metadata": {},
     "output_type": "execute_result"
    }
   ],
   "source": [
    "a"
   ]
  },
  {
   "cell_type": "code",
   "execution_count": 93,
   "id": "677fa0d5-9b31-4d4d-b3e7-b01b34293251",
   "metadata": {},
   "outputs": [],
   "source": [
    "a%=2"
   ]
  },
  {
   "cell_type": "code",
   "execution_count": 94,
   "id": "e88a76bf-6fea-4973-8abe-948e425dbd1e",
   "metadata": {},
   "outputs": [
    {
     "data": {
      "text/plain": [
       "1"
      ]
     },
     "execution_count": 94,
     "metadata": {},
     "output_type": "execute_result"
    }
   ],
   "source": [
    "a"
   ]
  },
  {
   "cell_type": "code",
   "execution_count": null,
   "id": "28f5d3d9-59dd-4005-89a1-dd3a448c7ace",
   "metadata": {},
   "outputs": [],
   "source": []
  }
 ],
 "metadata": {
  "kernelspec": {
   "display_name": "Python [conda env:base] *",
   "language": "python",
   "name": "conda-base-py"
  },
  "language_info": {
   "codemirror_mode": {
    "name": "ipython",
    "version": 3
   },
   "file_extension": ".py",
   "mimetype": "text/x-python",
   "name": "python",
   "nbconvert_exporter": "python",
   "pygments_lexer": "ipython3",
   "version": "3.13.5"
  }
 },
 "nbformat": 4,
 "nbformat_minor": 5
}
