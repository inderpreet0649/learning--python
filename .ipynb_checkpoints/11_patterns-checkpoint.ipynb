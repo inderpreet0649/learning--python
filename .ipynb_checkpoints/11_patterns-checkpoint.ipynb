{
 "cells": [
  {
   "cell_type": "code",
   "execution_count": 12,
   "id": "1191b253-4ec7-4623-a571-4bd4431c1177",
   "metadata": {},
   "outputs": [],
   "source": [
    "#by chnaging i n j m values and different prints is called experiments in patterns"
   ]
  },
  {
   "cell_type": "code",
   "execution_count": 6,
   "id": "e2f196d7-efb2-41f0-97c4-7737be902be5",
   "metadata": {},
   "outputs": [
    {
     "name": "stdout",
     "output_type": "stream",
     "text": [
      "01234\n",
      "01234\n",
      "01234\n",
      "01234\n",
      "01234\n"
     ]
    }
   ],
   "source": [
    "i=0\n",
    "n=5\n",
    "\n",
    "while i<n:\n",
    "    j=0\n",
    "    m=5\n",
    "    while j<m:\n",
    "        print(j,end=\"\")\n",
    "        j+=1\n",
    "\n",
    "    print()\n",
    "    i+=1"
   ]
  },
  {
   "cell_type": "code",
   "execution_count": 9,
   "id": "3886bd94-387a-4900-8b3c-ffccda6353f4",
   "metadata": {},
   "outputs": [
    {
     "name": "stdout",
     "output_type": "stream",
     "text": [
      "01234\n",
      "01234\n",
      "01234\n",
      "01234\n",
      "01234\n"
     ]
    }
   ],
   "source": [
    "i=0\n",
    "n=5\n",
    "\n",
    "while i<n:\n",
    "    j=0\n",
    "    m=5\n",
    "    while j<n:\n",
    "        print(j,end=\"\")\n",
    "        j+=1\n",
    "\n",
    "    print()\n",
    "    i+=1"
   ]
  },
  {
   "cell_type": "code",
   "execution_count": 8,
   "id": "b44d415c-1943-4a5f-ad27-9a210357baf2",
   "metadata": {},
   "outputs": [
    {
     "name": "stdout",
     "output_type": "stream",
     "text": [
      "\n",
      "1\n",
      "22\n",
      "333\n",
      "4444\n"
     ]
    }
   ],
   "source": [
    "i=0\n",
    "n=5\n",
    "\n",
    "while i<n:\n",
    "    j=0\n",
    "    while j<i:\n",
    "        print(i,end=\"\")\n",
    "        j+=1\n",
    "\n",
    "    print()\n",
    "    i+=1"
   ]
  },
  {
   "cell_type": "code",
   "execution_count": 11,
   "id": "e50d3cf5-29a6-40b9-95e4-1c3ed73ede0e",
   "metadata": {},
   "outputs": [
    {
     "name": "stdout",
     "output_type": "stream",
     "text": [
      "0\n",
      "11\n",
      "222\n",
      "3333\n",
      "44444\n"
     ]
    }
   ],
   "source": [
    "\n",
    "i=0\n",
    "n=5\n",
    "\n",
    "while i<n:\n",
    "    j=0\n",
    "    while j<i+1:\n",
    "        print(i,end=\"\")\n",
    "        j+=1\n",
    "\n",
    "    print()\n",
    "    i+=1"
   ]
  },
  {
   "cell_type": "code",
   "execution_count": 16,
   "id": "0bfb8500-61c2-4997-96e7-7c825c40ab3a",
   "metadata": {},
   "outputs": [
    {
     "name": "stdout",
     "output_type": "stream",
     "text": [
      "*\n",
      "**\n",
      "***\n",
      "****\n",
      "*****\n",
      "******\n"
     ]
    }
   ],
   "source": [
    "\n",
    "i=0\n",
    "n=6\n",
    "\n",
    "while i<n:\n",
    "    j=0\n",
    "    while j<i+1:\n",
    "        print(\"*\",end=\"\")\n",
    "        j+=1\n",
    "\n",
    "    print()\n",
    "    i+=1"
   ]
  },
  {
   "cell_type": "code",
   "execution_count": 17,
   "id": "4a65390c-0ddf-4506-8e0f-e634ab624eb8",
   "metadata": {},
   "outputs": [
    {
     "name": "stdout",
     "output_type": "stream",
     "text": [
      "0000\n",
      "1111\n",
      "2222\n",
      "3333\n",
      "4444\n"
     ]
    }
   ],
   "source": [
    "i=0\n",
    "n=5\n",
    "\n",
    "while i<n:\n",
    "    j=0\n",
    "    while j<n-1:\n",
    "        print(i,end=\"\")\n",
    "        j+=1\n",
    "\n",
    "    print()\n",
    "    i+=1"
   ]
  },
  {
   "cell_type": "code",
   "execution_count": 19,
   "id": "1963dce0-31fc-403c-9fff-0273b6dd66a5",
   "metadata": {},
   "outputs": [
    {
     "name": "stdout",
     "output_type": "stream",
     "text": [
      "55555\n",
      "4444\n",
      "333\n",
      "22\n",
      "1\n"
     ]
    }
   ],
   "source": [
    "i=0\n",
    "n=5\n",
    "\n",
    "while i<n:\n",
    "    j=0\n",
    "    while j<n-i:\n",
    "        print(n-i,end=\"\")\n",
    "        j+=1\n",
    "\n",
    "    print()\n",
    "    i+=1"
   ]
  },
  {
   "cell_type": "code",
   "execution_count": 20,
   "id": "6e5fa944-8a32-4c6b-a41a-9d7b84e64aa0",
   "metadata": {},
   "outputs": [
    {
     "name": "stdout",
     "output_type": "stream",
     "text": [
      "*****\n",
      "****\n",
      "***\n",
      "**\n",
      "*\n"
     ]
    }
   ],
   "source": [
    "i=0\n",
    "n=5\n",
    "\n",
    "while i<n:\n",
    "    j=0\n",
    "    while j<n-i:\n",
    "        print(\"*\",end=\"\")\n",
    "        j+=1\n",
    "\n",
    "    print()\n",
    "    i+=1"
   ]
  },
  {
   "cell_type": "code",
   "execution_count": 21,
   "id": "e3137727-498f-4df4-860c-e1cda6e73b36",
   "metadata": {},
   "outputs": [
    {
     "name": "stdout",
     "output_type": "stream",
     "text": [
      "00000\n",
      "1111\n",
      "222\n",
      "33\n",
      "4\n"
     ]
    }
   ],
   "source": [
    "i=0\n",
    "n=5\n",
    "\n",
    "while i<n:\n",
    "    j=0\n",
    "    while j<n-i:\n",
    "        print(i,end=\"\")\n",
    "        j+=1\n",
    "\n",
    "    print()\n",
    "    i+=1"
   ]
  },
  {
   "cell_type": "code",
   "execution_count": 22,
   "id": "9627c942-a4a1-46dc-93b5-61961093972f",
   "metadata": {},
   "outputs": [
    {
     "name": "stdout",
     "output_type": "stream",
     "text": [
      "54321\n",
      "5432\n",
      "543\n",
      "54\n",
      "5\n"
     ]
    }
   ],
   "source": [
    "i=0\n",
    "n=5\n",
    "\n",
    "while i<n:\n",
    "    j=0\n",
    "    while j<n-i:\n",
    "        print(n-j,end=\"\")\n",
    "        j+=1\n",
    "\n",
    "    print()\n",
    "    i+=1"
   ]
  },
  {
   "cell_type": "code",
   "execution_count": 23,
   "id": "a5978093-0546-486c-b97b-0d7d6b94f8fa",
   "metadata": {},
   "outputs": [
    {
     "name": "stdout",
     "output_type": "stream",
     "text": [
      "44444\n",
      "3333\n",
      "222\n",
      "11\n",
      "0\n"
     ]
    }
   ],
   "source": [
    "i=0\n",
    "n=5\n",
    "\n",
    "while i<n:\n",
    "    j=0\n",
    "    while j<n-i:\n",
    "        print(n-i-1,end=\"\")\n",
    "        j+=1\n",
    "\n",
    "    print()\n",
    "    i+=1"
   ]
  },
  {
   "cell_type": "code",
   "execution_count": 24,
   "id": "e4f16bae-f3ab-4ae9-854a-fe0bfd8ed1e6",
   "metadata": {},
   "outputs": [
    {
     "name": "stdout",
     "output_type": "stream",
     "text": [
      "44444\n",
      "33333\n",
      "22222\n",
      "11111\n",
      "00000\n"
     ]
    }
   ],
   "source": [
    "i=0\n",
    "n=5\n",
    "\n",
    "while i<n:\n",
    "    j=0\n",
    "    while j<n:\n",
    "        print(n-i-1,end=\"\")\n",
    "        j+=1\n",
    "\n",
    "    print()\n",
    "    i+=1"
   ]
  },
  {
   "cell_type": "code",
   "execution_count": 25,
   "id": "76b27ed8-dd8b-4a5a-a65c-d74ecc6b6202",
   "metadata": {},
   "outputs": [
    {
     "name": "stdout",
     "output_type": "stream",
     "text": [
      "44444\n",
      "4444\n",
      "444\n",
      "44\n",
      "4\n"
     ]
    }
   ],
   "source": [
    "i=0\n",
    "n=5\n",
    "\n",
    "while i<n:\n",
    "    j=0\n",
    "    while j<n-i:\n",
    "        print(n-1,end=\"\")\n",
    "        j+=1\n",
    "\n",
    "    print()\n",
    "    i+=1"
   ]
  },
  {
   "cell_type": "code",
   "execution_count": 27,
   "id": "a87033e0-4b78-4a50-ba45-a87f6df2cece",
   "metadata": {},
   "outputs": [
    {
     "name": "stdout",
     "output_type": "stream",
     "text": [
      "4444\n",
      "4444\n",
      "4444\n",
      "4444\n",
      "4444\n"
     ]
    }
   ],
   "source": [
    "i=0\n",
    "n=5\n",
    "\n",
    "while i<n:\n",
    "    j=0\n",
    "    while j<n-1:\n",
    "        print(n-1,end=\"\")\n",
    "        j+=1\n",
    "\n",
    "    print()\n",
    "    i+=1"
   ]
  },
  {
   "cell_type": "code",
   "execution_count": 3,
   "id": "3431df4f-7cc8-4e2b-88a8-e6e7f8489964",
   "metadata": {},
   "outputs": [
    {
     "name": "stdout",
     "output_type": "stream",
     "text": [
      "*****\n",
      "*   *\n",
      "*   *\n",
      "*   *\n",
      "*****\n"
     ]
    }
   ],
   "source": [
    "i=0\n",
    "n=5\n",
    "\n",
    "while i<n:\n",
    "    j=0\n",
    "    while j<n:\n",
    "        if i==0 or i==n-1 or j==0 or j==n-1:\n",
    "            print(\"*\",end=\"\")\n",
    "        else:\n",
    "            print(\" \",end=\"\")\n",
    "        j+=1\n",
    "\n",
    "    print()\n",
    "    i+=1"
   ]
  },
  {
   "cell_type": "code",
   "execution_count": 6,
   "id": "f5739801-9d68-4433-9dac-bc9ade4be546",
   "metadata": {},
   "outputs": [
    {
     "name": "stdout",
     "output_type": "stream",
     "text": [
      "  *  \n",
      "  *  \n",
      "*****\n",
      "  *  \n",
      "  *  \n"
     ]
    }
   ],
   "source": [
    "i=0\n",
    "n=5\n",
    "\n",
    "while i<n:\n",
    "    j=0\n",
    "    while j<n:\n",
    "        if i==2 or i==n-3 or j==2 or j==n-3:\n",
    "            print(\"*\",end=\"\")\n",
    "        else:\n",
    "            print(\" \",end=\"\")\n",
    "        j+=1\n",
    "\n",
    "    print()\n",
    "    i+=1"
   ]
  },
  {
   "cell_type": "code",
   "execution_count": 7,
   "id": "0425705b-02e4-42a8-a3a4-ff546106a865",
   "metadata": {},
   "outputs": [
    {
     "name": "stdout",
     "output_type": "stream",
     "text": [
      "  *  \n",
      "  *  \n",
      "*****\n",
      "  *  \n",
      "  *  \n"
     ]
    }
   ],
   "source": [
    "i=0\n",
    "n=5\n",
    "\n",
    "while i<n:\n",
    "    j=0\n",
    "    while j<n:\n",
    "        if i==5 or i==n-3 or j==5 or j==n-3:\n",
    "            print(\"*\",end=\"\")\n",
    "        else:\n",
    "            print(\" \",end=\"\")\n",
    "        j+=1\n",
    "\n",
    "    print()\n",
    "    i+=1"
   ]
  },
  {
   "cell_type": "code",
   "execution_count": 1,
   "id": "383b9253-588b-4c94-bd56-60668b7d9851",
   "metadata": {},
   "outputs": [
    {
     "name": "stdout",
     "output_type": "stream",
     "text": [
      "*****\n",
      " *****\n",
      "  *****\n",
      "   *****\n",
      "    *****\n"
     ]
    }
   ],
   "source": [
    "i=0\n",
    "n=5\n",
    "while i<n:\n",
    "    k=0\n",
    "    while k<i:\n",
    "        print(\" \",end=\"\")\n",
    "        k+=1\n",
    "\n",
    "    j=0\n",
    "    while j<n:\n",
    "        print(\"*\",end=\"\")\n",
    "        j+=1\n",
    "\n",
    "    print()\n",
    "    i+=1"
   ]
  },
  {
   "cell_type": "code",
   "execution_count": 2,
   "id": "e3842d69-6fc0-439f-ac01-7eb205d5e469",
   "metadata": {},
   "outputs": [
    {
     "name": "stdout",
     "output_type": "stream",
     "text": [
      "*****\n",
      "0*****\n",
      "01*****\n",
      "012*****\n",
      "0123*****\n"
     ]
    }
   ],
   "source": [
    "i=0\n",
    "n=5\n",
    "while i<n:\n",
    "    k=0\n",
    "    while k<i:\n",
    "        print(k,end=\"\")\n",
    "        k+=1\n",
    "\n",
    "    j=0\n",
    "    while j<n:\n",
    "        print(\"*\",end=\"\")\n",
    "        j+=1\n",
    "\n",
    "    print()\n",
    "    i+=1"
   ]
  },
  {
   "cell_type": "code",
   "execution_count": 2,
   "id": "916beac0-88e1-4623-af31-53d752fce485",
   "metadata": {},
   "outputs": [
    {
     "name": "stdout",
     "output_type": "stream",
     "text": [
      "*****\n",
      "0*****\n",
      "01*****\n",
      "012*****\n",
      "0123*****\n"
     ]
    }
   ],
   "source": [
    "i=0\n",
    "n=5\n",
    "while i<n:\n",
    "    k=0\n",
    "    while k<i:\n",
    "        print(k,end=\"\")\n",
    "        k+=1\n",
    "\n",
    "    j=0\n",
    "    while j<n:\n",
    "        print(\"*\",end=\"\")\n",
    "        j+=1\n",
    "\n",
    "    print()\n",
    "    i+=1"
   ]
  },
  {
   "cell_type": "code",
   "execution_count": 5,
   "id": "faf2e3eb-2da8-499e-b7ba-5f8c91934bf4",
   "metadata": {},
   "outputs": [
    {
     "name": "stdout",
     "output_type": "stream",
     "text": [
      "     *****\n",
      "    *****\n",
      "   *****\n",
      "  *****\n",
      " *****\n"
     ]
    }
   ],
   "source": [
    "i=0\n",
    "n=5\n",
    "while i<n:\n",
    "    k=0\n",
    "    while k<n-i:\n",
    "        print(\" \",end=\"\")\n",
    "        k+=1\n",
    "\n",
    "    j=0\n",
    "    while j<n:\n",
    "        print(\"*\",end=\"\")\n",
    "        j+=1\n",
    "\n",
    "    print()\n",
    "    i+=1"
   ]
  },
  {
   "cell_type": "code",
   "execution_count": 6,
   "id": "ae5aa9f6-6bf1-4b33-b8ee-ed91522d2c1f",
   "metadata": {},
   "outputs": [
    {
     "name": "stdout",
     "output_type": "stream",
     "text": [
      "    *\n",
      "    **\n",
      "    ***\n",
      "    ****\n",
      "    *****\n"
     ]
    }
   ],
   "source": [
    "i=0\n",
    "n=5\n",
    "while i<n:\n",
    "    k=0\n",
    "    while k<n-1:\n",
    "        print(\" \",end=\"\")\n",
    "        k+=1\n",
    "\n",
    "    j=0\n",
    "    while j<i+1:\n",
    "        print(\"*\",end=\"\")\n",
    "        j+=1\n",
    "\n",
    "    print()\n",
    "    i+=1"
   ]
  },
  {
   "cell_type": "code",
   "execution_count": 4,
   "id": "b0e07834-de07-4b8c-adb1-2e809f7c145e",
   "metadata": {},
   "outputs": [
    {
     "name": "stdout",
     "output_type": "stream",
     "text": [
      "     \n",
      "    *\n",
      "   ***\n",
      "  *****\n",
      " *******\n"
     ]
    }
   ],
   "source": [
    "i=0\n",
    "n=5\n",
    "while i<n:\n",
    "    k=0\n",
    "    while k<n-i:\n",
    "        print(\" \",end=\"\")\n",
    "        k+=1\n",
    "\n",
    "    j=0\n",
    "    while j<(i)*2-1:\n",
    "        print(\"*\",end=\"\")\n",
    "        j+=1\n",
    "    print()\n",
    "    i+=1"
   ]
  },
  {
   "cell_type": "markdown",
   "id": "c6f73302-a457-444d-9d9c-c304d729c618",
   "metadata": {},
   "source": [
    "# basic patterns"
   ]
  },
  {
   "cell_type": "code",
   "execution_count": 12,
   "id": "0339355e-13f2-4c2c-b51c-678428fc91e8",
   "metadata": {},
   "outputs": [
    {
     "name": "stdout",
     "output_type": "stream",
     "text": [
      "*\n",
      "**\n",
      "***\n",
      "****\n",
      "*****\n"
     ]
    }
   ],
   "source": [
    "#right angle triangle\n",
    "i=0\n",
    "n=5\n",
    "while i<n:\n",
    "    j=0\n",
    "    while j<i+1:\n",
    "        print(\"*\",end=\"\")\n",
    "        j+=1\n",
    "    print()\n",
    "    i+=1"
   ]
  },
  {
   "cell_type": "code",
   "execution_count": 14,
   "id": "afcc16cf-0610-4f4e-aa93-e19d6edddbb9",
   "metadata": {},
   "outputs": [
    {
     "name": "stdout",
     "output_type": "stream",
     "text": [
      "*****\n",
      "****\n",
      "***\n",
      "**\n",
      "*\n"
     ]
    }
   ],
   "source": [
    "#reversed right angle triangle\n",
    "i=0\n",
    "n=5\n",
    "while i<n:\n",
    "    j=0\n",
    "    while j<n-i:\n",
    "        print(\"*\",end=\"\")\n",
    "        j+=1\n",
    "    print()\n",
    "    i+=1"
   ]
  },
  {
   "cell_type": "code",
   "execution_count": 11,
   "id": "302889be-5878-4a59-80e6-2d6f325f1bec",
   "metadata": {},
   "outputs": [
    {
     "name": "stdout",
     "output_type": "stream",
     "text": [
      "0\n",
      "11\n",
      "222\n",
      "3333\n",
      "44444\n"
     ]
    }
   ],
   "source": [
    "#right angle triangle\n",
    "i=0\n",
    "n=5\n",
    "while i<n:\n",
    "    j=0\n",
    "    while j<i+1:\n",
    "        print(i,end=\"\")\n",
    "        j+=1\n",
    "    print()\n",
    "    i+=1"
   ]
  },
  {
   "cell_type": "markdown",
   "id": "46e9f402-7953-4244-af9a-8292dedd5715",
   "metadata": {},
   "source": [
    "# centred patterns"
   ]
  },
  {
   "cell_type": "code",
   "execution_count": 18,
   "id": "5530eb02-dd3f-41d4-ab49-5d7d26fc5934",
   "metadata": {},
   "outputs": [
    {
     "name": "stdout",
     "output_type": "stream",
     "text": [
      "     \n",
      "    *\n",
      "   ***\n",
      "  *****\n",
      " *******\n",
      "*********\n"
     ]
    }
   ],
   "source": [
    "#pyramid\n",
    "i=0\n",
    "n=5\n",
    "while i<=n:\n",
    "    k=0\n",
    "    while k<n-i:\n",
    "        print(\" \",end=\"\")\n",
    "        k+=1\n",
    "    j=0\n",
    "    while j<(i)*2-1:\n",
    "        print(\"*\",end=\"\")\n",
    "        j+=1\n",
    "    print()\n",
    "    i+=1"
   ]
  },
  {
   "cell_type": "code",
   "execution_count": 27,
   "id": "40bf6b0e-5faa-4925-b588-e366f45abe6e",
   "metadata": {},
   "outputs": [
    {
     "name": "stdout",
     "output_type": "stream",
     "text": [
      " *********\n",
      "  *******\n",
      "   *****\n",
      "    ***\n",
      "     *\n",
      "      \n"
     ]
    }
   ],
   "source": [
    "#reversed pyramid\n",
    "i=0\n",
    "n=5\n",
    "while i<=n:\n",
    "    k=0\n",
    "    while k<i+1:\n",
    "        print(\" \",end=\"\")\n",
    "        k+=1\n",
    "    j=0\n",
    "    while j<(n-i)*2-1:\n",
    "        print(\"*\",end=\"\")\n",
    "        j+=1\n",
    "        \n",
    "    print()\n",
    "    i+=1\n"
   ]
  },
  {
   "cell_type": "code",
   "execution_count": 36,
   "id": "479cccad-1b99-4c1b-8b03-b2a8900c6672",
   "metadata": {},
   "outputs": [
    {
     "name": "stdout",
     "output_type": "stream",
     "text": [
      "     \n",
      "    *\n",
      "   ***\n",
      "  *****\n",
      " *******\n",
      "*********\n",
      " *********\n",
      "  *******\n",
      "   *****\n",
      "    ***\n",
      "     *\n"
     ]
    }
   ],
   "source": [
    "i=0\n",
    "n=5\n",
    "while i<n:\n",
    "    k=0\n",
    "    while k<n-i-1:\n",
    "        print(\" \",end=\"\")\n",
    "        k+=1\n",
    "    j=0\n",
    "    while j<(i)*2+1:\n",
    "        print(\"*\",end=\"\")\n",
    "        j+=1\n",
    "    print()\n",
    "    i+=1\n",
    "\n",
    "i=\n",
    "while i<n:\n",
    "    k=0\n",
    "    while k<i+1:\n",
    "        print(\" \",end=\"\")\n",
    "        k+=1\n",
    "    j=0\n",
    "    while j<(n-i)*2-1:\n",
    "        print(\"*\",end=\"\")\n",
    "        j+=1\n",
    "        \n",
    "    print()\n",
    "    i+=1\n"
   ]
  },
  {
   "cell_type": "code",
   "execution_count": 1,
   "id": "39a8ab91-d091-480b-b9d5-46f2292c89c8",
   "metadata": {},
   "outputs": [
    {
     "name": "stdout",
     "output_type": "stream",
     "text": [
      "    *\n",
      "   ***\n",
      "  *****\n",
      " *******\n",
      "*********\n",
      " *******\n",
      "  *****\n",
      "   ***\n",
      "    *\n"
     ]
    }
   ],
   "source": [
    "i=0\n",
    "n=5\n",
    "while i<n:\n",
    "    k=0\n",
    "    while k<n-i-1:\n",
    "        print(\" \",end=\"\")\n",
    "        k+=1\n",
    "    j=0\n",
    "    while j<(i)*2+1:\n",
    "        print(\"*\",end=\"\")\n",
    "        j+=1\n",
    "    print()\n",
    "    i+=1\n",
    "i=n-2\n",
    "while i>=0:\n",
    "    k=0\n",
    "    while k<n-i-1:\n",
    "        print(\" \",end=\"\")\n",
    "        k+=1\n",
    "    j=0\n",
    "    while j<(i)*2+1:\n",
    "        print(\"*\",end=\"\")\n",
    "        j+=1\n",
    "        \n",
    "    print()\n",
    "    i-=1"
   ]
  },
  {
   "cell_type": "code",
   "execution_count": 2,
   "id": "13789154-8911-4507-829b-6592cb046410",
   "metadata": {},
   "outputs": [
    {
     "name": "stdout",
     "output_type": "stream",
     "text": [
      "    *\n",
      "   * *\n",
      "  *   *\n",
      " *     *\n",
      "*********\n",
      " *     *\n",
      "  *   *\n",
      "   * *\n",
      "    *\n"
     ]
    }
   ],
   "source": [
    "i=0\n",
    "n=5\n",
    "while i<n:\n",
    "    k=0\n",
    "    while k<n-i-1:\n",
    "        print(\" \",end=\"\")\n",
    "        k+=1\n",
    "    j=0\n",
    "    w=(i)*2+1\n",
    "    while j<w:\n",
    "        if j==0 or j == w-1 or i==n-1:\n",
    "            print(\"*\",end=\"\")\n",
    "        else:\n",
    "            print(\" \",end=\"\")\n",
    "        j+=1\n",
    "    print()\n",
    "    i+=1\n",
    "i=n-2\n",
    "while i>=0:\n",
    "    k=0\n",
    "    while k<n-i-1:\n",
    "        print(\" \",end=\"\")\n",
    "        k+=1\n",
    "    j=0\n",
    "    w=(i)*2+1\n",
    "    while j<w:\n",
    "        if j==0 or j==w-1:\n",
    "            print(\"*\",end=\"\")\n",
    "        else:\n",
    "            print(\" \",end=\"\")\n",
    "        j+=1\n",
    "        \n",
    "    print()\n",
    "    i-=1"
   ]
  },
  {
   "cell_type": "markdown",
   "id": "ee1851c0-290b-46cc-a6a3-7dc501046296",
   "metadata": {},
   "source": [
    "# hollow patterns"
   ]
  },
  {
   "cell_type": "code",
   "execution_count": 10,
   "id": "283302ca-59a4-44af-949e-d9ed81bd5df4",
   "metadata": {},
   "outputs": [
    {
     "name": "stdout",
     "output_type": "stream",
     "text": [
      "******\n",
      "*    *\n",
      "*    *\n",
      "*    *\n",
      "*    *\n",
      "******\n"
     ]
    }
   ],
   "source": [
    "#hollow square\n",
    "i=0\n",
    "n=6\n",
    "\n",
    "while i<n:\n",
    "    j=0\n",
    "    while j<n:\n",
    "        if i==0 or i==n-1 or j==0 or j==n-1:\n",
    "            print(\"*\",end=\"\")\n",
    "        else:\n",
    "            print(\" \",end=\"\")\n",
    "        j+=1\n",
    "\n",
    "    print()\n",
    "    i+=1\n"
   ]
  },
  {
   "cell_type": "code",
   "execution_count": 1,
   "id": "98e6a807-4ec9-4e65-973d-0ae35dfdf4ae",
   "metadata": {},
   "outputs": [
    {
     "name": "stdout",
     "output_type": "stream",
     "text": [
      "    *\n",
      "   * *\n",
      "  *   *\n",
      " *     *\n",
      "*********\n"
     ]
    }
   ],
   "source": [
    "# hollow triangle\n",
    "i=0\n",
    "n=5\n",
    "while i<n:\n",
    "    k=0\n",
    "    while k<n-i-1:\n",
    "        print(\" \",end=\"\")\n",
    "        k+=1\n",
    "    j=0\n",
    "    w=(i)*2+1\n",
    "    while j<w:\n",
    "        if i==n-1 or j==0 or j==w-1:\n",
    "            print(\"*\",end=\"\")\n",
    "        else:\n",
    "            print(\" \",end=\"\")\n",
    "        j+=1\n",
    "    print()\n",
    "    i+=1"
   ]
  },
  {
   "cell_type": "markdown",
   "id": "64c6bd7e-4c33-4797-b013-96f08b747c65",
   "metadata": {},
   "source": [
    "# advanced shaped"
   ]
  },
  {
   "cell_type": "code",
   "execution_count": 3,
   "id": "6950c951-286f-4e8d-a845-3f21cd28d17d",
   "metadata": {},
   "outputs": [
    {
     "name": "stdout",
     "output_type": "stream",
     "text": [
      "*********\n",
      " *******\n",
      "  *****\n",
      "   ***\n",
      "    *\n",
      "   ***\n",
      "  *****\n",
      " *******\n",
      "*********\n"
     ]
    }
   ],
   "source": [
    "#hourglass pattern\n",
    "i=n-1\n",
    "n=5\n",
    "while i>=0:\n",
    "    k=0\n",
    "    while k<n-i-1:\n",
    "        print(\" \",end=\"\")\n",
    "        k+=1\n",
    "    j=0\n",
    "    while j<(i)*2+1:\n",
    "        print(\"*\",end=\"\")\n",
    "        j+=1\n",
    "        \n",
    "    print()\n",
    "    i-=1\n",
    "\n",
    "i=1\n",
    "while i<n:\n",
    "    k=0\n",
    "    while k<n-i-1:\n",
    "        print(\" \",end=\"\")\n",
    "        k+=1\n",
    "    j=0\n",
    "    while j<(i)*2+1:\n",
    "        print(\"*\",end=\"\")\n",
    "        j+=1\n",
    "    print()\n",
    "    i+=1\n",
    "\n"
   ]
  },
  {
   "cell_type": "code",
   "execution_count": 4,
   "id": "c088c640-059b-427f-a294-a55f46e68c1b",
   "metadata": {},
   "outputs": [],
   "source": [
    "#butterfly pattern\n"
   ]
  },
  {
   "cell_type": "code",
   "execution_count": 26,
   "id": "2adf21eb-67ce-4842-bdef-ad35cc2d0beb",
   "metadata": {},
   "outputs": [
    {
     "name": "stdout",
     "output_type": "stream",
     "text": [
      "     *\n",
      "    ***\n",
      "   *****\n",
      "  *******\n",
      " *********\n",
      "  *******\n",
      "   *****\n",
      "    ***\n",
      "     *\n"
     ]
    }
   ],
   "source": [
    "#by sir diamond code\n",
    "i=0\n",
    "n=5\n",
    "while i<n:\n",
    "    j=0\n",
    "    while j<n-i:\n",
    "        print(\" \",end=\"\")\n",
    "        j+=1\n",
    "\n",
    "    k=0\n",
    "    while k<(i*2)+1:\n",
    "        print(\"*\",end=\"\")\n",
    "        k+=1\n",
    "\n",
    "    print()\n",
    "    i+=1\n",
    "\n",
    "i=1\n",
    "n=5\n",
    "while i<n:\n",
    "    j=0\n",
    "    while j<i+1:\n",
    "        print(\" \",end=\"\")\n",
    "        j+=1\n",
    "\n",
    "    k=0\n",
    "    while k<(n-i)*2-1:\n",
    "        print(\"*\",end=\"\")\n",
    "        k+=1\n",
    "\n",
    "    print()\n",
    "    i+=1"
   ]
  },
  {
   "cell_type": "markdown",
   "id": "ebb3cd74-2c0f-4217-a706-ec33ac338c59",
   "metadata": {},
   "source": [
    "# Some more "
   ]
  },
  {
   "cell_type": "code",
   "execution_count": 16,
   "id": "59437077-2702-4159-8902-16793bf6d7d8",
   "metadata": {},
   "outputs": [
    {
     "name": "stdout",
     "output_type": "stream",
     "text": [
      "0 0 0 0 0 0 \n",
      "1 1 1 1 1 1 \n",
      "2 2 2 2 2 2 \n",
      "3 3 3 3 3 3 \n",
      "4 4 4 4 4 4 \n",
      "5 5 5 5 5 5 \n"
     ]
    }
   ],
   "source": [
    "n=6\n",
    "for i in range(n):\n",
    "    #print(i)\n",
    "    for j in range(n):\n",
    "     print(i, end =\" \")\n",
    "    print()"
   ]
  },
  {
   "cell_type": "code",
   "execution_count": 21,
   "id": "69cc8bc4-7116-4317-8c18-e0deabc2fea2",
   "metadata": {},
   "outputs": [
    {
     "name": "stdout",
     "output_type": "stream",
     "text": [
      "* * * * * * \n",
      "* * * * * * \n",
      "* * * * * * \n",
      "* * * * * * \n",
      "* * * * * * \n",
      "* * * * * * \n"
     ]
    }
   ],
   "source": [
    "n=6\n",
    "for i in range(n):\n",
    "    #print(i)\n",
    "    for j in range(n):\n",
    "     print(\"*\", end =\" \")\n",
    "    print()"
   ]
  },
  {
   "cell_type": "code",
   "execution_count": 25,
   "id": "bfe03294-aec3-4701-94e6-a7adfe2afb19",
   "metadata": {},
   "outputs": [
    {
     "name": "stdout",
     "output_type": "stream",
     "text": [
      "* * * * * \n",
      "* * * * \n",
      "* * * \n",
      "* * \n",
      "* \n"
     ]
    }
   ],
   "source": [
    "i=0\n",
    "n=5\n",
    "for i in range(n):\n",
    "    for j in range(n-i):\n",
    "        print(\"*\",end =\" \")\n",
    "    print(\"\")"
   ]
  },
  {
   "cell_type": "code",
   "execution_count": 26,
   "id": "889ab194-2227-48e4-a1b5-4263b0f2a75c",
   "metadata": {},
   "outputs": [
    {
     "name": "stdout",
     "output_type": "stream",
     "text": [
      "* \n",
      "* * \n",
      "* * * \n",
      "* * * * \n",
      "* * * * * \n"
     ]
    }
   ],
   "source": [
    "n=5\n",
    "for i in range(n):\n",
    "    for j in range(i+1):\n",
    "        print(\"*\",end =\" \")\n",
    "    print(\"\")"
   ]
  },
  {
   "cell_type": "code",
   "execution_count": 33,
   "id": "6370ebd0-eac2-4410-a1ef-30c1798b44f9",
   "metadata": {},
   "outputs": [
    {
     "name": "stdout",
     "output_type": "stream",
     "text": [
      "* * * * \n",
      "* * * \n",
      "* * \n",
      "* \n",
      "\n"
     ]
    }
   ],
   "source": [
    "n=5\n",
    "for i in range(n):\n",
    "    for j in range(n-i-1):\n",
    "        print(\"*\",end =\" \")\n",
    "    print(\"\")"
   ]
  },
  {
   "cell_type": "code",
   "execution_count": 47,
   "id": "8408c827-e589-4472-a194-c761f5f9f54c",
   "metadata": {},
   "outputs": [
    {
     "name": "stdout",
     "output_type": "stream",
     "text": [
      "****\n",
      "***\n",
      "*******\n",
      "*****\n",
      "***\n",
      "*\n"
     ]
    }
   ],
   "source": [
    "\n",
    "for i in range(6):\n",
    "    for j in range(7):\n",
    "        if(i==0 and j%3!=0) or (i==1 and j%3==0) or (i==2) or (i==3 and (j>0 and j<6)) or (i==4 and (j>1 and j<5))or (i==5 and j==3):\n",
    "            print(\"*\" , end =\"\")\n",
    "        else:\n",
    "            print(\"\" , end = '')\n",
    "    print()"
   ]
  },
  {
   "cell_type": "code",
   "execution_count": 54,
   "id": "55343b9d-bf4c-4d19-8c7b-988087e06b8e",
   "metadata": {},
   "outputs": [
    {
     "name": "stdout",
     "output_type": "stream",
     "text": [
      " **   **\n",
      "**** ****\n",
      "*********\n",
      " *******\n",
      "  *****\n",
      "   ***\n",
      "    *\n"
     ]
    }
   ],
   "source": [
    "# Simple heart pattern without functions\n",
    "n = 5\n",
    "for i in range(n//2, n, 2):\n",
    "    for j in range(1, n-i, 2):\n",
    "        print(\" \", end=\"\")\n",
    "    for j in range(1, i+1):\n",
    "        print(\"*\", end=\"\")\n",
    "    for j in range(1, n-i+1):\n",
    "        print(\" \", end=\"\")\n",
    "    for j in range(1, i+1):\n",
    "        print(\"*\", end=\"\")\n",
    "    print()\n",
    "for i in range(n, 0, -1):\n",
    "    for j in range(n-i):\n",
    "        print(\" \", end=\"\")\n",
    "    for j in range(1, (i*2)):\n",
    "        print(\"*\", end=\"\")\n",
    "    print()"
   ]
  },
  {
   "cell_type": "code",
   "execution_count": 55,
   "id": "a13116f8-db00-4581-a196-156c99ae9c20",
   "metadata": {},
   "outputs": [
    {
     "name": "stdout",
     "output_type": "stream",
     "text": [
      "Snake Style Pattern:\n",
      "\n",
      "*   *   *   *   *   \n",
      "  *   *   *   *   * \n",
      "*   *   *   *   *   \n",
      "  *   *   *   *   * \n",
      "*   *   *   *   *   \n"
     ]
    }
   ],
   "source": [
    "# Set size\n",
    "rows = 5\n",
    "cols = 10\n",
    "\n",
    "print(\"Snake Style Pattern:\\n\")\n",
    "for i in range(rows):\n",
    "    for j in range(cols):\n",
    "        if (i % 4 == 0 and j % 2 == 0) or (i % 4 == 1 and j % 2 == 1) or \\\n",
    "           (i % 4 == 2 and j % 2 == 0) or (i % 4 == 3 and j % 2 == 1):\n",
    "            print('*', end=' ')\n",
    "        else:\n",
    "            print(' ', end=' ')\n",
    "    print()"
   ]
  },
  {
   "cell_type": "code",
   "execution_count": 56,
   "id": "f8c63f5e-9ddf-42a5-adff-ad2141cd6136",
   "metadata": {},
   "outputs": [
    {
     "name": "stdout",
     "output_type": "stream",
     "text": [
      "Zig-Zag Pattern:\n",
      "\n",
      "*     * *     * *     * \n",
      "    * *     * *     * * \n",
      "  * *     * *     * *   \n",
      "* *     * *     * *     \n",
      "*     * *     * *     * \n",
      "    * *     * *     * * \n"
     ]
    }
   ],
   "source": [
    "# Set size\n",
    "rows = 6\n",
    "cols = 12\n",
    "\n",
    "print(\"Zig-Zag Pattern:\\n\")\n",
    "for i in range(rows):\n",
    "    for j in range(cols):\n",
    "        if (i + j) % 4 == 0 or (i + j) % 4 == 3:\n",
    "            print('*', end=' ')\n",
    "        else:\n",
    "            print(' ', end=' ')\n",
    "    print()"
   ]
  },
  {
   "cell_type": "code",
   "execution_count": null,
   "id": "0cd4dc6e-47ab-4a15-8816-6cb1774ed01b",
   "metadata": {},
   "outputs": [],
   "source": []
  }
 ],
 "metadata": {
  "kernelspec": {
   "display_name": "Python [conda env:base] *",
   "language": "python",
   "name": "conda-base-py"
  },
  "language_info": {
   "codemirror_mode": {
    "name": "ipython",
    "version": 3
   },
   "file_extension": ".py",
   "mimetype": "text/x-python",
   "name": "python",
   "nbconvert_exporter": "python",
   "pygments_lexer": "ipython3",
   "version": "3.13.5"
  }
 },
 "nbformat": 4,
 "nbformat_minor": 5
}
