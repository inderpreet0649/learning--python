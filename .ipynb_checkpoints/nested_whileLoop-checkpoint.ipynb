{
 "cells": [
  {
   "cell_type": "code",
   "execution_count": 5,
   "id": "98615157-5c13-4b76-ad77-a01f7ffc70bf",
   "metadata": {},
   "outputs": [
    {
     "name": "stdout",
     "output_type": "stream",
     "text": [
      "01234"
     ]
    }
   ],
   "source": [
    "j=0\n",
    "m=5\n",
    "while j<m:\n",
    "    print(j,end=\"\")\n",
    "    j+=1"
   ]
  },
  {
   "cell_type": "code",
   "execution_count": 3,
   "id": "f8a7ad83-a1bc-438a-8c93-82d066e51bb0",
   "metadata": {},
   "outputs": [
    {
     "name": "stdout",
     "output_type": "stream",
     "text": [
      "0123401234012340123401234"
     ]
    }
   ],
   "source": [
    "i=0\n",
    "n=5\n",
    "while i<n:\n",
    "    j=0\n",
    "    m=5\n",
    "    while j<m:\n",
    "        print(j,end=\"\")\n",
    "        j+=1\n",
    "    i+=1"
   ]
  },
  {
   "cell_type": "code",
   "execution_count": 7,
   "id": "6209e3a2-9c6b-4c10-8d63-4d0d31b1c21a",
   "metadata": {},
   "outputs": [
    {
     "name": "stdout",
     "output_type": "stream",
     "text": [
      "01234\n",
      "01234\n",
      "01234\n",
      "01234\n",
      "01234\n"
     ]
    }
   ],
   "source": [
    "#by indendation print()the automatic spacing in output\n",
    "i=0\n",
    "n=5\n",
    "while i<n:\n",
    "    j=0\n",
    "    m=5\n",
    "    while j<m:\n",
    "        print(j,end=\"\")\n",
    "        j+=1\n",
    "    print()\n",
    "    i+=1"
   ]
  },
  {
   "cell_type": "code",
   "execution_count": 8,
   "id": "218e5063-0432-4eb6-937f-e83a344458ff",
   "metadata": {},
   "outputs": [
    {
     "name": "stdout",
     "output_type": "stream",
     "text": [
      "0\n",
      "1\n",
      "2\n",
      "3\n",
      "4\n",
      "0\n",
      "1\n",
      "2\n",
      "3\n",
      "4\n",
      "0\n",
      "1\n",
      "2\n",
      "3\n",
      "4\n",
      "0\n",
      "1\n",
      "2\n",
      "3\n",
      "4\n",
      "0\n",
      "1\n",
      "2\n",
      "3\n",
      "4\n"
     ]
    }
   ],
   "source": [
    "#by indendation print()the automatic spacing in output\n",
    "i=0\n",
    "n=5\n",
    "while i<n:\n",
    "    j=0\n",
    "    m=5\n",
    "    while j<m:\n",
    "        print(j,end=\"\")\n",
    "        j+=1\n",
    "        print()\n",
    "    i+=1"
   ]
  },
  {
   "cell_type": "code",
   "execution_count": 10,
   "id": "fd41b766-aab5-4dce-bf2b-e7c5932e2ad3",
   "metadata": {},
   "outputs": [
    {
     "name": "stdout",
     "output_type": "stream",
     "text": [
      "012\n",
      "012\n",
      "012\n",
      "012\n",
      "012\n"
     ]
    }
   ],
   "source": [
    "#when u increse n value more rows print\n",
    "i=0\n",
    "n=5\n",
    "while i<n:\n",
    "    j=0\n",
    "    m=3\n",
    "    while j<m:\n",
    "        print(j,end=\"\")\n",
    "        j+=1\n",
    "    print()\n",
    "    i+=1"
   ]
  },
  {
   "cell_type": "code",
   "execution_count": 13,
   "id": "27d03997-445a-4fca-b917-84597fb027e9",
   "metadata": {},
   "outputs": [
    {
     "name": "stdout",
     "output_type": "stream",
     "text": [
      "00000\n",
      "11111\n",
      "22222\n"
     ]
    }
   ],
   "source": [
    "#print i rather then j the result is here\n",
    "i=0\n",
    "n=3\n",
    "while i<n:\n",
    "    j=0\n",
    "    m=5\n",
    "    while j<m:\n",
    "        print(i,end=\"\")\n",
    "        j+=1\n",
    "    print()\n",
    "    i+=1"
   ]
  },
  {
   "cell_type": "code",
   "execution_count": 14,
   "id": "888336c3-2ef2-4914-86f0-cd8a08e20e39",
   "metadata": {},
   "outputs": [
    {
     "name": "stdout",
     "output_type": "stream",
     "text": [
      "55555\n",
      "55555\n",
      "55555\n"
     ]
    }
   ],
   "source": [
    "#print m rather then i the result is here\n",
    "i=0\n",
    "n=3\n",
    "while i<n:\n",
    "    j=0\n",
    "    m=5\n",
    "    while j<m:\n",
    "        print(m,end=\"\")\n",
    "        j+=1\n",
    "    print()\n",
    "    i+=1"
   ]
  },
  {
   "cell_type": "code",
   "execution_count": 15,
   "id": "8f4b4582-3528-41a1-81c8-7fe9a9e552c5",
   "metadata": {},
   "outputs": [
    {
     "name": "stdout",
     "output_type": "stream",
     "text": [
      "33333\n",
      "33333\n",
      "33333\n"
     ]
    }
   ],
   "source": [
    "#print n rather then m the result is here\n",
    "i=0\n",
    "n=3\n",
    "while i<n:\n",
    "    j=0\n",
    "    m=5\n",
    "    while j<m:\n",
    "        print(n,end=\"\")\n",
    "        j+=1\n",
    "    print()\n",
    "    i+=1"
   ]
  },
  {
   "cell_type": "code",
   "execution_count": 20,
   "id": "b80bda4d-ccef-43aa-a1c6-8ec4a35890ff",
   "metadata": {},
   "outputs": [
    {
     "name": "stdout",
     "output_type": "stream",
     "text": [
      "0\n",
      "1\n",
      "2\n",
      "3\n",
      "4\n",
      "5\n",
      "6\n",
      "7\n",
      "\n",
      "0\n",
      "1\n",
      "2\n",
      "3\n",
      "4\n",
      "5\n",
      "6\n",
      "7\n",
      "\n",
      "0\n",
      "1\n",
      "2\n",
      "3\n",
      "4\n",
      "5\n",
      "6\n",
      "7\n",
      "\n",
      "0\n",
      "1\n",
      "2\n",
      "3\n",
      "4\n",
      "5\n",
      "6\n",
      "7\n",
      "\n",
      "0\n",
      "1\n",
      "2\n",
      "3\n",
      "4\n",
      "5\n",
      "6\n",
      "7\n",
      "\n",
      "0\n",
      "1\n",
      "2\n",
      "3\n",
      "4\n",
      "5\n",
      "6\n",
      "7\n",
      "\n",
      "0\n",
      "1\n",
      "2\n",
      "3\n",
      "4\n",
      "5\n",
      "6\n",
      "7\n",
      "\n",
      "0\n",
      "1\n",
      "2\n",
      "3\n",
      "4\n",
      "5\n",
      "6\n",
      "7\n",
      "\n",
      "0\n",
      "1\n",
      "2\n",
      "3\n",
      "4\n",
      "5\n",
      "6\n",
      "7\n",
      "\n"
     ]
    }
   ],
   "source": [
    "i=0\n",
    "n=9\n",
    "while i<n:\n",
    "    j=0\n",
    "    m=8\n",
    "    while j<m:\n",
    "        print(j)\n",
    "        j+=1\n",
    "    print()\n",
    "    i+=1"
   ]
  },
  {
   "cell_type": "code",
   "execution_count": 21,
   "id": "8ebc858a-a34d-4074-a004-4717eb1b2829",
   "metadata": {},
   "outputs": [
    {
     "name": "stdout",
     "output_type": "stream",
     "text": [
      "01234567\n",
      "01234567\n",
      "01234567\n",
      "01234567\n",
      "01234567\n",
      "01234567\n",
      "01234567\n",
      "01234567\n",
      "01234567\n"
     ]
    }
   ],
   "source": [
    "i=0\n",
    "n=9\n",
    "while i<n:\n",
    "    j=0\n",
    "    m=8\n",
    "    while j<m:\n",
    "        print(j,end=\"\")\n",
    "        j+=1\n",
    "    print()\n",
    "    i+=1"
   ]
  },
  {
   "cell_type": "code",
   "execution_count": 23,
   "id": "200f242d-466f-4842-be3f-a64eba1117f6",
   "metadata": {},
   "outputs": [
    {
     "name": "stdout",
     "output_type": "stream",
     "text": [
      "inder\n",
      "mumma\n",
      "papa\n"
     ]
    }
   ],
   "source": [
    "l=[\"inder\",\"mumma\",\"papa\"]\n",
    "i=0\n",
    "n=len(l)\n",
    "while i<n:\n",
    "    print(l[i])\n",
    "    i+=1"
   ]
  },
  {
   "cell_type": "code",
   "execution_count": 24,
   "id": "342a3bc0-fa91-4e33-9924-f8e1a2b50165",
   "metadata": {},
   "outputs": [
    {
     "name": "stdout",
     "output_type": "stream",
     "text": [
      "0 inder\n",
      "1 mumma\n",
      "2 papa\n"
     ]
    }
   ],
   "source": [
    "l=[\"inder\",\"mumma\",\"papa\"]\n",
    "i=0\n",
    "n=len(l)\n",
    "while i<n:\n",
    "    print(i,l[i])\n",
    "    i+=1"
   ]
  },
  {
   "cell_type": "code",
   "execution_count": 25,
   "id": "b7915f4d-0ddb-4194-828c-04c795365319",
   "metadata": {},
   "outputs": [
    {
     "name": "stdout",
     "output_type": "stream",
     "text": [
      "0 inder\n",
      "0 inder\n",
      "1 inder\n",
      "2 inder\n",
      "3 inder\n",
      "4 inder\n",
      "1 mumma\n",
      "0 mumma\n",
      "1 mumma\n",
      "2 mumma\n",
      "3 mumma\n",
      "4 mumma\n",
      "2 papa\n",
      "0 papa\n",
      "1 papa\n",
      "2 papa\n",
      "3 papa\n"
     ]
    }
   ],
   "source": [
    "l=[\"inder\",\"mumma\",\"papa\"]\n",
    "i=0\n",
    "n=len(l)\n",
    "while i<n:\n",
    "    print(i,l[i])\n",
    "    j=0\n",
    "    m=len(l[i])\n",
    "    while j<m:\n",
    "        print(j,l[i])\n",
    "        j+=1\n",
    "    i+=1"
   ]
  },
  {
   "cell_type": "code",
   "execution_count": 29,
   "id": "1b4f6eaa-ba90-4140-8750-b7c304f46658",
   "metadata": {},
   "outputs": [
    {
     "name": "stdout",
     "output_type": "stream",
     "text": [
      "0 i\n",
      "1 n\n",
      "2 d\n",
      "3 e\n",
      "4 r\n",
      "0 m\n",
      "1 u\n",
      "2 m\n",
      "3 m\n",
      "4 a\n",
      "0 p\n",
      "1 a\n",
      "2 p\n",
      "3 a\n"
     ]
    }
   ],
   "source": [
    "l=[\"inder\",\"mumma\",\"papa\"]\n",
    "i=0\n",
    "n=len(l)\n",
    "while i<n:\n",
    "    #print(i,l[i])\n",
    "    j=0\n",
    "    m=len(l[i])\n",
    "    while j<m:\n",
    "        print(j,l[i][j])\n",
    "        j+=1\n",
    "    i+=1"
   ]
  },
  {
   "cell_type": "code",
   "execution_count": 30,
   "id": "c6552842-e56e-40ad-b514-bddbc51bc719",
   "metadata": {},
   "outputs": [
    {
     "name": "stdout",
     "output_type": "stream",
     "text": [
      "0 inder\n",
      "0 i\n",
      "1 n\n",
      "2 d\n",
      "3 e\n",
      "4 r\n",
      "1 mumma\n",
      "0 m\n",
      "1 u\n",
      "2 m\n",
      "3 m\n",
      "4 a\n",
      "2 papa\n",
      "0 p\n",
      "1 a\n",
      "2 p\n",
      "3 a\n"
     ]
    }
   ],
   "source": [
    "l=[\"inder\",\"mumma\",\"papa\"]\n",
    "i=0\n",
    "n=len(l)\n",
    "while i<n:\n",
    "    print(i,l[i])\n",
    "    j=0\n",
    "    m=len(l[i])\n",
    "    while j<m:\n",
    "        print(j,l[i][j])\n",
    "        j+=1\n",
    "    i+=1"
   ]
  },
  {
   "cell_type": "code",
   "execution_count": null,
   "id": "5c6e9452-3142-44a7-98bb-60a557fe203c",
   "metadata": {},
   "outputs": [],
   "source": []
  }
 ],
 "metadata": {
  "kernelspec": {
   "display_name": "Python [conda env:base] *",
   "language": "python",
   "name": "conda-base-py"
  },
  "language_info": {
   "codemirror_mode": {
    "name": "ipython",
    "version": 3
   },
   "file_extension": ".py",
   "mimetype": "text/x-python",
   "name": "python",
   "nbconvert_exporter": "python",
   "pygments_lexer": "ipython3",
   "version": "3.13.5"
  }
 },
 "nbformat": 4,
 "nbformat_minor": 5
}
