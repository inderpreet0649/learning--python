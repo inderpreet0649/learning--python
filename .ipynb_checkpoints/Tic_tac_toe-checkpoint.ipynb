{
 "cells": [
  {
   "cell_type": "markdown",
   "id": "acb16b9e-4295-4ddb-a0a7-b161dcbb59b9",
   "metadata": {},
   "source": [
    "# Display"
   ]
  },
  {
   "cell_type": "code",
   "execution_count": 72,
   "id": "1c99eea0-2fcd-4772-960f-bfe469fedb17",
   "metadata": {},
   "outputs": [],
   "source": [
    "import random"
   ]
  },
  {
   "cell_type": "code",
   "execution_count": 73,
   "id": "77957dc0-e8c7-44ca-a106-1eb71ad05971",
   "metadata": {},
   "outputs": [
    {
     "ename": "SyntaxError",
     "evalue": "invalid syntax. Perhaps you forgot a comma? (3384371065.py, line 2)",
     "output_type": "error",
     "traceback": [
      "\u001b[1;36m  Cell \u001b[1;32mIn[73], line 2\u001b[1;36m\u001b[0m\n\u001b[1;33m    print(player 1)\u001b[0m\n\u001b[1;37m          ^\u001b[0m\n\u001b[1;31mSyntaxError\u001b[0m\u001b[1;31m:\u001b[0m invalid syntax. Perhaps you forgot a comma?\n"
     ]
    }
   ],
   "source": [
    "if random.radiant(0,1):\n",
    "    print(player 1)\n",
    "else:\n",
    "    print(player 2)"
   ]
  },
  {
   "cell_type": "code",
   "execution_count": null,
   "id": "650829ab-d966-473e-8df2-2694fb1a2a60",
   "metadata": {},
   "outputs": [],
   "source": []
  },
  {
   "cell_type": "code",
   "execution_count": null,
   "id": "ef48a3d1-5a8a-4e5d-9237-e99abe0106d8",
   "metadata": {},
   "outputs": [],
   "source": []
  },
  {
   "cell_type": "code",
   "execution_count": 11,
   "id": "3c907a63-e68a-445b-90b4-0ad2ac85ba38",
   "metadata": {},
   "outputs": [],
   "source": [
    "li=[\"X\"]*10"
   ]
  },
  {
   "cell_type": "code",
   "execution_count": 12,
   "id": "d57cbe35-1715-40c4-b9f7-ebf8748962f0",
   "metadata": {},
   "outputs": [
    {
     "data": {
      "text/plain": [
       "['X', 'X', 'X', 'X', 'X', 'X', 'X', 'X', 'X', 'X']"
      ]
     },
     "execution_count": 12,
     "metadata": {},
     "output_type": "execute_result"
    }
   ],
   "source": [
    "li"
   ]
  },
  {
   "cell_type": "code",
   "execution_count": 13,
   "id": "9b5309e1-7f49-433c-ba6c-bfb14cfcbd67",
   "metadata": {},
   "outputs": [],
   "source": [
    "def display():\n",
    "    print(li[7],\" | \",li[8],\" | \" , li[9])\n",
    "    print(\"-\"*14)\n",
    "    print(li[4],\" | \",li[5],\" | \" , li[6])\n",
    "    print(\"-\"*14)\n",
    "    print(li[1],\" | \",li[2],\" | \" , li[3])\n",
    "    print(\"-\"*14)"
   ]
  },
  {
   "cell_type": "code",
   "execution_count": 14,
   "id": "3128549c-4bcd-46ac-824b-90fd2a9e2672",
   "metadata": {},
   "outputs": [
    {
     "name": "stdout",
     "output_type": "stream",
     "text": [
      "X  |  X  |  X\n",
      "--------------\n",
      "X  |  X  |  X\n",
      "--------------\n",
      "X  |  X  |  X\n",
      "--------------\n"
     ]
    }
   ],
   "source": [
    "display()"
   ]
  },
  {
   "cell_type": "code",
   "execution_count": 15,
   "id": "b15f86fb-54b8-422f-8446-18998a45bf68",
   "metadata": {},
   "outputs": [],
   "source": [
    "li[5]=\"0\""
   ]
  },
  {
   "cell_type": "code",
   "execution_count": 69,
   "id": "9e22721a-88aa-4867-bde8-a147ba3b8191",
   "metadata": {},
   "outputs": [],
   "source": [
    "def display():\n",
    "    print(li[7],\" | \",li[8],\" | \" , li[9])\n",
    "    print(\"-\"*14)\n",
    "    print(li[4],\" | \",li[5],\" | \" , li[6])\n",
    "    print(\"-\"*14)\n",
    "    print(li[1],\" | \",li[2],\" | \" , li[3])\n",
    "    print(\"-\"*14)"
   ]
  },
  {
   "cell_type": "code",
   "execution_count": 17,
   "id": "005a82c4-a9d8-4ed3-9067-63dda6f3e565",
   "metadata": {},
   "outputs": [
    {
     "name": "stdout",
     "output_type": "stream",
     "text": [
      "X  |  X  |  X\n",
      "--------------\n",
      "X  |  0  |  X\n",
      "--------------\n",
      "X  |  X  |  X\n",
      "--------------\n"
     ]
    }
   ],
   "source": [
    "display()"
   ]
  },
  {
   "cell_type": "code",
   "execution_count": 18,
   "id": "3d20e9b8-2463-45e0-a35b-434a94d92549",
   "metadata": {},
   "outputs": [],
   "source": [
    "li[7]=\"0\""
   ]
  },
  {
   "cell_type": "code",
   "execution_count": 19,
   "id": "7e2a7a05-fe53-41d4-be22-5e3ff78e59e0",
   "metadata": {},
   "outputs": [
    {
     "name": "stdout",
     "output_type": "stream",
     "text": [
      "0  |  X  |  X\n",
      "--------------\n",
      "X  |  0  |  X\n",
      "--------------\n",
      "X  |  X  |  X\n",
      "--------------\n"
     ]
    }
   ],
   "source": [
    "display()"
   ]
  },
  {
   "cell_type": "code",
   "execution_count": 20,
   "id": "a98b8819-a0fc-466c-bd42-78a4b2652e71",
   "metadata": {},
   "outputs": [],
   "source": [
    "def put_marker(position , marker):\n",
    "    li[position]=marker"
   ]
  },
  {
   "cell_type": "code",
   "execution_count": 21,
   "id": "3c920eae-b75f-48da-9b14-78c7df843ccd",
   "metadata": {},
   "outputs": [],
   "source": [
    "put_marker(3,\"X\")"
   ]
  },
  {
   "cell_type": "code",
   "execution_count": 22,
   "id": "7b790c6a-341b-4a2e-acae-3b18c0fc8696",
   "metadata": {},
   "outputs": [
    {
     "name": "stdout",
     "output_type": "stream",
     "text": [
      "0  |  X  |  X\n",
      "--------------\n",
      "X  |  0  |  X\n",
      "--------------\n",
      "X  |  X  |  X\n",
      "--------------\n"
     ]
    }
   ],
   "source": [
    "display()"
   ]
  },
  {
   "cell_type": "code",
   "execution_count": 23,
   "id": "7926f397-f8ee-4f01-a4bb-1959aaaf6700",
   "metadata": {},
   "outputs": [],
   "source": [
    "li=[\" \"]*10"
   ]
  },
  {
   "cell_type": "code",
   "execution_count": 24,
   "id": "c46bc36a-c3f1-4fce-a78b-59cc0506d4b5",
   "metadata": {},
   "outputs": [
    {
     "name": "stdout",
     "output_type": "stream",
     "text": [
      "   |     |   \n",
      "--------------\n",
      "   |     |   \n",
      "--------------\n",
      "   |     |   \n",
      "--------------\n"
     ]
    }
   ],
   "source": [
    "display()"
   ]
  },
  {
   "cell_type": "code",
   "execution_count": 25,
   "id": "8ceec2fb-76c2-4e55-be70-68d33261f763",
   "metadata": {},
   "outputs": [],
   "source": [
    "put_marker(3,\"X\")"
   ]
  },
  {
   "cell_type": "code",
   "execution_count": 26,
   "id": "9b7a8ecc-10d2-496c-b359-186b122cb1d9",
   "metadata": {},
   "outputs": [
    {
     "name": "stdout",
     "output_type": "stream",
     "text": [
      "   |     |   \n",
      "--------------\n",
      "   |     |   \n",
      "--------------\n",
      "X  |     |   \n",
      "--------------\n"
     ]
    }
   ],
   "source": [
    "display()"
   ]
  },
  {
   "cell_type": "code",
   "execution_count": 27,
   "id": "cd267d4e-ed12-4073-85a1-afdb4d3757ab",
   "metadata": {},
   "outputs": [],
   "source": [
    "li[5]=\"0\""
   ]
  },
  {
   "cell_type": "code",
   "execution_count": 28,
   "id": "62fcc791-5325-46ca-a97a-cebb819989dd",
   "metadata": {},
   "outputs": [
    {
     "name": "stdout",
     "output_type": "stream",
     "text": [
      "   |     |   \n",
      "--------------\n",
      "   |  0  |   \n",
      "--------------\n",
      "X  |     |   \n",
      "--------------\n"
     ]
    }
   ],
   "source": [
    "display()"
   ]
  },
  {
   "cell_type": "code",
   "execution_count": 29,
   "id": "12cda2cb-28f1-4416-bfa0-698629948805",
   "metadata": {},
   "outputs": [],
   "source": [
    "def check_position_empty(position):\n",
    "    if li[position]==\" \":\n",
    "        return True\n",
    "    else:\n",
    "        return False"
   ]
  },
  {
   "cell_type": "code",
   "execution_count": 30,
   "id": "6f6afd5e-2372-48a6-80a2-2958bb9abd0d",
   "metadata": {},
   "outputs": [
    {
     "data": {
      "text/plain": [
       "False"
      ]
     },
     "execution_count": 30,
     "metadata": {},
     "output_type": "execute_result"
    }
   ],
   "source": [
    "check_position_empty(3)"
   ]
  },
  {
   "cell_type": "code",
   "execution_count": 31,
   "id": "2afde110-dc43-4605-9163-cbe03f3ff38e",
   "metadata": {},
   "outputs": [
    {
     "name": "stdin",
     "output_type": "stream",
     "text": [
      " 5\n"
     ]
    },
    {
     "data": {
      "text/plain": [
       "5"
      ]
     },
     "execution_count": 31,
     "metadata": {},
     "output_type": "execute_result"
    }
   ],
   "source": [
    "int(input())"
   ]
  },
  {
   "cell_type": "code",
   "execution_count": 32,
   "id": "c98bf9dc-e0aa-40dd-8410-56fcbea4ab89",
   "metadata": {},
   "outputs": [
    {
     "name": "stdin",
     "output_type": "stream",
     "text": [
      "None inder\n"
     ]
    },
    {
     "name": "stdout",
     "output_type": "stream",
     "text": [
      "please provide a number\n"
     ]
    }
   ],
   "source": [
    "#def take_position():\n",
    "position = None\n",
    "try:\n",
    "    position =int(input(position))\n",
    "except ValueError:\n",
    "    print(\"please provide a number\")"
   ]
  },
  {
   "cell_type": "code",
   "execution_count": 43,
   "id": "9f4304ec-a361-4561-b3d5-f3664884ff5d",
   "metadata": {},
   "outputs": [
    {
     "name": "stdin",
     "output_type": "stream",
     "text": [
      "None inder\n"
     ]
    },
    {
     "name": "stdout",
     "output_type": "stream",
     "text": [
      "please provide a number\n"
     ]
    }
   ],
   "source": [
    "#def take_position():\n",
    "position = None\n",
    "try:\n",
    "    position =int(input(position))\n",
    "except ValueError:\n",
    "    print(\"please provide a number\")"
   ]
  },
  {
   "cell_type": "code",
   "execution_count": 33,
   "id": "f4502dbe-2871-4426-a032-0a5ec6ad3810",
   "metadata": {},
   "outputs": [
    {
     "name": "stdin",
     "output_type": "stream",
     "text": [
      "None inder\n"
     ]
    },
    {
     "name": "stdout",
     "output_type": "stream",
     "text": [
      "please provide a number\n"
     ]
    },
    {
     "name": "stdin",
     "output_type": "stream",
     "text": [
      "None preet\n"
     ]
    },
    {
     "name": "stdout",
     "output_type": "stream",
     "text": [
      "please provide a number\n"
     ]
    },
    {
     "name": "stdin",
     "output_type": "stream",
     "text": [
      "None 7\n"
     ]
    }
   ],
   "source": [
    "#jabh tak shi answer na aaye yeh puchta rhega bar bar\n",
    "position = None\n",
    "while not position:\n",
    "    try:\n",
    "        position =int(input(position))\n",
    "    except ValueError:\n",
    "        print(\"please provide a number\")"
   ]
  },
  {
   "cell_type": "code",
   "execution_count": 45,
   "id": "1155e2c1-1a5c-4f19-a007-833fdf439de8",
   "metadata": {},
   "outputs": [
    {
     "name": "stdin",
     "output_type": "stream",
     "text": [
      "None -5\n"
     ]
    }
   ],
   "source": [
    "#negative pr bhi chl rha hai\n",
    "position = None\n",
    "while not position:\n",
    "    try:\n",
    "        position =int(input(position))\n",
    "    except ValueError:\n",
    "        print(\"please provide a number\")"
   ]
  },
  {
   "cell_type": "code",
   "execution_count": 51,
   "id": "5ea0bb4d-6516-40a0-b6e9-a532ee9ea3e6",
   "metadata": {},
   "outputs": [],
   "source": [
    "def empty_positions():\n",
    "    ans = []\n",
    "    for i in range(1,len(li)):\n",
    "        if li[i]==\" \":\n",
    "            ans.append(i)\n",
    "            \n",
    "    return ans "
   ]
  },
  {
   "cell_type": "code",
   "execution_count": 52,
   "id": "74d66de1-b681-4662-94f7-23372f6e1ff3",
   "metadata": {},
   "outputs": [
    {
     "data": {
      "text/plain": [
       "[1, 2, 3, 4, 5, 7, 8, 9]"
      ]
     },
     "execution_count": 52,
     "metadata": {},
     "output_type": "execute_result"
    }
   ],
   "source": [
    "empty_positions()"
   ]
  },
  {
   "cell_type": "code",
   "execution_count": 53,
   "id": "702904a8-049a-4d9a-a33f-19031cfcacea",
   "metadata": {},
   "outputs": [],
   "source": [
    "def take_position():\n",
    "    position = None\n",
    "    available =empty_positions()\n",
    "    while position is None:\n",
    "        try:\n",
    "            position =int(input(f\"please provide a number among {available}\"))\n",
    "        except ValueError:\n",
    "            print(f\"please provide a number among {available}\")\n",
    "        else:\n",
    "            if position in available:\n",
    "                return position\n",
    "            else:\n",
    "                print(f\"please provide a number among {available}\")\n",
    "                position = None"
   ]
  },
  {
   "cell_type": "code",
   "execution_count": 54,
   "id": "7ebbf131-5a68-4784-ba4f-7d8f9cc10227",
   "metadata": {},
   "outputs": [
    {
     "name": "stdin",
     "output_type": "stream",
     "text": [
      "please provide a number among [1, 2, 3, 4, 5, 7, 8, 9] \n"
     ]
    },
    {
     "name": "stdout",
     "output_type": "stream",
     "text": [
      "please provide a number among [1, 2, 3, 4, 5, 7, 8, 9]\n"
     ]
    },
    {
     "name": "stdin",
     "output_type": "stream",
     "text": [
      "please provide a number among [1, 2, 3, 4, 5, 7, 8, 9] \n"
     ]
    },
    {
     "name": "stdout",
     "output_type": "stream",
     "text": [
      "please provide a number among [1, 2, 3, 4, 5, 7, 8, 9]\n"
     ]
    },
    {
     "name": "stdin",
     "output_type": "stream",
     "text": [
      "please provide a number among [1, 2, 3, 4, 5, 7, 8, 9] 9\n"
     ]
    },
    {
     "data": {
      "text/plain": [
       "9"
      ]
     },
     "execution_count": 54,
     "metadata": {},
     "output_type": "execute_result"
    }
   ],
   "source": [
    "take_position()"
   ]
  },
  {
   "cell_type": "code",
   "execution_count": 70,
   "id": "4669adb7-5ac9-40fd-ba6a-f5f41f2be8db",
   "metadata": {},
   "outputs": [],
   "source": [
    "def check_win():\n",
    "    if (li[7]==li[8]==li[9]!=\" \")or\\\n",
    "       (li[4]==li[5]==li[6]!=\" \")or\\\n",
    "       (li[1]==li[2]==li[3]!=\" \")or\\\n",
    "       (li[7]==li[4]==li[1]!=\" \")or\\\n",
    "       (li[8]==li[5]==li[2]!=\" \")or\\\n",
    "       (li[9]==li[6]==li[3]!=\" \")or\\\n",
    "       (li[7]==li[5]==li[3]!=\" \")or\\\n",
    "       (li[1]==li[5]==li[9]!=\" \"):\n",
    "        return True \n",
    "    else:\n",
    "        return False"
   ]
  },
  {
   "cell_type": "code",
   "execution_count": 56,
   "id": "1ddc6630-a2a2-46ce-b024-041de94505a1",
   "metadata": {},
   "outputs": [],
   "source": [
    "def board_full():\n",
    "    if len(empty_positions())==0:\n",
    "        return True\n",
    "    else:\n",
    "        return False"
   ]
  },
  {
   "cell_type": "code",
   "execution_count": 57,
   "id": "7d400b72-da38-42bb-9c5a-6a6d87da55fc",
   "metadata": {},
   "outputs": [
    {
     "data": {
      "text/plain": [
       "False"
      ]
     },
     "execution_count": 57,
     "metadata": {},
     "output_type": "execute_result"
    }
   ],
   "source": [
    "board_full()"
   ]
  },
  {
   "cell_type": "code",
   "execution_count": 42,
   "id": "e69242a2-df17-409f-9f52-8b249fe79819",
   "metadata": {},
   "outputs": [],
   "source": [
    "#we full the board here\n",
    "li=[\"X\"]*10"
   ]
  },
  {
   "cell_type": "code",
   "execution_count": 43,
   "id": "8b3d554b-667a-4c30-9bda-674081287908",
   "metadata": {},
   "outputs": [
    {
     "data": {
      "text/plain": [
       "True"
      ]
     },
     "execution_count": 43,
     "metadata": {},
     "output_type": "execute_result"
    }
   ],
   "source": [
    "board_full()"
   ]
  },
  {
   "cell_type": "code",
   "execution_count": 58,
   "id": "e915bcfc-5200-4f6d-9a4d-7fb45055d1ae",
   "metadata": {},
   "outputs": [],
   "source": [
    "def change_marker(marker):\n",
    "    if marker == '0':\n",
    "        return \"X\"\n",
    "    else:\n",
    "        return \"0\""
   ]
  },
  {
   "cell_type": "code",
   "execution_count": 61,
   "id": "765d14c3-aaac-4e70-bdfb-321cea1f3227",
   "metadata": {},
   "outputs": [
    {
     "name": "stdout",
     "output_type": "stream",
     "text": [
      "   |     |   \n",
      "--------------\n",
      "   |     |   \n",
      "--------------\n",
      "   |     |   \n",
      "--------------\n"
     ]
    },
    {
     "name": "stdin",
     "output_type": "stream",
     "text": [
      "please provide a number among [1, 2, 3, 4, 5, 6, 7, 8, 9] 8\n"
     ]
    },
    {
     "name": "stdout",
     "output_type": "stream",
     "text": [
      "   |  0  |   \n",
      "--------------\n",
      "   |     |   \n",
      "--------------\n",
      "   |     |   \n",
      "--------------\n"
     ]
    },
    {
     "name": "stdin",
     "output_type": "stream",
     "text": [
      "please provide a number among [1, 2, 3, 4, 5, 6, 7, 9] 6\n"
     ]
    },
    {
     "name": "stdout",
     "output_type": "stream",
     "text": [
      "   |  0  |   \n",
      "--------------\n",
      "   |     |  X\n",
      "--------------\n",
      "   |     |   \n",
      "--------------\n"
     ]
    },
    {
     "name": "stdin",
     "output_type": "stream",
     "text": [
      "please provide a number among [1, 2, 3, 4, 5, 7, 9] 5\n"
     ]
    },
    {
     "name": "stdout",
     "output_type": "stream",
     "text": [
      "   |  0  |   \n",
      "--------------\n",
      "   |  0  |  X\n",
      "--------------\n",
      "   |     |   \n",
      "--------------\n"
     ]
    },
    {
     "name": "stdin",
     "output_type": "stream",
     "text": [
      "please provide a number among [1, 2, 3, 4, 7, 9] 9\n"
     ]
    },
    {
     "name": "stdout",
     "output_type": "stream",
     "text": [
      "   |  0  |  X\n",
      "--------------\n",
      "   |  0  |  X\n",
      "--------------\n",
      "   |     |   \n",
      "--------------\n"
     ]
    },
    {
     "name": "stdin",
     "output_type": "stream",
     "text": [
      "please provide a number among [1, 2, 3, 4, 7] 4\n"
     ]
    },
    {
     "name": "stdout",
     "output_type": "stream",
     "text": [
      "   |  0  |  X\n",
      "--------------\n",
      "0  |  0  |  X\n",
      "--------------\n",
      "   |     |   \n",
      "--------------\n"
     ]
    },
    {
     "name": "stdin",
     "output_type": "stream",
     "text": [
      "please provide a number among [1, 2, 3, 7] 7\n"
     ]
    },
    {
     "name": "stdout",
     "output_type": "stream",
     "text": [
      "X  |  0  |  X\n",
      "--------------\n",
      "0  |  0  |  X\n",
      "--------------\n",
      "   |     |   \n",
      "--------------\n"
     ]
    },
    {
     "name": "stdin",
     "output_type": "stream",
     "text": [
      "please provide a number among [1, 2, 3] 3\n"
     ]
    },
    {
     "name": "stdout",
     "output_type": "stream",
     "text": [
      "X  |  0  |  X\n",
      "--------------\n",
      "0  |  0  |  X\n",
      "--------------\n",
      "0  |     |   \n",
      "--------------\n"
     ]
    },
    {
     "name": "stdin",
     "output_type": "stream",
     "text": [
      "please provide a number among [1, 2] 3\n"
     ]
    },
    {
     "name": "stdout",
     "output_type": "stream",
     "text": [
      "please provide a number among [1, 2]\n"
     ]
    },
    {
     "name": "stdin",
     "output_type": "stream",
     "text": [
      "please provide a number among [1, 2] 2\n"
     ]
    },
    {
     "name": "stdout",
     "output_type": "stream",
     "text": [
      "X  |  0  |  X\n",
      "--------------\n",
      "0  |  0  |  X\n",
      "--------------\n",
      "0  |  X  |   \n",
      "--------------\n"
     ]
    },
    {
     "name": "stdin",
     "output_type": "stream",
     "text": [
      "please provide a number among [1] 1\n"
     ]
    },
    {
     "name": "stdout",
     "output_type": "stream",
     "text": [
      "X  |  0  |  X\n",
      "--------------\n",
      "0  |  0  |  X\n",
      "--------------\n",
      "0  |  X  |  0\n",
      "--------------\n",
      "board full, game draw,do you want to play again\n"
     ]
    }
   ],
   "source": [
    "li=[\" \"]*10\n",
    "game=True\n",
    "marker = \"0\"\n",
    "display()\n",
    "while game:\n",
    "    position = take_position()\n",
    "    put_marker(position, marker)\n",
    "    display()\n",
    "    if check_win():\n",
    "        print(f\"congo {marker} won the game\")\n",
    "        game= False\n",
    "        break6\n",
    "    elif board_full():\n",
    "        print(f\"board full, game draw,do you want to play again\")\n",
    "        game=False\n",
    "        break\n",
    "    else:\n",
    "        marker = change_marker(marker)"
   ]
  },
  {
   "cell_type": "code",
   "execution_count": 71,
   "id": "ecbfd350-4c3d-4a17-8761-bf689c920d82",
   "metadata": {},
   "outputs": [
    {
     "name": "stdout",
     "output_type": "stream",
     "text": [
      "   |     |   \n",
      "--------------\n",
      "   |     |   \n",
      "--------------\n",
      "   |     |   \n",
      "--------------\n"
     ]
    },
    {
     "name": "stdin",
     "output_type": "stream",
     "text": [
      "please provide a number among [1, 2, 3, 4, 5, 6, 7, 8, 9] 9\n"
     ]
    },
    {
     "name": "stdout",
     "output_type": "stream",
     "text": [
      "   |     |  0\n",
      "--------------\n",
      "   |     |   \n",
      "--------------\n",
      "   |     |   \n",
      "--------------\n"
     ]
    },
    {
     "name": "stdin",
     "output_type": "stream",
     "text": [
      "please provide a number among [1, 2, 3, 4, 5, 6, 7, 8] 5\n"
     ]
    },
    {
     "name": "stdout",
     "output_type": "stream",
     "text": [
      "   |     |  0\n",
      "--------------\n",
      "   |  X  |   \n",
      "--------------\n",
      "   |     |   \n",
      "--------------\n"
     ]
    },
    {
     "name": "stdin",
     "output_type": "stream",
     "text": [
      "please provide a number among [1, 2, 3, 4, 6, 7, 8] 4\n"
     ]
    },
    {
     "name": "stdout",
     "output_type": "stream",
     "text": [
      "   |     |  0\n",
      "--------------\n",
      "0  |  X  |   \n",
      "--------------\n",
      "   |     |   \n",
      "--------------\n"
     ]
    },
    {
     "name": "stdin",
     "output_type": "stream",
     "text": [
      "please provide a number among [1, 2, 3, 6, 7, 8] 3\n"
     ]
    },
    {
     "name": "stdout",
     "output_type": "stream",
     "text": [
      "   |     |  0\n",
      "--------------\n",
      "0  |  X  |   \n",
      "--------------\n",
      "   |     |  X\n",
      "--------------\n"
     ]
    },
    {
     "name": "stdin",
     "output_type": "stream",
     "text": [
      "please provide a number among [1, 2, 6, 7, 8] 6\n"
     ]
    },
    {
     "name": "stdout",
     "output_type": "stream",
     "text": [
      "   |     |  0\n",
      "--------------\n",
      "0  |  X  |  0\n",
      "--------------\n",
      "   |     |  X\n",
      "--------------\n"
     ]
    },
    {
     "name": "stdin",
     "output_type": "stream",
     "text": [
      "please provide a number among [1, 2, 7, 8] 8\n"
     ]
    },
    {
     "name": "stdout",
     "output_type": "stream",
     "text": [
      "   |  X  |  0\n",
      "--------------\n",
      "0  |  X  |  0\n",
      "--------------\n",
      "   |     |  X\n",
      "--------------\n"
     ]
    },
    {
     "name": "stdin",
     "output_type": "stream",
     "text": [
      "please provide a number among [1, 2, 7] 7\n"
     ]
    },
    {
     "name": "stdout",
     "output_type": "stream",
     "text": [
      "0  |  X  |  0\n",
      "--------------\n",
      "0  |  X  |  0\n",
      "--------------\n",
      "   |     |  X\n",
      "--------------\n"
     ]
    },
    {
     "name": "stdin",
     "output_type": "stream",
     "text": [
      "please provide a number among [1, 2] 1\n"
     ]
    },
    {
     "name": "stdout",
     "output_type": "stream",
     "text": [
      "0  |  X  |  0\n",
      "--------------\n",
      "0  |  X  |  0\n",
      "--------------\n",
      "X  |     |  X\n",
      "--------------\n"
     ]
    },
    {
     "name": "stdin",
     "output_type": "stream",
     "text": [
      "please provide a number among [2] 2\n"
     ]
    },
    {
     "name": "stdout",
     "output_type": "stream",
     "text": [
      "0  |  X  |  0\n",
      "--------------\n",
      "0  |  X  |  0\n",
      "--------------\n",
      "X  |  0  |  X\n",
      "--------------\n",
      "board full, game draw,do you want to play again\n"
     ]
    },
    {
     "name": "stdin",
     "output_type": "stream",
     "text": [
      "do you want to play again,yes , no? y\n"
     ]
    },
    {
     "name": "stdout",
     "output_type": "stream",
     "text": [
      "new game\n",
      "   |     |   \n",
      "--------------\n",
      "   |     |   \n",
      "--------------\n",
      "   |     |   \n",
      "--------------\n"
     ]
    }
   ],
   "source": [
    "li=[\" \"]*10\n",
    "game=True\n",
    "marker = \"0\"\n",
    "display()\n",
    "while game:\n",
    "    position = take_position()\n",
    "    put_marker(position, marker)\n",
    "    display()\n",
    "    if check_win():\n",
    "        print(f\"congo {marker} won the game\")\n",
    "        game= False\n",
    "        break\n",
    "    elif board_full():\n",
    "        print(f\"board full, game draw,do you want to play again\")\n",
    "        play_again = input('do you want to play again,yes , no?')\n",
    "        if play_again[0].lower()=='y':\n",
    "            li=[\" \"]*10\n",
    "            print('new game')\n",
    "            display()\n",
    "            game=True\n",
    "        else:\n",
    "            game= False\n",
    "        game=False\n",
    "        break\n",
    "    else:\n",
    "        marker = change_marker(marker)"
   ]
  },
  {
   "cell_type": "code",
   "execution_count": 67,
   "id": "3cdaeabc-b682-4262-a7fa-a93d7e0cf8e3",
   "metadata": {},
   "outputs": [],
   "source": [
    "from IPython.display import clear_output"
   ]
  },
  {
   "cell_type": "code",
   "execution_count": 68,
   "id": "135b9072-a92b-4daf-a79e-cf49ecbeccef",
   "metadata": {},
   "outputs": [
    {
     "name": "stdout",
     "output_type": "stream",
     "text": [
      "0  |  0  |  0\n",
      "--------------\n",
      "X  |  0  |  X\n",
      "--------------\n",
      "0  |  X  |  X\n",
      "--------------\n",
      "congo 0 won the game\n"
     ]
    }
   ],
   "source": [
    "li=[\" \"]*10\n",
    "game=True\n",
    "marker = \"0\"\n",
    "display()\n",
    "while game:\n",
    "    position = take_position()\n",
    "    put_marker(position, marker)\n",
    "    clear_output()\n",
    "    display()\n",
    "    if check_win():\n",
    "        print(f\"congo {marker} won the game\")\n",
    "        game= False\n",
    "        break\n",
    "    elif board_full():\n",
    "        print(f\"board full, game draw,do you want to play again\")\n",
    "        play_again = input('do you want to play again,yes , no?')\n",
    "        if play_again[0].lower()=='y':\n",
    "            li=[\" \"]*10\n",
    "            print('new game')\n",
    "            display()\n",
    "            game=True\n",
    "        else:\n",
    "            game= False\n",
    "        game=False\n",
    "        break\n",
    "    else:\n",
    "        marker = change_marker(marker)"
   ]
  },
  {
   "cell_type": "code",
   "execution_count": null,
   "id": "2774ba57-e8b4-4a6f-a762-405618e8e57a",
   "metadata": {},
   "outputs": [
    {
     "name": "stdout",
     "output_type": "stream",
     "text": [
      "   |     |   \n",
      "--------------\n",
      "   |     |   \n",
      "--------------\n",
      "   |     |   \n",
      "--------------\n"
     ]
    }
   ],
   "source": [
    "li=[\" \"]*10\n",
    "game=True\n",
    "marker = \"0\"\n",
    "display()\n",
    "while game:\n",
    "    position = take_position()\n",
    "    put_marker(position, marker)\n",
    "    clear_output()\n",
    "    display()\n",
    "    if check_win():\n",
    "        print(f\"congo {marker} won the game\")\n",
    "        game= False\n",
    "        break\n",
    "    elif board_full():\n",
    "        print(f\"board full, game draw,do you want to play again\")\n",
    "        play_again = input('do you want to play again,yes , no?')\n",
    "        if play_again[0] in ('y','Y'):\n",
    "            li=[\" \"]*10\n",
    "            print('new game')\n",
    "            display()\n",
    "            game=True\n",
    "        else:\n",
    "            game= False\n",
    "        game=False\n",
    "        break\n",
    "    else:\n",
    "        marker = change_marker(marker)"
   ]
  },
  {
   "cell_type": "code",
   "execution_count": null,
   "id": "ffd22f26-8d78-4165-adbf-c7eb0325b7e8",
   "metadata": {},
   "outputs": [],
   "source": []
  }
 ],
 "metadata": {
  "kernelspec": {
   "display_name": "Python [conda env:base] *",
   "language": "python",
   "name": "conda-base-py"
  },
  "language_info": {
   "codemirror_mode": {
    "name": "ipython",
    "version": 3
   },
   "file_extension": ".py",
   "mimetype": "text/x-python",
   "name": "python",
   "nbconvert_exporter": "python",
   "pygments_lexer": "ipython3",
   "version": "3.13.5"
  }
 },
 "nbformat": 4,
 "nbformat_minor": 5
}
