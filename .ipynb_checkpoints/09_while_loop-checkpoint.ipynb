{
 "cells": [
  {
   "cell_type": "markdown",
   "id": "838f207b-2115-4977-8bc8-4d2e850480f9",
   "metadata": {},
   "source": [
    "## repeating a task again and again untill certain criteria is sertisfied"
   ]
  },
  {
   "cell_type": "code",
   "execution_count": 3,
   "id": "1a90910f-1b50-4bf8-ab87-4fc10320544c",
   "metadata": {},
   "outputs": [],
   "source": [
    "#when u repeat again and again that is loop..loops are of two types..ist when number of time and value is mentioned \n",
    "#when number of time and value not mentioned.\n",
    "#break is imp in while true ortherwise laptop crash...if in this condition tap restart kernal"
   ]
  },
  {
   "cell_type": "code",
   "execution_count": 1,
   "id": "0b5a73e6-7296-4c57-a700-9a55b6d84cc8",
   "metadata": {},
   "outputs": [
    {
     "name": "stdout",
     "output_type": "stream",
     "text": [
      "hi\n",
      "hello\n",
      "shubham\n"
     ]
    }
   ],
   "source": [
    "#starting an infinite while loop\n",
    "while True:\n",
    "    print(\"hi\")\n",
    "    print(\"hello\")\n",
    "#exisiting a loop\n",
    "    break\n",
    "    print(\"bye\")\n",
    "#printing a value after while loop\n",
    "print(\"shubham\")"
   ]
  },
  {
   "cell_type": "code",
   "execution_count": 4,
   "id": "c816a9ff-ab34-473f-aa8a-bd49ac9f0ace",
   "metadata": {},
   "outputs": [],
   "source": [
    "i=1"
   ]
  },
  {
   "cell_type": "code",
   "execution_count": 2,
   "id": "d7074d1e-f358-49db-a29d-28aad0e32e30",
   "metadata": {},
   "outputs": [
    {
     "name": "stdout",
     "output_type": "stream",
     "text": [
      "1\n",
      "2\n"
     ]
    }
   ],
   "source": [
    "#startting a number\n",
    "i=1\n",
    "#starting an infinite while loop\n",
    "while True:\n",
    "    #printing i\n",
    "    print(i)\n",
    "    #increasing i\n",
    "    i+=1\n",
    "    print(i)\n",
    "    break"
   ]
  },
  {
   "cell_type": "code",
   "execution_count": 6,
   "id": "f552b4a1-1d04-470f-8b8e-50967961b5df",
   "metadata": {},
   "outputs": [
    {
     "data": {
      "text/plain": [
       "2"
      ]
     },
     "execution_count": 6,
     "metadata": {},
     "output_type": "execute_result"
    }
   ],
   "source": [
    "i"
   ]
  },
  {
   "cell_type": "code",
   "execution_count": 20,
   "id": "362f9ee8-9285-4e49-90b4-0683a491cb26",
   "metadata": {},
   "outputs": [],
   "source": [
    "# break is very very important for while loop otherwise laptop is crashed is accidently crashed restart kernal or restart your laptop..\n",
    "#also indentation ka dyane rakhna hai"
   ]
  },
  {
   "cell_type": "code",
   "execution_count": 7,
   "id": "3d7256fb-9c0c-4eac-a3c9-34449ce0dddd",
   "metadata": {},
   "outputs": [
    {
     "name": "stdout",
     "output_type": "stream",
     "text": [
      "2\n",
      "3\n"
     ]
    }
   ],
   "source": [
    "while True:\n",
    "    print(i)\n",
    "    i+=1\n",
    "    print(i)\n",
    "    break"
   ]
  },
  {
   "cell_type": "code",
   "execution_count": 6,
   "id": "90c94320-55fe-41ac-ab92-2359e5488caf",
   "metadata": {},
   "outputs": [
    {
     "name": "stdout",
     "output_type": "stream",
     "text": [
      "1\n",
      "2\n",
      "3\n",
      "4\n"
     ]
    }
   ],
   "source": [
    "#startting a number\n",
    "i=1\n",
    "#starting an infinite while loop\n",
    "while True:\n",
    "    #printing i\n",
    "    print(i)\n",
    "    #increasing i\n",
    "    i+=1\n",
    "    #checking if i has reaced value 5\n",
    "    if i == 5:\n",
    "        #breaking out of the loop\n",
    "        break\n",
    "        "
   ]
  },
  {
   "cell_type": "code",
   "execution_count": 3,
   "id": "c9fe9760-059e-4555-9b30-5d1857598f8b",
   "metadata": {},
   "outputs": [
    {
     "name": "stdout",
     "output_type": "stream",
     "text": [
      "0\n",
      "1\n",
      "2\n"
     ]
    }
   ],
   "source": [
    "#starting a number\n",
    "i=0\n",
    "#starting an while loop for i<3-0,1,2\n",
    "while i<3:\n",
    "    #printing values of i\n",
    "    print(i)\n",
    "    #increasing i till it reaches 3\n",
    "    i += 1"
   ]
  },
  {
   "cell_type": "code",
   "execution_count": 2,
   "id": "f92bcf59-4f61-4551-8e2c-572ff9f52aa2",
   "metadata": {},
   "outputs": [
    {
     "name": "stdout",
     "output_type": "stream",
     "text": [
      "0\n",
      "1\n",
      "2\n"
     ]
    }
   ],
   "source": [
    "i=0\n",
    "n=3\n",
    "while i<n:\n",
    "    print(i)\n",
    "    i += 1"
   ]
  },
  {
   "cell_type": "code",
   "execution_count": 3,
   "id": "a32319d3-4e7f-4291-a2b1-b39987f7960d",
   "metadata": {},
   "outputs": [
    {
     "name": "stdout",
     "output_type": "stream",
     "text": [
      "0\n",
      "2\n",
      "4\n",
      "6\n",
      "8\n"
     ]
    }
   ],
   "source": [
    "#0is starting number and 10 is ending number and 2 is step sizing\n",
    "i=0\n",
    "n=10\n",
    "while i<n:\n",
    "    print(i)\n",
    "    i += 2"
   ]
  },
  {
   "cell_type": "code",
   "execution_count": 4,
   "id": "5f380b8a-5aca-4a1e-b82c-2fa584873781",
   "metadata": {},
   "outputs": [
    {
     "name": "stdout",
     "output_type": "stream",
     "text": [
      "0\n",
      "1\n",
      "2\n",
      "3\n",
      "4\n",
      "5\n",
      "6\n",
      "7\n",
      "8\n",
      "9\n"
     ]
    }
   ],
   "source": [
    "#0is starting number and 10 is ending number and 1 is step sizing\n",
    "i=0\n",
    "n=10\n",
    "while i<n:\n",
    "    print(i)\n",
    "    i += 1"
   ]
  },
  {
   "cell_type": "code",
   "execution_count": 5,
   "id": "666fda54-cfe6-4c72-b434-dacbf536d095",
   "metadata": {},
   "outputs": [
    {
     "name": "stdout",
     "output_type": "stream",
     "text": [
      "0\n",
      "1\n",
      "2\n",
      "3\n",
      "4\n",
      "5\n",
      "6\n",
      "7\n"
     ]
    }
   ],
   "source": [
    "i=0\n",
    "n=7\n",
    "while i<=n:\n",
    "    print(i)\n",
    "    i+=1"
   ]
  },
  {
   "cell_type": "code",
   "execution_count": 7,
   "id": "fa107d3d-62d2-4f10-9e95-209f7460e24c",
   "metadata": {},
   "outputs": [
    {
     "name": "stdout",
     "output_type": "stream",
     "text": [
      "1\n",
      "2\n",
      "3\n",
      "4\n",
      "5\n",
      "6\n",
      "7\n"
     ]
    }
   ],
   "source": [
    "i=1\n",
    "n=7\n",
    "while i<=n:\n",
    "    print(i)\n",
    "    i+=1"
   ]
  },
  {
   "cell_type": "code",
   "execution_count": 4,
   "id": "3c4d3851-04ef-4000-b0c8-c5d90ce54ab7",
   "metadata": {},
   "outputs": [
    {
     "name": "stdout",
     "output_type": "stream",
     "text": [
      "7 * 1 = 7\n",
      "7 * 2 = 14\n",
      "7 * 3 = 21\n",
      "7 * 4 = 28\n",
      "7 * 5 = 35\n",
      "7 * 6 = 42\n",
      "7 * 7 = 49\n",
      "7 * 8 = 56\n",
      "7 * 9 = 63\n",
      "7 * 10 = 70\n"
     ]
    }
   ],
   "source": [
    "#starting number\n",
    "i=1\n",
    "#ending number\n",
    "n=11\n",
    "#while loop till i reaches n\n",
    "while i<n:\n",
    "    #printing a table\n",
    "    print(7,\"*\",i,\"=\",i*7)\n",
    "    #incrementing a value of i\n",
    "    i+=1"
   ]
  },
  {
   "cell_type": "code",
   "execution_count": 13,
   "id": "e0aaa716-d04f-4454-9971-51c343a5f107",
   "metadata": {},
   "outputs": [
    {
     "name": "stdout",
     "output_type": "stream",
     "text": [
      "7 * 1\n",
      "7 * 2\n",
      "7 * 3\n",
      "7 * 4\n",
      "7 * 5\n",
      "7 * 6\n",
      "7 * 7\n",
      "7 * 8\n",
      "7 * 9\n",
      "7 * 10\n"
     ]
    }
   ],
   "source": [
    "i=1\n",
    "n=11\n",
    "while i<n:\n",
    "    print(7,\"*\",i)\n",
    "    i+=1"
   ]
  },
  {
   "cell_type": "code",
   "execution_count": 14,
   "id": "de10df95-4c60-4ea2-8115-f55599e88742",
   "metadata": {},
   "outputs": [
    {
     "name": "stdout",
     "output_type": "stream",
     "text": [
      "7 * 1 =\n",
      "7 * 2 =\n",
      "7 * 3 =\n",
      "7 * 4 =\n",
      "7 * 5 =\n",
      "7 * 6 =\n",
      "7 * 7 =\n",
      "7 * 8 =\n",
      "7 * 9 =\n",
      "7 * 10 =\n"
     ]
    }
   ],
   "source": [
    "i=1\n",
    "n=11\n",
    "while i<n:\n",
    "    print(7,\"*\",i,\"=\",)\n",
    "    i+=1"
   ]
  },
  {
   "cell_type": "code",
   "execution_count": 16,
   "id": "0b5192ac-3549-4fe7-82b5-76508e3b8148",
   "metadata": {},
   "outputs": [
    {
     "name": "stdout",
     "output_type": "stream",
     "text": [
      "7 * 1 = 7\n",
      "7 * 2 = 14\n",
      "7 * 3 = 21\n",
      "7 * 4 = 28\n",
      "7 * 5 = 35\n",
      "7 * 6 = 42\n",
      "7 * 7 = 49\n",
      "7 * 8 = 56\n",
      "7 * 9 = 63\n",
      "7 * 10 = 70\n"
     ]
    }
   ],
   "source": [
    "i=1\n",
    "n=11\n",
    "while i<n:\n",
    "    print(7,\"*\",i,\"=\",i*7)\n",
    "    i+=1"
   ]
  },
  {
   "cell_type": "code",
   "execution_count": 10,
   "id": "c2ba0cca-db16-44c8-a1e6-dc8a19b96913",
   "metadata": {},
   "outputs": [
    {
     "name": "stdout",
     "output_type": "stream",
     "text": [
      "9 * 1 = 9\n",
      "9 * 2 = 18\n",
      "9 * 3 = 27\n",
      "9 * 4 = 36\n",
      "9 * 5 = 45\n",
      "9 * 6 = 54\n",
      "9 * 7 = 63\n",
      "9 * 8 = 72\n",
      "9 * 9 = 81\n",
      "9 * 10 = 90\n"
     ]
    }
   ],
   "source": [
    "i=1\n",
    "n=10\n",
    "while i<=n:\n",
    "    print(9,\"*\",i,\"=\",i*9)\n",
    "    i+=1"
   ]
  },
  {
   "cell_type": "code",
   "execution_count": 17,
   "id": "ff835c82-7874-4081-944c-c824ddd071b6",
   "metadata": {},
   "outputs": [
    {
     "name": "stdout",
     "output_type": "stream",
     "text": [
      "0\n",
      "1\n",
      "2\n",
      "3\n"
     ]
    }
   ],
   "source": [
    "i =0\n",
    "n=4\n",
    "while i<n:\n",
    "    print(i)\n",
    "    i += 1"
   ]
  },
  {
   "cell_type": "code",
   "execution_count": 18,
   "id": "6b3ebef8-61d5-4c45-8f06-d7014ee59d02",
   "metadata": {},
   "outputs": [
    {
     "name": "stdout",
     "output_type": "stream",
     "text": [
      "0\n",
      "1\n",
      "2\n",
      "3\n",
      "4\n"
     ]
    }
   ],
   "source": [
    "i =0\n",
    "n=4\n",
    "while i<=n:\n",
    "    print(i)\n",
    "    i += 1"
   ]
  },
  {
   "cell_type": "code",
   "execution_count": 19,
   "id": "1ee9ea8b-0c66-47da-966a-5ee77526231c",
   "metadata": {},
   "outputs": [
    {
     "name": "stdout",
     "output_type": "stream",
     "text": [
      "0\n",
      "2\n",
      "4\n"
     ]
    }
   ],
   "source": [
    "i =0\n",
    "n=4\n",
    "while i<=n:\n",
    "    print(i)\n",
    "    i += 2"
   ]
  },
  {
   "cell_type": "code",
   "execution_count": 21,
   "id": "c24688a4-0ae0-4da2-87e1-4e5d1465b405",
   "metadata": {},
   "outputs": [],
   "source": [
    "#these three are important\n",
    "i=0\n",
    "n=7\n",
    "while i < n:\n",
    "    i+= 1"
   ]
  },
  {
   "cell_type": "code",
   "execution_count": 22,
   "id": "eb7494e4-2a2f-4d20-b5e1-0630cb547bb2",
   "metadata": {},
   "outputs": [
    {
     "name": "stdout",
     "output_type": "stream",
     "text": [
      "0\n",
      "1\n",
      "2\n",
      "3\n",
      "4\n",
      "5\n",
      "6\n"
     ]
    }
   ],
   "source": [
    "\n",
    "i=0\n",
    "n=7\n",
    "while i < n:\n",
    "    print(i)\n",
    "    i+= 1"
   ]
  },
  {
   "cell_type": "code",
   "execution_count": 23,
   "id": "0d79f3f0-b85d-4a1e-84ef-8e9c715f4bca",
   "metadata": {},
   "outputs": [
    {
     "name": "stdout",
     "output_type": "stream",
     "text": [
      "0 0\n",
      "1 1\n",
      "2 3\n",
      "3 6\n",
      "4 10\n",
      "5 15\n",
      "6 21\n",
      "21\n"
     ]
    }
   ],
   "source": [
    "i=0\n",
    "n=7\n",
    "a=0\n",
    "while i < n:\n",
    "    a+=i\n",
    "    print(i,a)\n",
    "    i+= 1\n",
    "print(a)"
   ]
  },
  {
   "cell_type": "code",
   "execution_count": 27,
   "id": "78afcdb8-6c19-4c76-ab18-6606f7c6a669",
   "metadata": {},
   "outputs": [
    {
     "name": "stdout",
     "output_type": "stream",
     "text": [
      "0 0\n",
      "1 1\n",
      "2 3\n",
      "3 6\n",
      "4 10\n",
      "hi\n"
     ]
    }
   ],
   "source": [
    "i=0\n",
    "n=5\n",
    "a=0\n",
    "#if you add another variable then must write it outside the loop before while loop like here we write a,\n",
    "#if we write inside the loop it not works properly\n",
    "while i < n:\n",
    "    a+=i\n",
    "    print(i,a)\n",
    "    i+= 1\n",
    "print(\"hi\")"
   ]
  },
  {
   "cell_type": "code",
   "execution_count": 5,
   "id": "d6705887-4030-49ab-9884-459ba9fe5b22",
   "metadata": {},
   "outputs": [
    {
     "name": "stdout",
     "output_type": "stream",
     "text": [
      "0 0\n",
      "1 1\n",
      "2 3\n",
      "3 6\n",
      "4 10\n",
      "10\n"
     ]
    }
   ],
   "source": [
    "#sum of an n natural numbers\n",
    "i=0\n",
    "n=5\n",
    "a=0\n",
    "#if you add another variable then must write it outside the loop before while loop like here we write a,\n",
    "#if we write inside the loop it not works properly\n",
    "while i < n:\n",
    "    a+=i\n",
    "    print(i,a)\n",
    "    i+= 1\n",
    "print(a)"
   ]
  },
  {
   "cell_type": "code",
   "execution_count": 30,
   "id": "65fd5278-e4ba-4f7b-85f5-226f9d34835f",
   "metadata": {},
   "outputs": [
    {
     "name": "stdout",
     "output_type": "stream",
     "text": [
      "3825\n"
     ]
    }
   ],
   "source": [
    "#sum of numbers in a range\n",
    "i=50\n",
    "n=101\n",
    "a=0\n",
    "while i < n:\n",
    "    a+=i\n",
    "    i+=1\n",
    "print(a)\n"
   ]
  },
  {
   "cell_type": "code",
   "execution_count": 31,
   "id": "486a9310-2ddd-431c-863b-475b99c43218",
   "metadata": {},
   "outputs": [
    {
     "name": "stdout",
     "output_type": "stream",
     "text": [
      "50 50\n",
      "51 101\n",
      "52 153\n",
      "53 206\n",
      "54 260\n",
      "55 315\n",
      "56 371\n",
      "57 428\n",
      "58 486\n",
      "59 545\n",
      "60 605\n",
      "61 666\n",
      "62 728\n",
      "63 791\n",
      "64 855\n",
      "65 920\n",
      "66 986\n",
      "67 1053\n",
      "68 1121\n",
      "69 1190\n",
      "70 1260\n",
      "71 1331\n",
      "72 1403\n",
      "73 1476\n",
      "74 1550\n",
      "75 1625\n",
      "76 1701\n",
      "77 1778\n",
      "78 1856\n",
      "79 1935\n",
      "80 2015\n",
      "81 2096\n",
      "82 2178\n",
      "83 2261\n",
      "84 2345\n",
      "85 2430\n",
      "86 2516\n",
      "87 2603\n",
      "88 2691\n",
      "89 2780\n",
      "90 2870\n",
      "91 2961\n",
      "92 3053\n",
      "93 3146\n",
      "94 3240\n",
      "95 3335\n",
      "96 3431\n",
      "97 3528\n",
      "98 3626\n",
      "99 3725\n",
      "100 3825\n",
      "3825\n"
     ]
    }
   ],
   "source": [
    "#sum of numbers in a range\n",
    "i=50\n",
    "n=101\n",
    "a=0\n",
    "while i < n:\n",
    "    a+=i\n",
    "    print(i,a)\n",
    "    i+=1\n",
    "print(a)\n"
   ]
  },
  {
   "cell_type": "code",
   "execution_count": 32,
   "id": "e05c5908-58e7-4c44-9e7d-0dff7e5f4075",
   "metadata": {},
   "outputs": [],
   "source": [
    "name=\"inderpreet\""
   ]
  },
  {
   "cell_type": "code",
   "execution_count": 33,
   "id": "16d7045c-919c-40bc-9fbd-4c71c8af4b28",
   "metadata": {},
   "outputs": [
    {
     "data": {
      "text/plain": [
       "10"
      ]
     },
     "execution_count": 33,
     "metadata": {},
     "output_type": "execute_result"
    }
   ],
   "source": [
    "len(name)"
   ]
  },
  {
   "cell_type": "code",
   "execution_count": 34,
   "id": "154c9637-499d-4c29-a41e-7711a297092a",
   "metadata": {},
   "outputs": [
    {
     "name": "stdout",
     "output_type": "stream",
     "text": [
      "0\n",
      "1\n",
      "2\n",
      "3\n",
      "4\n",
      "5\n",
      "6\n",
      "7\n",
      "8\n",
      "9\n"
     ]
    }
   ],
   "source": [
    "#always gives ending condition first\n",
    "i=0\n",
    "n=10\n",
    "while i<n:\n",
    "    print(i)\n",
    "    i+=1\n"
   ]
  },
  {
   "cell_type": "code",
   "execution_count": 35,
   "id": "9e8fc567-5ef9-41f8-aa6c-38a7d8b3404f",
   "metadata": {},
   "outputs": [
    {
     "name": "stdout",
     "output_type": "stream",
     "text": [
      "0\n",
      "1\n",
      "2\n",
      "3\n",
      "4\n",
      "5\n",
      "6\n",
      "7\n",
      "8\n",
      "9\n"
     ]
    }
   ],
   "source": [
    "#as len(name)and n is same so we can write\n",
    "i=0\n",
    "n=len(name)\n",
    "while i<n:\n",
    "    print(i)\n",
    "    i+=1\n"
   ]
  },
  {
   "cell_type": "code",
   "execution_count": 36,
   "id": "c0021118-7962-4897-a8bf-ff8187a2ca2b",
   "metadata": {},
   "outputs": [
    {
     "name": "stdout",
     "output_type": "stream",
     "text": [
      "i\n",
      "n\n",
      "d\n",
      "e\n",
      "r\n",
      "p\n",
      "r\n",
      "e\n",
      "e\n",
      "t\n"
     ]
    }
   ],
   "source": [
    "#as indexing of name and i is same so we can write\n",
    "i=0\n",
    "n=len(name)\n",
    "while i<n:\n",
    "    print(name[i])\n",
    "    i+=1\n",
    "\n"
   ]
  },
  {
   "cell_type": "code",
   "execution_count": 37,
   "id": "f65910e5-f725-49e1-85f1-dcf3f58814be",
   "metadata": {},
   "outputs": [
    {
     "name": "stdout",
     "output_type": "stream",
     "text": [
      "10 inderpreet 0 i\n",
      "10 inderpreet 1 n\n",
      "10 inderpreet 2 d\n",
      "10 inderpreet 3 e\n",
      "10 inderpreet 4 r\n",
      "10 inderpreet 5 p\n",
      "10 inderpreet 6 r\n",
      "10 inderpreet 7 e\n",
      "10 inderpreet 8 e\n",
      "10 inderpreet 9 t\n"
     ]
    }
   ],
   "source": [
    "i=0\n",
    "n=len(name)\n",
    "while i<n:\n",
    "    print(n,name,i,name[i])\n",
    "    i+=1"
   ]
  },
  {
   "cell_type": "code",
   "execution_count": 40,
   "id": "57c419e3-f880-45f1-b389-c0653c39148d",
   "metadata": {},
   "outputs": [
    {
     "name": "stdout",
     "output_type": "stream",
     "text": [
      "50\n"
     ]
    }
   ],
   "source": [
    "li=[8,4,6,1,2,3,5,7,9,5]\n",
    "i=0\n",
    "n=len(li)\n",
    "total=0\n",
    "while i<n:\n",
    "    total+=li[i]\n",
    "    i+=1\n",
    "print(total)"
   ]
  },
  {
   "cell_type": "markdown",
   "id": "6eb188de-970d-4add-9496-5253209d202a",
   "metadata": {},
   "source": [
    "# practice"
   ]
  },
  {
   "cell_type": "code",
   "execution_count": 9,
   "id": "158a8877-c988-4289-98ce-0ea51f46a9c9",
   "metadata": {},
   "outputs": [
    {
     "name": "stdout",
     "output_type": "stream",
     "text": [
      "1\n",
      "2\n",
      "3\n",
      "4\n",
      "5\n",
      "6\n",
      "7\n",
      "8\n",
      "9\n",
      "10\n"
     ]
    }
   ],
   "source": [
    "i=1\n",
    "n=11\n",
    "while i<n:\n",
    "    print(i)\n",
    "    i+=1\n"
   ]
  },
  {
   "cell_type": "code",
   "execution_count": 11,
   "id": "a7f32555-3fb6-44f7-a2df-59d150307685",
   "metadata": {},
   "outputs": [
    {
     "name": "stdout",
     "output_type": "stream",
     "text": [
      "0\n",
      "2\n",
      "4\n",
      "6\n",
      "8\n",
      "10\n",
      "12\n",
      "14\n",
      "16\n",
      "18\n"
     ]
    }
   ],
   "source": [
    "i=0\n",
    "n=20\n",
    "while i<20:\n",
    "    print(i)\n",
    "    i+=2"
   ]
  },
  {
   "cell_type": "code",
   "execution_count": 2,
   "id": "959d55d4-0be5-4178-8544-60c274f7fd63",
   "metadata": {},
   "outputs": [
    {
     "name": "stdout",
     "output_type": "stream",
     "text": [
      "10\n",
      "9\n",
      "8\n",
      "7\n",
      "6\n",
      "5\n",
      "4\n",
      "3\n",
      "2\n",
      "1\n"
     ]
    }
   ],
   "source": [
    "num=10\n",
    "while num>0:\n",
    "    print(num)\n",
    "    num=num-1"
   ]
  },
  {
   "cell_type": "code",
   "execution_count": 3,
   "id": "b089b4ac-981b-4d52-b418-b82b3cfbe002",
   "metadata": {},
   "outputs": [
    {
     "name": "stdin",
     "output_type": "stream",
     "text": [
      "enter your number 5\n"
     ]
    },
    {
     "name": "stdout",
     "output_type": "stream",
     "text": [
      "sum = 15\n"
     ]
    }
   ],
   "source": [
    "num=int(input(\"enter your number\"))\n",
    "i=1\n",
    "total=0\n",
    "while i<=num:\n",
    "    total+=i\n",
    "    i+=1\n",
    "print(\"sum =\",total)\n",
    "    "
   ]
  },
  {
   "cell_type": "code",
   "execution_count": 6,
   "id": "0629b9cd-06ac-441d-89b8-65e0c3529c2a",
   "metadata": {},
   "outputs": [
    {
     "name": "stdout",
     "output_type": "stream",
     "text": [
      "17\n"
     ]
    }
   ],
   "source": [
    "li=[2,4,7,3,1]\n",
    "i=0\n",
    "n=len(li)\n",
    "total=0\n",
    "while i<n:\n",
    "    total+=li[i]\n",
    "    i+=1\n",
    "print(total)\n",
    "    \n",
    "    "
   ]
  },
  {
   "cell_type": "code",
   "execution_count": 6,
   "id": "eb589e3c-f34d-473e-9db4-b52fa47f00ae",
   "metadata": {},
   "outputs": [
    {
     "name": "stdout",
     "output_type": "stream",
     "text": [
      "Largest element in array is: 12\n"
     ]
    }
   ],
   "source": [
    "#largest element\n",
    "# Input array\n",
    "arr = [5, 12, 7, 2, 3, 1]\n",
    "\n",
    "# Assume first element is largest\n",
    "max_element = arr[1]\n",
    "\n",
    "# Start from index 1\n",
    "i = 1\n",
    "\n",
    "# Loop until end of array\n",
    "while i < len(arr):\n",
    "    if arr[i] > max_element:\n",
    "        max_element = arr[i]\n",
    "    i += 1\n",
    "\n",
    "# Output\n",
    "print(\"Largest element in array is:\", max_element)\n"
   ]
  },
  {
   "cell_type": "code",
   "execution_count": 13,
   "id": "55aa4b77-578b-4ace-a2b5-7076d9a89de7",
   "metadata": {},
   "outputs": [
    {
     "name": "stdout",
     "output_type": "stream",
     "text": [
      "maxmium element: 9\n"
     ]
    }
   ],
   "source": [
    "li = [7, 3, 9, 2]\n",
    "max_element=li[0]\n",
    "i=1\n",
    "while i<len(li):\n",
    "    if li[i]>max_element:\n",
    "       max_element = li[i]\n",
    "    i+=1\n",
    "print(\"maxmium element:\",max_element)\n",
    "\n"
   ]
  },
  {
   "cell_type": "code",
   "execution_count": 21,
   "id": "71c0e00f-d48f-46f3-ae88-7a1aa026fb9d",
   "metadata": {},
   "outputs": [
    {
     "name": "stdout",
     "output_type": "stream",
     "text": [
      "minimium element: 2\n"
     ]
    }
   ],
   "source": [
    "#minimum element\n",
    "li = [7, 3, 9, 2]\n",
    "min_element=li[0]\n",
    "i=0\n",
    "while i<len(li):\n",
    "    if li[i]<min_element:\n",
    "       min_element = li[i]\n",
    "    i+=1\n",
    "print(\"minimium element:\",min_element)\n",
    "\n"
   ]
  },
  {
   "cell_type": "code",
   "execution_count": 22,
   "id": "4bc27875-0571-464c-a29a-7af021ce9c30",
   "metadata": {},
   "outputs": [
    {
     "name": "stdout",
     "output_type": "stream",
     "text": [
      "total sum of the elements: 21\n"
     ]
    }
   ],
   "source": [
    "#total sum of the elements\n",
    "li = [7, 3, 9, 2]\n",
    "total_sum=0\n",
    "i=0\n",
    "while i<len(li):\n",
    "    total_sum+=li[i]\n",
    "    i+=1\n",
    "print(\"total sum of the elements:\",total_sum)"
   ]
  },
  {
   "cell_type": "code",
   "execution_count": 29,
   "id": "070cd2a8-13ce-4ec0-a524-3c55cf8a0a31",
   "metadata": {},
   "outputs": [
    {
     "name": "stdout",
     "output_type": "stream",
     "text": [
      "reversed list: [2, 9, 3, 7]\n"
     ]
    }
   ],
   "source": [
    "#reversed list\n",
    "li = [7, 3, 9, 2]\n",
    "reversed_list=[]\n",
    "i=len(li)-1\n",
    "while i>=0:\n",
    "    reversed_list.append(li[i])\n",
    "    i-=1\n",
    "print(\"reversed list:\",reversed_list)"
   ]
  },
  {
   "cell_type": "code",
   "execution_count": 30,
   "id": "b833c74e-6cf7-40f2-9131-e656ad914d53",
   "metadata": {},
   "outputs": [
    {
     "name": "stdout",
     "output_type": "stream",
     "text": [
      "original list: [7, 3, 9, 2]\n",
      "copy list: [7, 3, 9, 2]\n"
     ]
    }
   ],
   "source": [
    "#copy elements from one array to another\n",
    "li = [7, 3, 9, 2]\n",
    "copy_list=[]\n",
    "i=0\n",
    "while i<len(li):\n",
    "    copy_list.append(li[i])\n",
    "    i+=1\n",
    "print(\"original list:\",li)\n",
    "print(\"copy list:\",copy_list)"
   ]
  },
  {
   "cell_type": "code",
   "execution_count": 3,
   "id": "4e458d5b-8608-4066-8894-36bd25e49e5e",
   "metadata": {},
   "outputs": [
    {
     "name": "stdout",
     "output_type": "stream",
     "text": [
      "largest number: 12\n",
      "smallest number: 2\n"
     ]
    }
   ],
   "source": [
    "li=[2,7,9,12,5,2,8]\n",
    "max_element=li[0]\n",
    "min_element=li[0]\n",
    "i=1\n",
    "while i<len(li):\n",
    "    if li[i]>max_element:\n",
    "       max_element=li[i]\n",
    "    if li[i]<min_element:\n",
    "       min_element=li[i]\n",
    "    i+=1\n",
    "print(\"largest number:\",max_element)\n",
    "print(\"smallest number:\",min_element)"
   ]
  },
  {
   "cell_type": "code",
   "execution_count": 18,
   "id": "7074d305-1afc-430b-b23b-65743e40aeae",
   "metadata": {},
   "outputs": [
    {
     "name": "stdout",
     "output_type": "stream",
     "text": [
      "smallest number: 2\n",
      "second smallest number: 3\n"
     ]
    }
   ],
   "source": [
    "#second smallest\n",
    "li=[7, 3, 9, 2, 5]\n",
    "if li[0]<li[1]:\n",
    "    smallest=li[0]\n",
    "    second_smallest=li[1]\n",
    "else:\n",
    "    smallest=li[1]\n",
    "    second_smallest=li[0]\n",
    "\n",
    "i=2\n",
    "while i<len(li):\n",
    "    if li[i]<smallest:\n",
    "        second_smallest=smallest\n",
    "        smallest=li[i]\n",
    "    elif li[i]!=smallest and li[i]<second_smallest:\n",
    "            second_smallest=li[i]\n",
    "    i+=1\n",
    "print(\"smallest number:\",smallest)\n",
    "print(\"second smallest number:\",second_smallest)"
   ]
  },
  {
   "cell_type": "code",
   "execution_count": 20,
   "id": "64a87b9c-31bf-4e15-a6ea-8206a4c464bd",
   "metadata": {},
   "outputs": [
    {
     "name": "stdout",
     "output_type": "stream",
     "text": [
      "largest number: 9\n",
      "second largest number: 7\n"
     ]
    }
   ],
   "source": [
    "#second smallest\n",
    "li=[7, 3, 9, 2, 5]\n",
    "if li[0]>li[1]:\n",
    "    largest=li[0]\n",
    "    second_largest=li[1]\n",
    "else:\n",
    "    largest=li\n",
    "    second_largest=li[0]\n",
    "\n",
    "i=2\n",
    "while i<len(li):\n",
    "    if li[i]>largest:\n",
    "        second_largest=largest\n",
    "        largest=li[i]\n",
    "    elif li[i]!=largest and li[i]>second_largest:\n",
    "            second_largest=li[i]\n",
    "    i+=1\n",
    "print(\"largest number:\",largest)\n",
    "print(\"second largest number:\",second_largest)"
   ]
  },
  {
   "cell_type": "code",
   "execution_count": null,
   "id": "dc9b7650-12cc-463a-8a67-94951a355f66",
   "metadata": {},
   "outputs": [],
   "source": [
    "#first half into acending order and second half into decending order\n",
    "li = [8, 3, 1, 6, 5, 9, 2, 7]\n",
    "mid=len(li)//2\n",
    "#for ascending \n",
    "first_half = li[:mid]\n",
    "i = 0\n",
    "while i < len(first_half):\n",
    "    j = i + 1\n",
    "    while j < len(first_half):\n",
    "        if first_half[i] > first_half[j]:\n",
    "            first_half[i], first_half[j] = first_half[j], first_half[i]\n",
    "        j += 1\n",
    "    i += 1\n",
    "\n",
    "# Step 3: Second half ko descending me sort\n",
    "second_half = li[mid:]\n",
    "i = 0\n",
    "while i < len(second_half):\n",
    "    j = i + 1\n",
    "    while j < len(second_half):\n",
    "        if second_half[i] < second_half[j]:  # descending condition\n",
    "            second_half[i], second_half[j] = second_half[j], second_half[i]\n",
    "        j += 1\n",
    "    i += 1\n",
    "\n",
    "# Step 4: Merge\n",
    "sorted_list = first_half + second_half\n",
    "\n",
    "print(\"First half ascending, second half descending:\", sorted_list)\n"
   ]
  },
  {
   "cell_type": "code",
   "execution_count": 1,
   "id": "2c32e1a0-a63a-4c1b-8d6b-e940612bea26",
   "metadata": {},
   "outputs": [
    {
     "name": "stdout",
     "output_type": "stream",
     "text": [
      "[2, 4, 8, 9, 7, 5]\n"
     ]
    }
   ],
   "source": [
    "li = [8, 4, 2, 9, 5, 7]\n",
    "n = len(li)\n",
    "\n",
    "# पहला half sort (ascending)\n",
    "first_half = sorted(li[:n//2])\n",
    "\n",
    "# दूसरा half sort (descending)\n",
    "second_half = sorted(li[n//2:], reverse=True)\n",
    "\n",
    "# दोनों को join किया\n",
    "li = first_half + second_half\n",
    "print(li)\n"
   ]
  },
  {
   "cell_type": "code",
   "execution_count": null,
   "id": "a14c6e14-e900-478e-b34b-0e4023f85398",
   "metadata": {},
   "outputs": [],
   "source": [
    "li=[2,4,5,&,9]\n"
   ]
  }
 ],
 "metadata": {
  "kernelspec": {
   "display_name": "Python [conda env:base] *",
   "language": "python",
   "name": "conda-base-py"
  },
  "language_info": {
   "codemirror_mode": {
    "name": "ipython",
    "version": 3
   },
   "file_extension": ".py",
   "mimetype": "text/x-python",
   "name": "python",
   "nbconvert_exporter": "python",
   "pygments_lexer": "ipython3",
   "version": "3.13.5"
  }
 },
 "nbformat": 4,
 "nbformat_minor": 5
}
