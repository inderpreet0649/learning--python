{
 "cells": [
  {
   "cell_type": "code",
   "execution_count": 5,
   "id": "ce1e554f-5c2e-4695-a833-78067ef68455",
   "metadata": {},
   "outputs": [],
   "source": [
    "#sets are uniques collection ..repeating elements not allowed\n",
    "#unordered sequence"
   ]
  },
  {
   "cell_type": "code",
   "execution_count": 4,
   "id": "4837ff2f-78ec-43fa-966e-b9c6a201de2d",
   "metadata": {},
   "outputs": [
    {
     "data": {
      "text/plain": [
       "{1, 2, 4, 5, 6}"
      ]
     },
     "execution_count": 4,
     "metadata": {},
     "output_type": "execute_result"
    }
   ],
   "source": [
    "#sets unique value\n",
    "{1,1,1,2,2,4,5,5,6,6,6}"
   ]
  },
  {
   "cell_type": "code",
   "execution_count": 6,
   "id": "8bf429c0-9d30-4a37-b577-8bf7d97b432b",
   "metadata": {},
   "outputs": [],
   "source": [
    "a={1,1,1,2,2,4,5,5,6,6,6}"
   ]
  },
  {
   "cell_type": "code",
   "execution_count": 7,
   "id": "623fbc49-65a8-4a9e-af5b-487c22ad67c0",
   "metadata": {},
   "outputs": [
    {
     "data": {
      "text/plain": [
       "{1, 2, 4, 5, 6}"
      ]
     },
     "execution_count": 7,
     "metadata": {},
     "output_type": "execute_result"
    }
   ],
   "source": [
    "a"
   ]
  },
  {
   "cell_type": "code",
   "execution_count": 8,
   "id": "a290e943-8580-4f46-b97a-e6af4af56aca",
   "metadata": {},
   "outputs": [
    {
     "data": {
      "text/plain": [
       "{'inder'}"
      ]
     },
     "execution_count": 8,
     "metadata": {},
     "output_type": "execute_result"
    }
   ],
   "source": [
    "{\"inder\",\"inder\"}"
   ]
  },
  {
   "cell_type": "code",
   "execution_count": 9,
   "id": "73471d2b-3814-42be-84c1-3cdb4169b00c",
   "metadata": {},
   "outputs": [],
   "source": [
    "a={1,2,3}"
   ]
  },
  {
   "cell_type": "code",
   "execution_count": 11,
   "id": "645f1073-94f6-4668-a12c-6215f266a665",
   "metadata": {},
   "outputs": [],
   "source": [
    "b={2,3}"
   ]
  },
  {
   "cell_type": "code",
   "execution_count": 12,
   "id": "565d2d51-b9c6-4571-8e42-e79d9580ec21",
   "metadata": {},
   "outputs": [
    {
     "data": {
      "text/plain": [
       "True"
      ]
     },
     "execution_count": 12,
     "metadata": {},
     "output_type": "execute_result"
    }
   ],
   "source": [
    "a.issuperset(b)"
   ]
  },
  {
   "cell_type": "code",
   "execution_count": 13,
   "id": "e0adc4db-7ded-48a0-a85b-8fe7f2c80090",
   "metadata": {},
   "outputs": [
    {
     "data": {
      "text/plain": [
       "True"
      ]
     },
     "execution_count": 13,
     "metadata": {},
     "output_type": "execute_result"
    }
   ],
   "source": [
    "b.issubset(a)"
   ]
  },
  {
   "cell_type": "code",
   "execution_count": 14,
   "id": "bda0ae62-2087-4b0b-b267-fb591053c1d7",
   "metadata": {},
   "outputs": [
    {
     "data": {
      "text/plain": [
       "False"
      ]
     },
     "execution_count": 14,
     "metadata": {},
     "output_type": "execute_result"
    }
   ],
   "source": [
    "a.issubset(b)"
   ]
  },
  {
   "cell_type": "code",
   "execution_count": 15,
   "id": "94be6a9c-9b1f-4280-a58d-6281941b8059",
   "metadata": {},
   "outputs": [],
   "source": [
    "a={1,2,3}"
   ]
  },
  {
   "cell_type": "code",
   "execution_count": 16,
   "id": "519af676-f01e-4246-8eb4-0acc2dd6abb3",
   "metadata": {},
   "outputs": [],
   "source": [
    "b={3,4,5}"
   ]
  },
  {
   "cell_type": "code",
   "execution_count": 17,
   "id": "eabd9a51-14e2-4ede-9f64-d1b8139c5219",
   "metadata": {},
   "outputs": [
    {
     "data": {
      "text/plain": [
       "{1, 2, 3, 4, 5}"
      ]
     },
     "execution_count": 17,
     "metadata": {},
     "output_type": "execute_result"
    }
   ],
   "source": [
    "a.union(b)"
   ]
  },
  {
   "cell_type": "code",
   "execution_count": 18,
   "id": "1c0a28b4-b897-4823-96de-86521a529d8d",
   "metadata": {},
   "outputs": [
    {
     "data": {
      "text/plain": [
       "{3}"
      ]
     },
     "execution_count": 18,
     "metadata": {},
     "output_type": "execute_result"
    }
   ],
   "source": [
    "a.intersection(b)"
   ]
  },
  {
   "cell_type": "code",
   "execution_count": 20,
   "id": "63e55fd0-f4de-4cad-8b7a-0c0af731613b",
   "metadata": {},
   "outputs": [
    {
     "data": {
      "text/plain": [
       "False"
      ]
     },
     "execution_count": 20,
     "metadata": {},
     "output_type": "execute_result"
    }
   ],
   "source": [
    "a.isdisjoint(b)"
   ]
  },
  {
   "cell_type": "code",
   "execution_count": 21,
   "id": "a326afeb-0b2b-4888-a9bf-57ac71a114f1",
   "metadata": {},
   "outputs": [
    {
     "data": {
      "text/plain": [
       "{1, 2}"
      ]
     },
     "execution_count": 21,
     "metadata": {},
     "output_type": "execute_result"
    }
   ],
   "source": [
    "a.difference(b)"
   ]
  },
  {
   "cell_type": "code",
   "execution_count": 22,
   "id": "c5031246-c92c-4f7b-abed-cab20549a60e",
   "metadata": {},
   "outputs": [
    {
     "data": {
      "text/plain": [
       "{4, 5}"
      ]
     },
     "execution_count": 22,
     "metadata": {},
     "output_type": "execute_result"
    }
   ],
   "source": [
    "b.difference(a)"
   ]
  },
  {
   "cell_type": "code",
   "execution_count": null,
   "id": "64d37650-cbc8-48a1-b3db-5d0ea71f4550",
   "metadata": {},
   "outputs": [],
   "source": []
  }
 ],
 "metadata": {
  "kernelspec": {
   "display_name": "Python [conda env:base] *",
   "language": "python",
   "name": "conda-base-py"
  },
  "language_info": {
   "codemirror_mode": {
    "name": "ipython",
    "version": 3
   },
   "file_extension": ".py",
   "mimetype": "text/x-python",
   "name": "python",
   "nbconvert_exporter": "python",
   "pygments_lexer": "ipython3",
   "version": "3.13.5"
  }
 },
 "nbformat": 4,
 "nbformat_minor": 5
}
