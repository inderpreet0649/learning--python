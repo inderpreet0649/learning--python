{
 "cells": [
  {
   "cell_type": "markdown",
   "id": "312656e7-c627-4193-ba11-1da02accb6b8",
   "metadata": {},
   "source": [
    "# indexing"
   ]
  },
  {
   "cell_type": "code",
   "execution_count": null,
   "id": "c6ae31cd-b844-4e4c-8651-95c775257bdf",
   "metadata": {
    "jupyter": {
     "source_hidden": true
    }
   },
   "outputs": [],
   "source": [
    "name = \"pyhtonindexingisfun\""
   ]
  },
  {
   "cell_type": "code",
   "execution_count": 2,
   "id": "c51efb5b-c774-465b-be4a-8ee397e67c34",
   "metadata": {},
   "outputs": [
    {
     "data": {
      "text/plain": [
       "'pyhtonindexingisfun'"
      ]
     },
     "execution_count": 2,
     "metadata": {},
     "output_type": "execute_result"
    }
   ],
   "source": [
    "name"
   ]
  },
  {
   "cell_type": "code",
   "execution_count": 3,
   "id": "7a91b089-1275-46b7-b609-18f14bbce1bf",
   "metadata": {},
   "outputs": [
    {
     "data": {
      "text/plain": [
       "'p'"
      ]
     },
     "execution_count": 3,
     "metadata": {},
     "output_type": "execute_result"
    }
   ],
   "source": [
    "name[0]"
   ]
  },
  {
   "cell_type": "code",
   "execution_count": 4,
   "id": "7528afe3-8bfd-461c-a597-875e2b3e940f",
   "metadata": {},
   "outputs": [
    {
     "data": {
      "text/plain": [
       "'n'"
      ]
     },
     "execution_count": 4,
     "metadata": {},
     "output_type": "execute_result"
    }
   ],
   "source": [
    "name[-1]"
   ]
  },
  {
   "cell_type": "code",
   "execution_count": 6,
   "id": "d99c55f7-b58d-4a76-881e-432323d30bfc",
   "metadata": {},
   "outputs": [
    {
     "data": {
      "text/plain": [
       "'i'"
      ]
     },
     "execution_count": 6,
     "metadata": {},
     "output_type": "execute_result"
    }
   ],
   "source": [
    "name[6]"
   ]
  },
  {
   "cell_type": "code",
   "execution_count": 7,
   "id": "e948d2c2-c454-46b0-a98c-a848870ce0b7",
   "metadata": {},
   "outputs": [
    {
     "data": {
      "text/plain": [
       "'u'"
      ]
     },
     "execution_count": 7,
     "metadata": {},
     "output_type": "execute_result"
    }
   ],
   "source": [
    "name[-2]"
   ]
  },
  {
   "cell_type": "code",
   "execution_count": 8,
   "id": "536b7044-3481-45a5-ae03-cd6990e8deac",
   "metadata": {},
   "outputs": [
    {
     "data": {
      "text/plain": [
       "'pyhton'"
      ]
     },
     "execution_count": 8,
     "metadata": {},
     "output_type": "execute_result"
    }
   ],
   "source": [
    "name[0:-13]"
   ]
  },
  {
   "cell_type": "code",
   "execution_count": 10,
   "id": "fdab1102-7dc8-4695-b81b-67ca8c4b013e",
   "metadata": {},
   "outputs": [
    {
     "data": {
      "text/plain": [
       "'indexing'"
      ]
     },
     "execution_count": 10,
     "metadata": {},
     "output_type": "execute_result"
    }
   ],
   "source": [
    "name[6:-5]"
   ]
  },
  {
   "cell_type": "code",
   "execution_count": 11,
   "id": "b151df50-632c-4b6e-a82b-02345e4ddee3",
   "metadata": {},
   "outputs": [
    {
     "data": {
      "text/plain": [
       "'isfun'"
      ]
     },
     "execution_count": 11,
     "metadata": {},
     "output_type": "execute_result"
    }
   ],
   "source": [
    "name[14:]"
   ]
  },
  {
   "cell_type": "code",
   "execution_count": 13,
   "id": "3e597d6b-d192-47b1-a8ee-6db0e64460f8",
   "metadata": {},
   "outputs": [
    {
     "data": {
      "text/plain": [
       "'pyhtonindexingisfun'"
      ]
     },
     "execution_count": 13,
     "metadata": {},
     "output_type": "execute_result"
    }
   ],
   "source": [
    "name[0:]"
   ]
  },
  {
   "cell_type": "code",
   "execution_count": 15,
   "id": "ff3c2d81-ce3c-4b0b-a48b-6a30eeaca054",
   "metadata": {},
   "outputs": [
    {
     "data": {
      "text/plain": [
       "'nufsignixedninothyp'"
      ]
     },
     "execution_count": 15,
     "metadata": {},
     "output_type": "execute_result"
    }
   ],
   "source": [
    "name[::-1]"
   ]
  },
  {
   "cell_type": "code",
   "execution_count": 16,
   "id": "a86d2348-94de-48ed-8336-03522ce5dd9d",
   "metadata": {},
   "outputs": [],
   "source": [
    "numbers=[10,20,30,40,50,60]"
   ]
  },
  {
   "cell_type": "code",
   "execution_count": 17,
   "id": "0cbc4fa6-8e3a-4bc2-8e71-bc25d6d74137",
   "metadata": {},
   "outputs": [
    {
     "data": {
      "text/plain": [
       "[10, 20, 30, 40, 50, 60]"
      ]
     },
     "execution_count": 17,
     "metadata": {},
     "output_type": "execute_result"
    }
   ],
   "source": [
    "numbers"
   ]
  },
  {
   "cell_type": "code",
   "execution_count": 18,
   "id": "6ead1ab8-7146-4e6e-9ae7-de4fb2288fa2",
   "metadata": {},
   "outputs": [
    {
     "data": {
      "text/plain": [
       "30"
      ]
     },
     "execution_count": 18,
     "metadata": {},
     "output_type": "execute_result"
    }
   ],
   "source": [
    "numbers[2]"
   ]
  },
  {
   "cell_type": "code",
   "execution_count": 19,
   "id": "73368b32-d3b0-4b61-9893-52b11474fc9c",
   "metadata": {},
   "outputs": [
    {
     "data": {
      "text/plain": [
       "60"
      ]
     },
     "execution_count": 19,
     "metadata": {},
     "output_type": "execute_result"
    }
   ],
   "source": [
    "numbers[-1]"
   ]
  },
  {
   "cell_type": "code",
   "execution_count": 20,
   "id": "e503e853-18f8-4cfe-acf7-80c92a547233",
   "metadata": {},
   "outputs": [
    {
     "data": {
      "text/plain": [
       "50"
      ]
     },
     "execution_count": 20,
     "metadata": {},
     "output_type": "execute_result"
    }
   ],
   "source": [
    "numbers[-2]"
   ]
  },
  {
   "cell_type": "code",
   "execution_count": 21,
   "id": "c2f85a0c-b0e0-4f00-bd98-a8e5736a2506",
   "metadata": {},
   "outputs": [
    {
     "data": {
      "text/plain": [
       "[20, 30, 40]"
      ]
     },
     "execution_count": 21,
     "metadata": {},
     "output_type": "execute_result"
    }
   ],
   "source": [
    "numbers[1:-2]"
   ]
  },
  {
   "cell_type": "code",
   "execution_count": 22,
   "id": "02476a6f-4e26-4e81-8d82-c77432beb70c",
   "metadata": {},
   "outputs": [
    {
     "data": {
      "text/plain": [
       "[60, 50, 40, 30, 20, 10]"
      ]
     },
     "execution_count": 22,
     "metadata": {},
     "output_type": "execute_result"
    }
   ],
   "source": [
    "numbers[::-1]"
   ]
  },
  {
   "cell_type": "code",
   "execution_count": 43,
   "id": "47077d01-bec4-4fc4-b014-fdef4669a9a4",
   "metadata": {},
   "outputs": [],
   "source": [
    "text = \"abcdefghij\""
   ]
  },
  {
   "cell_type": "code",
   "execution_count": 24,
   "id": "2e847102-50b8-4214-97ba-8c7a1ae285ef",
   "metadata": {},
   "outputs": [
    {
     "data": {
      "text/plain": [
       "'abcdeifghij'"
      ]
     },
     "execution_count": 24,
     "metadata": {},
     "output_type": "execute_result"
    }
   ],
   "source": [
    "text"
   ]
  },
  {
   "cell_type": "code",
   "execution_count": 44,
   "id": "7de4211d-8294-4ccf-92d9-711deeffc6e3",
   "metadata": {},
   "outputs": [
    {
     "data": {
      "text/plain": [
       "'acegi'"
      ]
     },
     "execution_count": 44,
     "metadata": {},
     "output_type": "execute_result"
    }
   ],
   "source": [
    "text[::2]"
   ]
  },
  {
   "cell_type": "code",
   "execution_count": 45,
   "id": "3b655b21-043a-44e6-99b1-98869beeb29a",
   "metadata": {},
   "outputs": [
    {
     "data": {
      "text/plain": [
       "'beh'"
      ]
     },
     "execution_count": 45,
     "metadata": {},
     "output_type": "execute_result"
    }
   ],
   "source": [
    "text[1::3]"
   ]
  },
  {
   "cell_type": "code",
   "execution_count": 29,
   "id": "9a0889ca-cb47-4957-b5fc-7079de709a61",
   "metadata": {},
   "outputs": [
    {
     "data": {
      "text/plain": [
       "'jihgfiedcba'"
      ]
     },
     "execution_count": 29,
     "metadata": {},
     "output_type": "execute_result"
    }
   ],
   "source": [
    "text[::-1]"
   ]
  },
  {
   "cell_type": "code",
   "execution_count": 30,
   "id": "a04d1441-e0fe-488b-9d04-ff374ac97750",
   "metadata": {},
   "outputs": [],
   "source": [
    "info =(\"math\",\"science\",\"english\",\"history\")"
   ]
  },
  {
   "cell_type": "code",
   "execution_count": 32,
   "id": "13201858-d557-41ca-9834-00d0d0be9b77",
   "metadata": {},
   "outputs": [
    {
     "data": {
      "text/plain": [
       "('math', 'history')"
      ]
     },
     "execution_count": 32,
     "metadata": {},
     "output_type": "execute_result"
    }
   ],
   "source": [
    "info[0::3]"
   ]
  },
  {
   "cell_type": "code",
   "execution_count": 38,
   "id": "3e1728fe-7968-4338-864e-322270a6c2fe",
   "metadata": {},
   "outputs": [],
   "source": [
    "fruits=['apple','banana','cherry','date']"
   ]
  },
  {
   "cell_type": "code",
   "execution_count": 53,
   "id": "9c9913ba-1858-4afe-b6e8-e6faccabfa60",
   "metadata": {},
   "outputs": [
    {
     "name": "stdout",
     "output_type": "stream",
     "text": [
      "Index0:apple\n",
      "Index1:banana\n",
      "Index2:cherry\n",
      "Index3:date\n"
     ]
    }
   ],
   "source": [
    "for index,value in enumerate(fruits):\n",
    "    print(f\"Index{index}:{value}\")\n"
   ]
  },
  {
   "cell_type": "code",
   "execution_count": 33,
   "id": "12a78edb-7efc-449a-abbc-d4eb418a5ef8",
   "metadata": {},
   "outputs": [
    {
     "data": {
      "text/plain": [
       "('science', 'english')"
      ]
     },
     "execution_count": 33,
     "metadata": {},
     "output_type": "execute_result"
    }
   ],
   "source": [
    "info[1:-1]"
   ]
  },
  {
   "cell_type": "code",
   "execution_count": 35,
   "id": "6d6d008e-c55b-4efe-8d1d-7c4213dd639b",
   "metadata": {},
   "outputs": [],
   "source": [
    "phrase = \"negativeindexing\""
   ]
  },
  {
   "cell_type": "code",
   "execution_count": 54,
   "id": "7d20ccf2-321d-478b-9be2-d8fce8b1deef",
   "metadata": {},
   "outputs": [
    {
     "data": {
      "text/plain": [
       "'g'"
      ]
     },
     "execution_count": 54,
     "metadata": {},
     "output_type": "execute_result"
    }
   ],
   "source": [
    "phrase[-1]"
   ]
  },
  {
   "cell_type": "markdown",
   "id": "c49ad6d8-b784-411e-a566-b154485e9169",
   "metadata": {},
   "source": [
    "# complexes"
   ]
  },
  {
   "cell_type": "code",
   "execution_count": 3,
   "id": "5a3a3a0a-9ad9-465e-8e06-6009d323cf1a",
   "metadata": {},
   "outputs": [],
   "source": [
    "z=3+4j"
   ]
  },
  {
   "cell_type": "markdown",
   "id": "8b8b98aa-59ec-4d2c-a487-1a0c7c48f75d",
   "metadata": {},
   "source": [
    "z"
   ]
  },
  {
   "cell_type": "code",
   "execution_count": 5,
   "id": "45220905-97a7-4d46-a88c-93060828b057",
   "metadata": {},
   "outputs": [],
   "source": [
    "z=complex(3,4)"
   ]
  },
  {
   "cell_type": "raw",
   "id": "c342de23-0723-432c-8f81-beb9adcc318f",
   "metadata": {},
   "source": [
    "z"
   ]
  },
  {
   "cell_type": "code",
   "execution_count": 6,
   "id": "7be11962-a4e5-436d-8795-5fb57c2bb1dc",
   "metadata": {},
   "outputs": [
    {
     "name": "stdout",
     "output_type": "stream",
     "text": [
      "3.0\n"
     ]
    }
   ],
   "source": [
    "print(z.real)"
   ]
  },
  {
   "cell_type": "code",
   "execution_count": 8,
   "id": "13e34690-bc0a-4726-bd59-11c9ba5fc010",
   "metadata": {},
   "outputs": [
    {
     "name": "stdout",
     "output_type": "stream",
     "text": [
      "4.0\n"
     ]
    }
   ],
   "source": [
    "print(z.imag)"
   ]
  },
  {
   "cell_type": "code",
   "execution_count": 9,
   "id": "2ef48475-580b-46a4-a132-65a7a39c5f94",
   "metadata": {},
   "outputs": [],
   "source": [
    "a=4+6j"
   ]
  },
  {
   "cell_type": "code",
   "execution_count": 10,
   "id": "4e5a6e8f-c6b5-4415-8d65-96425258f3a0",
   "metadata": {},
   "outputs": [],
   "source": [
    "b=2-5j"
   ]
  },
  {
   "cell_type": "code",
   "execution_count": 11,
   "id": "73e351be-321b-4ad7-a1c2-f75b8b632bc6",
   "metadata": {},
   "outputs": [
    {
     "data": {
      "text/plain": [
       "(6+1j)"
      ]
     },
     "execution_count": 11,
     "metadata": {},
     "output_type": "execute_result"
    }
   ],
   "source": [
    "a+b"
   ]
  },
  {
   "cell_type": "code",
   "execution_count": 12,
   "id": "be611cc5-0504-4a0f-ab22-f17da0804c30",
   "metadata": {},
   "outputs": [
    {
     "data": {
      "text/plain": [
       "(2+11j)"
      ]
     },
     "execution_count": 12,
     "metadata": {},
     "output_type": "execute_result"
    }
   ],
   "source": [
    "a-b"
   ]
  },
  {
   "cell_type": "code",
   "execution_count": 13,
   "id": "8bf0810f-b9c4-4530-83fe-44ffd6f987fe",
   "metadata": {},
   "outputs": [
    {
     "data": {
      "text/plain": [
       "(38-8j)"
      ]
     },
     "execution_count": 13,
     "metadata": {},
     "output_type": "execute_result"
    }
   ],
   "source": [
    "a*b"
   ]
  },
  {
   "cell_type": "code",
   "execution_count": 14,
   "id": "23d08a82-226d-4c9f-a5b7-e2b2b30525b1",
   "metadata": {},
   "outputs": [
    {
     "data": {
      "text/plain": [
       "(-0.7586206896551725+1.103448275862069j)"
      ]
     },
     "execution_count": 14,
     "metadata": {},
     "output_type": "execute_result"
    }
   ],
   "source": [
    "a/b"
   ]
  },
  {
   "cell_type": "code",
   "execution_count": 7,
   "id": "fa30164c-ad24-4aa7-a952-c3172d7fc143",
   "metadata": {},
   "outputs": [
    {
     "name": "stdout",
     "output_type": "stream",
     "text": [
      "(3-4j)\n"
     ]
    }
   ],
   "source": [
    "#for u can say vice versa of a sign\n",
    "print(z.conjugate())"
   ]
  },
  {
   "cell_type": "code",
   "execution_count": 18,
   "id": "3edf2a04-7aab-46a4-b1ff-e3af7551b9a5",
   "metadata": {},
   "outputs": [
    {
     "name": "stdout",
     "output_type": "stream",
     "text": [
      "(2+5j)\n"
     ]
    }
   ],
   "source": [
    "print(b.conjugate())"
   ]
  },
  {
   "cell_type": "code",
   "execution_count": 4,
   "id": "1e4bb633-6336-46b8-89ba-33b47f9942fc",
   "metadata": {},
   "outputs": [
    {
     "data": {
      "text/plain": [
       "(3+4j)"
      ]
     },
     "execution_count": 4,
     "metadata": {},
     "output_type": "execute_result"
    }
   ],
   "source": [
    "z"
   ]
  },
  {
   "cell_type": "code",
   "execution_count": 8,
   "id": "2f29be6c-4b52-4b8f-9e4f-54d0e3ad30f5",
   "metadata": {},
   "outputs": [
    {
     "data": {
      "text/plain": [
       "5.0"
      ]
     },
     "execution_count": 8,
     "metadata": {},
     "output_type": "execute_result"
    }
   ],
   "source": [
    "#modulus(underoot) the absolute value or to get the magnitude\n",
    "abs(z)"
   ]
  },
  {
   "cell_type": "code",
   "execution_count": 10,
   "id": "1a7bd496-2a6a-4ffe-b047-0c6e957e029e",
   "metadata": {},
   "outputs": [
    {
     "data": {
      "text/plain": [
       "(3+4j)"
      ]
     },
     "execution_count": 10,
     "metadata": {},
     "output_type": "execute_result"
    }
   ],
   "source": [
    "z"
   ]
  },
  {
   "cell_type": "code",
   "execution_count": 12,
   "id": "7a122408-25af-4f5b-8982-2300f590dea7",
   "metadata": {},
   "outputs": [],
   "source": [
    "#cmath module for advanced operations .this is used to built for complex math function\n",
    "import cmath"
   ]
  },
  {
   "cell_type": "code",
   "execution_count": 16,
   "id": "6e965ca6-3dd4-48a2-9f00-0880f98f10b0",
   "metadata": {},
   "outputs": [],
   "source": [
    "z=3+4j"
   ]
  },
  {
   "cell_type": "code",
   "execution_count": 17,
   "id": "a7d9483f-1097-40f3-82ff-d24f4d0e90d7",
   "metadata": {},
   "outputs": [
    {
     "data": {
      "text/plain": [
       "(3+4j)"
      ]
     },
     "execution_count": 17,
     "metadata": {},
     "output_type": "execute_result"
    }
   ],
   "source": [
    "z"
   ]
  },
  {
   "cell_type": "code",
   "execution_count": 18,
   "id": "e7ce5dfb-7ad1-42b0-8e4a-d0f7038ebd87",
   "metadata": {},
   "outputs": [
    {
     "data": {
      "text/plain": [
       "(2+1j)"
      ]
     },
     "execution_count": 18,
     "metadata": {},
     "output_type": "execute_result"
    }
   ],
   "source": [
    "cmath.sqrt(z)"
   ]
  },
  {
   "cell_type": "code",
   "execution_count": 19,
   "id": "18a0de3e-11ec-495f-b9df-0bebe2c867c6",
   "metadata": {},
   "outputs": [],
   "source": [
    "a=1+2j"
   ]
  },
  {
   "cell_type": "code",
   "execution_count": 20,
   "id": "65f690c0-0d92-4f57-9805-652f37d426c6",
   "metadata": {},
   "outputs": [
    {
     "data": {
      "text/plain": [
       "(1.272019649514069+0.7861513777574233j)"
      ]
     },
     "execution_count": 20,
     "metadata": {},
     "output_type": "execute_result"
    }
   ],
   "source": [
    "cmath.sqrt(a)"
   ]
  },
  {
   "cell_type": "markdown",
   "id": "08b3388f-43e9-4da6-8974-d48a5a51acca",
   "metadata": {},
   "source": [
    "# numbers and variables"
   ]
  },
  {
   "cell_type": "code",
   "execution_count": 21,
   "id": "f10f8ad7-7aa3-4cc6-8940-1b245bf83af9",
   "metadata": {},
   "outputs": [],
   "source": [
    "a=5"
   ]
  },
  {
   "cell_type": "code",
   "execution_count": 22,
   "id": "9468155c-1bb6-4cc8-aa8f-52478fd2f3f5",
   "metadata": {},
   "outputs": [
    {
     "data": {
      "text/plain": [
       "int"
      ]
     },
     "execution_count": 22,
     "metadata": {},
     "output_type": "execute_result"
    }
   ],
   "source": [
    "type(a)"
   ]
  },
  {
   "cell_type": "code",
   "execution_count": 23,
   "id": "b72e2e30-f76a-4089-8346-46b976d71747",
   "metadata": {},
   "outputs": [],
   "source": [
    "b=7"
   ]
  },
  {
   "cell_type": "code",
   "execution_count": 70,
   "id": "25312d6d-af82-4e8a-88a1-6cba4efac000",
   "metadata": {},
   "outputs": [],
   "source": [
    "a=3.7"
   ]
  },
  {
   "cell_type": "code",
   "execution_count": 71,
   "id": "ea4333a4-a330-4c7c-affd-35c2dd705576",
   "metadata": {},
   "outputs": [
    {
     "data": {
      "text/plain": [
       "float"
      ]
     },
     "execution_count": 71,
     "metadata": {},
     "output_type": "execute_result"
    }
   ],
   "source": [
    "type(a)"
   ]
  },
  {
   "cell_type": "code",
   "execution_count": 28,
   "id": "7d1f578c-baaa-49bd-bbb5-adf2843d1044",
   "metadata": {},
   "outputs": [],
   "source": [
    "c=2+3j"
   ]
  },
  {
   "cell_type": "code",
   "execution_count": 29,
   "id": "d9b731f4-a5d2-4df7-924d-fa589bbbb074",
   "metadata": {},
   "outputs": [
    {
     "data": {
      "text/plain": [
       "complex"
      ]
     },
     "execution_count": 29,
     "metadata": {},
     "output_type": "execute_result"
    }
   ],
   "source": [
    "type(c)"
   ]
  },
  {
   "cell_type": "code",
   "execution_count": 30,
   "id": "551f897c-ba11-4352-8803-ca822bf71840",
   "metadata": {},
   "outputs": [],
   "source": [
    "d=\"inder\""
   ]
  },
  {
   "cell_type": "code",
   "execution_count": 31,
   "id": "51590856-4567-4604-8c66-0bec6b3ea085",
   "metadata": {},
   "outputs": [
    {
     "data": {
      "text/plain": [
       "str"
      ]
     },
     "execution_count": 31,
     "metadata": {},
     "output_type": "execute_result"
    }
   ],
   "source": [
    "type(d)"
   ]
  },
  {
   "cell_type": "code",
   "execution_count": 32,
   "id": "4b2f65e5-6f62-4d3d-826f-dbba88e762d6",
   "metadata": {},
   "outputs": [],
   "source": [
    "e=5"
   ]
  },
  {
   "cell_type": "code",
   "execution_count": 33,
   "id": "c9ce9d27-d239-4646-b670-a2c18e53ce95",
   "metadata": {},
   "outputs": [],
   "source": [
    "f=6"
   ]
  },
  {
   "cell_type": "code",
   "execution_count": 36,
   "id": "a0f1a24f-ed52-4add-81fc-882bde8aaa93",
   "metadata": {},
   "outputs": [
    {
     "data": {
      "text/plain": [
       "False"
      ]
     },
     "execution_count": 36,
     "metadata": {},
     "output_type": "execute_result"
    }
   ],
   "source": [
    "e>f\n"
   ]
  },
  {
   "cell_type": "code",
   "execution_count": 37,
   "id": "4ee690cc-3103-4ecd-ac69-89d7b00d0798",
   "metadata": {},
   "outputs": [
    {
     "data": {
      "text/plain": [
       "True"
      ]
     },
     "execution_count": 37,
     "metadata": {},
     "output_type": "execute_result"
    }
   ],
   "source": [
    "f>e"
   ]
  },
  {
   "cell_type": "code",
   "execution_count": 38,
   "id": "a11d3708-8e0a-40a7-9294-76818cd3628a",
   "metadata": {},
   "outputs": [
    {
     "data": {
      "text/plain": [
       "4"
      ]
     },
     "execution_count": 38,
     "metadata": {},
     "output_type": "execute_result"
    }
   ],
   "source": [
    "e&f"
   ]
  },
  {
   "cell_type": "code",
   "execution_count": 43,
   "id": "4d97233e-d459-445d-bb1b-a4a32a0b29f6",
   "metadata": {},
   "outputs": [],
   "source": [
    "a=(27>55)&(33<25)"
   ]
  },
  {
   "cell_type": "code",
   "execution_count": 45,
   "id": "0629eab7-fd6c-4fbc-9e82-91e29a18bcfc",
   "metadata": {},
   "outputs": [],
   "source": [
    "b=(27>55)|(33<25)"
   ]
  },
  {
   "cell_type": "code",
   "execution_count": 44,
   "id": "765eb219-3987-4bf3-874f-f10a1c1ebb8c",
   "metadata": {},
   "outputs": [
    {
     "data": {
      "text/plain": [
       "False"
      ]
     },
     "execution_count": 44,
     "metadata": {},
     "output_type": "execute_result"
    }
   ],
   "source": [
    "a"
   ]
  },
  {
   "cell_type": "code",
   "execution_count": 46,
   "id": "7d79161c-9221-4c13-9001-9f0b843da556",
   "metadata": {},
   "outputs": [
    {
     "data": {
      "text/plain": [
       "False"
      ]
     },
     "execution_count": 46,
     "metadata": {},
     "output_type": "execute_result"
    }
   ],
   "source": [
    "b"
   ]
  },
  {
   "cell_type": "code",
   "execution_count": 47,
   "id": "403feb01-1a39-42a8-915d-2c97d334641f",
   "metadata": {},
   "outputs": [
    {
     "data": {
      "text/plain": [
       "bool"
      ]
     },
     "execution_count": 47,
     "metadata": {},
     "output_type": "execute_result"
    }
   ],
   "source": [
    "type(a)"
   ]
  },
  {
   "cell_type": "code",
   "execution_count": 48,
   "id": "ad0c1c29-ef2b-4947-a3f5-cffa4c8a2b6f",
   "metadata": {},
   "outputs": [
    {
     "data": {
      "text/plain": [
       "bool"
      ]
     },
     "execution_count": 48,
     "metadata": {},
     "output_type": "execute_result"
    }
   ],
   "source": [
    "type(b)"
   ]
  },
  {
   "cell_type": "code",
   "execution_count": 49,
   "id": "2292de16-3f48-4140-b9b4-141053933a01",
   "metadata": {},
   "outputs": [],
   "source": [
    "x=15"
   ]
  },
  {
   "cell_type": "code",
   "execution_count": 50,
   "id": "ed8ddc55-4c8d-4cf6-a800-161290194c86",
   "metadata": {},
   "outputs": [],
   "source": [
    "y=4"
   ]
  },
  {
   "cell_type": "code",
   "execution_count": 51,
   "id": "178890a4-eb25-4a31-a49a-23cf25161fbb",
   "metadata": {},
   "outputs": [
    {
     "data": {
      "text/plain": [
       "19"
      ]
     },
     "execution_count": 51,
     "metadata": {},
     "output_type": "execute_result"
    }
   ],
   "source": [
    "x+y"
   ]
  },
  {
   "cell_type": "code",
   "execution_count": 52,
   "id": "f4761df3-8548-4f43-97c7-99291fcfeb62",
   "metadata": {},
   "outputs": [
    {
     "data": {
      "text/plain": [
       "11"
      ]
     },
     "execution_count": 52,
     "metadata": {},
     "output_type": "execute_result"
    }
   ],
   "source": [
    "x-y"
   ]
  },
  {
   "cell_type": "code",
   "execution_count": 53,
   "id": "cb4c14a2-3298-47d6-a1eb-979d94ad5109",
   "metadata": {},
   "outputs": [
    {
     "data": {
      "text/plain": [
       "60"
      ]
     },
     "execution_count": 53,
     "metadata": {},
     "output_type": "execute_result"
    }
   ],
   "source": [
    "x*y"
   ]
  },
  {
   "cell_type": "code",
   "execution_count": 54,
   "id": "8c7fbab1-0d09-4c7a-8e7d-bb5921b370de",
   "metadata": {},
   "outputs": [
    {
     "data": {
      "text/plain": [
       "3.75"
      ]
     },
     "execution_count": 54,
     "metadata": {},
     "output_type": "execute_result"
    }
   ],
   "source": [
    "x/y"
   ]
  },
  {
   "cell_type": "code",
   "execution_count": 55,
   "id": "4a887123-65a6-4e86-9a6e-be65ee7ebc63",
   "metadata": {},
   "outputs": [
    {
     "data": {
      "text/plain": [
       "3"
      ]
     },
     "execution_count": 55,
     "metadata": {},
     "output_type": "execute_result"
    }
   ],
   "source": [
    "x//y"
   ]
  },
  {
   "cell_type": "code",
   "execution_count": 56,
   "id": "0a29c98d-7ff0-4826-b798-19d13e6b3253",
   "metadata": {},
   "outputs": [
    {
     "data": {
      "text/plain": [
       "3"
      ]
     },
     "execution_count": 56,
     "metadata": {},
     "output_type": "execute_result"
    }
   ],
   "source": [
    "x%y"
   ]
  },
  {
   "cell_type": "code",
   "execution_count": 57,
   "id": "bf3f0065-d44c-49eb-ac3d-c470ad71dfd4",
   "metadata": {},
   "outputs": [
    {
     "data": {
      "text/plain": [
       "50625"
      ]
     },
     "execution_count": 57,
     "metadata": {},
     "output_type": "execute_result"
    }
   ],
   "source": [
    "x**y"
   ]
  },
  {
   "cell_type": "code",
   "execution_count": 58,
   "id": "958d6cc4-51fa-4877-93e8-102f52f3eade",
   "metadata": {},
   "outputs": [],
   "source": [
    "x=10"
   ]
  },
  {
   "cell_type": "code",
   "execution_count": 60,
   "id": "d525d94c-fcd2-4821-bebe-3f348a4e4ab3",
   "metadata": {},
   "outputs": [],
   "source": [
    "x +=2"
   ]
  },
  {
   "cell_type": "code",
   "execution_count": 61,
   "id": "183de916-a8ad-4809-b36f-e072e0701cfe",
   "metadata": {},
   "outputs": [
    {
     "data": {
      "text/plain": [
       "12"
      ]
     },
     "execution_count": 61,
     "metadata": {},
     "output_type": "execute_result"
    }
   ],
   "source": [
    "x"
   ]
  },
  {
   "cell_type": "code",
   "execution_count": 62,
   "id": "ac05f897-7a1f-4891-a41d-1f93a7d218f4",
   "metadata": {},
   "outputs": [],
   "source": [
    "x-=2"
   ]
  },
  {
   "cell_type": "code",
   "execution_count": 63,
   "id": "2f374bc6-96f3-4dde-b933-7967365cfbb1",
   "metadata": {},
   "outputs": [
    {
     "data": {
      "text/plain": [
       "10"
      ]
     },
     "execution_count": 63,
     "metadata": {},
     "output_type": "execute_result"
    }
   ],
   "source": [
    "x"
   ]
  },
  {
   "cell_type": "code",
   "execution_count": 64,
   "id": "c5203800-1449-41ac-b632-3a5639f286de",
   "metadata": {},
   "outputs": [],
   "source": [
    "x*=2"
   ]
  },
  {
   "cell_type": "code",
   "execution_count": 65,
   "id": "69043cff-9898-4cc2-87d7-0855568f1bd4",
   "metadata": {},
   "outputs": [
    {
     "data": {
      "text/plain": [
       "20"
      ]
     },
     "execution_count": 65,
     "metadata": {},
     "output_type": "execute_result"
    }
   ],
   "source": [
    "x"
   ]
  },
  {
   "cell_type": "code",
   "execution_count": 66,
   "id": "1316418a-66c3-4356-aadd-75c74d4cbf26",
   "metadata": {},
   "outputs": [],
   "source": [
    "x**=2"
   ]
  },
  {
   "cell_type": "code",
   "execution_count": 67,
   "id": "11f5d8eb-b503-45a9-91de-16de666a5b3e",
   "metadata": {},
   "outputs": [
    {
     "data": {
      "text/plain": [
       "400"
      ]
     },
     "execution_count": 67,
     "metadata": {},
     "output_type": "execute_result"
    }
   ],
   "source": [
    "x"
   ]
  },
  {
   "cell_type": "code",
   "execution_count": 68,
   "id": "2181b8f8-3c0a-4058-ba26-cba7726c80cd",
   "metadata": {},
   "outputs": [],
   "source": [
    "x //=  2"
   ]
  },
  {
   "cell_type": "code",
   "execution_count": 69,
   "id": "f2b1cdc4-146f-4879-b12f-8ddd6562c65b",
   "metadata": {},
   "outputs": [
    {
     "data": {
      "text/plain": [
       "200"
      ]
     },
     "execution_count": 69,
     "metadata": {},
     "output_type": "execute_result"
    }
   ],
   "source": [
    "x"
   ]
  },
  {
   "cell_type": "code",
   "execution_count": 72,
   "id": "6cbdd787-d756-4772-a6f4-13e56b6fa20e",
   "metadata": {},
   "outputs": [],
   "source": [
    "z=3.5"
   ]
  },
  {
   "cell_type": "code",
   "execution_count": 73,
   "id": "84f92c9c-f3fb-41b8-b138-975f10596043",
   "metadata": {},
   "outputs": [
    {
     "data": {
      "text/plain": [
       "float"
      ]
     },
     "execution_count": 73,
     "metadata": {},
     "output_type": "execute_result"
    }
   ],
   "source": [
    "type(z)"
   ]
  },
  {
   "cell_type": "code",
   "execution_count": 74,
   "id": "44dccd09-80b1-4a4a-8e3d-344065d6ad02",
   "metadata": {},
   "outputs": [],
   "source": [
    "z=int(z)"
   ]
  },
  {
   "cell_type": "code",
   "execution_count": 75,
   "id": "64fdad26-a344-45a2-b445-dc385f468c45",
   "metadata": {},
   "outputs": [
    {
     "data": {
      "text/plain": [
       "3"
      ]
     },
     "execution_count": 75,
     "metadata": {},
     "output_type": "execute_result"
    }
   ],
   "source": [
    "z"
   ]
  },
  {
   "cell_type": "code",
   "execution_count": 76,
   "id": "cce82e42-1d0a-4aa0-9c8b-08393bc44955",
   "metadata": {},
   "outputs": [
    {
     "data": {
      "text/plain": [
       "int"
      ]
     },
     "execution_count": 76,
     "metadata": {},
     "output_type": "execute_result"
    }
   ],
   "source": [
    "type(z)"
   ]
  },
  {
   "cell_type": "code",
   "execution_count": 78,
   "id": "12758eb6-8f8c-4928-ba8c-3ae0a4bf6106",
   "metadata": {},
   "outputs": [],
   "source": [
    "y=3"
   ]
  },
  {
   "cell_type": "code",
   "execution_count": 79,
   "id": "846bec93-abeb-451b-bed5-203f25189cf3",
   "metadata": {},
   "outputs": [],
   "source": [
    "y=float(y)"
   ]
  },
  {
   "cell_type": "code",
   "execution_count": 80,
   "id": "853f57c8-2419-474e-85d5-a7c34ca7ccd8",
   "metadata": {},
   "outputs": [
    {
     "data": {
      "text/plain": [
       "3.0"
      ]
     },
     "execution_count": 80,
     "metadata": {},
     "output_type": "execute_result"
    }
   ],
   "source": [
    "y"
   ]
  },
  {
   "cell_type": "code",
   "execution_count": 81,
   "id": "64f932fc-0285-487d-8236-1f1989fe9049",
   "metadata": {},
   "outputs": [
    {
     "data": {
      "text/plain": [
       "float"
      ]
     },
     "execution_count": 81,
     "metadata": {},
     "output_type": "execute_result"
    }
   ],
   "source": [
    "type(y)"
   ]
  },
  {
   "cell_type": "code",
   "execution_count": 93,
   "id": "f458c7f9-b0d4-42be-9efc-495cea549fb7",
   "metadata": {},
   "outputs": [],
   "source": [
    "x=\"27\""
   ]
  },
  {
   "cell_type": "code",
   "execution_count": 94,
   "id": "778b7050-744e-49ed-81f1-d312e157044c",
   "metadata": {},
   "outputs": [
    {
     "data": {
      "text/plain": [
       "str"
      ]
     },
     "execution_count": 94,
     "metadata": {},
     "output_type": "execute_result"
    }
   ],
   "source": [
    "type(x)"
   ]
  },
  {
   "cell_type": "code",
   "execution_count": 95,
   "id": "495345d6-c55c-4f0e-97c5-e2906b3e555b",
   "metadata": {},
   "outputs": [],
   "source": [
    "x=int(x)"
   ]
  },
  {
   "cell_type": "code",
   "execution_count": 96,
   "id": "ca421f4d-a2ac-496a-9bce-a3643e49dd23",
   "metadata": {},
   "outputs": [
    {
     "data": {
      "text/plain": [
       "27"
      ]
     },
     "execution_count": 96,
     "metadata": {},
     "output_type": "execute_result"
    }
   ],
   "source": [
    "x"
   ]
  },
  {
   "cell_type": "code",
   "execution_count": 97,
   "id": "acb520e9-ff13-4779-b57e-208d24a02679",
   "metadata": {},
   "outputs": [
    {
     "data": {
      "text/plain": [
       "int"
      ]
     },
     "execution_count": 97,
     "metadata": {},
     "output_type": "execute_result"
    }
   ],
   "source": [
    "type(x)"
   ]
  },
  {
   "cell_type": "code",
   "execution_count": 87,
   "id": "51d6069c-9df6-42ac-a2d6-f832c453aa61",
   "metadata": {},
   "outputs": [],
   "source": [
    "p=6"
   ]
  },
  {
   "cell_type": "code",
   "execution_count": 88,
   "id": "d7540962-bd20-4743-9265-7a7cead169a3",
   "metadata": {},
   "outputs": [
    {
     "data": {
      "text/plain": [
       "int"
      ]
     },
     "execution_count": 88,
     "metadata": {},
     "output_type": "execute_result"
    }
   ],
   "source": [
    "type(p)"
   ]
  },
  {
   "cell_type": "code",
   "execution_count": 89,
   "id": "2d1f5783-0428-4f27-8c95-9a83e01b532c",
   "metadata": {},
   "outputs": [],
   "source": [
    "p=str(p)"
   ]
  },
  {
   "cell_type": "code",
   "execution_count": 98,
   "id": "1c4d4335-27b6-4acb-8258-f00058d488b7",
   "metadata": {},
   "outputs": [
    {
     "data": {
      "text/plain": [
       "'6'"
      ]
     },
     "execution_count": 98,
     "metadata": {},
     "output_type": "execute_result"
    }
   ],
   "source": [
    "p"
   ]
  },
  {
   "cell_type": "code",
   "execution_count": 99,
   "id": "a6bfd5f8-b204-4306-b407-206af4a6962a",
   "metadata": {},
   "outputs": [
    {
     "data": {
      "text/plain": [
       "str"
      ]
     },
     "execution_count": 99,
     "metadata": {},
     "output_type": "execute_result"
    }
   ],
   "source": [
    "type(p)"
   ]
  },
  {
   "cell_type": "code",
   "execution_count": 101,
   "id": "bc85a871-b426-4824-98bb-bf0eaa996021",
   "metadata": {},
   "outputs": [
    {
     "name": "stdin",
     "output_type": "stream",
     "text": [
      "enter your age 20\n"
     ]
    }
   ],
   "source": [
    "age=input('enter your age')"
   ]
  },
  {
   "cell_type": "code",
   "execution_count": 102,
   "id": "db681319-f9d9-4999-a1c0-5310fd5c1222",
   "metadata": {},
   "outputs": [
    {
     "data": {
      "text/plain": [
       "str"
      ]
     },
     "execution_count": 102,
     "metadata": {},
     "output_type": "execute_result"
    }
   ],
   "source": [
    "type(age)"
   ]
  },
  {
   "cell_type": "code",
   "execution_count": 103,
   "id": "7bcfac7e-6115-43f9-90c6-4ffa836e0d71",
   "metadata": {},
   "outputs": [],
   "source": [
    "age=int(age)"
   ]
  },
  {
   "cell_type": "code",
   "execution_count": 104,
   "id": "b66fca15-4191-40a6-a285-ee0e4a2e3af8",
   "metadata": {},
   "outputs": [
    {
     "data": {
      "text/plain": [
       "int"
      ]
     },
     "execution_count": 104,
     "metadata": {},
     "output_type": "execute_result"
    }
   ],
   "source": [
    "type(age)"
   ]
  },
  {
   "cell_type": "code",
   "execution_count": 105,
   "id": "f76b47ab-8ff1-4f78-9646-7af33a6a5080",
   "metadata": {},
   "outputs": [
    {
     "name": "stdin",
     "output_type": "stream",
     "text": [
      "enter your height 5.5\n"
     ]
    }
   ],
   "source": [
    "height=input('enter your height')"
   ]
  },
  {
   "cell_type": "code",
   "execution_count": 106,
   "id": "11a91ce8-4966-4c7e-966a-34e8edd99518",
   "metadata": {},
   "outputs": [
    {
     "data": {
      "text/plain": [
       "str"
      ]
     },
     "execution_count": 106,
     "metadata": {},
     "output_type": "execute_result"
    }
   ],
   "source": [
    "type(height)"
   ]
  },
  {
   "cell_type": "code",
   "execution_count": 107,
   "id": "7396fe93-d1ed-43f8-b9b8-e44e02154ecc",
   "metadata": {},
   "outputs": [],
   "source": [
    "height=float(height)"
   ]
  },
  {
   "cell_type": "code",
   "execution_count": 108,
   "id": "a0669c4f-f358-486b-90cf-5f5bba6f4c92",
   "metadata": {},
   "outputs": [
    {
     "data": {
      "text/plain": [
       "float"
      ]
     },
     "execution_count": 108,
     "metadata": {},
     "output_type": "execute_result"
    }
   ],
   "source": [
    "type(height)"
   ]
  },
  {
   "cell_type": "code",
   "execution_count": 134,
   "id": "e2c3cf3e-10d0-43cf-bf78-0dbc4f5dba7c",
   "metadata": {},
   "outputs": [
    {
     "name": "stdout",
     "output_type": "stream",
     "text": [
      "sum= 25.5\n"
     ]
    }
   ],
   "source": [
    "print(\"sum=\",age+height)"
   ]
  },
  {
   "cell_type": "code",
   "execution_count": 136,
   "id": "e857bc87-9646-4d9d-b74f-404a2e80354e",
   "metadata": {},
   "outputs": [
    {
     "name": "stdin",
     "output_type": "stream",
     "text": [
      "enter your age 20\n",
      "enter your height 5.5\n"
     ]
    }
   ],
   "source": [
    "user1=input('enter your age')\n",
    "user2= input('enter your height')"
   ]
  },
  {
   "cell_type": "code",
   "execution_count": 137,
   "id": "429ed086-0246-49a7-8632-d6fa8c0d5f69",
   "metadata": {},
   "outputs": [],
   "source": [
    "user1=int(user1)\n",
    "user2=float(user2)"
   ]
  },
  {
   "cell_type": "code",
   "execution_count": 139,
   "id": "d29436a7-c537-4771-b802-9323598d6215",
   "metadata": {},
   "outputs": [
    {
     "data": {
      "text/plain": [
       "int"
      ]
     },
     "execution_count": 139,
     "metadata": {},
     "output_type": "execute_result"
    }
   ],
   "source": [
    "type(user1)\n",
    "\n"
   ]
  },
  {
   "cell_type": "code",
   "execution_count": 140,
   "id": "2ea040e9-1798-4e4c-9031-0a2a47deba09",
   "metadata": {},
   "outputs": [
    {
     "data": {
      "text/plain": [
       "float"
      ]
     },
     "execution_count": 140,
     "metadata": {},
     "output_type": "execute_result"
    }
   ],
   "source": [
    "type(user2)"
   ]
  },
  {
   "cell_type": "code",
   "execution_count": 141,
   "id": "9cff3eb0-c08c-410e-b183-ac56c6a13917",
   "metadata": {},
   "outputs": [
    {
     "data": {
      "text/plain": [
       "25.5"
      ]
     },
     "execution_count": 141,
     "metadata": {},
     "output_type": "execute_result"
    }
   ],
   "source": [
    "age+height"
   ]
  },
  {
   "cell_type": "code",
   "execution_count": 116,
   "id": "c184a5c8-ba3d-4f1a-a8ef-73bfad875d98",
   "metadata": {},
   "outputs": [
    {
     "data": {
      "text/plain": [
       "110.0"
      ]
     },
     "execution_count": 116,
     "metadata": {},
     "output_type": "execute_result"
    }
   ],
   "source": [
    "age*height"
   ]
  },
  {
   "cell_type": "code",
   "execution_count": 117,
   "id": "50d6a42d-4f1e-4d8e-94f2-9393c48fc4a6",
   "metadata": {},
   "outputs": [
    {
     "data": {
      "text/plain": [
       "float"
      ]
     },
     "execution_count": 117,
     "metadata": {},
     "output_type": "execute_result"
    }
   ],
   "source": [
    "type(age+height)"
   ]
  },
  {
   "cell_type": "code",
   "execution_count": 118,
   "id": "0be1b444-9180-42a6-a57c-bd94604c97a4",
   "metadata": {},
   "outputs": [
    {
     "data": {
      "text/plain": [
       "float"
      ]
     },
     "execution_count": 118,
     "metadata": {},
     "output_type": "execute_result"
    }
   ],
   "source": [
    "type(age*height)"
   ]
  },
  {
   "cell_type": "code",
   "execution_count": 119,
   "id": "5b026b6b-014e-42d5-bd11-58cb156308da",
   "metadata": {},
   "outputs": [],
   "source": [
    "a=2+3j"
   ]
  },
  {
   "cell_type": "code",
   "execution_count": 120,
   "id": "ac993a4e-0be5-48a9-8474-e5d8b3125412",
   "metadata": {},
   "outputs": [],
   "source": [
    "b=3+5j"
   ]
  },
  {
   "cell_type": "code",
   "execution_count": 121,
   "id": "e91a3dfd-53d2-4271-a578-03815df9af02",
   "metadata": {},
   "outputs": [
    {
     "data": {
      "text/plain": [
       "(5+8j)"
      ]
     },
     "execution_count": 121,
     "metadata": {},
     "output_type": "execute_result"
    }
   ],
   "source": [
    "a+b"
   ]
  },
  {
   "cell_type": "code",
   "execution_count": 122,
   "id": "85b3ed89-b019-475d-98be-3d0d5418858b",
   "metadata": {},
   "outputs": [
    {
     "data": {
      "text/plain": [
       "(-1-2j)"
      ]
     },
     "execution_count": 122,
     "metadata": {},
     "output_type": "execute_result"
    }
   ],
   "source": [
    "a-b"
   ]
  },
  {
   "cell_type": "code",
   "execution_count": 123,
   "id": "73586276-1dab-4438-a298-be50cbc4f85f",
   "metadata": {},
   "outputs": [
    {
     "data": {
      "text/plain": [
       "complex"
      ]
     },
     "execution_count": 123,
     "metadata": {},
     "output_type": "execute_result"
    }
   ],
   "source": [
    "type(a)"
   ]
  },
  {
   "cell_type": "code",
   "execution_count": 124,
   "id": "47c977e1-cfbf-45a4-98ad-eeab1f26edf4",
   "metadata": {},
   "outputs": [
    {
     "data": {
      "text/plain": [
       "complex"
      ]
     },
     "execution_count": 124,
     "metadata": {},
     "output_type": "execute_result"
    }
   ],
   "source": [
    "type(a+b)"
   ]
  },
  {
   "cell_type": "code",
   "execution_count": 125,
   "id": "62af37f4-6cf3-4059-8ade-8ec480d202a2",
   "metadata": {},
   "outputs": [
    {
     "data": {
      "text/plain": [
       "complex"
      ]
     },
     "execution_count": 125,
     "metadata": {},
     "output_type": "execute_result"
    }
   ],
   "source": [
    "type(a-b)"
   ]
  },
  {
   "cell_type": "code",
   "execution_count": 126,
   "id": "27ecb35a-a69c-4256-b063-5c3dc5b3aac5",
   "metadata": {},
   "outputs": [],
   "source": [
    "x=25"
   ]
  },
  {
   "cell_type": "code",
   "execution_count": 127,
   "id": "dc30bd5d-e434-4f00-a3fe-654af8dfd80c",
   "metadata": {},
   "outputs": [],
   "source": [
    "y=x"
   ]
  },
  {
   "cell_type": "code",
   "execution_count": 128,
   "id": "d484cfe2-8926-4d45-9c69-63b663736983",
   "metadata": {},
   "outputs": [
    {
     "data": {
      "text/plain": [
       "25"
      ]
     },
     "execution_count": 128,
     "metadata": {},
     "output_type": "execute_result"
    }
   ],
   "source": [
    "y"
   ]
  },
  {
   "cell_type": "code",
   "execution_count": 129,
   "id": "889e29ed-789e-4631-8741-649a3937229a",
   "metadata": {},
   "outputs": [
    {
     "data": {
      "text/plain": [
       "140717141505704"
      ]
     },
     "execution_count": 129,
     "metadata": {},
     "output_type": "execute_result"
    }
   ],
   "source": [
    "id(x)"
   ]
  },
  {
   "cell_type": "code",
   "execution_count": 130,
   "id": "8a940775-f862-46ce-95c8-5d5d0678634e",
   "metadata": {},
   "outputs": [
    {
     "data": {
      "text/plain": [
       "140717141505704"
      ]
     },
     "execution_count": 130,
     "metadata": {},
     "output_type": "execute_result"
    }
   ],
   "source": [
    "id(y)"
   ]
  },
  {
   "cell_type": "code",
   "execution_count": 131,
   "id": "a1d62b20-12cc-47bc-a816-7ea99881cc9b",
   "metadata": {},
   "outputs": [],
   "source": [
    "a='class=5'"
   ]
  },
  {
   "cell_type": "code",
   "execution_count": 132,
   "id": "eae6b70e-0a2f-48a3-9c01-1d0e44a4b547",
   "metadata": {},
   "outputs": [
    {
     "data": {
      "text/plain": [
       "'class=5'"
      ]
     },
     "execution_count": 132,
     "metadata": {},
     "output_type": "execute_result"
    }
   ],
   "source": [
    "a"
   ]
  },
  {
   "cell_type": "code",
   "execution_count": 144,
   "id": "964b983b-5b66-4a1c-8994-7c93e191148b",
   "metadata": {},
   "outputs": [],
   "source": [
    "#valid variables\n",
    "name=\"inder\"#can't start from int\n",
    "my_age=\"20\"#only underscore allowed\n",
    "_value=\"100\"#start with underscore for int value\n",
    "totalAMOUNT=20000#no space is allowed make a next capital big\n",
    "pi=3.14#\n",
    "\n"
   ]
  },
  {
   "cell_type": "code",
   "execution_count": 149,
   "id": "b48ad11c-ebc2-43ab-ad46-822764b1edc0",
   "metadata": {},
   "outputs": [
    {
     "ename": "SyntaxError",
     "evalue": "invalid decimal literal (2678222144.py, line 2)",
     "output_type": "error",
     "traceback": [
      "\u001b[1;36m  Cell \u001b[1;32mIn[149], line 2\u001b[1;36m\u001b[0m\n\u001b[1;33m    2name=\"invalid\"#cannot start with a digit\u001b[0m\n\u001b[1;37m    ^\u001b[0m\n\u001b[1;31mSyntaxError\u001b[0m\u001b[1;31m:\u001b[0m invalid decimal literal\n"
     ]
    }
   ],
   "source": [
    "#invalid variables\n",
    "2name=\"invalid\"#cannot start with a digit\n",
    "my-name=\"invalid\"#hyphens not allowed\n",
    "class=\"invalid\"#\"classs\"is a python keyword(jo dark green to shuru hundai oo variables ch nhi likhnai)\n",
    "total amount=\"invaild\"#space not allowed\n",
    "@temp=\"30\"#special symbols not allowed\n"
   ]
  },
  {
   "cell_type": "code",
   "execution_count": 146,
   "id": "551a0cc3-f4f4-4482-aea5-83950fea9193",
   "metadata": {},
   "outputs": [],
   "source": [
    "x=35"
   ]
  },
  {
   "cell_type": "code",
   "execution_count": 147,
   "id": "dbf487da-dff6-424b-b7bf-d666e294b795",
   "metadata": {},
   "outputs": [
    {
     "data": {
      "text/plain": [
       "True"
      ]
     },
     "execution_count": 147,
     "metadata": {},
     "output_type": "execute_result"
    }
   ],
   "source": [
    "isinstance(x,int)"
   ]
  },
  {
   "cell_type": "code",
   "execution_count": 148,
   "id": "a9330dc3-cd6b-473e-9f88-394114196279",
   "metadata": {},
   "outputs": [
    {
     "data": {
      "text/plain": [
       "False"
      ]
     },
     "execution_count": 148,
     "metadata": {},
     "output_type": "execute_result"
    }
   ],
   "source": [
    "isinstance(x,str)"
   ]
  },
  {
   "cell_type": "code",
   "execution_count": 150,
   "id": "2ec8b0d2-a2c4-4eab-9333-4bb34ae93d91",
   "metadata": {},
   "outputs": [],
   "source": [
    "import keyword"
   ]
  },
  {
   "cell_type": "code",
   "execution_count": 152,
   "id": "5ddd57a9-c5a9-4d01-b77f-c93bf8feb9cd",
   "metadata": {},
   "outputs": [
    {
     "name": "stdout",
     "output_type": "stream",
     "text": [
      "['False', 'None', 'True', 'and', 'as', 'assert', 'async', 'await', 'break', 'class', 'continue', 'def', 'del', 'elif', 'else', 'except', 'finally', 'for', 'from', 'global', 'if', 'import', 'in', 'is', 'lambda', 'nonlocal', 'not', 'or', 'pass', 'raise', 'return', 'try', 'while', 'with', 'yield']\n"
     ]
    }
   ],
   "source": [
    "print(keyword.kwlist)"
   ]
  },
  {
   "cell_type": "code",
   "execution_count": 161,
   "id": "945dd172-335b-4395-a002-b586f0db2dfb",
   "metadata": {},
   "outputs": [
    {
     "name": "stdin",
     "output_type": "stream",
     "text": [
      "enter first number 20\n",
      "enter secind number 30\n",
      "enter third number 40\n"
     ]
    }
   ],
   "source": [
    "a=int(input(\"enter first number\"))\n",
    "b=int(input(\"enter secind number\"))\n",
    "c=int(input(\"enter third number\"))"
   ]
  },
  {
   "cell_type": "code",
   "execution_count": 162,
   "id": "fc98caba-8426-41b2-9506-219cd24be077",
   "metadata": {},
   "outputs": [
    {
     "data": {
      "text/plain": [
       "20"
      ]
     },
     "execution_count": 162,
     "metadata": {},
     "output_type": "execute_result"
    }
   ],
   "source": [
    "a"
   ]
  },
  {
   "cell_type": "code",
   "execution_count": 163,
   "id": "e2525b97-4cd0-4827-ac1b-c22458f81efe",
   "metadata": {},
   "outputs": [
    {
     "data": {
      "text/plain": [
       "30"
      ]
     },
     "execution_count": 163,
     "metadata": {},
     "output_type": "execute_result"
    }
   ],
   "source": [
    "b"
   ]
  },
  {
   "cell_type": "code",
   "execution_count": 164,
   "id": "5bd95caa-9482-4982-8e3a-1ae11ce4771d",
   "metadata": {},
   "outputs": [
    {
     "data": {
      "text/plain": [
       "40"
      ]
     },
     "execution_count": 164,
     "metadata": {},
     "output_type": "execute_result"
    }
   ],
   "source": [
    "c"
   ]
  },
  {
   "cell_type": "code",
   "execution_count": 165,
   "id": "4f8e1d52-2033-4c03-8630-fab35d609984",
   "metadata": {},
   "outputs": [],
   "source": [
    "a,b,c=c,b,a"
   ]
  },
  {
   "cell_type": "code",
   "execution_count": 166,
   "id": "6fb3bc13-0bd4-4a56-a407-11413e0945bd",
   "metadata": {},
   "outputs": [
    {
     "data": {
      "text/plain": [
       "40"
      ]
     },
     "execution_count": 166,
     "metadata": {},
     "output_type": "execute_result"
    }
   ],
   "source": [
    "a"
   ]
  },
  {
   "cell_type": "code",
   "execution_count": 167,
   "id": "9ba9d7c5-bd1f-4f07-a6d4-ec0ab4094aa0",
   "metadata": {},
   "outputs": [
    {
     "data": {
      "text/plain": [
       "30"
      ]
     },
     "execution_count": 167,
     "metadata": {},
     "output_type": "execute_result"
    }
   ],
   "source": [
    "b"
   ]
  },
  {
   "cell_type": "code",
   "execution_count": 168,
   "id": "13203c71-c5c1-4436-802e-bbc2cc9c507e",
   "metadata": {},
   "outputs": [
    {
     "data": {
      "text/plain": [
       "20"
      ]
     },
     "execution_count": 168,
     "metadata": {},
     "output_type": "execute_result"
    }
   ],
   "source": [
    "c"
   ]
  },
  {
   "cell_type": "code",
   "execution_count": 169,
   "id": "d54ac7ef-49ae-480b-bc9d-3f96340e8595",
   "metadata": {},
   "outputs": [],
   "source": [
    "b,c=a,b"
   ]
  },
  {
   "cell_type": "code",
   "execution_count": 170,
   "id": "25a92bb8-bf70-49f1-9337-5db2a9f64fb6",
   "metadata": {},
   "outputs": [
    {
     "data": {
      "text/plain": [
       "40"
      ]
     },
     "execution_count": 170,
     "metadata": {},
     "output_type": "execute_result"
    }
   ],
   "source": [
    "b"
   ]
  },
  {
   "cell_type": "code",
   "execution_count": 171,
   "id": "a83e28b0-d302-44de-b825-a019d25ea98f",
   "metadata": {},
   "outputs": [
    {
     "data": {
      "text/plain": [
       "40"
      ]
     },
     "execution_count": 171,
     "metadata": {},
     "output_type": "execute_result"
    }
   ],
   "source": [
    "b"
   ]
  },
  {
   "cell_type": "code",
   "execution_count": 172,
   "id": "4bc4a7a2-9115-41ec-b522-67cda2b7ec28",
   "metadata": {},
   "outputs": [
    {
     "data": {
      "text/plain": [
       "30"
      ]
     },
     "execution_count": 172,
     "metadata": {},
     "output_type": "execute_result"
    }
   ],
   "source": [
    "c"
   ]
  },
  {
   "cell_type": "code",
   "execution_count": 173,
   "id": "b5481906-fca1-4e8b-9507-aaaf2e15b392",
   "metadata": {},
   "outputs": [
    {
     "data": {
      "text/plain": [
       "30"
      ]
     },
     "execution_count": 173,
     "metadata": {},
     "output_type": "execute_result"
    }
   ],
   "source": [
    "c"
   ]
  },
  {
   "cell_type": "code",
   "execution_count": 174,
   "id": "5cded1e2-7e8f-4194-9d9f-33d8aaf9c772",
   "metadata": {},
   "outputs": [
    {
     "data": {
      "text/plain": [
       "40"
      ]
     },
     "execution_count": 174,
     "metadata": {},
     "output_type": "execute_result"
    }
   ],
   "source": [
    "a"
   ]
  },
  {
   "cell_type": "code",
   "execution_count": 175,
   "id": "30588ccc-6c3d-4692-b587-15f15dc31e29",
   "metadata": {},
   "outputs": [
    {
     "data": {
      "text/plain": [
       "40"
      ]
     },
     "execution_count": 175,
     "metadata": {},
     "output_type": "execute_result"
    }
   ],
   "source": [
    "a"
   ]
  },
  {
   "cell_type": "markdown",
   "id": "6c460508-2c23-40fe-b224-1adff2548dc1",
   "metadata": {},
   "source": [
    "# string"
   ]
  },
  {
   "cell_type": "code",
   "execution_count": 178,
   "id": "9f3eb842-3fe6-4797-a6ea-ff8ed77261b5",
   "metadata": {},
   "outputs": [
    {
     "data": {
      "text/plain": [
       "True"
      ]
     },
     "execution_count": 178,
     "metadata": {},
     "output_type": "execute_result"
    }
   ],
   "source": [
    "#string membership\n",
    "'py' in 'python'"
   ]
  },
  {
   "cell_type": "code",
   "execution_count": 179,
   "id": "9b53c773-98a7-434f-a276-91256dbc3148",
   "metadata": {},
   "outputs": [
    {
     "data": {
      "text/plain": [
       "True"
      ]
     },
     "execution_count": 179,
     "metadata": {},
     "output_type": "execute_result"
    }
   ],
   "source": [
    "#string comparison\n",
    "\"apple\"==\"apple\""
   ]
  },
  {
   "cell_type": "code",
   "execution_count": 181,
   "id": "73a63b06-9d1d-479e-a942-a2cf7377177a",
   "metadata": {},
   "outputs": [
    {
     "data": {
      "text/plain": [
       "False"
      ]
     },
     "execution_count": 181,
     "metadata": {},
     "output_type": "execute_result"
    }
   ],
   "source": [
    "\"apple\"==\"banana\""
   ]
  },
  {
   "cell_type": "code",
   "execution_count": 182,
   "id": "f198e10e-136a-4ac6-9636-83ec18c6732c",
   "metadata": {},
   "outputs": [
    {
     "data": {
      "text/plain": [
       "False"
      ]
     },
     "execution_count": 182,
     "metadata": {},
     "output_type": "execute_result"
    }
   ],
   "source": [
    "\"apple\">\"banana\""
   ]
  },
  {
   "cell_type": "code",
   "execution_count": 184,
   "id": "ef88141a-d1fd-406f-9219-d41fd86b4601",
   "metadata": {},
   "outputs": [
    {
     "data": {
      "text/plain": [
       "'inder preet kaur'"
      ]
     },
     "execution_count": 184,
     "metadata": {},
     "output_type": "execute_result"
    }
   ],
   "source": [
    "\" inder preet kaur\".strip()"
   ]
  },
  {
   "cell_type": "code",
   "execution_count": 185,
   "id": "625523c4-2a60-40ae-bd7d-e07423f3bc9d",
   "metadata": {},
   "outputs": [],
   "source": [
    "#immutability of strings\n",
    "s=\"hello\""
   ]
  },
  {
   "cell_type": "code",
   "execution_count": 186,
   "id": "4cf46b4b-d2cf-4be1-a93d-58fc16b5e1af",
   "metadata": {},
   "outputs": [
    {
     "ename": "TypeError",
     "evalue": "'str' object does not support item assignment",
     "output_type": "error",
     "traceback": [
      "\u001b[1;31m---------------------------------------------------------------------------\u001b[0m",
      "\u001b[1;31mTypeError\u001b[0m                                 Traceback (most recent call last)",
      "Cell \u001b[1;32mIn[186], line 1\u001b[0m\n\u001b[1;32m----> 1\u001b[0m s[\u001b[38;5;241m0\u001b[39m]\u001b[38;5;241m=\u001b[39my\n",
      "\u001b[1;31mTypeError\u001b[0m: 'str' object does not support item assignment"
     ]
    }
   ],
   "source": [
    "s[0]=y"
   ]
  },
  {
   "cell_type": "code",
   "execution_count": 190,
   "id": "dfe05baa-f486-4ceb-9312-a1c577a43d46",
   "metadata": {},
   "outputs": [
    {
     "ename": "_IncompleteInputError",
     "evalue": "incomplete input (3540048494.py, line 1)",
     "output_type": "error",
     "traceback": [
      "\u001b[1;36m  Cell \u001b[1;32mIn[190], line 1\u001b[1;36m\u001b[0m\n\u001b[1;33m    for char in \"inderpreet\":\u001b[0m\n\u001b[1;37m                             ^\u001b[0m\n\u001b[1;31m_IncompleteInputError\u001b[0m\u001b[1;31m:\u001b[0m incomplete input\n"
     ]
    }
   ],
   "source": [
    "for char in \"inderpreet\":\n"
   ]
  },
  {
   "cell_type": "code",
   "execution_count": null,
   "id": "2a24323a-9506-4bd8-a31d-18f88c47a63a",
   "metadata": {},
   "outputs": [],
   "source": []
  }
 ],
 "metadata": {
  "kernelspec": {
   "display_name": "Python [conda env:base] *",
   "language": "python",
   "name": "conda-base-py"
  },
  "language_info": {
   "codemirror_mode": {
    "name": "ipython",
    "version": 3
   },
   "file_extension": ".py",
   "mimetype": "text/x-python",
   "name": "python",
   "nbconvert_exporter": "python",
   "pygments_lexer": "ipython3",
   "version": "3.13.5"
  }
 },
 "nbformat": 4,
 "nbformat_minor": 5
}
