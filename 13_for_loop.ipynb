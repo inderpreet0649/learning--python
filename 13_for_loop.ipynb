{
 "cells": [
  {
   "cell_type": "code",
   "execution_count": 1,
   "id": "eec65a11-efb0-4217-984c-8b06b4620bde",
   "metadata": {},
   "outputs": [
    {
     "name": "stdout",
     "output_type": "stream",
     "text": [
      "0\n",
      "1\n",
      "2\n",
      "3\n",
      "4\n"
     ]
    }
   ],
   "source": [
    "i=0\n",
    "n=5\n",
    "while i<n:\n",
    "    print(i)\n",
    "    i+=1"
   ]
  },
  {
   "cell_type": "code",
   "execution_count": 2,
   "id": "efd4d73e-81e2-4a9c-9e29-c2f93887e183",
   "metadata": {},
   "outputs": [
    {
     "name": "stdout",
     "output_type": "stream",
     "text": [
      "5\n",
      "4\n",
      "3\n",
      "2\n",
      "1\n"
     ]
    }
   ],
   "source": [
    "#ulta loop\n",
    "i=5\n",
    "n=0\n",
    "while i>n:\n",
    "    print(i)\n",
    "    i-=1"
   ]
  },
  {
   "cell_type": "code",
   "execution_count": 4,
   "id": "903a2be0-4ab6-457d-9961-04c4300b1ae2",
   "metadata": {},
   "outputs": [
    {
     "name": "stdout",
     "output_type": "stream",
     "text": [
      "5\n",
      "4\n",
      "3\n",
      "2\n",
      "1\n"
     ]
    }
   ],
   "source": [
    "#ulta loop another way\n",
    "#0 ka dyane rakhna hmesha varna values minus me bhi chalti rhegi ...infinite loop chl jana...0 ka dyane\n",
    "i=5\n",
    "while i:\n",
    "    print(i)\n",
    "    i-=1"
   ]
  },
  {
   "cell_type": "code",
   "execution_count": 5,
   "id": "f7e93ffc-a06f-4700-9cd0-caaba1d18bbc",
   "metadata": {},
   "outputs": [],
   "source": [
    "name=\"inderpreet\""
   ]
  },
  {
   "cell_type": "code",
   "execution_count": 6,
   "id": "a34c1c8e-53a3-4eee-853e-4c38f563066c",
   "metadata": {},
   "outputs": [
    {
     "name": "stdout",
     "output_type": "stream",
     "text": [
      "hi\n",
      "hi\n",
      "hi\n",
      "hi\n",
      "hi\n",
      "hi\n",
      "hi\n",
      "hi\n",
      "hi\n",
      "hi\n"
     ]
    }
   ],
   "source": [
    "for alphabet in name:\n",
    "    print('hi')"
   ]
  },
  {
   "cell_type": "code",
   "execution_count": 7,
   "id": "599f2df5-2f06-4844-8c68-e22861ca0e22",
   "metadata": {},
   "outputs": [
    {
     "name": "stdout",
     "output_type": "stream",
     "text": [
      "i\n",
      "n\n",
      "d\n",
      "e\n",
      "r\n",
      "p\n",
      "r\n",
      "e\n",
      "e\n",
      "t\n"
     ]
    }
   ],
   "source": [
    "for alphabet in name:\n",
    "    print(alphabet)"
   ]
  },
  {
   "cell_type": "code",
   "execution_count": 9,
   "id": "fa3e1169-c0f5-44ea-8466-d6984c76a35b",
   "metadata": {},
   "outputs": [
    {
     "name": "stdout",
     "output_type": "stream",
     "text": [
      "tamatr\n",
      "pyaz\n",
      "aloo\n",
      "bhindi\n"
     ]
    }
   ],
   "source": [
    "parchi=['tamatr','pyaz','aloo','bhindi']\n",
    "\n",
    "\n",
    "for sabji in parchi:\n",
    "    print(sabji)"
   ]
  },
  {
   "cell_type": "code",
   "execution_count": 10,
   "id": "bd5ae819-cbfa-453b-9bbc-f7123dbafdc1",
   "metadata": {},
   "outputs": [
    {
     "name": "stdout",
     "output_type": "stream",
     "text": [
      "hello inder\n",
      "hello preet\n",
      "hello mumma\n",
      "hello papa\n"
     ]
    }
   ],
   "source": [
    "#never use CLASS word\n",
    "\n",
    "course=['inder','preet','mumma','papa']\n",
    "for person in course:\n",
    "    print(\"hello\",person)"
   ]
  },
  {
   "cell_type": "code",
   "execution_count": 12,
   "id": "4a85b896-77bc-4e7f-8cef-0ad9c70f22ec",
   "metadata": {},
   "outputs": [
    {
     "name": "stdout",
     "output_type": "stream",
     "text": [
      "2\n",
      "3\n",
      "5\n",
      "6\n",
      "8\n",
      "9\n"
     ]
    }
   ],
   "source": [
    "# i is used for item\n",
    "j={2,3,5,6,8,9}\n",
    "for i in j:\n",
    "    print(i)"
   ]
  },
  {
   "cell_type": "code",
   "execution_count": 13,
   "id": "b4467ede-0bcb-4557-9392-570f12b3bba1",
   "metadata": {},
   "outputs": [
    {
     "name": "stdout",
     "output_type": "stream",
     "text": [
      "0\n",
      "1\n",
      "2\n",
      "3\n",
      "4\n"
     ]
    }
   ],
   "source": [
    "i=0\n",
    "n=5\n",
    "while i<n:\n",
    "    print(i)\n",
    "    i+=1"
   ]
  },
  {
   "cell_type": "code",
   "execution_count": 14,
   "id": "39036d46-5c04-472e-abeb-72c6f52fe576",
   "metadata": {},
   "outputs": [
    {
     "name": "stdout",
     "output_type": "stream",
     "text": [
      "0\n",
      "1\n",
      "2\n",
      "3\n",
      "4\n"
     ]
    }
   ],
   "source": [
    "for i in range(5):\n",
    "    print(i)"
   ]
  },
  {
   "cell_type": "code",
   "execution_count": 17,
   "id": "0d8391fe-7be2-43f5-8eaf-00e186ea7722",
   "metadata": {},
   "outputs": [
    {
     "name": "stdout",
     "output_type": "stream",
     "text": [
      "3\n",
      "4\n",
      "5\n",
      "6\n",
      "7\n",
      "8\n",
      "9\n"
     ]
    }
   ],
   "source": [
    "i=3\n",
    "n=10\n",
    "while i<n:\n",
    "    print(i)\n",
    "    i+=1"
   ]
  },
  {
   "cell_type": "code",
   "execution_count": 18,
   "id": "a4eedcc1-672a-4f48-a6db-09b560cbc4b6",
   "metadata": {},
   "outputs": [
    {
     "name": "stdout",
     "output_type": "stream",
     "text": [
      "3\n",
      "4\n",
      "5\n",
      "6\n",
      "7\n",
      "8\n",
      "9\n"
     ]
    }
   ],
   "source": [
    "for i in range(3,10):\n",
    "    print(i)"
   ]
  },
  {
   "cell_type": "code",
   "execution_count": 21,
   "id": "afe2bb72-f797-484f-b7f2-21afe0dbe1d2",
   "metadata": {},
   "outputs": [
    {
     "name": "stdout",
     "output_type": "stream",
     "text": [
      "3\n",
      "5\n",
      "7\n",
      "9\n"
     ]
    }
   ],
   "source": [
    "#for change in increment\n",
    "i=3\n",
    "n=10\n",
    "while i<n:\n",
    "    print(i)\n",
    "    i+=2"
   ]
  },
  {
   "cell_type": "code",
   "execution_count": 22,
   "id": "1dc95117-ae9c-47d0-9f3b-db69e388251f",
   "metadata": {},
   "outputs": [
    {
     "name": "stdout",
     "output_type": "stream",
     "text": [
      "3\n",
      "5\n",
      "7\n",
      "9\n"
     ]
    }
   ],
   "source": [
    "for i in range(3,10,2):\n",
    "    print(i)"
   ]
  },
  {
   "cell_type": "code",
   "execution_count": 23,
   "id": "2b696bcc-1e3d-405f-8f06-08a041bb8c98",
   "metadata": {},
   "outputs": [
    {
     "name": "stdout",
     "output_type": "stream",
     "text": [
      "0\n",
      "1\n",
      "2\n",
      "3\n",
      "4\n"
     ]
    }
   ],
   "source": [
    "name=\"inder\"\n",
    "i=0\n",
    "n=len(name)\n",
    "while i<n:\n",
    "    print(i)\n",
    "    i+=1"
   ]
  },
  {
   "cell_type": "code",
   "execution_count": 24,
   "id": "bcb6c935-22f0-4c7e-ad37-20d18ed327da",
   "metadata": {},
   "outputs": [
    {
     "name": "stdout",
     "output_type": "stream",
     "text": [
      "i\n",
      "n\n",
      "d\n",
      "e\n",
      "r\n"
     ]
    }
   ],
   "source": [
    "name=\"inder\"\n",
    "for i in range(len(name)):\n",
    "    print(name[i])"
   ]
  },
  {
   "cell_type": "code",
   "execution_count": 4,
   "id": "f422f5d8-0941-4798-9834-eb7f03f4e190",
   "metadata": {},
   "outputs": [],
   "source": [
    "#everything in () is a function\n",
    "#if you don't have any liabry that u used...for installing (pip install fileKaNaam)"
   ]
  },
  {
   "cell_type": "code",
   "execution_count": 6,
   "id": "b49e4690-02df-4d60-9035-9e4fd6ef4119",
   "metadata": {},
   "outputs": [
    {
     "name": "stdout",
     "output_type": "stream",
     "text": [
      "Requirement already satisfied: numpy in c:\\users\\inder\\anaconda3\\lib\\site-packages (2.1.3)\n",
      "Note: you may need to restart the kernel to use updated packages.\n"
     ]
    }
   ],
   "source": [
    "pip install numpy\n"
   ]
  },
  {
   "cell_type": "code",
   "execution_count": 7,
   "id": "73c07548-1572-4f88-9ee3-441d03a01a5b",
   "metadata": {},
   "outputs": [],
   "source": [
    "import random"
   ]
  },
  {
   "cell_type": "code",
   "execution_count": 8,
   "id": "d24aaa83-5a08-45cd-8047-aacc16d60b5f",
   "metadata": {},
   "outputs": [
    {
     "data": {
      "text/plain": [
       "'random.py'"
      ]
     },
     "execution_count": 8,
     "metadata": {},
     "output_type": "execute_result"
    }
   ],
   "source": [
    "\"random.py\""
   ]
  },
  {
   "cell_type": "code",
   "execution_count": 9,
   "id": "905bbb30-7b21-4ebd-9b99-8a27adea001e",
   "metadata": {},
   "outputs": [
    {
     "data": {
      "text/plain": [
       "10"
      ]
     },
     "execution_count": 9,
     "metadata": {},
     "output_type": "execute_result"
    }
   ],
   "source": [
    "random.randint(1,10)"
   ]
  },
  {
   "cell_type": "code",
   "execution_count": 11,
   "id": "6bcfc60b-1504-4f6d-8e22-e474ace97a5b",
   "metadata": {},
   "outputs": [
    {
     "name": "stdout",
     "output_type": "stream",
     "text": [
      "9 3 5 7 8 6 4 2 4 4 7 10 2 8 2 "
     ]
    },
    {
     "data": {
      "text/plain": [
       "[9, 3, 5, 7, 8, 6, 4, 2, 4, 4, 7, 10, 2, 8, 2]"
      ]
     },
     "execution_count": 11,
     "metadata": {},
     "output_type": "execute_result"
    }
   ],
   "source": [
    "li=[]\n",
    "\n",
    "for i in range(15):\n",
    "    num=random.randint(1,10)\n",
    "    print(num,end=\" \")\n",
    "    li.append(num)\n",
    "\n",
    "li"
   ]
  },
  {
   "cell_type": "code",
   "execution_count": 13,
   "id": "0f3f5221-6ad9-4532-9347-260f5f2028ed",
   "metadata": {},
   "outputs": [
    {
     "name": "stdout",
     "output_type": "stream",
     "text": [
      "[2, 3, 4, 5]\n",
      "[4, 9, 16, 25]\n"
     ]
    }
   ],
   "source": [
    "li=[2,3,4,5]\n",
    "a=[]\n",
    "for i in li:\n",
    "    s=i**2\n",
    "    a.append(s)\n",
    "\n",
    "print(li)\n",
    "print(a)"
   ]
  },
  {
   "cell_type": "code",
   "execution_count": 14,
   "id": "d094e4b4-b5cf-485c-9e2b-eeabba78ed6f",
   "metadata": {},
   "outputs": [
    {
     "data": {
      "text/plain": [
       "[1, 5, 4, 10, 4]"
      ]
     },
     "execution_count": 14,
     "metadata": {},
     "output_type": "execute_result"
    }
   ],
   "source": [
    "a=[]\n",
    "for i in range(5):\n",
    "    a.append(random.randint(1,10))\n",
    "a\n",
    "\n"
   ]
  },
  {
   "cell_type": "code",
   "execution_count": 15,
   "id": "85786f31-3a3b-437a-b8a9-0b6ed44d74be",
   "metadata": {},
   "outputs": [
    {
     "data": {
      "text/plain": [
       "[8, 10, 4, 1, 1]"
      ]
     },
     "execution_count": 15,
     "metadata": {},
     "output_type": "execute_result"
    }
   ],
   "source": [
    "#list comprehension (everything in one line)\n",
    "a=[random.randint(1,10) for i in range(5)]\n",
    "a"
   ]
  },
  {
   "cell_type": "code",
   "execution_count": 16,
   "id": "cdb8dbf4-71b8-4e60-a526-bb426ada7115",
   "metadata": {},
   "outputs": [
    {
     "data": {
      "text/plain": [
       "[0, 1, 4, 9, 16]"
      ]
     },
     "execution_count": 16,
     "metadata": {},
     "output_type": "execute_result"
    }
   ],
   "source": [
    "#list comprehension (everything in one line)\n",
    "a=[i**2 for i in range(5)]\n",
    "a"
   ]
  },
  {
   "cell_type": "code",
   "execution_count": 17,
   "id": "d81ca784-039f-46d5-a1aa-71f3b96df1c2",
   "metadata": {},
   "outputs": [
    {
     "data": {
      "text/plain": [
       "[0, 1, 2, 3, 4]"
      ]
     },
     "execution_count": 17,
     "metadata": {},
     "output_type": "execute_result"
    }
   ],
   "source": [
    "#list comprehension (everything in one line)\n",
    "a=[i for i in range(5)]\n",
    "a"
   ]
  },
  {
   "cell_type": "code",
   "execution_count": 18,
   "id": "c2054810-6ba8-483d-9474-8de712ceff77",
   "metadata": {},
   "outputs": [
    {
     "data": {
      "text/plain": [
       "[0, 1, 2, 3, 4]"
      ]
     },
     "execution_count": 18,
     "metadata": {},
     "output_type": "execute_result"
    }
   ],
   "source": [
    "a"
   ]
  },
  {
   "cell_type": "code",
   "execution_count": 19,
   "id": "22c9e212-c27e-401e-9370-5fdbaa28040f",
   "metadata": {},
   "outputs": [
    {
     "data": {
      "text/plain": [
       "[0, 1, 2, 3, 4]"
      ]
     },
     "execution_count": 19,
     "metadata": {},
     "output_type": "execute_result"
    }
   ],
   "source": [
    "l=[i for i in a]\n",
    "l"
   ]
  },
  {
   "cell_type": "code",
   "execution_count": 20,
   "id": "45ef50d7-7e71-4da6-bd82-a74420e63a0a",
   "metadata": {},
   "outputs": [
    {
     "name": "stdout",
     "output_type": "stream",
     "text": [
      "[0, 1, 2, 3, 4]\n",
      "[0, 1, 4, 9, 16]\n"
     ]
    }
   ],
   "source": [
    "l=[i**2 for i in a]\n",
    "print(a)\n",
    "print(l)"
   ]
  },
  {
   "cell_type": "code",
   "execution_count": 21,
   "id": "a7a3d8e4-e591-43a6-90fd-b6ff40493b5f",
   "metadata": {},
   "outputs": [
    {
     "name": "stdout",
     "output_type": "stream",
     "text": [
      "[0, 1, 2, 3, 4]\n",
      "[0, 1, 2, 3, 4]\n"
     ]
    }
   ],
   "source": [
    "l=[i for i in range(len(a))]\n",
    "print(a)\n",
    "print(l)"
   ]
  },
  {
   "cell_type": "code",
   "execution_count": 22,
   "id": "1584712f-6c24-4575-87ba-edd416206a0b",
   "metadata": {},
   "outputs": [
    {
     "name": "stdout",
     "output_type": "stream",
     "text": [
      "[0, 1, 2, 3, 4]\n",
      "[0, 1, 4, 9, 16]\n"
     ]
    }
   ],
   "source": [
    "l=[a[i]**2 for i in range(len(a))]\n",
    "print(a)\n",
    "print(l)"
   ]
  },
  {
   "cell_type": "code",
   "execution_count": 23,
   "id": "7ffae826-c7e2-47b5-91ed-2bfa78687a1b",
   "metadata": {},
   "outputs": [
    {
     "name": "stdout",
     "output_type": "stream",
     "text": [
      "[0, 1, 2, 3, 4]\n",
      "[0, 1, 4, 9, 16]\n"
     ]
    }
   ],
   "source": [
    "print(a)\n",
    "l=[]\n",
    "for i in range(len(a)):\n",
    "    l.append(a[i]**2)\n",
    "print(l)"
   ]
  },
  {
   "cell_type": "code",
   "execution_count": 24,
   "id": "8d8a01aa-9ce8-4e23-972d-8bc425e54b44",
   "metadata": {},
   "outputs": [],
   "source": [
    "a,b=5,6"
   ]
  },
  {
   "cell_type": "code",
   "execution_count": 25,
   "id": "7094431c-8d31-4f80-be1a-2f5dce7b878a",
   "metadata": {},
   "outputs": [],
   "source": [
    "name=[\"inder\",\"preet\",\"preety\"]\n",
    "age=[20,20,24]"
   ]
  },
  {
   "cell_type": "code",
   "execution_count": 27,
   "id": "57ea0075-72d0-4ee7-ae48-587d0055d301",
   "metadata": {},
   "outputs": [
    {
     "name": "stdout",
     "output_type": "stream",
     "text": [
      "inder 20\n",
      "preet 20\n",
      "preety 24\n"
     ]
    }
   ],
   "source": [
    "#zip function used for combing two elements in looping by one by one\n",
    "li=[]\n",
    "for i,j in zip(name,age):\n",
    "    print(i,j)"
   ]
  },
  {
   "cell_type": "code",
   "execution_count": 28,
   "id": "ec682a4c-ca87-4a8f-a5f9-0a16163b6956",
   "metadata": {},
   "outputs": [],
   "source": [
    "#zip function used for combing two elements in looping by one by one mainly used for dictionary comprehension\n",
    "d={}\n",
    "for i,j in zip(name,age):\n",
    "    d[i]=j"
   ]
  },
  {
   "cell_type": "code",
   "execution_count": 29,
   "id": "e0dfbb3e-f761-45ff-8692-f7d081da8d6f",
   "metadata": {},
   "outputs": [
    {
     "data": {
      "text/plain": [
       "{'inder': 20, 'preet': 20, 'preety': 24}"
      ]
     },
     "execution_count": 29,
     "metadata": {},
     "output_type": "execute_result"
    }
   ],
   "source": [
    "d"
   ]
  },
  {
   "cell_type": "code",
   "execution_count": 30,
   "id": "c3272949-3bad-4502-92d2-8a73177a229d",
   "metadata": {},
   "outputs": [
    {
     "data": {
      "text/plain": [
       "{'inder': 20, 'preet': 20, 'preety': 24}"
      ]
     },
     "execution_count": 30,
     "metadata": {},
     "output_type": "execute_result"
    }
   ],
   "source": [
    "{i:j for i, j in zip(name,age)}"
   ]
  },
  {
   "cell_type": "code",
   "execution_count": 1,
   "id": "701cf8a9-b8f1-438d-a46e-133f569ffb8a",
   "metadata": {},
   "outputs": [
    {
     "name": "stdout",
     "output_type": "stream",
     "text": [
      "[0, 1, 2, 3, 4, 5, 6, 7, 8, 9]\n"
     ]
    }
   ],
   "source": [
    "a=[]\n",
    "for i in range(10):\n",
    "    a.append(i)\n",
    "print(a)"
   ]
  },
  {
   "cell_type": "code",
   "execution_count": null,
   "id": "6dd7a16e-da70-4867-ad90-843f2b34ec93",
   "metadata": {},
   "outputs": [],
   "source": []
  },
  {
   "cell_type": "code",
   "execution_count": null,
   "id": "331f7e3a-68e8-47f7-98b8-0f1c1b56b23a",
   "metadata": {},
   "outputs": [],
   "source": []
  }
 ],
 "metadata": {
  "kernelspec": {
   "display_name": "Python [conda env:base] *",
   "language": "python",
   "name": "conda-base-py"
  },
  "language_info": {
   "codemirror_mode": {
    "name": "ipython",
    "version": 3
   },
   "file_extension": ".py",
   "mimetype": "text/x-python",
   "name": "python",
   "nbconvert_exporter": "python",
   "pygments_lexer": "ipython3",
   "version": "3.13.5"
  }
 },
 "nbformat": 4,
 "nbformat_minor": 5
}
