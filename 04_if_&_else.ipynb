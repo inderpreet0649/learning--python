{
 "cells": [
  {
   "cell_type": "markdown",
   "id": "bb6b059b-c69b-40c3-85a2-9f194decd331",
   "metadata": {},
   "source": [
    "# booleans"
   ]
  },
  {
   "cell_type": "code",
   "execution_count": 25,
   "id": "84f7dcc6-e8e9-4169-ad32-32604d05b312",
   "metadata": {},
   "outputs": [
    {
     "data": {
      "text/plain": [
       "True"
      ]
     },
     "execution_count": 25,
     "metadata": {},
     "output_type": "execute_result"
    }
   ],
   "source": [
    "True"
   ]
  },
  {
   "cell_type": "code",
   "execution_count": 4,
   "id": "9194a6ec-f198-41c2-80ea-42f75d8c54de",
   "metadata": {},
   "outputs": [
    {
     "data": {
      "text/plain": [
       "False"
      ]
     },
     "execution_count": 4,
     "metadata": {},
     "output_type": "execute_result"
    }
   ],
   "source": [
    "False"
   ]
  },
  {
   "cell_type": "code",
   "execution_count": 8,
   "id": "c5e19a47-e7e6-4dba-960f-3fb5fde8ce19",
   "metadata": {},
   "outputs": [
    {
     "data": {
      "text/plain": [
       "1"
      ]
     },
     "execution_count": 8,
     "metadata": {},
     "output_type": "execute_result"
    }
   ],
   "source": [
    "int(True)"
   ]
  },
  {
   "cell_type": "code",
   "execution_count": 9,
   "id": "accd2761-f061-4fbc-a387-d65aa8624851",
   "metadata": {},
   "outputs": [
    {
     "data": {
      "text/plain": [
       "0"
      ]
     },
     "execution_count": 9,
     "metadata": {},
     "output_type": "execute_result"
    }
   ],
   "source": [
    "int(False)"
   ]
  },
  {
   "cell_type": "code",
   "execution_count": 10,
   "id": "74c7e72b-cca2-441f-aa44-1189fb4b64ba",
   "metadata": {},
   "outputs": [
    {
     "data": {
      "text/plain": [
       "True"
      ]
     },
     "execution_count": 10,
     "metadata": {},
     "output_type": "execute_result"
    }
   ],
   "source": [
    "bool(5)"
   ]
  },
  {
   "cell_type": "code",
   "execution_count": 12,
   "id": "04b076f0-eb11-41ed-b800-5b1e4269fa1d",
   "metadata": {},
   "outputs": [
    {
     "data": {
      "text/plain": [
       "False"
      ]
     },
     "execution_count": 12,
     "metadata": {},
     "output_type": "execute_result"
    }
   ],
   "source": [
    "#only 0 is false others all are true\n",
    "bool(0)"
   ]
  },
  {
   "cell_type": "code",
   "execution_count": 13,
   "id": "ebf5c4f6-96d5-45fb-b72b-9c79490a2e62",
   "metadata": {},
   "outputs": [
    {
     "data": {
      "text/plain": [
       "True"
      ]
     },
     "execution_count": 13,
     "metadata": {},
     "output_type": "execute_result"
    }
   ],
   "source": [
    "bool(-6)"
   ]
  },
  {
   "cell_type": "code",
   "execution_count": 14,
   "id": "9e3e8cac-5a6e-4ca9-b911-0c3cc2c857e5",
   "metadata": {},
   "outputs": [
    {
     "data": {
      "text/plain": [
       "True"
      ]
     },
     "execution_count": 14,
     "metadata": {},
     "output_type": "execute_result"
    }
   ],
   "source": [
    "bool(4+5)"
   ]
  },
  {
   "cell_type": "code",
   "execution_count": 15,
   "id": "9bc053d0-d55f-4911-8283-33bd82c0cde4",
   "metadata": {},
   "outputs": [
    {
     "data": {
      "text/plain": [
       "False"
      ]
     },
     "execution_count": 15,
     "metadata": {},
     "output_type": "execute_result"
    }
   ],
   "source": [
    "bool(9-9)"
   ]
  },
  {
   "cell_type": "code",
   "execution_count": 16,
   "id": "e726d38e-15d5-4f10-832f-6d6382ee1531",
   "metadata": {},
   "outputs": [
    {
     "data": {
      "text/plain": [
       "False"
      ]
     },
     "execution_count": 16,
     "metadata": {},
     "output_type": "execute_result"
    }
   ],
   "source": [
    "bool()"
   ]
  },
  {
   "cell_type": "code",
   "execution_count": 17,
   "id": "08d5ee34-63f0-4990-9172-573d0a0728fc",
   "metadata": {},
   "outputs": [
    {
     "data": {
      "text/plain": [
       "False"
      ]
     },
     "execution_count": 17,
     "metadata": {},
     "output_type": "execute_result"
    }
   ],
   "source": [
    "bool(\"\")"
   ]
  },
  {
   "cell_type": "code",
   "execution_count": 19,
   "id": "e9b971b1-d3cb-4158-b15f-e8d8ea91b8b5",
   "metadata": {},
   "outputs": [
    {
     "data": {
      "text/plain": [
       "True"
      ]
     },
     "execution_count": 19,
     "metadata": {},
     "output_type": "execute_result"
    }
   ],
   "source": [
    "#everything in the quotation is true even space\n",
    "bool(\" \")"
   ]
  },
  {
   "cell_type": "code",
   "execution_count": 20,
   "id": "1843290f-1aea-497a-87d9-874ec76445ca",
   "metadata": {},
   "outputs": [
    {
     "data": {
      "text/plain": [
       "True"
      ]
     },
     "execution_count": 20,
     "metadata": {},
     "output_type": "execute_result"
    }
   ],
   "source": [
    "bool([5])"
   ]
  },
  {
   "cell_type": "code",
   "execution_count": 21,
   "id": "1ea7c843-d782-4e73-bee4-996099f2ceb1",
   "metadata": {},
   "outputs": [
    {
     "data": {
      "text/plain": [
       "False"
      ]
     },
     "execution_count": 21,
     "metadata": {},
     "output_type": "execute_result"
    }
   ],
   "source": [
    "bool(())"
   ]
  },
  {
   "cell_type": "code",
   "execution_count": 23,
   "id": "28827c4e-16b9-4ccf-b118-35e388605049",
   "metadata": {},
   "outputs": [
    {
     "data": {
      "text/plain": [
       "True"
      ]
     },
     "execution_count": 23,
     "metadata": {},
     "output_type": "execute_result"
    }
   ],
   "source": [
    "bool((6))"
   ]
  },
  {
   "cell_type": "code",
   "execution_count": 37,
   "id": "602ac023-c926-43d1-ae14-21183db2cbe9",
   "metadata": {},
   "outputs": [
    {
     "data": {
      "text/plain": [
       "False"
      ]
     },
     "execution_count": 37,
     "metadata": {},
     "output_type": "execute_result"
    }
   ],
   "source": [
    "bool({})"
   ]
  },
  {
   "cell_type": "markdown",
   "id": "a07314ee-0ddf-4063-bf94-729dde8d3ce9",
   "metadata": {},
   "source": [
    "# comparison operation"
   ]
  },
  {
   "cell_type": "code",
   "execution_count": 41,
   "id": "1426004c-f133-4896-89e2-db61818743af",
   "metadata": {},
   "outputs": [
    {
     "data": {
      "text/plain": [
       "False"
      ]
     },
     "execution_count": 41,
     "metadata": {},
     "output_type": "execute_result"
    }
   ],
   "source": [
    "5>10"
   ]
  },
  {
   "cell_type": "code",
   "execution_count": 42,
   "id": "d531c944-e0ab-401c-85de-09aafcfd0642",
   "metadata": {},
   "outputs": [
    {
     "data": {
      "text/plain": [
       "True"
      ]
     },
     "execution_count": 42,
     "metadata": {},
     "output_type": "execute_result"
    }
   ],
   "source": [
    "5<10"
   ]
  },
  {
   "cell_type": "code",
   "execution_count": 43,
   "id": "708448f0-f283-4ecd-a7ce-89e6d25ee454",
   "metadata": {},
   "outputs": [
    {
     "data": {
      "text/plain": [
       "False"
      ]
     },
     "execution_count": 43,
     "metadata": {},
     "output_type": "execute_result"
    }
   ],
   "source": [
    "5>5"
   ]
  },
  {
   "cell_type": "code",
   "execution_count": 44,
   "id": "a2a934e2-dbd3-4074-bfc6-6a5410fcee64",
   "metadata": {},
   "outputs": [],
   "source": [
    "age= 15"
   ]
  },
  {
   "cell_type": "code",
   "execution_count": 46,
   "id": "ffdc7603-c7ff-4369-9b8c-b640adebb36c",
   "metadata": {},
   "outputs": [
    {
     "data": {
      "text/plain": [
       "False"
      ]
     },
     "execution_count": 46,
     "metadata": {},
     "output_type": "execute_result"
    }
   ],
   "source": [
    "#for checking double eqyal to\n",
    "age==18"
   ]
  },
  {
   "cell_type": "code",
   "execution_count": 47,
   "id": "7fc1906e-63a0-4dd8-a5e5-43b1d6f20139",
   "metadata": {},
   "outputs": [
    {
     "data": {
      "text/plain": [
       "True"
      ]
     },
     "execution_count": 47,
     "metadata": {},
     "output_type": "execute_result"
    }
   ],
   "source": [
    "5==5"
   ]
  },
  {
   "cell_type": "code",
   "execution_count": 48,
   "id": "bd177818-cf3f-4993-98e8-4f6e4e64a6cb",
   "metadata": {},
   "outputs": [
    {
     "data": {
      "text/plain": [
       "False"
      ]
     },
     "execution_count": 48,
     "metadata": {},
     "output_type": "execute_result"
    }
   ],
   "source": [
    "5>10"
   ]
  },
  {
   "cell_type": "code",
   "execution_count": 49,
   "id": "2d461af9-22f7-41ca-b692-86720da93435",
   "metadata": {},
   "outputs": [
    {
     "data": {
      "text/plain": [
       "False"
      ]
     },
     "execution_count": 49,
     "metadata": {},
     "output_type": "execute_result"
    }
   ],
   "source": [
    "10<10"
   ]
  },
  {
   "cell_type": "code",
   "execution_count": 50,
   "id": "ec60f9de-3fe8-477c-886c-285c6d009e85",
   "metadata": {},
   "outputs": [
    {
     "data": {
      "text/plain": [
       "15"
      ]
     },
     "execution_count": 50,
     "metadata": {},
     "output_type": "execute_result"
    }
   ],
   "source": [
    "age"
   ]
  },
  {
   "cell_type": "code",
   "execution_count": 51,
   "id": "2fe978a7-1c67-4134-a2ee-c2c2966bcd3a",
   "metadata": {},
   "outputs": [
    {
     "data": {
      "text/plain": [
       "False"
      ]
     },
     "execution_count": 51,
     "metadata": {},
     "output_type": "execute_result"
    }
   ],
   "source": [
    "age>=18"
   ]
  },
  {
   "cell_type": "code",
   "execution_count": 52,
   "id": "e18b29b8-78f7-4c5a-a31b-2bb6c997af65",
   "metadata": {},
   "outputs": [],
   "source": [
    "age=19"
   ]
  },
  {
   "cell_type": "code",
   "execution_count": 53,
   "id": "fe90f1d9-4d5f-4c6b-a1b7-4ac237ad06e6",
   "metadata": {},
   "outputs": [
    {
     "data": {
      "text/plain": [
       "19"
      ]
     },
     "execution_count": 53,
     "metadata": {},
     "output_type": "execute_result"
    }
   ],
   "source": [
    "age"
   ]
  },
  {
   "cell_type": "code",
   "execution_count": 55,
   "id": "98452325-ff5e-4c93-9743-5216b415fb53",
   "metadata": {},
   "outputs": [
    {
     "data": {
      "text/plain": [
       "True"
      ]
     },
     "execution_count": 55,
     "metadata": {},
     "output_type": "execute_result"
    }
   ],
   "source": [
    "age>=18"
   ]
  },
  {
   "cell_type": "code",
   "execution_count": 56,
   "id": "7f83388d-4da0-48ad-957b-48afdaf88979",
   "metadata": {},
   "outputs": [
    {
     "data": {
      "text/plain": [
       "False"
      ]
     },
     "execution_count": 56,
     "metadata": {},
     "output_type": "execute_result"
    }
   ],
   "source": [
    "age<=18"
   ]
  },
  {
   "cell_type": "code",
   "execution_count": 57,
   "id": "3cf284ed-d288-4541-8b74-cb20318e4586",
   "metadata": {},
   "outputs": [
    {
     "data": {
      "text/plain": [
       "True"
      ]
     },
     "execution_count": 57,
     "metadata": {},
     "output_type": "execute_result"
    }
   ],
   "source": [
    "age!=18"
   ]
  },
  {
   "cell_type": "code",
   "execution_count": 58,
   "id": "fc22643e-3fab-4041-80ce-5e02607e5bf8",
   "metadata": {},
   "outputs": [
    {
     "data": {
      "text/plain": [
       "True"
      ]
     },
     "execution_count": 58,
     "metadata": {},
     "output_type": "execute_result"
    }
   ],
   "source": [
    "age!=17"
   ]
  },
  {
   "cell_type": "code",
   "execution_count": 59,
   "id": "d13feab8-433f-4a31-a4ec-efba6d044c08",
   "metadata": {},
   "outputs": [
    {
     "data": {
      "text/plain": [
       "True"
      ]
     },
     "execution_count": 59,
     "metadata": {},
     "output_type": "execute_result"
    }
   ],
   "source": [
    "age>18"
   ]
  },
  {
   "cell_type": "code",
   "execution_count": 60,
   "id": "965ef41d-930a-4e7d-a526-ec9c0b6cf639",
   "metadata": {},
   "outputs": [
    {
     "name": "stdout",
     "output_type": "stream",
     "text": [
      "welcome\n"
     ]
    }
   ],
   "source": [
    "if age>18:\n",
    "    print('welcome')"
   ]
  },
  {
   "cell_type": "code",
   "execution_count": 62,
   "id": "61eb4d94-c3d1-4daa-a666-82a5d99723be",
   "metadata": {},
   "outputs": [
    {
     "name": "stdout",
     "output_type": "stream",
     "text": [
      "welcome\n"
     ]
    }
   ],
   "source": [
    "if True:\n",
    "    print('welcome')"
   ]
  },
  {
   "cell_type": "code",
   "execution_count": 4,
   "id": "db3db35b-7b29-4df1-8f78-453f5d1676cf",
   "metadata": {},
   "outputs": [],
   "source": [
    "marks=50"
   ]
  },
  {
   "cell_type": "code",
   "execution_count": 6,
   "id": "c814c689-79ad-403b-bebe-dd1b8f899ea0",
   "metadata": {},
   "outputs": [],
   "source": [
    "if marks>=90:\n",
    "    print(\"A\")"
   ]
  },
  {
   "cell_type": "code",
   "execution_count": 5,
   "id": "b5c628ec-bd57-4c6c-8c63-9a649e5eae7f",
   "metadata": {},
   "outputs": [
    {
     "name": "stdout",
     "output_type": "stream",
     "text": [
      "D\n"
     ]
    }
   ],
   "source": [
    "#elif is used for multiple options\n",
    "if marks>=90:\n",
    "    print(\"A\")\n",
    "elif marks >=  75:\n",
    "    print(\"B\")\n",
    "elif marks >= 60:\n",
    "    print(\"c\")\n",
    "elif marks >= 40:\n",
    "    print(\"D\")\n",
    "else:\n",
    "    print(\"fail\")"
   ]
  },
  {
   "cell_type": "markdown",
   "id": "839247ab-b33b-495b-b8ae-2c15ce6e8c49",
   "metadata": {},
   "source": [
    "# if elif else"
   ]
  },
  {
   "cell_type": "code",
   "execution_count": 38,
   "id": "7173df5b-caa8-43db-9e9c-6593cf4f5ed8",
   "metadata": {},
   "outputs": [],
   "source": [
    "age=20"
   ]
  },
  {
   "cell_type": "code",
   "execution_count": 39,
   "id": "a6ca103e-eb7e-4869-8cd0-b5127ced8bff",
   "metadata": {},
   "outputs": [
    {
     "name": "stdout",
     "output_type": "stream",
     "text": [
      "welcome\n"
     ]
    }
   ],
   "source": [
    "if age > 18:\n",
    "    print(\"welcome\")"
   ]
  },
  {
   "cell_type": "code",
   "execution_count": 40,
   "id": "8a826940-ddcc-45f3-86d2-a423600ab71e",
   "metadata": {},
   "outputs": [
    {
     "name": "stdout",
     "output_type": "stream",
     "text": [
      "bye\n"
     ]
    }
   ],
   "source": [
    "if age < 18:\n",
    "    print(\"welcome\")\n",
    "else:\n",
    "    print(\"bye\")"
   ]
  },
  {
   "cell_type": "code",
   "execution_count": 92,
   "id": "ab7534d7-44ce-4866-9cc7-15776ec0a851",
   "metadata": {},
   "outputs": [],
   "source": [
    "marks=35"
   ]
  },
  {
   "cell_type": "code",
   "execution_count": 93,
   "id": "36e94e14-99e7-4914-8c23-888e3f8fdace",
   "metadata": {},
   "outputs": [
    {
     "name": "stdout",
     "output_type": "stream",
     "text": [
      "Fail\n"
     ]
    }
   ],
   "source": [
    "if marks>=90:\n",
    "    print(\"A\")\n",
    "elif marks>=75:\n",
    "    print(\"B\")\n",
    "elif marks>=60:\n",
    "    print(\"C\")\n",
    "elif marks>=40:\n",
    "    print(\"D\")\n",
    "else:\n",
    "    print(\"Fail\")"
   ]
  },
  {
   "cell_type": "code",
   "execution_count": 95,
   "id": "0a408991-75fa-41fc-ab64-97174b45f4bf",
   "metadata": {},
   "outputs": [],
   "source": [
    "marks=99"
   ]
  },
  {
   "cell_type": "code",
   "execution_count": 96,
   "id": "794e9ff7-2075-4f14-aefa-456d1145d1d3",
   "metadata": {},
   "outputs": [
    {
     "name": "stdout",
     "output_type": "stream",
     "text": [
      "A\n"
     ]
    }
   ],
   "source": [
    "if marks>=90:\n",
    "    print(\"A\")\n",
    "elif marks>=75:\n",
    "    print(\"B\")\n",
    "elif marks>=60:\n",
    "    print(\"C\")\n",
    "elif marks>=40:\n",
    "    print(\"D\")\n",
    "else:\n",
    "    print(\"Fail\")"
   ]
  },
  {
   "cell_type": "code",
   "execution_count": 1,
   "id": "a6054fd6-a123-45b6-81fc-7de93eb69b7a",
   "metadata": {},
   "outputs": [],
   "source": [
    "#nested=ek k andr ek\n"
   ]
  },
  {
   "cell_type": "code",
   "execution_count": 2,
   "id": "11bac6db-4b1b-4c7e-8036-9da560579de5",
   "metadata": {},
   "outputs": [],
   "source": [
    "n=  24"
   ]
  },
  {
   "cell_type": "code",
   "execution_count": 3,
   "id": "17a8ba5a-036f-4e8c-af27-fe479a06c785",
   "metadata": {},
   "outputs": [],
   "source": [
    "#positive or negative number"
   ]
  },
  {
   "cell_type": "code",
   "execution_count": 4,
   "id": "affcce92-f407-4fcc-b00c-862b9e963e49",
   "metadata": {},
   "outputs": [
    {
     "name": "stdout",
     "output_type": "stream",
     "text": [
      "positive\n"
     ]
    }
   ],
   "source": [
    "n = 5\n",
    "if n>=0:\n",
    "    print(\"positive\")\n",
    "elif n<0 :\n",
    "    print(\"negative\")\n",
    "else:\n",
    "    print(\"zero\")"
   ]
  },
  {
   "cell_type": "code",
   "execution_count": 7,
   "id": "9015cb6c-2658-4520-b116-bd9da27ddd63",
   "metadata": {},
   "outputs": [
    {
     "name": "stdout",
     "output_type": "stream",
     "text": [
      "zero\n"
     ]
    }
   ],
   "source": [
    "n = 0\n",
    "if n> 0:\n",
    "    print(\"positive\")\n",
    "elif n<0 :\n",
    "    print(\"negative\")\n",
    "else:\n",
    "    print(\"zero\")"
   ]
  },
  {
   "cell_type": "code",
   "execution_count": 10,
   "id": "795dbc7e-3485-4185-9ce0-176613be2a80",
   "metadata": {},
   "outputs": [
    {
     "name": "stdout",
     "output_type": "stream",
     "text": [
      "hello\n",
      "hi\n"
     ]
    }
   ],
   "source": [
    "#indendation also 4 space or a single tab ...must spacing should be same\n",
    "n=10\n",
    "m=15\n",
    "if m>n:\n",
    "    print(\"hello\")\n",
    "    print(\"hi\")"
   ]
  },
  {
   "cell_type": "code",
   "execution_count": 13,
   "id": "6df89df7-3438-4de3-8f9e-b619fb198bb2",
   "metadata": {},
   "outputs": [
    {
     "name": "stdout",
     "output_type": "stream",
     "text": [
      "hello\n",
      "hi\n"
     ]
    }
   ],
   "source": [
    "print(\"hello\")\n",
    "print(\"hi\")"
   ]
  },
  {
   "cell_type": "code",
   "execution_count": 14,
   "id": "a2ee3961-7a24-4ccb-979c-820068ace8a6",
   "metadata": {},
   "outputs": [
    {
     "name": "stdout",
     "output_type": "stream",
     "text": [
      "hi\n"
     ]
    }
   ],
   "source": [
    "#in this case hello is in the indent so if condition not run as it false but hi is not in it so its runs \n",
    "n=10\n",
    "m=5\n",
    "if m>n:\n",
    "    print(\"hello\")\n",
    "print(\"hi\")"
   ]
  },
  {
   "cell_type": "code",
   "execution_count": 15,
   "id": "e793877d-edef-45af-b2ac-ccba7a33709f",
   "metadata": {},
   "outputs": [
    {
     "name": "stdout",
     "output_type": "stream",
     "text": [
      "bye\n",
      "hi\n"
     ]
    }
   ],
   "source": [
    "\n",
    "n=10\n",
    "m=5\n",
    "if m>n:\n",
    "    print(\"hello\")\n",
    "else:\n",
    "    print(\"bye\")\n",
    "print(\"hi\")"
   ]
  },
  {
   "cell_type": "code",
   "execution_count": 1,
   "id": "581a997f-fa32-404d-97b4-152a013f70ae",
   "metadata": {},
   "outputs": [
    {
     "ename": "SyntaxError",
     "evalue": "invalid syntax (1168438598.py, line 7)",
     "output_type": "error",
     "traceback": [
      "\u001b[1;36m  Cell \u001b[1;32mIn[1], line 7\u001b[1;36m\u001b[0m\n\u001b[1;33m    else:\u001b[0m\n\u001b[1;37m    ^\u001b[0m\n\u001b[1;31mSyntaxError\u001b[0m\u001b[1;31m:\u001b[0m invalid syntax\n"
     ]
    }
   ],
   "source": [
    "#it shows error always if and else are not together\n",
    "n=10\n",
    "m=5\n",
    "if m>n:\n",
    "    print(\"hello\")\n",
    "print(\"hi\")\n",
    "else:\n",
    "    print(\"bye\")"
   ]
  },
  {
   "cell_type": "code",
   "execution_count": 8,
   "id": "1282c3b5-dff7-481d-a8ae-9ddd96d92e13",
   "metadata": {},
   "outputs": [
    {
     "name": "stdout",
     "output_type": "stream",
     "text": [
      "hi\n"
     ]
    }
   ],
   "source": [
    "m=10\n",
    "n=20\n",
    "o=30\n",
    "if o>n:\n",
    "    print(\"hi\")\n",
    "elif o>m:\n",
    "    print(\"hello\")\n",
    "else :\n",
    "    print(\"bye\")"
   ]
  },
  {
   "cell_type": "code",
   "execution_count": 22,
   "id": "b43cc0e9-5a6a-4b08-9a42-ef210fa69f1f",
   "metadata": {},
   "outputs": [
    {
     "name": "stdout",
     "output_type": "stream",
     "text": [
      "hi\n",
      "hello\n"
     ]
    }
   ],
   "source": [
    "#use of double if both if are independent\n",
    "m=10\n",
    "n=20\n",
    "o=30\n",
    "if o>n:\n",
    "    print(\"hi\")\n",
    "if o>m:\n",
    "    print(\"hello\")\n",
    "else :\n",
    "    print(\"bye\")"
   ]
  },
  {
   "cell_type": "code",
   "execution_count": 9,
   "id": "ee8c3e92-0e89-404d-8dae-3c5b58d271c6",
   "metadata": {},
   "outputs": [
    {
     "data": {
      "text/plain": [
       "0"
      ]
     },
     "execution_count": 9,
     "metadata": {},
     "output_type": "execute_result"
    }
   ],
   "source": [
    "#remainder\n",
    "25%5"
   ]
  },
  {
   "cell_type": "code",
   "execution_count": 18,
   "id": "70ee8934-4aba-4a9b-86a3-28b272d51837",
   "metadata": {},
   "outputs": [],
   "source": [
    "if 25%5:\n",
    "    print(\"yes\")"
   ]
  },
  {
   "cell_type": "code",
   "execution_count": 11,
   "id": "1fb6cb22-bd45-4419-87ce-e4a633932450",
   "metadata": {},
   "outputs": [
    {
     "name": "stdout",
     "output_type": "stream",
     "text": [
      "division\n"
     ]
    }
   ],
   "source": [
    "if 25 % 5==0:\n",
    "    print(\"division\")"
   ]
  },
  {
   "cell_type": "code",
   "execution_count": 25,
   "id": "f29f7f2d-d7d5-4f95-9402-2333f5282900",
   "metadata": {},
   "outputs": [],
   "source": [
    "if 25 % 7==0:\n",
    "    print(\"division\")"
   ]
  },
  {
   "cell_type": "code",
   "execution_count": 27,
   "id": "7dcef81a-5133-419f-ae80-ab39020075d9",
   "metadata": {},
   "outputs": [
    {
     "name": "stdout",
     "output_type": "stream",
     "text": [
      "even\n"
     ]
    }
   ],
   "source": [
    "if 22 % 2==0:\n",
    "    print(\"even\")"
   ]
  },
  {
   "cell_type": "code",
   "execution_count": 1,
   "id": "14409ca0-fb79-4ba6-b4c7-71477ffba913",
   "metadata": {},
   "outputs": [
    {
     "name": "stdin",
     "output_type": "stream",
     "text": [
      " 20\n"
     ]
    },
    {
     "name": "stdout",
     "output_type": "stream",
     "text": [
      "even\n"
     ]
    }
   ],
   "source": [
    "n=int(input())\n",
    "if n % 2==0:\n",
    "    print(\"even\")\n",
    "else:\n",
    "    print(\"odd\")"
   ]
  },
  {
   "cell_type": "code",
   "execution_count": 30,
   "id": "59fdb72e-e9eb-4224-90c4-fd3a20514b59",
   "metadata": {},
   "outputs": [
    {
     "data": {
      "text/plain": [
       "21"
      ]
     },
     "execution_count": 30,
     "metadata": {},
     "output_type": "execute_result"
    }
   ],
   "source": [
    "n"
   ]
  },
  {
   "cell_type": "code",
   "execution_count": 32,
   "id": "f4c372f5-f5ff-4a12-9f58-29c0fe1bbbcb",
   "metadata": {},
   "outputs": [
    {
     "name": "stdout",
     "output_type": "stream",
     "text": [
      "hello\n"
     ]
    }
   ],
   "source": [
    "if 0:\n",
    "    print(\"hi\")\n",
    "if 5:\n",
    "    print(\"hello\")"
   ]
  },
  {
   "cell_type": "code",
   "execution_count": 34,
   "id": "280efc45-8186-4a47-adbc-68e91ac3c822",
   "metadata": {},
   "outputs": [
    {
     "name": "stdout",
     "output_type": "stream",
     "text": [
      "hello\n"
     ]
    }
   ],
   "source": [
    "if 0:\n",
    "    print(\"hi\")\n",
    "else :\n",
    "    print(\"hello\")"
   ]
  },
  {
   "cell_type": "code",
   "execution_count": 35,
   "id": "2030f899-afee-4c59-9964-fe53ef633f96",
   "metadata": {},
   "outputs": [
    {
     "data": {
      "text/plain": [
       "21"
      ]
     },
     "execution_count": 35,
     "metadata": {},
     "output_type": "execute_result"
    }
   ],
   "source": [
    "n"
   ]
  },
  {
   "cell_type": "code",
   "execution_count": 36,
   "id": "5b3d41f2-f4a2-467d-ad98-d17f0502fdab",
   "metadata": {},
   "outputs": [
    {
     "name": "stdout",
     "output_type": "stream",
     "text": [
      "odd\n"
     ]
    }
   ],
   "source": [
    "if n% 2:\n",
    "    print(\"odd\")\n",
    "else :\n",
    "    print(\"even\")"
   ]
  },
  {
   "cell_type": "code",
   "execution_count": 37,
   "id": "dbd405eb-857b-43d6-95b0-656d3704a627",
   "metadata": {},
   "outputs": [
    {
     "name": "stdout",
     "output_type": "stream",
     "text": [
      "even\n"
     ]
    }
   ],
   "source": [
    "if n% 3:\n",
    "    print(\"odd\")\n",
    "else :\n",
    "    print(\"even\")"
   ]
  },
  {
   "cell_type": "code",
   "execution_count": 40,
   "id": "5608540f-3fb8-46d7-ac43-f61f4bb6d1ef",
   "metadata": {},
   "outputs": [],
   "source": [
    "n=19\n",
    "m=20\n",
    "o=21"
   ]
  },
  {
   "cell_type": "markdown",
   "id": "61d6bebf-80e8-48d1-8c61-b626f1b0d1d0",
   "metadata": {},
   "source": [
    "\n"
   ]
  },
  {
   "cell_type": "code",
   "execution_count": 41,
   "id": "351f6dd5-5ee3-4d5e-ba9a-acd96a2dca7c",
   "metadata": {},
   "outputs": [
    {
     "data": {
      "text/plain": [
       "1"
      ]
     },
     "execution_count": 41,
     "metadata": {},
     "output_type": "execute_result"
    }
   ],
   "source": [
    "n%3"
   ]
  },
  {
   "cell_type": "code",
   "execution_count": 49,
   "id": "c2359585-99af-4a86-9285-20139e15f744",
   "metadata": {},
   "outputs": [
    {
     "name": "stdout",
     "output_type": "stream",
     "text": [
      "not divisible\n"
     ]
    }
   ],
   "source": [
    "if n % 3 :\n",
    "    print(\"not divisible\")"
   ]
  },
  {
   "cell_type": "code",
   "execution_count": 44,
   "id": "c0c51746-3024-4a74-84c9-0968fc766e32",
   "metadata": {},
   "outputs": [
    {
     "name": "stdout",
     "output_type": "stream",
     "text": [
      "divisible\n"
     ]
    }
   ],
   "source": [
    "if n % 3:\n",
    "    print(\"not divisible\")"
   ]
  },
  {
   "cell_type": "code",
   "execution_count": 61,
   "id": "c3f9915f-7335-4e44-95ea-78beb35571b7",
   "metadata": {},
   "outputs": [
    {
     "name": "stdout",
     "output_type": "stream",
     "text": [
      "not divisible by 2\n"
     ]
    }
   ],
   "source": [
    "if n % 2 == 0:\n",
    "    #divisible by 2\n",
    "    if n%3==0:\n",
    "    #divisible by 3\n",
    "        print (\"divisible by 2 and 3\")\n",
    "    else :\n",
    "        print(\"divisible  by 2\")\n",
    "else:\n",
    "    print(\"not divisible by 2\")"
   ]
  },
  {
   "cell_type": "markdown",
   "id": "eaeccb87-83f7-4018-aec1-4915d192f2e4",
   "metadata": {},
   "source": [
    "# nested"
   ]
  },
  {
   "cell_type": "code",
   "execution_count": 97,
   "id": "ef55388e-ed29-4f07-bdb6-02f4c830a293",
   "metadata": {},
   "outputs": [
    {
     "name": "stdout",
     "output_type": "stream",
     "text": [
      "divisible by 2\n"
     ]
    }
   ],
   "source": [
    "#nested=one inside another\n",
    "#2,3,4\n",
    "if n%2 == 0:\n",
    "    # divisible by 2\n",
    "   if n%3 == 0:\n",
    "    # divisible by 3\n",
    "    print(\"divisible by 2 and 3\")\n",
    "   else:\n",
    "    print(\"divisible by 2\")\n",
    "else:\n",
    "    print(\"not divisible by 2\")"
   ]
  },
  {
   "cell_type": "code",
   "execution_count": 52,
   "id": "077bee5a-6f14-4701-a4ff-8fefcdb4cc62",
   "metadata": {},
   "outputs": [
    {
     "name": "stdout",
     "output_type": "stream",
     "text": [
      "not divisible by 2\n"
     ]
    }
   ],
   "source": [
    "if n % 2 == 0:\n",
    "    #divisible by 2\n",
    "    if n%3==0:\n",
    "    #divisible by 3\n",
    "        print (\"divisible by 2 and 3\")\n",
    "    else :\n",
    "        print(\"divisible  by 2\")\n",
    "else:\n",
    "    print(\"not divisible by 2\")"
   ]
  },
  {
   "cell_type": "code",
   "execution_count": 53,
   "id": "01d9dd81-dd1b-4c86-b1bf-cc04e91f809e",
   "metadata": {},
   "outputs": [],
   "source": [
    "n=12"
   ]
  },
  {
   "cell_type": "code",
   "execution_count": 59,
   "id": "e833bbbd-e7dc-4d0d-866d-a82844b01fbd",
   "metadata": {},
   "outputs": [
    {
     "name": "stdout",
     "output_type": "stream",
     "text": [
      "divisible by 2 and 3\n"
     ]
    }
   ],
   "source": [
    "if n % 2 :\n",
    "    #divisible by 2\n",
    "    if n%3==0:\n",
    "    #divisible by 3\n",
    "        print (\"divisible by 2 and 3\")\n",
    "    else :\n",
    "        print(\"divisible  by 2\")\n",
    "else:\n",
    "    print(\"not divisible by 2\")"
   ]
  },
  {
   "cell_type": "code",
   "execution_count": 56,
   "id": "e690f0c7-bbe2-447b-b1d5-0bc38a23158d",
   "metadata": {},
   "outputs": [],
   "source": [
    "n=9"
   ]
  },
  {
   "cell_type": "code",
   "execution_count": 60,
   "id": "e5d9b831-1ce7-49d8-bc5d-7bd89d1e04c0",
   "metadata": {},
   "outputs": [
    {
     "name": "stdout",
     "output_type": "stream",
     "text": [
      "divisible by 2 and 3\n"
     ]
    }
   ],
   "source": [
    "if n % 2 :\n",
    "    #divisible by 2\n",
    "    if n%3==0:\n",
    "    #divisible by 3\n",
    "        print (\"divisible by 2 and 3\")\n",
    "    else :\n",
    "        print(\"divisible  by 2 not 3\")\n",
    "elif n%3==0:\n",
    "    print(\"divisible by 3 but not by 2\")\n",
    "else:\n",
    "    print(\"not divisible by 2\")"
   ]
  },
  {
   "cell_type": "code",
   "execution_count": 63,
   "id": "9077bdff-88e9-4cc8-9757-0ac5fdf59957",
   "metadata": {},
   "outputs": [
    {
     "name": "stdout",
     "output_type": "stream",
     "text": [
      "not divisible by 2\n"
     ]
    }
   ],
   "source": [
    "if n % 2 ==0:\n",
    "    print(\"divisible by 2\")\n",
    "else:\n",
    "    print(\"not divisible by 2\")"
   ]
  },
  {
   "cell_type": "code",
   "execution_count": 71,
   "id": "458edb64-f3b8-41b1-aead-09f7ef4f7caf",
   "metadata": {},
   "outputs": [],
   "source": [
    "n=6\n"
   ]
  },
  {
   "cell_type": "code",
   "execution_count": 72,
   "id": "b2875fbf-d5a1-4d2c-b7f8-93a6d1bfbf7b",
   "metadata": {},
   "outputs": [
    {
     "name": "stdout",
     "output_type": "stream",
     "text": [
      "divisible by 2&3\n"
     ]
    }
   ],
   "source": [
    "if n % 2 ==0:\n",
    "    if n % 3 == 0:\n",
    "        print(\"divisible by 2&3\")\n",
    "    else:\n",
    "        print(\"divisible by 2 but not 3\")\n",
    "elif n%3:\n",
    "    print(\"divisible by 3 but not 2\")\n",
    "else:\n",
    "    print(\"not divisible by 2\")"
   ]
  },
  {
   "cell_type": "code",
   "execution_count": 2,
   "id": "21e981e1-b589-4fa7-8ce8-f0ab5c9ca2bf",
   "metadata": {},
   "outputs": [],
   "source": [
    "n=10"
   ]
  },
  {
   "cell_type": "code",
   "execution_count": 3,
   "id": "f3424230-31d2-410b-8971-394f96370893",
   "metadata": {},
   "outputs": [
    {
     "name": "stdout",
     "output_type": "stream",
     "text": [
      "divisible by 2 not 3 and 5\n"
     ]
    }
   ],
   "source": [
    "if n % 2 ==0:\n",
    "    if n % 3 == 0:\n",
    "        if n % 5 == 0:\n",
    "            print(\"divisible by 2&3&5\")\n",
    "        else:\n",
    "            print(\"divisible by 2&3 but not 5\")\n",
    "    elif n%5:\n",
    "        print(\"divisible by 2 and 5 not 3\")\n",
    "    else:\n",
    "        print(\"divisible by 2 not 3 and 5\")\n",
    "elif n % 3==0:\n",
    "    if n % 5==0:\n",
    "        print(\"divisible by 3 and 5\")\n",
    "    else:\n",
    "        print(\"divisible by 3\")\n",
    "elif n % 5 ==0:\n",
    "    print(\"divisible by 5\")\n",
    "elif n%5 == 0:\n",
    "            print(\"divisible by 2 and 5 but not 3\")\n",
    "else:\n",
    "    print(\"not divisible by 2 or 3 or 5\")"
   ]
  },
  {
   "cell_type": "code",
   "execution_count": 88,
   "id": "f41b1cd1-7254-447f-b706-6ff01a7586a2",
   "metadata": {},
   "outputs": [],
   "source": [
    "city = \"chd\""
   ]
  },
  {
   "cell_type": "code",
   "execution_count": 89,
   "id": "99c5b923-27b4-4345-afd2-4d4dabc87525",
   "metadata": {},
   "outputs": [],
   "source": [
    "age=20"
   ]
  },
  {
   "cell_type": "code",
   "execution_count": 90,
   "id": "129c1fae-09b5-4054-a62a-521e4c73ef7e",
   "metadata": {},
   "outputs": [
    {
     "name": "stdout",
     "output_type": "stream",
     "text": [
      "welcome to chd retirement\n"
     ]
    }
   ],
   "source": [
    "if city == \"delhi\":\n",
    "    if age >30:\n",
    "        print(\"wecome to delhi young man\")\n",
    "    else:\n",
    "        print(\"bahr millo tum\")\n",
    "elif city == \"chd\":\n",
    "    if age > 50:\n",
    "        print(\"welcome to chd\")\n",
    "    else:\n",
    "        print(\"welcome to chd retirement\")\n",
    "else:\n",
    "    print(\"kha gum gye\")"
   ]
  },
  {
   "cell_type": "markdown",
   "id": "017cdaf3-7d67-4ba2-bdc4-bf0a3cea639a",
   "metadata": {},
   "source": [
    "# logical operations"
   ]
  },
  {
   "cell_type": "markdown",
   "id": "ecec16b4-bb40-42e5-ad0e-5e1d0be92d6c",
   "metadata": {},
   "source": [
    "## Not"
   ]
  },
  {
   "cell_type": "code",
   "execution_count": null,
   "id": "efadc31a-d3ce-449a-a5d7-98fa1bc89e77",
   "metadata": {},
   "outputs": [],
   "source": [
    "#not operation makes the complement "
   ]
  },
  {
   "cell_type": "code",
   "execution_count": 4,
   "id": "f9f6b658-e2a1-4a9f-b528-a75ac959f9c6",
   "metadata": {},
   "outputs": [
    {
     "data": {
      "text/plain": [
       "False"
      ]
     },
     "execution_count": 4,
     "metadata": {},
     "output_type": "execute_result"
    }
   ],
   "source": [
    "not True\n"
   ]
  },
  {
   "cell_type": "code",
   "execution_count": 3,
   "id": "2b412387-baa3-459b-a409-6f5d92da5e29",
   "metadata": {},
   "outputs": [
    {
     "data": {
      "text/plain": [
       "True"
      ]
     },
     "execution_count": 3,
     "metadata": {},
     "output_type": "execute_result"
    }
   ],
   "source": [
    "not False"
   ]
  },
  {
   "cell_type": "code",
   "execution_count": 5,
   "id": "1af742a2-5e9d-4734-85c2-c9047ea2993c",
   "metadata": {},
   "outputs": [],
   "source": [
    "if not True:\n",
    "    print(\"hello\")"
   ]
  },
  {
   "cell_type": "code",
   "execution_count": null,
   "id": "bba94673-136a-4378-810b-c3e0581941f3",
   "metadata": {},
   "outputs": [],
   "source": []
  },
  {
   "cell_type": "code",
   "execution_count": null,
   "id": "a6e64114-d3cd-4d48-b0f0-c385e1b5e8e2",
   "metadata": {},
   "outputs": [],
   "source": []
  },
  {
   "cell_type": "code",
   "execution_count": 7,
   "id": "7ebb8ba1-58f5-4fa1-8460-1ed401450e06",
   "metadata": {},
   "outputs": [],
   "source": [
    "name=True"
   ]
  },
  {
   "cell_type": "code",
   "execution_count": 8,
   "id": "63474a17-118a-4c07-a166-a3b880e6a1ff",
   "metadata": {
    "scrolled": true
   },
   "outputs": [
    {
     "data": {
      "text/plain": [
       "True"
      ]
     },
     "execution_count": 8,
     "metadata": {},
     "output_type": "execute_result"
    }
   ],
   "source": [
    "bool(name)"
   ]
  },
  {
   "cell_type": "code",
   "execution_count": 9,
   "id": "fb27da37-40af-411b-b60c-01ccdc720173",
   "metadata": {},
   "outputs": [],
   "source": [
    "name=\"\"\n",
    "if name:\n",
    "    print(\"hi\",name)"
   ]
  },
  {
   "cell_type": "code",
   "execution_count": 10,
   "id": "026fc62e-6feb-411e-a866-ed09223f4195",
   "metadata": {},
   "outputs": [],
   "source": [
    "first=True"
   ]
  },
  {
   "cell_type": "code",
   "execution_count": 14,
   "id": "f6d70664-40d6-45ec-8c27-fbf08c0894c2",
   "metadata": {},
   "outputs": [
    {
     "name": "stdout",
     "output_type": "stream",
     "text": [
      "hi user nice to meet you\n"
     ]
    },
    {
     "name": "stdin",
     "output_type": "stream",
     "text": [
      "enter your name inder\n"
     ]
    }
   ],
   "source": [
    "first=True\n",
    "if first:\n",
    "    print(\"hi user nice to meet you\")\n",
    "    name=input(\"enter your name\")\n",
    "    first=False\n",
    "else:\n",
    "    print(name)"
   ]
  },
  {
   "cell_type": "code",
   "execution_count": 39,
   "id": "7e82b70e-1c92-4b47-b946-7e52b2d4271b",
   "metadata": {},
   "outputs": [
    {
     "name": "stdout",
     "output_type": "stream",
     "text": [
      "hi inder\n"
     ]
    }
   ],
   "source": [
    "#agr pehli bar puvhoge too name puchega or 2nd time woh already aa chuka hai too direct hi bolega \n",
    "if first:\n",
    "    print(\"hi user nice to meet you\")\n",
    "    name=input(\"enter your name\")\n",
    "    first=False\n",
    "else:\n",
    "    print(\"hi\",name)"
   ]
  },
  {
   "cell_type": "code",
   "execution_count": 18,
   "id": "e8e63f06-1e7e-4c7c-b5af-0f552bdbfc71",
   "metadata": {},
   "outputs": [],
   "source": [
    "count = 3"
   ]
  },
  {
   "cell_type": "code",
   "execution_count": 19,
   "id": "b8910422-b748-4e92-8a70-108045e77048",
   "metadata": {},
   "outputs": [
    {
     "name": "stdout",
     "output_type": "stream",
     "text": [
      "3\n"
     ]
    }
   ],
   "source": [
    "if count:\n",
    "    print(count)"
   ]
  },
  {
   "cell_type": "code",
   "execution_count": 20,
   "id": "a96cc7ea-219d-44e1-8b0b-2664b8d4c180",
   "metadata": {},
   "outputs": [],
   "source": [
    "count=0"
   ]
  },
  {
   "cell_type": "code",
   "execution_count": 23,
   "id": "ffb16281-a587-4fd5-a94c-3ffd8f238092",
   "metadata": {},
   "outputs": [],
   "source": [
    "#0 nu shad k sareya pr chalda hai count\n",
    "if count:\n",
    "    print(\"yoy r out of game\")"
   ]
  },
  {
   "cell_type": "code",
   "execution_count": 24,
   "id": "282d372d-045b-426f-bdcb-1a7c4f3a312c",
   "metadata": {},
   "outputs": [
    {
     "name": "stdout",
     "output_type": "stream",
     "text": [
      "you r out of game\n"
     ]
    }
   ],
   "source": [
    "#but agr 0 pr chalana hove\n",
    "if not count:\n",
    "    print(\"you r out of game\")"
   ]
  },
  {
   "cell_type": "markdown",
   "id": "b1b9ba1d-dae9-43bb-b406-e27a964396ef",
   "metadata": {},
   "source": [
    "## AND"
   ]
  },
  {
   "cell_type": "code",
   "execution_count": 25,
   "id": "708c3789-7a84-4aff-b793-41033ef51c04",
   "metadata": {},
   "outputs": [],
   "source": [
    "#for and dono logic mandetory hote hai"
   ]
  },
  {
   "cell_type": "code",
   "execution_count": 26,
   "id": "e16369a7-971e-4ca3-b3c9-dfd4749c08c2",
   "metadata": {},
   "outputs": [],
   "source": [
    "attendence=80"
   ]
  },
  {
   "cell_type": "code",
   "execution_count": 27,
   "id": "603535ea-a225-4712-90b6-52d8e873ae22",
   "metadata": {},
   "outputs": [],
   "source": [
    "marks=50"
   ]
  },
  {
   "cell_type": "code",
   "execution_count": 33,
   "id": "63f9cb89-2739-4f64-8f49-855c62689a0a",
   "metadata": {},
   "outputs": [
    {
     "name": "stdout",
     "output_type": "stream",
     "text": [
      "pass\n"
     ]
    }
   ],
   "source": [
    "if attendence >75:\n",
    "    print(\"pass\")"
   ]
  },
  {
   "cell_type": "code",
   "execution_count": 34,
   "id": "18e37fed-d10a-45f7-b052-877f2265313a",
   "metadata": {},
   "outputs": [
    {
     "name": "stdout",
     "output_type": "stream",
     "text": [
      "pass\n"
     ]
    }
   ],
   "source": [
    "if marks > 35:\n",
    "    print(\"pass\")"
   ]
  },
  {
   "cell_type": "code",
   "execution_count": 37,
   "id": "2fe64505-3806-45f5-af2c-78047b452846",
   "metadata": {},
   "outputs": [
    {
     "name": "stdout",
     "output_type": "stream",
     "text": [
      "pass\n"
     ]
    }
   ],
   "source": [
    "#dono conditions clear honi chahiye agr ek bhi galt too fail\n",
    "if attendence > 75 and marks > 35:\n",
    "    print(\"pass\")\n",
    "else:\n",
    "    print(\"fail\")"
   ]
  },
  {
   "cell_type": "code",
   "execution_count": 40,
   "id": "81aac759-5a57-4741-a278-8948d4fa67e3",
   "metadata": {},
   "outputs": [
    {
     "name": "stdout",
     "output_type": "stream",
     "text": [
      "pass\n"
     ]
    }
   ],
   "source": [
    "#with brackets or withut brackets both are ok\n",
    "if (attendence > 75) and (marks > 35):\n",
    "    print(\"pass\")\n",
    "else:\n",
    "    print(\"fail\")"
   ]
  },
  {
   "cell_type": "code",
   "execution_count": 41,
   "id": "7887c494-3bf6-4764-bf08-3263e334c7f5",
   "metadata": {},
   "outputs": [],
   "source": [
    "ticket= True\n",
    "age=20"
   ]
  },
  {
   "cell_type": "code",
   "execution_count": 42,
   "id": "b9624530-f7ba-4b29-825b-98000e05eccf",
   "metadata": {},
   "outputs": [
    {
     "name": "stdout",
     "output_type": "stream",
     "text": [
      "welcome\n"
     ]
    }
   ],
   "source": [
    "if age >= 18 and ticket:\n",
    "    print(\"welcome\")\n",
    "else:\n",
    "    print(\"bye\")"
   ]
  },
  {
   "cell_type": "code",
   "execution_count": 43,
   "id": "343069a1-11c4-451d-bd63-f68a35a26cef",
   "metadata": {},
   "outputs": [
    {
     "name": "stdout",
     "output_type": "stream",
     "text": [
      "bye\n"
     ]
    }
   ],
   "source": [
    "ticket=False\n",
    "if age >= 18 and ticket:\n",
    "    print(\"welcome\")\n",
    "else:\n",
    "    print(\"bye\")"
   ]
  },
  {
   "cell_type": "code",
   "execution_count": 44,
   "id": "02f50cbc-8fac-403a-b628-215fba9c80c6",
   "metadata": {},
   "outputs": [
    {
     "name": "stdout",
     "output_type": "stream",
     "text": [
      "welcome\n"
     ]
    }
   ],
   "source": [
    "ticket= not False\n",
    "if age >= 18 and ticket:\n",
    "    print(\"welcome\")\n",
    "else:\n",
    "    print(\"bye\")"
   ]
  },
  {
   "cell_type": "code",
   "execution_count": 46,
   "id": "46cc9f4f-1a41-4bfa-8f1c-0977265f9b9f",
   "metadata": {},
   "outputs": [
    {
     "name": "stdout",
     "output_type": "stream",
     "text": [
      "bye\n"
     ]
    }
   ],
   "source": [
    "ticket= not True\n",
    "if age >= 18 and ticket:\n",
    "    print(\"welcome\")\n",
    "else:\n",
    "    print(\"bye\")"
   ]
  },
  {
   "cell_type": "code",
   "execution_count": 47,
   "id": "e41fc3ed-ccee-4a37-94d4-5398b5c1934c",
   "metadata": {},
   "outputs": [
    {
     "name": "stdout",
     "output_type": "stream",
     "text": [
      "welcome\n"
     ]
    }
   ],
   "source": [
    "if age >= 18 and not ticket:\n",
    "    print(\"welcome\")\n",
    "else:\n",
    "    print(\"bye\")"
   ]
  },
  {
   "cell_type": "code",
   "execution_count": 48,
   "id": "bb37e594-87d6-44cd-8c8e-2bfec22593af",
   "metadata": {},
   "outputs": [
    {
     "data": {
      "text/plain": [
       "False"
      ]
     },
     "execution_count": 48,
     "metadata": {},
     "output_type": "execute_result"
    }
   ],
   "source": [
    "ticket"
   ]
  },
  {
   "cell_type": "code",
   "execution_count": 49,
   "id": "1516a5ed-5bfe-439f-b99c-4fca4f2ff61d",
   "metadata": {},
   "outputs": [
    {
     "name": "stdout",
     "output_type": "stream",
     "text": [
      "bye\n"
     ]
    }
   ],
   "source": [
    "if age >= 18 and ticket:\n",
    "    print(\"welcome\")\n",
    "else:\n",
    "    print(\"bye\")"
   ]
  },
  {
   "cell_type": "code",
   "execution_count": 50,
   "id": "50129386-1b4b-4373-a10a-07b541fa8c45",
   "metadata": {},
   "outputs": [
    {
     "name": "stdout",
     "output_type": "stream",
     "text": [
      "bye\n"
     ]
    }
   ],
   "source": [
    "if not age >= 18 and ticket:\n",
    "    print(\"welcome\")\n",
    "else:\n",
    "    print(\"bye\")"
   ]
  },
  {
   "cell_type": "code",
   "execution_count": 51,
   "id": "46cae8f5-3820-44fb-bf24-e6115910db7f",
   "metadata": {},
   "outputs": [
    {
     "name": "stdout",
     "output_type": "stream",
     "text": [
      "bye\n"
     ]
    }
   ],
   "source": [
    "if not age >= 18 and not ticket:\n",
    "    print(\"welcome\")\n",
    "else:\n",
    "    print(\"bye\")"
   ]
  },
  {
   "cell_type": "code",
   "execution_count": 52,
   "id": "00340b50-2622-492a-9830-b3f50c87d936",
   "metadata": {},
   "outputs": [
    {
     "data": {
      "text/plain": [
       "True"
      ]
     },
     "execution_count": 52,
     "metadata": {},
     "output_type": "execute_result"
    }
   ],
   "source": [
    "True and True"
   ]
  },
  {
   "cell_type": "code",
   "execution_count": 53,
   "id": "875a2a31-0e8e-486e-90b9-a689973337eb",
   "metadata": {},
   "outputs": [
    {
     "data": {
      "text/plain": [
       "False"
      ]
     },
     "execution_count": 53,
     "metadata": {},
     "output_type": "execute_result"
    }
   ],
   "source": [
    "False and False"
   ]
  },
  {
   "cell_type": "code",
   "execution_count": 54,
   "id": "abcbedbc-39e1-4332-bd6c-484a3bd27d00",
   "metadata": {},
   "outputs": [
    {
     "data": {
      "text/plain": [
       "False"
      ]
     },
     "execution_count": 54,
     "metadata": {},
     "output_type": "execute_result"
    }
   ],
   "source": [
    "True and False"
   ]
  },
  {
   "cell_type": "code",
   "execution_count": 55,
   "id": "2be01cd7-3bc4-4445-857e-9287102945b5",
   "metadata": {},
   "outputs": [
    {
     "data": {
      "text/plain": [
       "False"
      ]
     },
     "execution_count": 55,
     "metadata": {},
     "output_type": "execute_result"
    }
   ],
   "source": [
    "False and True"
   ]
  },
  {
   "cell_type": "markdown",
   "id": "64a562e4-0577-4424-97e0-6f5b4c2da8fd",
   "metadata": {},
   "source": [
    "## OR"
   ]
  },
  {
   "cell_type": "code",
   "execution_count": 58,
   "id": "70a051c5-7b36-413f-a36e-81cfc51dcbfb",
   "metadata": {},
   "outputs": [
    {
     "data": {
      "text/plain": [
       "True"
      ]
     },
     "execution_count": 58,
     "metadata": {},
     "output_type": "execute_result"
    }
   ],
   "source": [
    "True or True"
   ]
  },
  {
   "cell_type": "code",
   "execution_count": 59,
   "id": "8150d8fc-2b4a-45c2-bf23-55753b231800",
   "metadata": {},
   "outputs": [
    {
     "data": {
      "text/plain": [
       "True"
      ]
     },
     "execution_count": 59,
     "metadata": {},
     "output_type": "execute_result"
    }
   ],
   "source": [
    "True or False"
   ]
  },
  {
   "cell_type": "code",
   "execution_count": 60,
   "id": "6cdf1508-9784-4e0f-a8bc-0e098c47fb4e",
   "metadata": {},
   "outputs": [],
   "source": [
    "marks = 90"
   ]
  },
  {
   "cell_type": "code",
   "execution_count": 62,
   "id": "a460f696-877f-41ef-89c2-636e8bdea137",
   "metadata": {},
   "outputs": [],
   "source": [
    "donation = 90000"
   ]
  },
  {
   "cell_type": "code",
   "execution_count": 63,
   "id": "19ac4ff1-5ab8-4025-b33d-7dee922ef9d2",
   "metadata": {},
   "outputs": [
    {
     "name": "stdout",
     "output_type": "stream",
     "text": [
      "welcome to the school\n"
     ]
    }
   ],
   "source": [
    "if marks > 80 or donation > 80000:\n",
    "    print(\"welcome to the school\")\n",
    "else:\n",
    "    print(\"bahr ho jao\")"
   ]
  },
  {
   "cell_type": "code",
   "execution_count": 64,
   "id": "cceca745-3f13-46ee-ba27-eac1243e7a94",
   "metadata": {},
   "outputs": [],
   "source": [
    "#student 2\n",
    "marks=20\n",
    "donation = 50000"
   ]
  },
  {
   "cell_type": "code",
   "execution_count": 65,
   "id": "0c119028-0fda-4aff-98f2-4347bb78f256",
   "metadata": {},
   "outputs": [
    {
     "name": "stdout",
     "output_type": "stream",
     "text": [
      "bahr ho jao\n"
     ]
    }
   ],
   "source": [
    "if marks > 80 or donation > 80000:\n",
    "    print(\"welcome to the school\")\n",
    "else:\n",
    "    print(\"bahr ho jao\")"
   ]
  },
  {
   "cell_type": "code",
   "execution_count": 69,
   "id": "4f79c724-aeaa-4977-a591-31b77feb0b42",
   "metadata": {},
   "outputs": [],
   "source": [
    "#first person\n",
    "email =True\n",
    "number = True"
   ]
  },
  {
   "cell_type": "code",
   "execution_count": 67,
   "id": "098f2f33-b175-405f-872b-ce6cc928933b",
   "metadata": {},
   "outputs": [
    {
     "name": "stdout",
     "output_type": "stream",
     "text": [
      "welcome user\n"
     ]
    }
   ],
   "source": [
    "if email or number:\n",
    "    print(\"welcome user\")\n",
    "else:\n",
    "    print(\"login krke aao\")"
   ]
  },
  {
   "cell_type": "code",
   "execution_count": 70,
   "id": "c352961f-f881-4a1f-99fe-bbfb644a810d",
   "metadata": {},
   "outputs": [],
   "source": [
    "#2nd person\n",
    "email= False\n",
    "number = False"
   ]
  },
  {
   "cell_type": "code",
   "execution_count": 71,
   "id": "c2904cfa-230f-4d1a-b181-ab8892afd3d2",
   "metadata": {},
   "outputs": [
    {
     "name": "stdout",
     "output_type": "stream",
     "text": [
      "login krke aao\n"
     ]
    }
   ],
   "source": [
    "if email or number:\n",
    "    print(\"welcome user\")\n",
    "else:\n",
    "    print(\"login krke aao\")"
   ]
  },
  {
   "cell_type": "code",
   "execution_count": 72,
   "id": "136c29de-5cad-4fd6-92c6-bfb037caf3df",
   "metadata": {},
   "outputs": [],
   "source": [
    "email= False\n",
    "number = False\n",
    "password = True"
   ]
  },
  {
   "cell_type": "code",
   "execution_count": 76,
   "id": "72e961be-492e-4ed2-8674-bda4118a67a8",
   "metadata": {},
   "outputs": [
    {
     "name": "stdout",
     "output_type": "stream",
     "text": [
      "bye\n"
     ]
    }
   ],
   "source": [
    "if (email or number) and password:\n",
    "    print(\"welcome\")\n",
    "else:\n",
    "    print(\"bye\")"
   ]
  },
  {
   "cell_type": "code",
   "execution_count": 74,
   "id": "7e54836f-15ac-4f61-917e-7be602ee393c",
   "metadata": {},
   "outputs": [],
   "source": [
    "email= False\n",
    "number = False\n",
    "password = False"
   ]
  },
  {
   "cell_type": "code",
   "execution_count": 75,
   "id": "41329e8c-9264-43a9-909d-e6a0e8a506c2",
   "metadata": {},
   "outputs": [
    {
     "name": "stdout",
     "output_type": "stream",
     "text": [
      "bye\n"
     ]
    }
   ],
   "source": [
    "if (email or number) and password:\n",
    "    print(\"welcome\")\n",
    "else:\n",
    "    print(\"bye\")"
   ]
  },
  {
   "cell_type": "code",
   "execution_count": 77,
   "id": "d0567553-cd09-4a55-bf1a-d49db9c9d88a",
   "metadata": {},
   "outputs": [],
   "source": [
    "email= True\n",
    "number = True\n",
    "password = True"
   ]
  },
  {
   "cell_type": "code",
   "execution_count": 78,
   "id": "7a184919-2bf5-44a4-8561-8aa8064a7237",
   "metadata": {},
   "outputs": [
    {
     "name": "stdout",
     "output_type": "stream",
     "text": [
      "welcome\n"
     ]
    }
   ],
   "source": [
    "if (email or number) and password:\n",
    "    print(\"welcome\")\n",
    "else:\n",
    "    print(\"bye\")"
   ]
  },
  {
   "cell_type": "code",
   "execution_count": 79,
   "id": "e8abed60-df27-4175-821c-94477e94d0a5",
   "metadata": {},
   "outputs": [],
   "source": [
    "hindi = 50\n",
    "punjabi = 50\n",
    "english=50\n",
    "science=50"
   ]
  },
  {
   "cell_type": "code",
   "execution_count": 80,
   "id": "cad8db3f-5d82-4715-b4a7-a3737e804f2e",
   "metadata": {},
   "outputs": [
    {
     "name": "stdout",
     "output_type": "stream",
     "text": [
      "pass\n"
     ]
    }
   ],
   "source": [
    "if (hindi>35) and (punjabi>35) and (english>35) and (science>35):\n",
    "    print(\"pass\")\n",
    "else:\n",
    "    print(\"fail\")"
   ]
  },
  {
   "cell_type": "code",
   "execution_count": 83,
   "id": "ef23457b-27a8-48f6-9231-bdc2d9e5d244",
   "metadata": {},
   "outputs": [],
   "source": [
    "#age ek me bhi fail all fail\n",
    "hindi = 50\n",
    "punjabi = 50\n",
    "english=20\n",
    "science=50"
   ]
  },
  {
   "cell_type": "code",
   "execution_count": 84,
   "id": "0480820e-e19f-4502-811f-37eb4bed1591",
   "metadata": {},
   "outputs": [
    {
     "name": "stdout",
     "output_type": "stream",
     "text": [
      "fail\n"
     ]
    }
   ],
   "source": [
    "if (hindi>35) and (punjabi>35) and (english>35) and (science>35):\n",
    "    print(\"pass\")\n",
    "else:\n",
    "    print(\"fail\")"
   ]
  },
  {
   "cell_type": "code",
   "execution_count": 85,
   "id": "e223bcaf-89c5-4e34-9928-61c443e9708a",
   "metadata": {},
   "outputs": [],
   "source": [
    "average = (hindi+punjabi+english+science)//4"
   ]
  },
  {
   "cell_type": "code",
   "execution_count": 86,
   "id": "90cceb69-cbb5-4b26-96a7-922877641c4b",
   "metadata": {},
   "outputs": [
    {
     "name": "stdout",
     "output_type": "stream",
     "text": [
      "fail\n"
     ]
    }
   ],
   "source": [
    "if (hindi>35) and (punjabi>35) and (english>35) and (science>35):\n",
    "    print(\"pass\")\n",
    "    if average >= 75 and (hindi>40)and (punjabi>40) and (english>40) and (science>40):\n",
    "        print(\"a\")\n",
    "else:\n",
    "    print(\"fail\")"
   ]
  },
  {
   "cell_type": "code",
   "execution_count": 102,
   "id": "342d4b71-ec20-41cc-b9de-bb6d4ef8a31f",
   "metadata": {},
   "outputs": [],
   "source": [
    "hindi = 80\n",
    "punjabi =100\n",
    "english=80\n",
    "science=70"
   ]
  },
  {
   "cell_type": "code",
   "execution_count": 106,
   "id": "a42f8c07-ba48-4e20-981f-a9c7528b0c81",
   "metadata": {},
   "outputs": [
    {
     "data": {
      "text/plain": [
       "82"
      ]
     },
     "execution_count": 106,
     "metadata": {},
     "output_type": "execute_result"
    }
   ],
   "source": [
    "average"
   ]
  },
  {
   "cell_type": "code",
   "execution_count": 105,
   "id": "94cdf0d0-d536-4a13-997c-65e023f74e48",
   "metadata": {},
   "outputs": [],
   "source": [
    "average = (hindi+punjabi+english+science)//4"
   ]
  },
  {
   "cell_type": "code",
   "execution_count": 107,
   "id": "0abbdd53-8360-45d9-9238-b5628aecf01e",
   "metadata": {},
   "outputs": [
    {
     "name": "stdout",
     "output_type": "stream",
     "text": [
      "pass\n",
      "A\n"
     ]
    }
   ],
   "source": [
    "if (hindi>35) and (punjabi>35) and (english>35) and (science>35):\n",
    "    print(\"pass\")\n",
    "    if average >= 75 and (hindi>40)and (punjabi>40) and (english>40) and (science>40):\n",
    "        print(\"A\")\n",
    "else:\n",
    "    print(\"fail\")"
   ]
  },
  {
   "cell_type": "code",
   "execution_count": 108,
   "id": "7a7f05ed-6b03-4a11-9116-cee93a8bf756",
   "metadata": {},
   "outputs": [
    {
     "name": "stdout",
     "output_type": "stream",
     "text": [
      "pass\n",
      "distinction\n",
      "topper\n"
     ]
    }
   ],
   "source": [
    "if (hindi>35) and (punjabi>35) and (english>35) and (science>35):\n",
    "    print(\"pass\")\n",
    "    if average >= 75 and (hindi>40)and (punjabi>40) and (english>40) and (science>40):\n",
    "        print(\"distinction\")\n",
    "    else:\n",
    "        print(\"vishesh\")\n",
    "    if hindi >90 or punjabi>90 or english>90 or science>90:\n",
    "        print(\"topper\")\n",
    "else:\n",
    "    print(\"fail\")"
   ]
  },
  {
   "cell_type": "code",
   "execution_count": 2,
   "id": "67ad7fe5-42b7-4fbe-b0b4-48bcee980bb1",
   "metadata": {},
   "outputs": [],
   "source": [
    "username = \"inder\"\n",
    "password = 12345"
   ]
  },
  {
   "cell_type": "code",
   "execution_count": 3,
   "id": "a94aedb5-6485-4d69-9665-c385cf00c49e",
   "metadata": {},
   "outputs": [
    {
     "name": "stdout",
     "output_type": "stream",
     "text": [
      "correct input\n"
     ]
    }
   ],
   "source": [
    "if username and password:\n",
    "    if username ==\"inder\" and password == 12345:\n",
    "        print(\"correct input\")\n",
    "    else:\n",
    "        print(\"incorrect\")\n",
    "else:\n",
    "    print(\"incomplete input\")"
   ]
  },
  {
   "cell_type": "code",
   "execution_count": 112,
   "id": "6af3e9b1-e3f7-4c7e-967e-53e57cf7b9b1",
   "metadata": {},
   "outputs": [
    {
     "data": {
      "text/plain": [
       "True"
      ]
     },
     "execution_count": 112,
     "metadata": {},
     "output_type": "execute_result"
    }
   ],
   "source": [
    "#in logic\n",
    "'w' in 'jaswinder'"
   ]
  },
  {
   "cell_type": "code",
   "execution_count": 113,
   "id": "3a7e4f2c-7ad8-4938-864a-fa577cd38543",
   "metadata": {},
   "outputs": [
    {
     "data": {
      "text/plain": [
       "'full-timepart-timeun-employment'"
      ]
     },
     "execution_count": 113,
     "metadata": {},
     "output_type": "execute_result"
    }
   ],
   "source": [
    "\"full-time\" \"part-time\" \"un-employment\""
   ]
  },
  {
   "cell_type": "code",
   "execution_count": 114,
   "id": "cfbd2932-0577-4358-b9ad-97d1fa5d51ca",
   "metadata": {},
   "outputs": [],
   "source": [
    "age=20\n",
    "income=50000\n",
    "credit_score=350\n",
    "debts=5000\n",
    "employment=\"full-time\""
   ]
  },
  {
   "cell_type": "code",
   "execution_count": 115,
   "id": "6fb798d8-0304-4065-9352-5b4774524b24",
   "metadata": {},
   "outputs": [
    {
     "name": "stdout",
     "output_type": "stream",
     "text": [
      "hi\n"
     ]
    }
   ],
   "source": [
    "if age >=18:\n",
    "    print(\"hi\")\n",
    "else:\n",
    "    print(\"loan rejected\")"
   ]
  },
  {
   "cell_type": "code",
   "execution_count": 116,
   "id": "a4d97a4a-6383-46c7-8baa-52acffa09091",
   "metadata": {},
   "outputs": [
    {
     "name": "stdout",
     "output_type": "stream",
     "text": [
      "loan approved\n",
      "loan300000.0\n",
      "interest 36000.0\n"
     ]
    }
   ],
   "source": [
    "if age >=18 and not employment == \"unemployment\":\n",
    "    if credit_score > 400 and debts <= income//2\n",
    "        loan=income*12*0.5\n",
    "        interest = loan*0.1\n",
    "        \n",
    "        print(\"loan approved\")\n",
    "        print(f\"loan{loan}\")\n",
    "        print(f\"interest {interest}\")\n",
    "\n",
    "    elif credit_score > 400 and debts >= income*0.3:\n",
    "        loan = income*12*0.3\n",
    "        interest = loan*0.1\n",
    "        print(\"loan approved\")\n",
    "        print(f\"loan{loan}\")\n",
    "        print(f\"interest {interest}\")\n",
    "        \n",
    "    elif credit_score <= 400 and debts < income*0.3:\n",
    "        loan = income*12*0.5\n",
    "        interest = loan*0.12\n",
    "        print(\"loan approved\")\n",
    "        print(f\"loan{loan}\")\n",
    "        print(f\"interest {interest}\")\n",
    "    else:\n",
    "        print(\"loan rejected\")\n",
    "else:\n",
    "    print(\"loan rejected\")"
   ]
  },
  {
   "cell_type": "code",
   "execution_count": null,
   "id": "883242ec-fc39-4ee8-b731-132edc8d6e9c",
   "metadata": {},
   "outputs": [],
   "source": []
  }
 ],
 "metadata": {
  "kernelspec": {
   "display_name": "Python [conda env:base] *",
   "language": "python",
   "name": "conda-base-py"
  },
  "language_info": {
   "codemirror_mode": {
    "name": "ipython",
    "version": 3
   },
   "file_extension": ".py",
   "mimetype": "text/x-python",
   "name": "python",
   "nbconvert_exporter": "python",
   "pygments_lexer": "ipython3",
   "version": "3.13.5"
  }
 },
 "nbformat": 4,
 "nbformat_minor": 5
}
