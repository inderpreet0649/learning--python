{
 "cells": [
  {
   "cell_type": "markdown",
   "id": "1a371315-3427-4779-8acb-a9cc7e32406c",
   "metadata": {},
   "source": [
    "# LIST"
   ]
  },
  {
   "cell_type": "code",
   "execution_count": 54,
   "id": "a1e01b9f-b25a-4e32-8130-2935d83a0824",
   "metadata": {},
   "outputs": [],
   "source": [
    "#very very imp and list are made up of square bracket it is also a ordered sequence(indexing and slicing)\n",
    "#also item change krna possible sirf list me hai"
   ]
  },
  {
   "cell_type": "code",
   "execution_count": 2,
   "id": "59c5fafc-796b-4889-a16e-39773b5c7cfe",
   "metadata": {},
   "outputs": [
    {
     "data": {
      "text/plain": [
       "[8, 4, 6, 2]"
      ]
     },
     "execution_count": 2,
     "metadata": {},
     "output_type": "execute_result"
    }
   ],
   "source": [
    "[8,4,6,2]"
   ]
  },
  {
   "cell_type": "code",
   "execution_count": 3,
   "id": "da77cce4-7a16-49b0-9fe0-2e080496528a",
   "metadata": {},
   "outputs": [],
   "source": [
    "dogs = [\"tom\",\"kutta\",\"doggy\"]"
   ]
  },
  {
   "cell_type": "code",
   "execution_count": 4,
   "id": "5d8f35de-d1ed-4dec-a411-aae5a5ed1283",
   "metadata": {},
   "outputs": [
    {
     "data": {
      "text/plain": [
       "['tom', 'kutta', 'doggy']"
      ]
     },
     "execution_count": 4,
     "metadata": {},
     "output_type": "execute_result"
    }
   ],
   "source": [
    "dogs"
   ]
  },
  {
   "cell_type": "code",
   "execution_count": 8,
   "id": "d3ad29d7-e786-4d02-8a53-4f683fed3256",
   "metadata": {},
   "outputs": [
    {
     "data": {
      "text/plain": [
       "'tom'"
      ]
     },
     "execution_count": 8,
     "metadata": {},
     "output_type": "execute_result"
    }
   ],
   "source": [
    "dogs[0]"
   ]
  },
  {
   "cell_type": "code",
   "execution_count": 9,
   "id": "23cc2e6d-6a46-4f0e-9238-8273dcabf836",
   "metadata": {},
   "outputs": [
    {
     "data": {
      "text/plain": [
       "['tom', 'kutta']"
      ]
     },
     "execution_count": 9,
     "metadata": {},
     "output_type": "execute_result"
    }
   ],
   "source": [
    "dogs[0:2]"
   ]
  },
  {
   "cell_type": "code",
   "execution_count": 10,
   "id": "6afacb77-8869-47b8-9238-0e2586241e44",
   "metadata": {},
   "outputs": [],
   "source": [
    "dogs[0]=\"jerry\""
   ]
  },
  {
   "cell_type": "code",
   "execution_count": 11,
   "id": "8a8af293-d1ad-43a0-80d5-6084370729e5",
   "metadata": {},
   "outputs": [
    {
     "data": {
      "text/plain": [
       "['jerry', 'kutta', 'doggy']"
      ]
     },
     "execution_count": 11,
     "metadata": {},
     "output_type": "execute_result"
    }
   ],
   "source": [
    "dogs"
   ]
  },
  {
   "cell_type": "code",
   "execution_count": 15,
   "id": "401a2cd1-c4c3-4b4c-b3c7-88bdb0e89204",
   "metadata": {},
   "outputs": [],
   "source": [
    "li=[5,5.5,6+3j,\"inder\",(8,5,4,3,),[\"inder\",4,6],True,False]"
   ]
  },
  {
   "cell_type": "code",
   "execution_count": 16,
   "id": "2c9ed4d8-5b87-41ef-8bf7-00b38140bef7",
   "metadata": {},
   "outputs": [
    {
     "data": {
      "text/plain": [
       "[5, 5.5, (6+3j), 'inder', (8, 5, 4, 3), ['inder', 4, 6], True, False]"
      ]
     },
     "execution_count": 16,
     "metadata": {},
     "output_type": "execute_result"
    }
   ],
   "source": [
    "li"
   ]
  },
  {
   "cell_type": "code",
   "execution_count": 17,
   "id": "30b3d92a-9e84-4667-b366-fd12859dea56",
   "metadata": {},
   "outputs": [
    {
     "data": {
      "text/plain": [
       "5"
      ]
     },
     "execution_count": 17,
     "metadata": {},
     "output_type": "execute_result"
    }
   ],
   "source": [
    "li[0]"
   ]
  },
  {
   "cell_type": "code",
   "execution_count": 18,
   "id": "f4cb96e1-69b4-4d6c-a508-d51791522fa1",
   "metadata": {},
   "outputs": [
    {
     "data": {
      "text/plain": [
       "5.5"
      ]
     },
     "execution_count": 18,
     "metadata": {},
     "output_type": "execute_result"
    }
   ],
   "source": [
    "li[1]"
   ]
  },
  {
   "cell_type": "code",
   "execution_count": 19,
   "id": "380ba97e-2f43-4be6-a742-93b042bcf9e4",
   "metadata": {},
   "outputs": [
    {
     "data": {
      "text/plain": [
       "(6+3j)"
      ]
     },
     "execution_count": 19,
     "metadata": {},
     "output_type": "execute_result"
    }
   ],
   "source": [
    "li[2]"
   ]
  },
  {
   "cell_type": "code",
   "execution_count": 20,
   "id": "7167cf56-cb95-4d37-932e-e9bf195be444",
   "metadata": {},
   "outputs": [
    {
     "data": {
      "text/plain": [
       "'inder'"
      ]
     },
     "execution_count": 20,
     "metadata": {},
     "output_type": "execute_result"
    }
   ],
   "source": [
    "li[3]"
   ]
  },
  {
   "cell_type": "code",
   "execution_count": 21,
   "id": "98ccb321-c5f5-498d-aa5f-d5b266b75715",
   "metadata": {},
   "outputs": [
    {
     "data": {
      "text/plain": [
       "[5, 5.5, (6+3j)]"
      ]
     },
     "execution_count": 21,
     "metadata": {},
     "output_type": "execute_result"
    }
   ],
   "source": [
    "li[0:3]"
   ]
  },
  {
   "cell_type": "code",
   "execution_count": 22,
   "id": "bf8b50cd-df29-4863-8ec4-bf0fd228a7e2",
   "metadata": {},
   "outputs": [
    {
     "data": {
      "text/plain": [
       "'ind'"
      ]
     },
     "execution_count": 22,
     "metadata": {},
     "output_type": "execute_result"
    }
   ],
   "source": [
    "li[3][0:3]"
   ]
  },
  {
   "cell_type": "code",
   "execution_count": 24,
   "id": "68923699-0591-46dd-b7a9-28f1c78e6f25",
   "metadata": {},
   "outputs": [
    {
     "data": {
      "text/plain": [
       "8"
      ]
     },
     "execution_count": 24,
     "metadata": {},
     "output_type": "execute_result"
    }
   ],
   "source": [
    "li[4][0]"
   ]
  },
  {
   "cell_type": "code",
   "execution_count": 25,
   "id": "214cb5fa-bf1f-447d-a5c3-bd188ec19c1a",
   "metadata": {},
   "outputs": [
    {
     "data": {
      "text/plain": [
       "'n'"
      ]
     },
     "execution_count": 25,
     "metadata": {},
     "output_type": "execute_result"
    }
   ],
   "source": [
    "li[5][0][1]"
   ]
  },
  {
   "cell_type": "code",
   "execution_count": 26,
   "id": "846fd74d-aa03-44aa-b1f7-8384d05da7bc",
   "metadata": {},
   "outputs": [
    {
     "data": {
      "text/plain": [
       "['jerry', 'kutta', 'doggy']"
      ]
     },
     "execution_count": 26,
     "metadata": {},
     "output_type": "execute_result"
    }
   ],
   "source": [
    "dogs"
   ]
  },
  {
   "cell_type": "code",
   "execution_count": 29,
   "id": "3564cab9-1ffa-45ac-8c5b-a2cf265c8b6c",
   "metadata": {},
   "outputs": [],
   "source": [
    "#if u want to add an iten to it use append...if u want to add two time double run\n",
    "dogs.append(\"tom\")"
   ]
  },
  {
   "cell_type": "code",
   "execution_count": 31,
   "id": "9c8f3e75-95d5-4321-93c7-3b3c22b7e26c",
   "metadata": {},
   "outputs": [
    {
     "data": {
      "text/plain": [
       "['jerry', 'kutta', 'doggy', 'tom', 'tom']"
      ]
     },
     "execution_count": 31,
     "metadata": {},
     "output_type": "execute_result"
    }
   ],
   "source": [
    "dogs"
   ]
  },
  {
   "cell_type": "code",
   "execution_count": null,
   "id": "605b3e56-4faf-4bd3-80ed-0d597ddb1a2d",
   "metadata": {},
   "outputs": [],
   "source": [
    "#for clea or delete the all listb\n",
    "dogs.clear()"
   ]
  },
  {
   "cell_type": "code",
   "execution_count": 32,
   "id": "7bf0df62-b557-47f3-840d-38541708fe4d",
   "metadata": {},
   "outputs": [],
   "source": [
    "stu =[\"a\",\"b\",\"c\",\"d\",\"d\"]"
   ]
  },
  {
   "cell_type": "code",
   "execution_count": 33,
   "id": "8d9b8a55-0a56-4bc1-bf78-b281249f1405",
   "metadata": {},
   "outputs": [],
   "source": [
    "fail = stu"
   ]
  },
  {
   "cell_type": "code",
   "execution_count": 34,
   "id": "4454a83f-2925-4eed-aaf2-2dd7276a6b1d",
   "metadata": {},
   "outputs": [
    {
     "data": {
      "text/plain": [
       "'a'"
      ]
     },
     "execution_count": 34,
     "metadata": {},
     "output_type": "execute_result"
    }
   ],
   "source": [
    "fail[0]"
   ]
  },
  {
   "cell_type": "code",
   "execution_count": 38,
   "id": "ed8f8305-fddf-4ae1-a998-96ab501cf268",
   "metadata": {},
   "outputs": [],
   "source": [
    "#python reference its mean we change a lsit name then if we change in 1 list second list automatically changed\n",
    "fail[0]=\"inder\""
   ]
  },
  {
   "cell_type": "code",
   "execution_count": 36,
   "id": "db800b4f-794c-49e1-b52b-669723c08092",
   "metadata": {},
   "outputs": [
    {
     "data": {
      "text/plain": [
       "['inder', 'b', 'c', 'd', 'd']"
      ]
     },
     "execution_count": 36,
     "metadata": {},
     "output_type": "execute_result"
    }
   ],
   "source": [
    "fail"
   ]
  },
  {
   "cell_type": "code",
   "execution_count": 37,
   "id": "a3051879-3e35-4fca-847e-626d47621186",
   "metadata": {},
   "outputs": [
    {
     "data": {
      "text/plain": [
       "['inder', 'b', 'c', 'd', 'd']"
      ]
     },
     "execution_count": 37,
     "metadata": {},
     "output_type": "execute_result"
    }
   ],
   "source": [
    "stu"
   ]
  },
  {
   "cell_type": "code",
   "execution_count": 39,
   "id": "04c5c4ca-edfc-440c-8df5-6488c0edd96e",
   "metadata": {},
   "outputs": [],
   "source": [
    "a=[1,5,6]"
   ]
  },
  {
   "cell_type": "code",
   "execution_count": 58,
   "id": "fa1a4423-c762-4ebd-b67b-84149b6bb201",
   "metadata": {},
   "outputs": [],
   "source": [
    "b=[50,60,70]"
   ]
  },
  {
   "cell_type": "code",
   "execution_count": 59,
   "id": "4f9a1285-77b3-443d-8e17-3ffcc3dd10ec",
   "metadata": {},
   "outputs": [],
   "source": [
    "a=b"
   ]
  },
  {
   "cell_type": "code",
   "execution_count": 60,
   "id": "66dd3c40-6318-4d07-9d82-a5c37abfa078",
   "metadata": {},
   "outputs": [
    {
     "data": {
      "text/plain": [
       "[50, 60, 70]"
      ]
     },
     "execution_count": 60,
     "metadata": {},
     "output_type": "execute_result"
    }
   ],
   "source": [
    "a"
   ]
  },
  {
   "cell_type": "code",
   "execution_count": 61,
   "id": "9e4c6fc8-44d6-4824-a44b-b3bbcac7929e",
   "metadata": {},
   "outputs": [
    {
     "data": {
      "text/plain": [
       "[50, 60, 70]"
      ]
     },
     "execution_count": 61,
     "metadata": {},
     "output_type": "execute_result"
    }
   ],
   "source": [
    "b"
   ]
  },
  {
   "cell_type": "code",
   "execution_count": 62,
   "id": "0bfbd5b4-4079-4f20-b62f-5658e3299151",
   "metadata": {},
   "outputs": [],
   "source": [
    "b=a"
   ]
  },
  {
   "cell_type": "code",
   "execution_count": 63,
   "id": "e2862f51-3864-435a-8db0-9542a0c318bd",
   "metadata": {},
   "outputs": [
    {
     "data": {
      "text/plain": [
       "[50, 60, 70]"
      ]
     },
     "execution_count": 63,
     "metadata": {},
     "output_type": "execute_result"
    }
   ],
   "source": [
    "b"
   ]
  },
  {
   "cell_type": "code",
   "execution_count": 64,
   "id": "73ad56e6-9974-405d-b4d2-a7d55e21ab88",
   "metadata": {},
   "outputs": [
    {
     "data": {
      "text/plain": [
       "[50, 60, 70]"
      ]
     },
     "execution_count": 64,
     "metadata": {},
     "output_type": "execute_result"
    }
   ],
   "source": [
    "a"
   ]
  },
  {
   "cell_type": "code",
   "execution_count": 65,
   "id": "f042c8c8-d499-4a30-92fa-f510705add7d",
   "metadata": {},
   "outputs": [],
   "source": [
    "b[1]=5"
   ]
  },
  {
   "cell_type": "code",
   "execution_count": 66,
   "id": "05573c79-fcc3-4446-ba85-a7f6c2111617",
   "metadata": {},
   "outputs": [],
   "source": [
    "b = a.copy()"
   ]
  },
  {
   "cell_type": "code",
   "execution_count": 51,
   "id": "f06b524d-a3bc-476b-b340-d6d0010d9c92",
   "metadata": {},
   "outputs": [
    {
     "data": {
      "text/plain": [
       "60"
      ]
     },
     "execution_count": 51,
     "metadata": {},
     "output_type": "execute_result"
    }
   ],
   "source": [
    "b[1]"
   ]
  },
  {
   "cell_type": "code",
   "execution_count": 69,
   "id": "e7116e35-f2a3-4313-ae74-4d3daada5536",
   "metadata": {},
   "outputs": [],
   "source": [
    "b[1]=6"
   ]
  },
  {
   "cell_type": "code",
   "execution_count": 70,
   "id": "56fc2325-0aa4-4894-9100-6e270034b151",
   "metadata": {},
   "outputs": [
    {
     "data": {
      "text/plain": [
       "[50, 6, 70]"
      ]
     },
     "execution_count": 70,
     "metadata": {},
     "output_type": "execute_result"
    }
   ],
   "source": [
    "b"
   ]
  },
  {
   "cell_type": "code",
   "execution_count": 71,
   "id": "24df100f-af9c-4407-a792-37423b1a5fc3",
   "metadata": {},
   "outputs": [
    {
     "data": {
      "text/plain": [
       "[50, 5, 70]"
      ]
     },
     "execution_count": 71,
     "metadata": {},
     "output_type": "execute_result"
    }
   ],
   "source": [
    "a"
   ]
  },
  {
   "cell_type": "code",
   "execution_count": 72,
   "id": "97543032-4743-4379-90d7-f4614e9a3c0e",
   "metadata": {},
   "outputs": [],
   "source": [
    "b=a.copy()"
   ]
  },
  {
   "cell_type": "code",
   "execution_count": 73,
   "id": "2026b2f9-8338-4235-843f-f9ad34945f6a",
   "metadata": {},
   "outputs": [
    {
     "data": {
      "text/plain": [
       "[50, 5, 70]"
      ]
     },
     "execution_count": 73,
     "metadata": {},
     "output_type": "execute_result"
    }
   ],
   "source": [
    "a"
   ]
  },
  {
   "cell_type": "code",
   "execution_count": 74,
   "id": "85389f4b-72ee-4ed6-8f45-b293695ff088",
   "metadata": {},
   "outputs": [
    {
     "data": {
      "text/plain": [
       "[50, 5, 70]"
      ]
     },
     "execution_count": 74,
     "metadata": {},
     "output_type": "execute_result"
    }
   ],
   "source": [
    "b"
   ]
  },
  {
   "cell_type": "code",
   "execution_count": 75,
   "id": "4ef2e58a-2ee7-4171-8975-83c6ed87d65d",
   "metadata": {},
   "outputs": [
    {
     "data": {
      "text/plain": [
       "2"
      ]
     },
     "execution_count": 75,
     "metadata": {},
     "output_type": "execute_result"
    }
   ],
   "source": [
    "dogs.count(\"tom\")"
   ]
  },
  {
   "cell_type": "code",
   "execution_count": 76,
   "id": "92ebe23d-b4e9-4d44-bfe8-48d8a12d021d",
   "metadata": {},
   "outputs": [
    {
     "data": {
      "text/plain": [
       "2"
      ]
     },
     "execution_count": 76,
     "metadata": {},
     "output_type": "execute_result"
    }
   ],
   "source": [
    "dogs.index(\"doggy\")"
   ]
  },
  {
   "cell_type": "code",
   "execution_count": 77,
   "id": "700e3fb7-a120-4b78-a963-e3f2c434beb0",
   "metadata": {},
   "outputs": [
    {
     "data": {
      "text/plain": [
       "['jerry', 'kutta', 'doggy', 'tom', 'tom']"
      ]
     },
     "execution_count": 77,
     "metadata": {},
     "output_type": "execute_result"
    }
   ],
   "source": [
    "dogs"
   ]
  },
  {
   "cell_type": "code",
   "execution_count": 80,
   "id": "257e4a7d-25b9-4821-a58f-84e88b483064",
   "metadata": {},
   "outputs": [],
   "source": [
    "friend =[\"sammy\",\"rammy\",\"jecob\"]"
   ]
  },
  {
   "cell_type": "code",
   "execution_count": 89,
   "id": "c8c0a0f0-c009-4871-94ed-595edf9cae0f",
   "metadata": {},
   "outputs": [],
   "source": [
    "#it is use for adding a list as a list\n",
    "dogs.append(friend)"
   ]
  },
  {
   "cell_type": "code",
   "execution_count": 82,
   "id": "66549a18-30ba-4084-a6db-57c0969a4e19",
   "metadata": {},
   "outputs": [
    {
     "data": {
      "text/plain": [
       "['jerry', 'kutta', 'doggy', 'tom', 'tom', ['sammy', 'rammy', 'jecob']]"
      ]
     },
     "execution_count": 82,
     "metadata": {},
     "output_type": "execute_result"
    }
   ],
   "source": [
    "dogs"
   ]
  },
  {
   "cell_type": "code",
   "execution_count": 90,
   "id": "80e4ab27-826f-47dd-9b9a-c31f0c968672",
   "metadata": {},
   "outputs": [],
   "source": [
    "#it is use for add a new list into a list not diferent way\n",
    "dogs.extend(friend)"
   ]
  },
  {
   "cell_type": "code",
   "execution_count": 84,
   "id": "a8ffe82d-fdd5-4242-a852-50781b02effb",
   "metadata": {},
   "outputs": [
    {
     "data": {
      "text/plain": [
       "['jerry',\n",
       " 'kutta',\n",
       " 'doggy',\n",
       " 'tom',\n",
       " 'tom',\n",
       " ['sammy', 'rammy', 'jecob'],\n",
       " 'sammy',\n",
       " 'rammy',\n",
       " 'jecob']"
      ]
     },
     "execution_count": 84,
     "metadata": {},
     "output_type": "execute_result"
    }
   ],
   "source": [
    "dogs"
   ]
  },
  {
   "cell_type": "code",
   "execution_count": 85,
   "id": "4c2857a4-ae0c-4e30-bdd9-01544a936430",
   "metadata": {},
   "outputs": [
    {
     "data": {
      "text/plain": [
       "[5, 5.5, (6+3j), 'inder', (8, 5, 4, 3), ['inder', 4, 6], True, False]"
      ]
     },
     "execution_count": 85,
     "metadata": {},
     "output_type": "execute_result"
    }
   ],
   "source": [
    "li"
   ]
  },
  {
   "cell_type": "code",
   "execution_count": 86,
   "id": "89b449a0-7827-4a7c-bf89-f348fa6b8145",
   "metadata": {},
   "outputs": [
    {
     "data": {
      "text/plain": [
       "['inder', 'b', 'c', 'd', 'd']"
      ]
     },
     "execution_count": 86,
     "metadata": {},
     "output_type": "execute_result"
    }
   ],
   "source": [
    "stu"
   ]
  },
  {
   "cell_type": "code",
   "execution_count": 87,
   "id": "089d8fb2-e28b-4344-9f9b-acb7e12c686b",
   "metadata": {},
   "outputs": [],
   "source": [
    "li.extend(stu)"
   ]
  },
  {
   "cell_type": "code",
   "execution_count": 88,
   "id": "ccc31579-2c12-4d64-ace4-4936bf7f3e88",
   "metadata": {},
   "outputs": [
    {
     "data": {
      "text/plain": [
       "[5,\n",
       " 5.5,\n",
       " (6+3j),\n",
       " 'inder',\n",
       " (8, 5, 4, 3),\n",
       " ['inder', 4, 6],\n",
       " True,\n",
       " False,\n",
       " 'inder',\n",
       " 'b',\n",
       " 'c',\n",
       " 'd',\n",
       " 'd']"
      ]
     },
     "execution_count": 88,
     "metadata": {},
     "output_type": "execute_result"
    }
   ],
   "source": [
    "li"
   ]
  },
  {
   "cell_type": "code",
   "execution_count": 93,
   "id": "bb4b6362-38f9-4e7f-b6ca-8171754d85b8",
   "metadata": {},
   "outputs": [
    {
     "data": {
      "text/plain": [
       "'sammy'"
      ]
     },
     "execution_count": 93,
     "metadata": {},
     "output_type": "execute_result"
    }
   ],
   "source": [
    "#last item bahr nikalne k liye...by multiple runs multiple item from last should be gone\n",
    "dogs.pop()"
   ]
  },
  {
   "cell_type": "code",
   "execution_count": 94,
   "id": "479f4940-cb01-47cc-8532-a57543d9a849",
   "metadata": {},
   "outputs": [
    {
     "data": {
      "text/plain": [
       "['jerry',\n",
       " 'kutta',\n",
       " 'doggy',\n",
       " 'tom',\n",
       " 'tom',\n",
       " ['sammy', 'rammy', 'jecob'],\n",
       " 'sammy',\n",
       " 'rammy',\n",
       " 'jecob',\n",
       " ['sammy', 'rammy', 'jecob']]"
      ]
     },
     "execution_count": 94,
     "metadata": {},
     "output_type": "execute_result"
    }
   ],
   "source": [
    "dogs"
   ]
  },
  {
   "cell_type": "code",
   "execution_count": 95,
   "id": "7f18b2fe-c75c-4556-b1e2-169c2d9f143f",
   "metadata": {},
   "outputs": [
    {
     "data": {
      "text/plain": [
       "['sammy', 'rammy', 'jecob']"
      ]
     },
     "execution_count": 95,
     "metadata": {},
     "output_type": "execute_result"
    }
   ],
   "source": [
    "dogs.pop()"
   ]
  },
  {
   "cell_type": "code",
   "execution_count": 96,
   "id": "b43eebd9-5f21-462c-8378-859c5738666e",
   "metadata": {},
   "outputs": [
    {
     "data": {
      "text/plain": [
       "['jerry',\n",
       " 'kutta',\n",
       " 'doggy',\n",
       " 'tom',\n",
       " 'tom',\n",
       " ['sammy', 'rammy', 'jecob'],\n",
       " 'sammy',\n",
       " 'rammy',\n",
       " 'jecob']"
      ]
     },
     "execution_count": 96,
     "metadata": {},
     "output_type": "execute_result"
    }
   ],
   "source": [
    "dogs"
   ]
  },
  {
   "cell_type": "code",
   "execution_count": 99,
   "id": "46c4eaf7-d474-4bf4-8620-db776f575a83",
   "metadata": {},
   "outputs": [
    {
     "data": {
      "text/plain": [
       "'rammy'"
      ]
     },
     "execution_count": 99,
     "metadata": {},
     "output_type": "execute_result"
    }
   ],
   "source": [
    "#by defaut last atom nikalna\n",
    "dogs.pop()"
   ]
  },
  {
   "cell_type": "code",
   "execution_count": 98,
   "id": "66f604ba-0160-4f4d-a273-360dcc3f8f33",
   "metadata": {},
   "outputs": [
    {
     "data": {
      "text/plain": [
       "['jerry',\n",
       " 'kutta',\n",
       " 'doggy',\n",
       " 'tom',\n",
       " 'tom',\n",
       " ['sammy', 'rammy', 'jecob'],\n",
       " 'sammy',\n",
       " 'rammy']"
      ]
     },
     "execution_count": 98,
     "metadata": {},
     "output_type": "execute_result"
    }
   ],
   "source": [
    "dogs"
   ]
  },
  {
   "cell_type": "code",
   "execution_count": 100,
   "id": "9946445a-f81d-402b-a648-326adc86aeea",
   "metadata": {},
   "outputs": [
    {
     "data": {
      "text/plain": [
       "'doggy'"
      ]
     },
     "execution_count": 100,
     "metadata": {},
     "output_type": "execute_result"
    }
   ],
   "source": [
    "#age sirf last wala bahr nhi nikalna too\n",
    "dogs.pop(2)"
   ]
  },
  {
   "cell_type": "code",
   "execution_count": 101,
   "id": "702c04e6-1b2c-4eaf-8e3e-ee01162385bd",
   "metadata": {},
   "outputs": [
    {
     "data": {
      "text/plain": [
       "['jerry', 'kutta', 'tom', 'tom', ['sammy', 'rammy', 'jecob'], 'sammy']"
      ]
     },
     "execution_count": 101,
     "metadata": {},
     "output_type": "execute_result"
    }
   ],
   "source": [
    "dogs"
   ]
  },
  {
   "cell_type": "code",
   "execution_count": 102,
   "id": "73aa87bf-c845-4fc8-930c-bb0786ae0b5f",
   "metadata": {},
   "outputs": [
    {
     "data": {
      "text/plain": [
       "['sammy', 'rammy', 'jecob']"
      ]
     },
     "execution_count": 102,
     "metadata": {},
     "output_type": "execute_result"
    }
   ],
   "source": [
    "dogs.pop(4)"
   ]
  },
  {
   "cell_type": "code",
   "execution_count": 105,
   "id": "56b3e7a1-28e1-447d-a338-d696ff92cb59",
   "metadata": {},
   "outputs": [],
   "source": [
    "dogs.append(\"stu\")"
   ]
  },
  {
   "cell_type": "code",
   "execution_count": 106,
   "id": "24834420-2c3d-4600-a4e2-27ed32e238e2",
   "metadata": {},
   "outputs": [
    {
     "data": {
      "text/plain": [
       "['jerry', 'kutta', 'tom', 'tom', 'sammy', 'rammy', 'stu']"
      ]
     },
     "execution_count": 106,
     "metadata": {},
     "output_type": "execute_result"
    }
   ],
   "source": [
    "dogs"
   ]
  },
  {
   "cell_type": "code",
   "execution_count": 110,
   "id": "5d613f7a-7146-4b55-8127-e108f316d19a",
   "metadata": {},
   "outputs": [],
   "source": [
    "dogs.extend(\"stu\")"
   ]
  },
  {
   "cell_type": "code",
   "execution_count": 109,
   "id": "1c7f78eb-b0a1-470d-ab9d-919e0fea0eed",
   "metadata": {},
   "outputs": [
    {
     "data": {
      "text/plain": [
       "['inder', 'b', 'c', 'd', 'd']"
      ]
     },
     "execution_count": 109,
     "metadata": {},
     "output_type": "execute_result"
    }
   ],
   "source": [
    "stu"
   ]
  },
  {
   "cell_type": "code",
   "execution_count": 111,
   "id": "f0b59b1e-5309-4cc2-8508-6543f1b75e0f",
   "metadata": {},
   "outputs": [
    {
     "data": {
      "text/plain": [
       "['jerry',\n",
       " 'kutta',\n",
       " 'tom',\n",
       " 'tom',\n",
       " 'sammy',\n",
       " 'rammy',\n",
       " 'stu',\n",
       " 's',\n",
       " 't',\n",
       " 'u',\n",
       " 's',\n",
       " 't',\n",
       " 'u']"
      ]
     },
     "execution_count": 111,
     "metadata": {},
     "output_type": "execute_result"
    }
   ],
   "source": [
    "dogs"
   ]
  },
  {
   "cell_type": "code",
   "execution_count": 123,
   "id": "119c2491-1e3a-43ec-928b-68395f85283a",
   "metadata": {},
   "outputs": [],
   "source": [
    "#by pop we can save a value in it but by remove it directly remove we can't save it by other name...soo mostly or always use pop\n",
    "a = dogs.pop()"
   ]
  },
  {
   "cell_type": "code",
   "execution_count": 113,
   "id": "eb281b1b-1f03-4269-8837-aa331e1d06f1",
   "metadata": {},
   "outputs": [
    {
     "data": {
      "text/plain": [
       "'u'"
      ]
     },
     "execution_count": 113,
     "metadata": {},
     "output_type": "execute_result"
    }
   ],
   "source": [
    "a"
   ]
  },
  {
   "cell_type": "code",
   "execution_count": 115,
   "id": "f7694ce6-7b52-4159-9c93-c907305bdb59",
   "metadata": {},
   "outputs": [],
   "source": [
    "dogs.remove(\"tom\")"
   ]
  },
  {
   "cell_type": "code",
   "execution_count": 116,
   "id": "7f376a5a-c982-4f8d-8b48-00a3a810e563",
   "metadata": {},
   "outputs": [
    {
     "data": {
      "text/plain": [
       "['jerry', 'kutta', 'tom', 'sammy', 'rammy', 'stu', 's', 't', 'u', 's']"
      ]
     },
     "execution_count": 116,
     "metadata": {},
     "output_type": "execute_result"
    }
   ],
   "source": [
    "dogs"
   ]
  },
  {
   "cell_type": "code",
   "execution_count": 119,
   "id": "7ad9a03e-5ddb-4975-8ad8-87c35d151178",
   "metadata": {},
   "outputs": [],
   "source": [
    "#for acending order \n",
    "dogs.sort()"
   ]
  },
  {
   "cell_type": "code",
   "execution_count": 118,
   "id": "d0804c2d-1cbf-47d3-8dd3-21d07d78b7dc",
   "metadata": {},
   "outputs": [
    {
     "data": {
      "text/plain": [
       "['jerry', 'kutta', 'rammy', 's', 's', 'sammy', 'stu', 't', 'tom', 'u']"
      ]
     },
     "execution_count": 118,
     "metadata": {},
     "output_type": "execute_result"
    }
   ],
   "source": [
    "dogs"
   ]
  },
  {
   "cell_type": "code",
   "execution_count": 122,
   "id": "a3ed68af-9ab1-4698-8123-e07774d01aaf",
   "metadata": {},
   "outputs": [],
   "source": [
    "#for decending order\n",
    "dogs.sort(reverse=True)"
   ]
  },
  {
   "cell_type": "code",
   "execution_count": 121,
   "id": "a9c3e6a3-c1c1-4ac9-a726-9bcbce99f87e",
   "metadata": {},
   "outputs": [
    {
     "data": {
      "text/plain": [
       "['u', 'tom', 't', 'stu', 'sammy', 's', 's', 'rammy', 'kutta', 'jerry']"
      ]
     },
     "execution_count": 121,
     "metadata": {},
     "output_type": "execute_result"
    }
   ],
   "source": [
    "dogs"
   ]
  },
  {
   "cell_type": "code",
   "execution_count": 124,
   "id": "c03a9363-cdf5-4658-845f-24e886e84dde",
   "metadata": {},
   "outputs": [],
   "source": [
    "dogs.reverse()"
   ]
  },
  {
   "cell_type": "code",
   "execution_count": 125,
   "id": "abcb3bd0-433d-4c7e-88ec-7a5ff4094adf",
   "metadata": {},
   "outputs": [
    {
     "data": {
      "text/plain": [
       "['kutta', 'rammy', 's', 's', 'sammy', 'stu', 't', 'tom', 'u']"
      ]
     },
     "execution_count": 125,
     "metadata": {},
     "output_type": "execute_result"
    }
   ],
   "source": [
    "dogs"
   ]
  },
  {
   "cell_type": "code",
   "execution_count": 126,
   "id": "9911195d-5a65-457b-8400-8165c0f98580",
   "metadata": {},
   "outputs": [],
   "source": [
    "dogs.sort()"
   ]
  },
  {
   "cell_type": "code",
   "execution_count": 127,
   "id": "2f8dd261-16c0-41d0-ae7a-1eba78a9483f",
   "metadata": {},
   "outputs": [
    {
     "data": {
      "text/plain": [
       "['kutta', 'rammy', 's', 's', 'sammy', 'stu', 't', 'tom', 'u']"
      ]
     },
     "execution_count": 127,
     "metadata": {},
     "output_type": "execute_result"
    }
   ],
   "source": [
    "dogs"
   ]
  },
  {
   "cell_type": "code",
   "execution_count": 128,
   "id": "f45cabee-406c-4be7-8b1b-ca05f87baf04",
   "metadata": {},
   "outputs": [],
   "source": [
    "dogs.reverse()"
   ]
  },
  {
   "cell_type": "code",
   "execution_count": 129,
   "id": "0999512b-4ac6-461d-abdb-e01ee0b5ec9e",
   "metadata": {},
   "outputs": [
    {
     "data": {
      "text/plain": [
       "['u', 'tom', 't', 'stu', 'sammy', 's', 's', 'rammy', 'kutta']"
      ]
     },
     "execution_count": 129,
     "metadata": {},
     "output_type": "execute_result"
    }
   ],
   "source": [
    "dogs"
   ]
  },
  {
   "cell_type": "code",
   "execution_count": 130,
   "id": "3a1b98f6-027a-4378-85de-3a429bf1e8c9",
   "metadata": {},
   "outputs": [],
   "source": [
    "li.clear()"
   ]
  },
  {
   "cell_type": "code",
   "execution_count": 131,
   "id": "279e2273-9d4d-4898-9601-77ef85bf43b1",
   "metadata": {},
   "outputs": [
    {
     "data": {
      "text/plain": [
       "[]"
      ]
     },
     "execution_count": 131,
     "metadata": {},
     "output_type": "execute_result"
    }
   ],
   "source": [
    "li"
   ]
  },
  {
   "cell_type": "markdown",
   "id": "abfa6bd1-a64e-4f89-8317-75b6bc867547",
   "metadata": {},
   "source": [
    "# practice"
   ]
  },
  {
   "cell_type": "code",
   "execution_count": 1,
   "id": "1fdabdbd-e6e9-4036-a87c-904f19af7880",
   "metadata": {},
   "outputs": [],
   "source": [
    "#level 1"
   ]
  },
  {
   "cell_type": "code",
   "execution_count": 2,
   "id": "206ec688-c961-4f9d-b91a-904ada801abd",
   "metadata": {},
   "outputs": [],
   "source": [
    "li=[1,2,3,4,5]"
   ]
  },
  {
   "cell_type": "code",
   "execution_count": 3,
   "id": "514ba63f-eb58-41a6-bcf0-d1ba25a3effb",
   "metadata": {},
   "outputs": [
    {
     "data": {
      "text/plain": [
       "[1, 2, 3, 4, 5]"
      ]
     },
     "execution_count": 3,
     "metadata": {},
     "output_type": "execute_result"
    }
   ],
   "source": [
    "li"
   ]
  },
  {
   "cell_type": "code",
   "execution_count": 4,
   "id": "137a6638-e4ca-46d8-a84d-1f7e5a353b41",
   "metadata": {},
   "outputs": [
    {
     "data": {
      "text/plain": [
       "list"
      ]
     },
     "execution_count": 4,
     "metadata": {},
     "output_type": "execute_result"
    }
   ],
   "source": [
    "type(li)"
   ]
  },
  {
   "cell_type": "code",
   "execution_count": 5,
   "id": "abaf2030-0f15-4f87-aea1-7d1d366c671c",
   "metadata": {},
   "outputs": [],
   "source": [
    "li2=[\"inder\",19,3.14]"
   ]
  },
  {
   "cell_type": "code",
   "execution_count": 33,
   "id": "2419ad77-c9e9-462b-97f4-e54300965d62",
   "metadata": {},
   "outputs": [],
   "source": [
    "str_pp=(\"pyhton\")"
   ]
  },
  {
   "cell_type": "code",
   "execution_count": 34,
   "id": "524bf4da-60a1-44a0-b850-fafd706285c3",
   "metadata": {},
   "outputs": [
    {
     "data": {
      "text/plain": [
       "str"
      ]
     },
     "execution_count": 34,
     "metadata": {},
     "output_type": "execute_result"
    }
   ],
   "source": [
    "type(str_pp)"
   ]
  },
  {
   "cell_type": "code",
   "execution_count": 38,
   "id": "746da92d-7cef-45bc-92ff-a03ba74d9f98",
   "metadata": {},
   "outputs": [
    {
     "name": "stdout",
     "output_type": "stream",
     "text": [
      "['p', 'y', 't', 'h', 'o', 'n']\n"
     ]
    }
   ],
   "source": [
    "str_pp=list(\"python\")\n",
    "print(str_pp)"
   ]
  },
  {
   "cell_type": "code",
   "execution_count": 39,
   "id": "b72835ab-a720-4461-a434-40dfa32217c2",
   "metadata": {},
   "outputs": [
    {
     "data": {
      "text/plain": [
       "list"
      ]
     },
     "execution_count": 39,
     "metadata": {},
     "output_type": "execute_result"
    }
   ],
   "source": [
    "type(str_pp)"
   ]
  },
  {
   "cell_type": "code",
   "execution_count": 12,
   "id": "60846d52-c7ca-4f0b-a50f-42aa0e0e422f",
   "metadata": {},
   "outputs": [],
   "source": [
    "li3=[10,20,30,40,]"
   ]
  },
  {
   "cell_type": "code",
   "execution_count": 37,
   "id": "db3cab21-1001-4e77-8af7-b1a57aba9875",
   "metadata": {},
   "outputs": [
    {
     "data": {
      "text/plain": [
       "(10, 40)"
      ]
     },
     "execution_count": 37,
     "metadata": {},
     "output_type": "execute_result"
    }
   ],
   "source": [
    "li3[0],li3[-1]"
   ]
  },
  {
   "cell_type": "code",
   "execution_count": 43,
   "id": "f63c6a6d-5e91-4b75-a834-e5f66141c0c0",
   "metadata": {},
   "outputs": [
    {
     "name": "stdout",
     "output_type": "stream",
     "text": [
      "1 3 3\n"
     ]
    }
   ],
   "source": [
    "li1=[1,2,3]\n",
    "print(li1[0],li1[-1],len(li1))"
   ]
  },
  {
   "cell_type": "code",
   "execution_count": 44,
   "id": "d04fab35-a5d7-4d71-ada3-1d2e7171083b",
   "metadata": {},
   "outputs": [],
   "source": [
    "#level 2\n",
    "nums=[10,20,30,40,50]"
   ]
  },
  {
   "cell_type": "code",
   "execution_count": 45,
   "id": "d8c8a67c-1834-4b8e-99e6-517dbc419d7b",
   "metadata": {},
   "outputs": [
    {
     "data": {
      "text/plain": [
       "[10, 20, 30]"
      ]
     },
     "execution_count": 45,
     "metadata": {},
     "output_type": "execute_result"
    }
   ],
   "source": [
    "nums[0:3]"
   ]
  },
  {
   "cell_type": "code",
   "execution_count": 46,
   "id": "ef5ce432-9591-4c2c-9f43-2b17c862e926",
   "metadata": {},
   "outputs": [
    {
     "data": {
      "text/plain": [
       "[50, 40, 30, 20, 10]"
      ]
     },
     "execution_count": 46,
     "metadata": {},
     "output_type": "execute_result"
    }
   ],
   "source": [
    "nums[::-1]"
   ]
  },
  {
   "cell_type": "code",
   "execution_count": 47,
   "id": "dcad5a46-8cd6-4a30-9d0f-e9f43da9020e",
   "metadata": {},
   "outputs": [
    {
     "data": {
      "text/plain": [
       "True"
      ]
     },
     "execution_count": 47,
     "metadata": {},
     "output_type": "execute_result"
    }
   ],
   "source": [
    "30 in nums"
   ]
  },
  {
   "cell_type": "code",
   "execution_count": 50,
   "id": "8687a66c-4022-48ae-8cf1-db1f5f1ad8bb",
   "metadata": {},
   "outputs": [],
   "source": [
    "nums.append(60)"
   ]
  },
  {
   "cell_type": "code",
   "execution_count": 51,
   "id": "0e1d775b-abbc-4705-a30b-6edea14ec901",
   "metadata": {},
   "outputs": [
    {
     "data": {
      "text/plain": [
       "[10, 20, 30, 40, 50, 40, 60]"
      ]
     },
     "execution_count": 51,
     "metadata": {},
     "output_type": "execute_result"
    }
   ],
   "source": [
    "nums"
   ]
  },
  {
   "cell_type": "code",
   "execution_count": 54,
   "id": "de21a563-965f-4568-882d-83a8f204c5eb",
   "metadata": {},
   "outputs": [],
   "source": [
    "nums.insert(1,15)"
   ]
  },
  {
   "cell_type": "code",
   "execution_count": 55,
   "id": "1ed7f203-8228-4b45-b0fc-7bae4b656256",
   "metadata": {},
   "outputs": [
    {
     "data": {
      "text/plain": [
       "[10, 15, 20, 30, 40, 50, 40, 60]"
      ]
     },
     "execution_count": 55,
     "metadata": {},
     "output_type": "execute_result"
    }
   ],
   "source": [
    "nums"
   ]
  },
  {
   "cell_type": "code",
   "execution_count": 56,
   "id": "1c471c51-8cdb-4928-92ea-178cd862fefb",
   "metadata": {},
   "outputs": [],
   "source": [
    "l1=[1,2]\n",
    "l2=[3,4,5]"
   ]
  },
  {
   "cell_type": "code",
   "execution_count": 57,
   "id": "e5497012-30d8-4e1f-8c4c-76f90c43703d",
   "metadata": {},
   "outputs": [
    {
     "data": {
      "text/plain": [
       "[1, 2, 3, 4, 5]"
      ]
     },
     "execution_count": 57,
     "metadata": {},
     "output_type": "execute_result"
    }
   ],
   "source": [
    "l1+l2"
   ]
  },
  {
   "cell_type": "code",
   "execution_count": 58,
   "id": "fd62278f-4356-419e-95dd-0f14c86414e9",
   "metadata": {},
   "outputs": [],
   "source": [
    "#level3\n",
    "nums=[10,20,30,40,20,50]"
   ]
  },
  {
   "cell_type": "code",
   "execution_count": 59,
   "id": "3e32a77e-a053-414b-9760-e9227069a525",
   "metadata": {},
   "outputs": [],
   "source": [
    "nums.remove(20)"
   ]
  },
  {
   "cell_type": "code",
   "execution_count": 60,
   "id": "f32f2c5f-a9e7-4389-95ac-98feeb533ebb",
   "metadata": {},
   "outputs": [
    {
     "data": {
      "text/plain": [
       "[10, 30, 40, 20, 50]"
      ]
     },
     "execution_count": 60,
     "metadata": {},
     "output_type": "execute_result"
    }
   ],
   "source": [
    "nums"
   ]
  },
  {
   "cell_type": "code",
   "execution_count": 61,
   "id": "f336918c-7103-4155-b878-7285db47282d",
   "metadata": {},
   "outputs": [
    {
     "data": {
      "text/plain": [
       "50"
      ]
     },
     "execution_count": 61,
     "metadata": {},
     "output_type": "execute_result"
    }
   ],
   "source": [
    "nums.pop()"
   ]
  },
  {
   "cell_type": "code",
   "execution_count": 62,
   "id": "9c03cf81-c19b-4c38-bbef-be3ddaa66896",
   "metadata": {},
   "outputs": [],
   "source": [
    "nums.clear()"
   ]
  },
  {
   "cell_type": "code",
   "execution_count": 63,
   "id": "e61ca387-9258-42cb-84c0-203fdf8175bd",
   "metadata": {},
   "outputs": [
    {
     "data": {
      "text/plain": [
       "[]"
      ]
     },
     "execution_count": 63,
     "metadata": {},
     "output_type": "execute_result"
    }
   ],
   "source": [
    "nums"
   ]
  },
  {
   "cell_type": "code",
   "execution_count": 64,
   "id": "cbfa0f3d-edb8-482e-a8d0-88d83bb83806",
   "metadata": {},
   "outputs": [],
   "source": [
    "nums=[1,2,2,3,2,4]"
   ]
  },
  {
   "cell_type": "code",
   "execution_count": 66,
   "id": "bca67d0b-d851-4be4-8532-9c6f45841046",
   "metadata": {},
   "outputs": [
    {
     "data": {
      "text/plain": [
       "3"
      ]
     },
     "execution_count": 66,
     "metadata": {},
     "output_type": "execute_result"
    }
   ],
   "source": [
    "nums.count(2)"
   ]
  },
  {
   "cell_type": "code",
   "execution_count": 67,
   "id": "fa4b1ccc-c0fb-45e8-89e7-f8c87adfc00d",
   "metadata": {},
   "outputs": [
    {
     "data": {
      "text/plain": [
       "3"
      ]
     },
     "execution_count": 67,
     "metadata": {},
     "output_type": "execute_result"
    }
   ],
   "source": [
    "nums.index(3)"
   ]
  },
  {
   "cell_type": "code",
   "execution_count": 69,
   "id": "cecbef30-e853-4092-b6de-16a49c6cf603",
   "metadata": {},
   "outputs": [
    {
     "data": {
      "text/plain": [
       "0"
      ]
     },
     "execution_count": 69,
     "metadata": {},
     "output_type": "execute_result"
    }
   ],
   "source": [
    "nums.index(1)"
   ]
  },
  {
   "cell_type": "code",
   "execution_count": 70,
   "id": "2bd6ae85-1b1e-46c8-8977-ee42d0212dc3",
   "metadata": {},
   "outputs": [
    {
     "data": {
      "text/plain": [
       "1"
      ]
     },
     "execution_count": 70,
     "metadata": {},
     "output_type": "execute_result"
    }
   ],
   "source": [
    "nums.index(2)"
   ]
  },
  {
   "cell_type": "code",
   "execution_count": 71,
   "id": "d54dc8e0-f6f3-4243-a233-bff60564c6b3",
   "metadata": {},
   "outputs": [
    {
     "data": {
      "text/plain": [
       "1"
      ]
     },
     "execution_count": 71,
     "metadata": {},
     "output_type": "execute_result"
    }
   ],
   "source": [
    "nums.index(2)"
   ]
  },
  {
   "cell_type": "code",
   "execution_count": 72,
   "id": "88e0db2a-c0a9-4bff-a4b7-8aba3be8d12c",
   "metadata": {},
   "outputs": [],
   "source": [
    "nums=[1,2,2,3,1,4,2]"
   ]
  },
  {
   "cell_type": "code",
   "execution_count": 73,
   "id": "c0d5845f-94e6-498d-80b5-e3b8b829cddf",
   "metadata": {},
   "outputs": [],
   "source": [
    "nums.sort()"
   ]
  },
  {
   "cell_type": "code",
   "execution_count": 74,
   "id": "2c33907b-84d2-4832-bd1d-18be96e79652",
   "metadata": {},
   "outputs": [
    {
     "data": {
      "text/plain": [
       "[1, 1, 2, 2, 2, 3, 4]"
      ]
     },
     "execution_count": 74,
     "metadata": {},
     "output_type": "execute_result"
    }
   ],
   "source": [
    "nums"
   ]
  },
  {
   "cell_type": "code",
   "execution_count": 75,
   "id": "15a7dd92-73e4-4b14-829b-f33a7e5b0fa2",
   "metadata": {},
   "outputs": [
    {
     "name": "stdout",
     "output_type": "stream",
     "text": [
      "[1, 2, 3, 4]\n"
     ]
    }
   ],
   "source": [
    "unique_list=list(dict.fromkeys(nums))\n",
    "print(unique_list)"
   ]
  },
  {
   "cell_type": "code",
   "execution_count": 76,
   "id": "d1bc90ab-ecc0-438e-8633-6acb9afd5fa0",
   "metadata": {},
   "outputs": [],
   "source": [
    "li=[4,1,3,2]"
   ]
  },
  {
   "cell_type": "code",
   "execution_count": 78,
   "id": "70a56798-d5b5-4e3b-b32f-e15bb2889f56",
   "metadata": {},
   "outputs": [
    {
     "name": "stdout",
     "output_type": "stream",
     "text": [
      "[1, 2, 3, 4]\n"
     ]
    }
   ],
   "source": [
    "li.sort()\n",
    "print(li)"
   ]
  },
  {
   "cell_type": "code",
   "execution_count": 80,
   "id": "4d28fe02-048f-4e57-b339-4086279b692a",
   "metadata": {},
   "outputs": [
    {
     "name": "stdout",
     "output_type": "stream",
     "text": [
      "[4, 3, 2, 1]\n"
     ]
    }
   ],
   "source": [
    "li.sort(reverse=True)\n",
    "print(li)"
   ]
  },
  {
   "cell_type": "code",
   "execution_count": 81,
   "id": "e2da71e8-74d8-418c-b368-acaa1788e129",
   "metadata": {},
   "outputs": [],
   "source": [
    "li3=[10,20,30]"
   ]
  },
  {
   "cell_type": "code",
   "execution_count": 82,
   "id": "2e860b69-84af-4766-bb90-394dd3cd20b9",
   "metadata": {},
   "outputs": [
    {
     "data": {
      "text/plain": [
       "[30, 20, 10]"
      ]
     },
     "execution_count": 82,
     "metadata": {},
     "output_type": "execute_result"
    }
   ],
   "source": [
    "li3[::-1]"
   ]
  },
  {
   "cell_type": "code",
   "execution_count": 85,
   "id": "e8ff48e3-1972-40d8-a728-f24e11ef9977",
   "metadata": {},
   "outputs": [
    {
     "name": "stdout",
     "output_type": "stream",
     "text": [
      "[30, 20, 10]\n"
     ]
    }
   ],
   "source": [
    "li3.reverse()\n",
    "print(li3)"
   ]
  },
  {
   "cell_type": "code",
   "execution_count": 87,
   "id": "9464b5be-a52a-449f-b970-0d3b14341b7c",
   "metadata": {},
   "outputs": [
    {
     "name": "stdout",
     "output_type": "stream",
     "text": [
      "[1, 2, 3, 4]\n",
      "[1, 2, 3, 4]\n"
     ]
    }
   ],
   "source": [
    "#refrence copy problem\n",
    "l1=[1,2,3]\n",
    "l2=l1\n",
    "l2.append(4)\n",
    "print(l1)\n",
    "print(l2)"
   ]
  },
  {
   "cell_type": "code",
   "execution_count": 88,
   "id": "b826c1a8-5ff6-41e8-ac51-6c657c355524",
   "metadata": {},
   "outputs": [
    {
     "name": "stdout",
     "output_type": "stream",
     "text": [
      "[1, 2, 3]\n",
      "[1, 2, 3, 4]\n"
     ]
    }
   ],
   "source": [
    "#shallowing copy\n",
    "l1=[1,2,3]\n",
    "l2=l1.copy()\n",
    "l2.append(4)\n",
    "print(l1)\n",
    "print(l2)"
   ]
  },
  {
   "cell_type": "code",
   "execution_count": null,
   "id": "c0c3c91e-3d79-40c2-8fd2-e9acd45dc3e3",
   "metadata": {},
   "outputs": [],
   "source": []
  }
 ],
 "metadata": {
  "kernelspec": {
   "display_name": "Python [conda env:base] *",
   "language": "python",
   "name": "conda-base-py"
  },
  "language_info": {
   "codemirror_mode": {
    "name": "ipython",
    "version": 3
   },
   "file_extension": ".py",
   "mimetype": "text/x-python",
   "name": "python",
   "nbconvert_exporter": "python",
   "pygments_lexer": "ipython3",
   "version": "3.13.5"
  }
 },
 "nbformat": 4,
 "nbformat_minor": 5
}
