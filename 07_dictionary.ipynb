{
 "cells": [
  {
   "cell_type": "code",
   "execution_count": null,
   "id": "a40ebea4-c92f-4822-b858-eee4669a5d30",
   "metadata": {},
   "outputs": [],
   "source": []
  },
  {
   "cell_type": "code",
   "execution_count": 79,
   "id": "1610977e-ab08-4f96-ac6a-0554b2e0cee9",
   "metadata": {},
   "outputs": [],
   "source": [
    "#dictionary are most important and sets are not that much imp\n",
    "#dictionary are not ordered pair so indexing slicing not possible..in this only key value pairs happens they are unordered pair\n",
    "#item assignment is happend so it is mutable\n",
    "#dictionary and list are the most important...string ,list,dictionary\n",
    "#keys can only have string and int and for values we can add everything this is most powefull"
   ]
  },
  {
   "cell_type": "code",
   "execution_count": 7,
   "id": "c64ca00c-4d53-4dcd-9c99-5f8a7f686f14",
   "metadata": {},
   "outputs": [],
   "source": [
    "#in this one full term is called as key value pair like name is inder this all term is one key or one element\n",
    "d={\"name\":\"inder\",\"age\":24,\"education\":\"b.tech\"}"
   ]
  },
  {
   "cell_type": "code",
   "execution_count": 4,
   "id": "8a35c52b-d8b6-4a76-8359-956a2a201b5a",
   "metadata": {},
   "outputs": [
    {
     "data": {
      "text/plain": [
       "{'name': 'inder', 'age': 24, 'education': 'b.tech'}"
      ]
     },
     "execution_count": 4,
     "metadata": {},
     "output_type": "execute_result"
    }
   ],
   "source": [
    "d"
   ]
  },
  {
   "cell_type": "code",
   "execution_count": 9,
   "id": "70173633-d71f-4e72-8be6-c0af9facd9ae",
   "metadata": {},
   "outputs": [
    {
     "data": {
      "text/plain": [
       "dict_keys(['name', 'age', 'education'])"
      ]
     },
     "execution_count": 9,
     "metadata": {},
     "output_type": "execute_result"
    }
   ],
   "source": [
    "#these are keys\n",
    "d.keys()"
   ]
  },
  {
   "cell_type": "code",
   "execution_count": 6,
   "id": "ffcc497f-eb6c-4ea1-a5a8-58ec390656cd",
   "metadata": {},
   "outputs": [
    {
     "data": {
      "text/plain": [
       "3"
      ]
     },
     "execution_count": 6,
     "metadata": {},
     "output_type": "execute_result"
    }
   ],
   "source": [
    "len(d)"
   ]
  },
  {
   "cell_type": "code",
   "execution_count": 10,
   "id": "3a643976-4224-44d6-8297-360961620c6a",
   "metadata": {},
   "outputs": [
    {
     "data": {
      "text/plain": [
       "dict_values(['inder', 24, 'b.tech'])"
      ]
     },
     "execution_count": 10,
     "metadata": {},
     "output_type": "execute_result"
    }
   ],
   "source": [
    "#these are values\n",
    "d.values()"
   ]
  },
  {
   "cell_type": "code",
   "execution_count": 11,
   "id": "266d23a9-14c3-4ce4-ba31-852348bb8065",
   "metadata": {},
   "outputs": [
    {
     "data": {
      "text/plain": [
       "'inder'"
      ]
     },
     "execution_count": 11,
     "metadata": {},
     "output_type": "execute_result"
    }
   ],
   "source": [
    "d['name']"
   ]
  },
  {
   "cell_type": "code",
   "execution_count": 12,
   "id": "783ea014-95df-44e0-b257-ab337f09c995",
   "metadata": {},
   "outputs": [
    {
     "data": {
      "text/plain": [
       "24"
      ]
     },
     "execution_count": 12,
     "metadata": {},
     "output_type": "execute_result"
    }
   ],
   "source": [
    "d['age']"
   ]
  },
  {
   "cell_type": "code",
   "execution_count": 13,
   "id": "9fef2228-cfd3-4e53-84cb-7ccf11b99193",
   "metadata": {},
   "outputs": [
    {
     "data": {
      "text/plain": [
       "'b.tech'"
      ]
     },
     "execution_count": 13,
     "metadata": {},
     "output_type": "execute_result"
    }
   ],
   "source": [
    "d['education']"
   ]
  },
  {
   "cell_type": "code",
   "execution_count": 15,
   "id": "986e8205-b2f9-41e3-93d2-31a9e0d4d458",
   "metadata": {},
   "outputs": [],
   "source": [
    "W = {\"name\":\"preet\",\"birthday\":\"today\",\"feeling\":\"normal\"}"
   ]
  },
  {
   "cell_type": "code",
   "execution_count": 16,
   "id": "51465d69-9b48-4ce1-a42b-9acccd14e533",
   "metadata": {},
   "outputs": [
    {
     "data": {
      "text/plain": [
       "{'name': 'preet', 'birthday': 'today', 'feeling': 'normal'}"
      ]
     },
     "execution_count": 16,
     "metadata": {},
     "output_type": "execute_result"
    }
   ],
   "source": [
    "W"
   ]
  },
  {
   "cell_type": "code",
   "execution_count": 17,
   "id": "69c1c0d2-efc8-4c61-bfe4-706971f17049",
   "metadata": {},
   "outputs": [
    {
     "data": {
      "text/plain": [
       "dict_keys(['name', 'birthday', 'feeling'])"
      ]
     },
     "execution_count": 17,
     "metadata": {},
     "output_type": "execute_result"
    }
   ],
   "source": [
    "W.keys()"
   ]
  },
  {
   "cell_type": "code",
   "execution_count": 18,
   "id": "acfe1812-7694-495a-8ede-aebd2d2cb535",
   "metadata": {},
   "outputs": [
    {
     "data": {
      "text/plain": [
       "dict_values(['preet', 'today', 'normal'])"
      ]
     },
     "execution_count": 18,
     "metadata": {},
     "output_type": "execute_result"
    }
   ],
   "source": [
    "W.values()"
   ]
  },
  {
   "cell_type": "code",
   "execution_count": 20,
   "id": "b975ace5-d226-4073-ae03-bcebaf38af38",
   "metadata": {},
   "outputs": [
    {
     "data": {
      "text/plain": [
       "'preet'"
      ]
     },
     "execution_count": 20,
     "metadata": {},
     "output_type": "execute_result"
    }
   ],
   "source": [
    "W['name']"
   ]
  },
  {
   "cell_type": "code",
   "execution_count": 21,
   "id": "783b4b7d-acb8-414e-a7d5-e8bf8d92295c",
   "metadata": {},
   "outputs": [
    {
     "data": {
      "text/plain": [
       "'today'"
      ]
     },
     "execution_count": 21,
     "metadata": {},
     "output_type": "execute_result"
    }
   ],
   "source": [
    "W['birthday']"
   ]
  },
  {
   "cell_type": "code",
   "execution_count": 22,
   "id": "ae937141-1b8f-4443-abcd-44caee3be35d",
   "metadata": {},
   "outputs": [
    {
     "data": {
      "text/plain": [
       "'normal'"
      ]
     },
     "execution_count": 22,
     "metadata": {},
     "output_type": "execute_result"
    }
   ],
   "source": [
    "W['feeling']"
   ]
  },
  {
   "cell_type": "code",
   "execution_count": 24,
   "id": "5ce1cbb7-acb2-4267-887e-1f7debe2112b",
   "metadata": {},
   "outputs": [],
   "source": [
    "di = {\"name\":\"jack\",\"age\":\"50\",\"education\":\"b.sc\"}"
   ]
  },
  {
   "cell_type": "code",
   "execution_count": 25,
   "id": "6452e0bb-e359-4f01-8933-681a473b9a62",
   "metadata": {},
   "outputs": [
    {
     "data": {
      "text/plain": [
       "3"
      ]
     },
     "execution_count": 25,
     "metadata": {},
     "output_type": "execute_result"
    }
   ],
   "source": [
    "len(di)"
   ]
  },
  {
   "cell_type": "code",
   "execution_count": 26,
   "id": "78c3710b-d2df-4c15-9de5-c6c0197db617",
   "metadata": {},
   "outputs": [],
   "source": [
    "di[\"wife\"]=\"mona\""
   ]
  },
  {
   "cell_type": "code",
   "execution_count": 27,
   "id": "8df478b2-56bb-4527-b709-07609a1ebc7d",
   "metadata": {},
   "outputs": [
    {
     "data": {
      "text/plain": [
       "{'name': 'jack', 'age': '50', 'education': 'b.sc', 'wife': 'mona'}"
      ]
     },
     "execution_count": 27,
     "metadata": {},
     "output_type": "execute_result"
    }
   ],
   "source": [
    "di"
   ]
  },
  {
   "cell_type": "code",
   "execution_count": 29,
   "id": "4fd85478-b916-44f4-9cb9-c41179d05b8a",
   "metadata": {},
   "outputs": [
    {
     "data": {
      "text/plain": [
       "{1: 'inder', 2: 'abhi', 3: 'akash'}"
      ]
     },
     "execution_count": 29,
     "metadata": {},
     "output_type": "execute_result"
    }
   ],
   "source": [
    "{1:\"inder\",2:\"abhi\",3:\"akash\"}"
   ]
  },
  {
   "cell_type": "code",
   "execution_count": 40,
   "id": "562b7c84-2c20-43cb-9023-2dd6490d9f91",
   "metadata": {},
   "outputs": [],
   "source": [
    "di = {1:{\"name\":\"inder\",\"age\":20},2:{\"name\":\"preet\",\"age\":21},3:{\"name\":\"akash\",\"age\":24,\"dogs\":[\"jerry\",\"tom\",\"tommy\"]}}"
   ]
  },
  {
   "cell_type": "code",
   "execution_count": 33,
   "id": "91b36d17-38ba-45f1-9e56-1d942d9d8a52",
   "metadata": {},
   "outputs": [
    {
     "data": {
      "text/plain": [
       "{'name': 'jack', 'age': '50', 'education': 'b.sc', 'wife': 'mona'}"
      ]
     },
     "execution_count": 33,
     "metadata": {},
     "output_type": "execute_result"
    }
   ],
   "source": [
    "di"
   ]
  },
  {
   "cell_type": "code",
   "execution_count": 38,
   "id": "5736c599-69b8-456b-b126-bca9b7816195",
   "metadata": {},
   "outputs": [],
   "source": [
    "#for changing the value\n",
    "di['name']=\"preet\""
   ]
  },
  {
   "cell_type": "code",
   "execution_count": 39,
   "id": "21c7fb54-3c80-47c8-a3d5-e4a187abf755",
   "metadata": {},
   "outputs": [
    {
     "data": {
      "text/plain": [
       "{'name': 'preet', 'age': '50', 'education': 'b.sc', 'wife': 'mona'}"
      ]
     },
     "execution_count": 39,
     "metadata": {},
     "output_type": "execute_result"
    }
   ],
   "source": [
    "di"
   ]
  },
  {
   "cell_type": "code",
   "execution_count": 41,
   "id": "9b6d5c46-a9f4-4a6c-9e4a-c27ae8051a72",
   "metadata": {},
   "outputs": [
    {
     "data": {
      "text/plain": [
       "{1: {'name': 'inder', 'age': 20},\n",
       " 2: {'name': 'preet', 'age': 21},\n",
       " 3: {'name': 'akash', 'age': 24, 'dogs': ['jerry', 'tom', 'tommy']}}"
      ]
     },
     "execution_count": 41,
     "metadata": {},
     "output_type": "execute_result"
    }
   ],
   "source": [
    "di"
   ]
  },
  {
   "cell_type": "code",
   "execution_count": 42,
   "id": "e956e55b-c5b1-4e2c-b3b0-953c9742e847",
   "metadata": {},
   "outputs": [],
   "source": [
    "#for adding new value\n",
    "di[1]['education']='b.sc'"
   ]
  },
  {
   "cell_type": "code",
   "execution_count": 43,
   "id": "bd5abc19-1599-4a82-a572-6127edf6576e",
   "metadata": {},
   "outputs": [
    {
     "data": {
      "text/plain": [
       "{1: {'name': 'inder', 'age': 20, 'education': 'b.sc'},\n",
       " 2: {'name': 'preet', 'age': 21},\n",
       " 3: {'name': 'akash', 'age': 24, 'dogs': ['jerry', 'tom', 'tommy']}}"
      ]
     },
     "execution_count": 43,
     "metadata": {},
     "output_type": "execute_result"
    }
   ],
   "source": [
    "di"
   ]
  },
  {
   "cell_type": "code",
   "execution_count": 44,
   "id": "d9f6d6d3-f301-48fd-9f8f-32437528af38",
   "metadata": {},
   "outputs": [
    {
     "data": {
      "text/plain": [
       "{'name': 'inder', 'age': 20, 'education': 'b.sc'}"
      ]
     },
     "execution_count": 44,
     "metadata": {},
     "output_type": "execute_result"
    }
   ],
   "source": [
    "di[1]"
   ]
  },
  {
   "cell_type": "code",
   "execution_count": 45,
   "id": "b5297f6b-d262-4544-822c-8c332fc1f43d",
   "metadata": {},
   "outputs": [
    {
     "data": {
      "text/plain": [
       "{'name': 'preet', 'age': 21}"
      ]
     },
     "execution_count": 45,
     "metadata": {},
     "output_type": "execute_result"
    }
   ],
   "source": [
    "di[2]"
   ]
  },
  {
   "cell_type": "code",
   "execution_count": 46,
   "id": "f5bdab77-ff87-4f34-8902-0b456303d772",
   "metadata": {},
   "outputs": [
    {
     "data": {
      "text/plain": [
       "{'name': 'akash', 'age': 24, 'dogs': ['jerry', 'tom', 'tommy']}"
      ]
     },
     "execution_count": 46,
     "metadata": {},
     "output_type": "execute_result"
    }
   ],
   "source": [
    "di[3]"
   ]
  },
  {
   "cell_type": "code",
   "execution_count": 47,
   "id": "9c71c1ac-7184-4971-8574-cb6385e9e05e",
   "metadata": {},
   "outputs": [
    {
     "data": {
      "text/plain": [
       "dict_keys([1, 2, 3])"
      ]
     },
     "execution_count": 47,
     "metadata": {},
     "output_type": "execute_result"
    }
   ],
   "source": [
    "di.keys()"
   ]
  },
  {
   "cell_type": "code",
   "execution_count": 48,
   "id": "a5051d8a-8dac-4248-bb6d-22d4d543c2f7",
   "metadata": {},
   "outputs": [
    {
     "data": {
      "text/plain": [
       "dict_keys(['name', 'age', 'education'])"
      ]
     },
     "execution_count": 48,
     "metadata": {},
     "output_type": "execute_result"
    }
   ],
   "source": [
    "di[1].keys()"
   ]
  },
  {
   "cell_type": "code",
   "execution_count": 49,
   "id": "ba7dd887-8ae1-41c3-adb5-937585473811",
   "metadata": {},
   "outputs": [
    {
     "data": {
      "text/plain": [
       "['jerry', 'tom', 'tommy']"
      ]
     },
     "execution_count": 49,
     "metadata": {},
     "output_type": "execute_result"
    }
   ],
   "source": [
    "di[3]['dogs']"
   ]
  },
  {
   "cell_type": "code",
   "execution_count": 50,
   "id": "6ccb7020-aa4a-4745-af4f-3edd9829246d",
   "metadata": {},
   "outputs": [
    {
     "data": {
      "text/plain": [
       "{'name': 'preet', 'age': 24, 'education': 'b.tech'}"
      ]
     },
     "execution_count": 50,
     "metadata": {},
     "output_type": "execute_result"
    }
   ],
   "source": [
    "d"
   ]
  },
  {
   "cell_type": "code",
   "execution_count": 51,
   "id": "f3af735c-f21e-4506-ae45-94be37553162",
   "metadata": {},
   "outputs": [],
   "source": [
    "d['wife']='aaa'"
   ]
  },
  {
   "cell_type": "code",
   "execution_count": 52,
   "id": "e7a063e3-319d-4bda-890a-2b42066d5c76",
   "metadata": {},
   "outputs": [
    {
     "data": {
      "text/plain": [
       "{'name': 'preet', 'age': 24, 'education': 'b.tech', 'wife': 'aaa'}"
      ]
     },
     "execution_count": 52,
     "metadata": {},
     "output_type": "execute_result"
    }
   ],
   "source": [
    "d"
   ]
  },
  {
   "cell_type": "code",
   "execution_count": 53,
   "id": "761df772-056d-404c-af41-370bd2554064",
   "metadata": {},
   "outputs": [],
   "source": [
    "d['wife']='bbb'"
   ]
  },
  {
   "cell_type": "code",
   "execution_count": 54,
   "id": "7321b19c-d808-4571-a969-063a7a00dbe6",
   "metadata": {},
   "outputs": [
    {
     "data": {
      "text/plain": [
       "{'name': 'preet', 'age': 24, 'education': 'b.tech', 'wife': 'bbb'}"
      ]
     },
     "execution_count": 54,
     "metadata": {},
     "output_type": "execute_result"
    }
   ],
   "source": [
    "d"
   ]
  },
  {
   "cell_type": "code",
   "execution_count": 58,
   "id": "2003dd5c-36ca-49fb-9091-1e5b1eefcd47",
   "metadata": {},
   "outputs": [
    {
     "data": {
      "text/plain": [
       "'tom'"
      ]
     },
     "execution_count": 58,
     "metadata": {},
     "output_type": "execute_result"
    }
   ],
   "source": [
    "#3 is key there is no indexing or slicing happens\n",
    "di[3]['dogs'][1]"
   ]
  },
  {
   "cell_type": "code",
   "execution_count": 59,
   "id": "419b4575-fc38-40b4-8fe8-28497fdaeee7",
   "metadata": {},
   "outputs": [
    {
     "data": {
      "text/plain": [
       "'tom'"
      ]
     },
     "execution_count": 59,
     "metadata": {},
     "output_type": "execute_result"
    }
   ],
   "source": [
    "di[3]['dogs'][1][0:5]"
   ]
  },
  {
   "cell_type": "code",
   "execution_count": 60,
   "id": "9fa721fe-2fb8-4f14-86dc-f4b37ef3b473",
   "metadata": {},
   "outputs": [
    {
     "data": {
      "text/plain": [
       "{'name': 'akash', 'age': 24, 'dogs': ['jerry', 'tom', 'tommy']}"
      ]
     },
     "execution_count": 60,
     "metadata": {},
     "output_type": "execute_result"
    }
   ],
   "source": [
    "di[3]"
   ]
  },
  {
   "cell_type": "code",
   "execution_count": 61,
   "id": "a71513a1-ad0c-4532-96e0-35fb13b0b1d9",
   "metadata": {},
   "outputs": [
    {
     "data": {
      "text/plain": [
       "['jerry', 'tom', 'tommy']"
      ]
     },
     "execution_count": 61,
     "metadata": {},
     "output_type": "execute_result"
    }
   ],
   "source": [
    "di[3]['dogs']"
   ]
  },
  {
   "cell_type": "code",
   "execution_count": 68,
   "id": "53f4ce94-79b2-4e05-837a-aa9527ebaa28",
   "metadata": {},
   "outputs": [
    {
     "data": {
      "text/plain": [
       "'tomm'"
      ]
     },
     "execution_count": 68,
     "metadata": {},
     "output_type": "execute_result"
    }
   ],
   "source": [
    "di[3]['dogs'][2][0:4]"
   ]
  },
  {
   "cell_type": "code",
   "execution_count": 67,
   "id": "b2460bd4-a2e0-4935-8a36-393faec03877",
   "metadata": {},
   "outputs": [
    {
     "data": {
      "text/plain": [
       "dict_items([(1, {'name': 'inder', 'age': 20, 'education': 'b.sc'}), (2, {'name': 'preet', 'age': 21}), (3, {'name': 'akash', 'age': 24, 'dogs': ['jerry', 'tom', 'tommy']})])"
      ]
     },
     "execution_count": 67,
     "metadata": {},
     "output_type": "execute_result"
    }
   ],
   "source": [
    "di.items()"
   ]
  },
  {
   "cell_type": "code",
   "execution_count": 69,
   "id": "abf60cb3-425b-4116-a5d3-02bd7401be09",
   "metadata": {},
   "outputs": [
    {
     "data": {
      "text/plain": [
       "{'name': 'preet', 'age': 21}"
      ]
     },
     "execution_count": 69,
     "metadata": {},
     "output_type": "execute_result"
    }
   ],
   "source": [
    "di.pop(2)"
   ]
  },
  {
   "cell_type": "code",
   "execution_count": 70,
   "id": "033ba626-46a8-4bb4-b8fd-3be7d3d5c75f",
   "metadata": {},
   "outputs": [
    {
     "data": {
      "text/plain": [
       "{1: {'name': 'inder', 'age': 20, 'education': 'b.sc'},\n",
       " 3: {'name': 'akash', 'age': 24, 'dogs': ['jerry', 'tom', 'tommy']}}"
      ]
     },
     "execution_count": 70,
     "metadata": {},
     "output_type": "execute_result"
    }
   ],
   "source": [
    "di"
   ]
  },
  {
   "cell_type": "code",
   "execution_count": 74,
   "id": "80b78437-c357-4896-a590-9b9b0e214281",
   "metadata": {},
   "outputs": [],
   "source": [
    "s = di.pop(1)"
   ]
  },
  {
   "cell_type": "code",
   "execution_count": 75,
   "id": "8b7de7e4-cf7c-4ab9-8d20-bee1163bf9d1",
   "metadata": {},
   "outputs": [
    {
     "data": {
      "text/plain": [
       "{'name': 'inder', 'age': 20, 'education': 'b.sc'}"
      ]
     },
     "execution_count": 75,
     "metadata": {},
     "output_type": "execute_result"
    }
   ],
   "source": [
    "s"
   ]
  },
  {
   "cell_type": "code",
   "execution_count": 76,
   "id": "7a4755e0-de31-4e94-8ea8-1787271cdff3",
   "metadata": {},
   "outputs": [
    {
     "data": {
      "text/plain": [
       "dict_keys(['name', 'age', 'education', 'wife'])"
      ]
     },
     "execution_count": 76,
     "metadata": {},
     "output_type": "execute_result"
    }
   ],
   "source": [
    "d.keys()"
   ]
  },
  {
   "cell_type": "code",
   "execution_count": 78,
   "id": "b5b1daf8-8fb7-486a-b9cf-114ed8fcd5c6",
   "metadata": {},
   "outputs": [
    {
     "data": {
      "text/plain": [
       "['name', 'age', 'education', 'wife']"
      ]
     },
     "execution_count": 78,
     "metadata": {},
     "output_type": "execute_result"
    }
   ],
   "source": [
    "#keys to list\n",
    "list(d.keys())"
   ]
  },
  {
   "cell_type": "code",
   "execution_count": 81,
   "id": "182c26ca-f9bb-4652-bd8c-770a10fdf587",
   "metadata": {},
   "outputs": [],
   "source": [
    "a = {\"name\":\"inder\"}"
   ]
  },
  {
   "cell_type": "code",
   "execution_count": 82,
   "id": "9b8c9ef1-afda-463f-bf39-3745ae022dc6",
   "metadata": {},
   "outputs": [
    {
     "data": {
      "text/plain": [
       "{'name': 'inder'}"
      ]
     },
     "execution_count": 82,
     "metadata": {},
     "output_type": "execute_result"
    }
   ],
   "source": [
    "a"
   ]
  },
  {
   "cell_type": "code",
   "execution_count": 90,
   "id": "8040e3f7-4c5b-489a-a477-eaede965d143",
   "metadata": {},
   "outputs": [],
   "source": [
    "a['age']=\"20\""
   ]
  },
  {
   "cell_type": "code",
   "execution_count": 91,
   "id": "1d9c78b5-ded8-4240-8ab1-c342a86998a4",
   "metadata": {},
   "outputs": [
    {
     "data": {
      "text/plain": [
       "{'name': 'inder',\n",
       " 'age': '20',\n",
       " 'education': 'B.Sc',\n",
       " 'address': 'nangal',\n",
       " 'district': 'rupnagar',\n",
       " 'state': 'punjab'}"
      ]
     },
     "execution_count": 91,
     "metadata": {},
     "output_type": "execute_result"
    }
   ],
   "source": [
    "a"
   ]
  },
  {
   "cell_type": "code",
   "execution_count": 85,
   "id": "18fb5e80-7f79-4c23-b42d-c46249144144",
   "metadata": {},
   "outputs": [],
   "source": [
    "a['education']=\"B.Sc\""
   ]
  },
  {
   "cell_type": "code",
   "execution_count": 86,
   "id": "13079861-e641-4590-923b-68b3a9446195",
   "metadata": {},
   "outputs": [],
   "source": [
    "a['address']=\"nangal\""
   ]
  },
  {
   "cell_type": "code",
   "execution_count": 87,
   "id": "8ea7c2dd-0d33-4f48-b8df-228d01332120",
   "metadata": {},
   "outputs": [],
   "source": [
    "a['district']=\"rupnagar\""
   ]
  },
  {
   "cell_type": "code",
   "execution_count": 88,
   "id": "12a2b74d-3ce5-4755-95fa-2379f1c94d23",
   "metadata": {},
   "outputs": [],
   "source": [
    "a['state']=\"punjab\""
   ]
  },
  {
   "cell_type": "code",
   "execution_count": 92,
   "id": "4dd83b75-0034-4a51-a447-03aeaba45d32",
   "metadata": {},
   "outputs": [
    {
     "data": {
      "text/plain": [
       "{'name': 'inder',\n",
       " 'age': '20',\n",
       " 'education': 'B.Sc',\n",
       " 'address': 'nangal',\n",
       " 'district': 'rupnagar',\n",
       " 'state': 'punjab'}"
      ]
     },
     "execution_count": 92,
     "metadata": {},
     "output_type": "execute_result"
    }
   ],
   "source": [
    "a"
   ]
  },
  {
   "cell_type": "code",
   "execution_count": 93,
   "id": "09bb3413-604b-4e1f-92f7-4e63336077e6",
   "metadata": {},
   "outputs": [],
   "source": [
    "data={\"info\":[12,34.5,\"hello\",{\"key\":[1,2,3,\"world\"]}]}"
   ]
  },
  {
   "cell_type": "code",
   "execution_count": 95,
   "id": "584a8b45-f0ee-4f90-8010-27837e67f108",
   "metadata": {},
   "outputs": [
    {
     "data": {
      "text/plain": [
       "dict_keys(['info'])"
      ]
     },
     "execution_count": 95,
     "metadata": {},
     "output_type": "execute_result"
    }
   ],
   "source": [
    "data.keys()"
   ]
  },
  {
   "cell_type": "code",
   "execution_count": 100,
   "id": "9db8c454-feaf-49bb-a25c-9552dcc178be",
   "metadata": {},
   "outputs": [
    {
     "data": {
      "text/plain": [
       "'hello'"
      ]
     },
     "execution_count": 100,
     "metadata": {},
     "output_type": "execute_result"
    }
   ],
   "source": [
    "#this is of data type list so indexing\n",
    "data[\"info\"][2]"
   ]
  },
  {
   "cell_type": "code",
   "execution_count": 101,
   "id": "35057abb-59ff-469a-adf0-737bbddc5485",
   "metadata": {},
   "outputs": [
    {
     "data": {
      "text/plain": [
       "[1, 2, 3, 'world']"
      ]
     },
     "execution_count": 101,
     "metadata": {},
     "output_type": "execute_result"
    }
   ],
   "source": [
    "data[\"info\"][3]['key']"
   ]
  },
  {
   "cell_type": "code",
   "execution_count": 102,
   "id": "39c6324a-c753-4db3-ba4f-3abe73c4399c",
   "metadata": {},
   "outputs": [
    {
     "data": {
      "text/plain": [
       "'world'"
      ]
     },
     "execution_count": 102,
     "metadata": {},
     "output_type": "execute_result"
    }
   ],
   "source": [
    "data[\"info\"][3]['key'][3]"
   ]
  },
  {
   "cell_type": "code",
   "execution_count": 103,
   "id": "81f041ff-e8b5-4890-81fa-644a60223b3a",
   "metadata": {},
   "outputs": [
    {
     "data": {
      "text/plain": [
       "2"
      ]
     },
     "execution_count": 103,
     "metadata": {},
     "output_type": "execute_result"
    }
   ],
   "source": [
    "data[\"info\"][3]['key'][1]"
   ]
  },
  {
   "cell_type": "code",
   "execution_count": 106,
   "id": "1015b82f-8670-46ef-bd57-6e2d16a32af4",
   "metadata": {},
   "outputs": [
    {
     "data": {
      "text/plain": [
       "[2, 3]"
      ]
     },
     "execution_count": 106,
     "metadata": {},
     "output_type": "execute_result"
    }
   ],
   "source": [
    "data[\"info\"][3]['key'][1:3]"
   ]
  },
  {
   "cell_type": "code",
   "execution_count": 3,
   "id": "d601eb53-d41f-4974-babb-521e50cb472a",
   "metadata": {},
   "outputs": [],
   "source": [
    "#complex nesting\n",
    "nested={\n",
    "    \"a\":[10,20,{\"b\":\"python\"}],\n",
    "    \"c\":{\"d\":[\"abc\",{\"e\":[1.1,2.2,3.3]}]\n",
    "        }\n",
    "}"
   ]
  },
  {
   "cell_type": "code",
   "execution_count": 28,
   "id": "12b9e1a4-2403-4fa2-ac2d-fd70be727211",
   "metadata": {},
   "outputs": [
    {
     "data": {
      "text/plain": [
       "'python'"
      ]
     },
     "execution_count": 28,
     "metadata": {},
     "output_type": "execute_result"
    }
   ],
   "source": [
    "nested[\"a\"][2][\"b\"]"
   ]
  },
  {
   "cell_type": "code",
   "execution_count": 30,
   "id": "0e7ce40f-9d45-42e2-b23a-1fad15c67f5b",
   "metadata": {},
   "outputs": [
    {
     "data": {
      "text/plain": [
       "2.2"
      ]
     },
     "execution_count": 30,
     "metadata": {},
     "output_type": "execute_result"
    }
   ],
   "source": [
    "nested[\"c\"][\"d\"][1][\"e\"][1]"
   ]
  },
  {
   "cell_type": "code",
   "execution_count": 35,
   "id": "645283b0-18a8-435f-9beb-2f492150557b",
   "metadata": {},
   "outputs": [
    {
     "data": {
      "text/plain": [
       "'ab'"
      ]
     },
     "execution_count": 35,
     "metadata": {},
     "output_type": "execute_result"
    }
   ],
   "source": [
    "nested[\"c\"][\"d\"][0][0:2]"
   ]
  },
  {
   "cell_type": "code",
   "execution_count": 36,
   "id": "a96345fd-f4d4-4d71-b23d-b99700db15b1",
   "metadata": {},
   "outputs": [
    {
     "data": {
      "text/plain": [
       "3.3"
      ]
     },
     "execution_count": 36,
     "metadata": {},
     "output_type": "execute_result"
    }
   ],
   "source": [
    "nested[\"c\"][\"d\"][1][\"e\"][2]"
   ]
  },
  {
   "cell_type": "code",
   "execution_count": 59,
   "id": "37629e95-fb86-4182-852c-a3102aefe85f",
   "metadata": {},
   "outputs": [],
   "source": [
    "#complex_data\n",
    "complex_data=[\n",
    "    {\n",
    "        \"name\":\"inder\",\n",
    "        \"scores\":[95,88,{\"math\":90,\"science\":[91.5,92.0]}]\n",
    "    },\n",
    "    {\"name\":\"bob\",\n",
    "    \"scores\":[75,{\"math\":[80,82]},\"done\"]}\n",
    "]"
   ]
  },
  {
   "cell_type": "code",
   "execution_count": 57,
   "id": "75b9b44f-c1cf-47df-b10c-e64970b9bcd4",
   "metadata": {},
   "outputs": [
    {
     "data": {
      "text/plain": [
       "92.0"
      ]
     },
     "execution_count": 57,
     "metadata": {},
     "output_type": "execute_result"
    }
   ],
   "source": [
    "complex_data[0][\"scores\"][2][\"science\"][1]"
   ]
  },
  {
   "cell_type": "code",
   "execution_count": 63,
   "id": "0f48fa11-7110-4991-920b-7eb243a0a7fc",
   "metadata": {},
   "outputs": [
    {
     "data": {
      "text/plain": [
       "82"
      ]
     },
     "execution_count": 63,
     "metadata": {},
     "output_type": "execute_result"
    }
   ],
   "source": [
    "complex_data[1][\"scores\"][1][\"math\"][1]"
   ]
  },
  {
   "cell_type": "code",
   "execution_count": 66,
   "id": "380dd88a-2b30-4b7e-b126-1ba33fcd22e2",
   "metadata": {},
   "outputs": [
    {
     "data": {
      "text/plain": [
       "'done'"
      ]
     },
     "execution_count": 66,
     "metadata": {},
     "output_type": "execute_result"
    }
   ],
   "source": [
    "complex_data[1][\"scores\"][2]"
   ]
  },
  {
   "cell_type": "code",
   "execution_count": 69,
   "id": "41b145f5-4dc3-4d9c-8606-1f59282a2df4",
   "metadata": {},
   "outputs": [
    {
     "data": {
      "text/plain": [
       "[95, 88]"
      ]
     },
     "execution_count": 69,
     "metadata": {},
     "output_type": "execute_result"
    }
   ],
   "source": [
    "complex_data[0][\"scores\"][0:2]"
   ]
  },
  {
   "cell_type": "code",
   "execution_count": 72,
   "id": "30827c59-6530-45d3-a98a-240360a8d146",
   "metadata": {},
   "outputs": [],
   "source": [
    "structure={\n",
    "    \"x\":[\n",
    "        {\"y\":[100,200,{\"z\":\"deep\"}]},\n",
    "        {\"y\":[300,{\"z\":[\"not\",\"so\",\"deep\"]}]}\n",
    "    ]\n",
    "}"
   ]
  },
  {
   "cell_type": "code",
   "execution_count": 78,
   "id": "ec88306f-81c3-495c-a7cd-986173c24d74",
   "metadata": {},
   "outputs": [
    {
     "data": {
      "text/plain": [
       "'deep'"
      ]
     },
     "execution_count": 78,
     "metadata": {},
     "output_type": "execute_result"
    }
   ],
   "source": [
    "structure[\"x\"][0][\"y\"][2][\"z\"]"
   ]
  },
  {
   "cell_type": "code",
   "execution_count": 84,
   "id": "51cc13af-7824-41bb-8937-41057f4f5b2c",
   "metadata": {},
   "outputs": [
    {
     "data": {
      "text/plain": [
       "'so'"
      ]
     },
     "execution_count": 84,
     "metadata": {},
     "output_type": "execute_result"
    }
   ],
   "source": [
    "structure[\"x\"][1][\"y\"][1][\"z\"][1]"
   ]
  },
  {
   "cell_type": "code",
   "execution_count": 87,
   "id": "0091cf5a-6dc1-4903-9f96-201b7c4e7a73",
   "metadata": {},
   "outputs": [
    {
     "data": {
      "text/plain": [
       "['so', 'deep']"
      ]
     },
     "execution_count": 87,
     "metadata": {},
     "output_type": "execute_result"
    }
   ],
   "source": [
    "structure[\"x\"][1][\"y\"][1][\"z\"][1:]"
   ]
  },
  {
   "cell_type": "code",
   "execution_count": 88,
   "id": "36f362be-23e9-4970-808a-7bab5c1ed7e6",
   "metadata": {},
   "outputs": [
    {
     "data": {
      "text/plain": [
       "200"
      ]
     },
     "execution_count": 88,
     "metadata": {},
     "output_type": "execute_result"
    }
   ],
   "source": [
    "structure[\"x\"][0][\"y\"][1]"
   ]
  },
  {
   "cell_type": "code",
   "execution_count": 89,
   "id": "108fd0de-d9d6-42bf-969a-3638580ede59",
   "metadata": {},
   "outputs": [],
   "source": [
    "#all in one"
   ]
  },
  {
   "cell_type": "code",
   "execution_count": 90,
   "id": "c83263df-0be5-44cb-944c-072516455351",
   "metadata": {},
   "outputs": [],
   "source": [
    "data={\n",
    "    \"alpha\":[{\"beta\":\"python\",\n",
    "             \"gamma\":[123,456.78,{\"delta\":[\"a\",\"b\",{\"epsilon\":\"final\"}]}]},\n",
    "            {\n",
    "                \"beta\":\"javascript\",\n",
    "                \"gamma\":[999,888.88]\n",
    "            }]\n",
    "}"
   ]
  },
  {
   "cell_type": "code",
   "execution_count": 93,
   "id": "d2cc95dc-e22c-439c-adc9-1cbda57eb923",
   "metadata": {},
   "outputs": [
    {
     "data": {
      "text/plain": [
       "'python'"
      ]
     },
     "execution_count": 93,
     "metadata": {},
     "output_type": "execute_result"
    }
   ],
   "source": [
    "data[\"alpha\"][0][\"beta\"]"
   ]
  },
  {
   "cell_type": "code",
   "execution_count": 97,
   "id": "c78ec8fd-21ba-4f2d-aa5c-4d1cbc491567",
   "metadata": {},
   "outputs": [
    {
     "data": {
      "text/plain": [
       "456.78"
      ]
     },
     "execution_count": 97,
     "metadata": {},
     "output_type": "execute_result"
    }
   ],
   "source": [
    "data[\"alpha\"][0][\"gamma\"][1]"
   ]
  },
  {
   "cell_type": "code",
   "execution_count": 102,
   "id": "dde4e232-180f-4046-946b-b291f0619791",
   "metadata": {},
   "outputs": [
    {
     "data": {
      "text/plain": [
       "'final'"
      ]
     },
     "execution_count": 102,
     "metadata": {},
     "output_type": "execute_result"
    }
   ],
   "source": [
    "data[\"alpha\"][0][\"gamma\"][2][\"delta\"][2][\"epsilon\"]"
   ]
  },
  {
   "cell_type": "code",
   "execution_count": 106,
   "id": "773b1c30-0d5c-4ed9-8377-3718f7983e29",
   "metadata": {},
   "outputs": [
    {
     "data": {
      "text/plain": [
       "'script'"
      ]
     },
     "execution_count": 106,
     "metadata": {},
     "output_type": "execute_result"
    }
   ],
   "source": [
    "data[\"alpha\"][1][\"beta\"][4:]"
   ]
  },
  {
   "cell_type": "code",
   "execution_count": 110,
   "id": "a0ad0ced-afd7-4716-a191-0d89c30574f6",
   "metadata": {},
   "outputs": [
    {
     "data": {
      "text/plain": [
       "'b'"
      ]
     },
     "execution_count": 110,
     "metadata": {},
     "output_type": "execute_result"
    }
   ],
   "source": [
    "data[\"alpha\"][0][\"gamma\"][2][\"delta\"][1]"
   ]
  },
  {
   "cell_type": "code",
   "execution_count": null,
   "id": "f98419d5-f08e-4ce1-b36d-2d085bebbeda",
   "metadata": {},
   "outputs": [],
   "source": []
  }
 ],
 "metadata": {
  "kernelspec": {
   "display_name": "Python [conda env:base] *",
   "language": "python",
   "name": "conda-base-py"
  },
  "language_info": {
   "codemirror_mode": {
    "name": "ipython",
    "version": 3
   },
   "file_extension": ".py",
   "mimetype": "text/x-python",
   "name": "python",
   "nbconvert_exporter": "python",
   "pygments_lexer": "ipython3",
   "version": "3.13.5"
  }
 },
 "nbformat": 4,
 "nbformat_minor": 5
}
