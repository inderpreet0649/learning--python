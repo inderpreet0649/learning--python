{
 "cells": [
  {
   "cell_type": "code",
   "execution_count": 49,
   "id": "1689b5a6-5963-47df-a9f3-631e7d79500b",
   "metadata": {},
   "outputs": [],
   "source": [
    "#class -- defining and binding variables and functions\n",
    "#function and variable can be used and changed by anyone"
   ]
  },
  {
   "cell_type": "code",
   "execution_count": 33,
   "id": "9f99eb44-73c8-4d9e-a0d6-34db07f29ec1",
   "metadata": {},
   "outputs": [],
   "source": [
    "#variables --> attributes\n",
    "#function--> methods"
   ]
  },
  {
   "cell_type": "code",
   "execution_count": 38,
   "id": "189b0973-1a84-490f-8f3f-77064178e991",
   "metadata": {},
   "outputs": [],
   "source": [
    "#variables--classattributes--objectattributes\n",
    "#functions--classmethods--objectmethods"
   ]
  },
  {
   "cell_type": "code",
   "execution_count": 2,
   "id": "d4789111-96d3-4b59-9e33-23ee6748ef76",
   "metadata": {},
   "outputs": [],
   "source": [
    " wallet = 6000"
   ]
  },
  {
   "cell_type": "code",
   "execution_count": 3,
   "id": "5e360c9f-51ee-4e81-8619-c4e53f715249",
   "metadata": {},
   "outputs": [
    {
     "data": {
      "text/plain": [
       "6000"
      ]
     },
     "execution_count": 3,
     "metadata": {},
     "output_type": "execute_result"
    }
   ],
   "source": [
    "wallet"
   ]
  },
  {
   "cell_type": "code",
   "execution_count": 4,
   "id": "baae3e78-8caa-4ab1-b6eb-54511fc6f610",
   "metadata": {},
   "outputs": [],
   "source": [
    "wallet = 0"
   ]
  },
  {
   "cell_type": "code",
   "execution_count": 5,
   "id": "fcbce13e-f428-402e-aa4a-870485a82c7d",
   "metadata": {},
   "outputs": [
    {
     "data": {
      "text/plain": [
       "0"
      ]
     },
     "execution_count": 5,
     "metadata": {},
     "output_type": "execute_result"
    }
   ],
   "source": [
    "wallet"
   ]
  },
  {
   "cell_type": "code",
   "execution_count": 6,
   "id": "8546245a-302c-448c-bb3c-3128c30db626",
   "metadata": {},
   "outputs": [],
   "source": [
    "def makeCoffee():\n",
    "    print('making coffee')"
   ]
  },
  {
   "cell_type": "code",
   "execution_count": 7,
   "id": "92a7ac62-ad20-44b5-9ebf-ec40684d6a0d",
   "metadata": {},
   "outputs": [
    {
     "name": "stdout",
     "output_type": "stream",
     "text": [
      "making coffee\n"
     ]
    }
   ],
   "source": [
    "makeCoffee()"
   ]
  },
  {
   "cell_type": "code",
   "execution_count": 8,
   "id": "a5b45526-56ed-4041-bc01-8faa166dfe0c",
   "metadata": {},
   "outputs": [],
   "source": [
    "def eat():\n",
    "    print('eating pasta')"
   ]
  },
  {
   "cell_type": "code",
   "execution_count": 9,
   "id": "672e5a4f-8e7f-401f-9800-24e2813853b1",
   "metadata": {},
   "outputs": [
    {
     "name": "stdout",
     "output_type": "stream",
     "text": [
      "eating pasta\n"
     ]
    }
   ],
   "source": [
    "eat()"
   ]
  },
  {
   "cell_type": "code",
   "execution_count": 10,
   "id": "83c67fa0-c431-4032-a445-6137e2cd4255",
   "metadata": {},
   "outputs": [],
   "source": [
    "def fuelUp(a=None):\n",
    "    print('filling...')\n",
    "    print(\"full tank\")\n",
    "    print(\"bye\")"
   ]
  },
  {
   "cell_type": "code",
   "execution_count": 11,
   "id": "4e9777cf-8525-4023-9966-6df4b623a062",
   "metadata": {},
   "outputs": [
    {
     "name": "stdout",
     "output_type": "stream",
     "text": [
      "eating pasta\n"
     ]
    }
   ],
   "source": [
    "eat()"
   ]
  },
  {
   "cell_type": "code",
   "execution_count": null,
   "id": "43eef16c-ef81-4a69-ac2c-29c491fb5073",
   "metadata": {},
   "outputs": [],
   "source": []
  },
  {
   "cell_type": "code",
   "execution_count": 12,
   "id": "a5e7e02f-5ee1-42b2-b958-6f3e767397a2",
   "metadata": {},
   "outputs": [
    {
     "name": "stdout",
     "output_type": "stream",
     "text": [
      "filling...\n",
      "full tank\n",
      "bye\n"
     ]
    }
   ],
   "source": [
    "fuelUp()"
   ]
  },
  {
   "cell_type": "code",
   "execution_count": 51,
   "id": "fe1ec632-6ede-40b2-af4f-a54fc1cf0295",
   "metadata": {},
   "outputs": [],
   "source": [
    "#try ki koi v class ka pehla letter capital ho aur uske camel casing hi use kro\n",
    "#category = functions,variables\n",
    "class Car():\n",
    "    tyre = 4\n",
    "\n",
    "    def move():\n",
    "        print(\"i am moving forward\")"
   ]
  },
  {
   "cell_type": "code",
   "execution_count": 52,
   "id": "85e5166d-afdb-4c17-a5ad-1995707524bf",
   "metadata": {},
   "outputs": [
    {
     "data": {
      "text/plain": [
       "4"
      ]
     },
     "execution_count": 52,
     "metadata": {},
     "output_type": "execute_result"
    }
   ],
   "source": [
    "#variables there is no() after variables\n",
    "Car.tyre"
   ]
  },
  {
   "cell_type": "code",
   "execution_count": 53,
   "id": "f880c9ff-14ff-4416-9ba8-7c112a70d5d4",
   "metadata": {},
   "outputs": [
    {
     "name": "stdout",
     "output_type": "stream",
     "text": [
      "i am moving forward\n"
     ]
    }
   ],
   "source": [
    "#functions - there is () after function\n",
    "Car.move()"
   ]
  },
  {
   "cell_type": "code",
   "execution_count": 16,
   "id": "3a3a6013-dcf3-469c-b22e-6547eb8f56a1",
   "metadata": {},
   "outputs": [],
   "source": [
    "class human():\n",
    "    Legs = 2\n",
    "\n",
    "    def eatUp():\n",
    "        print(\"i am eating\")\n",
    "        print(\"now i am full\")\n",
    "        print(\"thank you\")"
   ]
  },
  {
   "cell_type": "code",
   "execution_count": 54,
   "id": "d37a825f-6f89-4058-945e-a667c32e469b",
   "metadata": {},
   "outputs": [
    {
     "data": {
      "text/plain": [
       "2"
      ]
     },
     "execution_count": 54,
     "metadata": {},
     "output_type": "execute_result"
    }
   ],
   "source": [
    "#this is variables so no bracket \n",
    "#here we only discuss about the category we don't define the particularly human or car\n",
    "human.Legs\n"
   ]
  },
  {
   "cell_type": "code",
   "execution_count": 18,
   "id": "a7fb92ce-ff74-4ced-9cb4-9c41cacd03f1",
   "metadata": {},
   "outputs": [
    {
     "name": "stdout",
     "output_type": "stream",
     "text": [
      "i am eating\n",
      "now i am full\n",
      "thank you\n"
     ]
    }
   ],
   "source": [
    "#this is function so with bracket\n",
    "human.eatUp()"
   ]
  },
  {
   "cell_type": "code",
   "execution_count": 19,
   "id": "9d0ac786-d849-4452-b7a1-4ebf4728ed12",
   "metadata": {},
   "outputs": [],
   "source": [
    "#class -- defining and binding variables and functions"
   ]
  },
  {
   "cell_type": "code",
   "execution_count": 20,
   "id": "b85f39de-2289-45aa-8ad2-e609200fb116",
   "metadata": {},
   "outputs": [],
   "source": [
    "gadi = Car()"
   ]
  },
  {
   "cell_type": "code",
   "execution_count": 21,
   "id": "65e290eb-4799-4ef7-959e-59e0c1eff688",
   "metadata": {},
   "outputs": [],
   "source": [
    "gadi2 = Car()"
   ]
  },
  {
   "cell_type": "code",
   "execution_count": 22,
   "id": "8e707cc5-d804-4d80-8962-7e4a4f454468",
   "metadata": {},
   "outputs": [
    {
     "data": {
      "text/plain": [
       "4"
      ]
     },
     "execution_count": 22,
     "metadata": {},
     "output_type": "execute_result"
    }
   ],
   "source": [
    "gadi.tyre"
   ]
  },
  {
   "cell_type": "code",
   "execution_count": 23,
   "id": "0da77bce-8cf0-4da2-9d9f-726692b0a6ae",
   "metadata": {},
   "outputs": [
    {
     "data": {
      "text/plain": [
       "4"
      ]
     },
     "execution_count": 23,
     "metadata": {},
     "output_type": "execute_result"
    }
   ],
   "source": [
    "gadi2.tyre"
   ]
  },
  {
   "cell_type": "code",
   "execution_count": 24,
   "id": "96886f80-28ba-4f6a-931d-50a8e2989982",
   "metadata": {},
   "outputs": [],
   "source": [
    "gadi.tyre = 3"
   ]
  },
  {
   "cell_type": "raw",
   "id": "9d1161d3-54d1-4957-acb6-988f829af6a5",
   "metadata": {},
   "source": []
  },
  {
   "cell_type": "code",
   "execution_count": 25,
   "id": "3aec9cdf-5410-47e6-bec2-7b8a025de15d",
   "metadata": {},
   "outputs": [
    {
     "data": {
      "text/plain": [
       "3"
      ]
     },
     "execution_count": 25,
     "metadata": {},
     "output_type": "execute_result"
    }
   ],
   "source": [
    "gadi.tyre"
   ]
  },
  {
   "cell_type": "code",
   "execution_count": 26,
   "id": "dc895618-a052-4f0f-95f3-8ab066e945de",
   "metadata": {},
   "outputs": [
    {
     "data": {
      "text/plain": [
       "4"
      ]
     },
     "execution_count": 26,
     "metadata": {},
     "output_type": "execute_result"
    }
   ],
   "source": [
    "gadi2.tyre"
   ]
  },
  {
   "cell_type": "code",
   "execution_count": 27,
   "id": "897c4b38-9edc-4e60-b066-e72bbd2b0193",
   "metadata": {},
   "outputs": [
    {
     "name": "stdout",
     "output_type": "stream",
     "text": [
      "i am moving forward\n"
     ]
    }
   ],
   "source": [
    "#class too chal rhi hai\n",
    "Car.move()"
   ]
  },
  {
   "cell_type": "code",
   "execution_count": 28,
   "id": "dc9dc178-b99e-4c08-9164-a8d953e5ce67",
   "metadata": {},
   "outputs": [
    {
     "ename": "TypeError",
     "evalue": "Car.move() takes 0 positional arguments but 1 was given",
     "output_type": "error",
     "traceback": [
      "\u001b[1;31m---------------------------------------------------------------------------\u001b[0m",
      "\u001b[1;31mTypeError\u001b[0m                                 Traceback (most recent call last)",
      "Cell \u001b[1;32mIn[28], line 2\u001b[0m\n\u001b[0;32m      1\u001b[0m \u001b[38;5;66;03m#but for object of class is not run\u001b[39;00m\n\u001b[1;32m----> 2\u001b[0m gadi\u001b[38;5;241m.\u001b[39mmove()\n",
      "\u001b[1;31mTypeError\u001b[0m: Car.move() takes 0 positional arguments but 1 was given"
     ]
    }
   ],
   "source": [
    "#but for object of class is not run\n",
    "gadi.move()"
   ]
  },
  {
   "cell_type": "code",
   "execution_count": 57,
   "id": "a97e3061-d0c4-4c03-860d-40b017a11abc",
   "metadata": {},
   "outputs": [],
   "source": [
    "\n",
    "class Car():\n",
    "    tyre = 4\n",
    "    def move():\n",
    "        print(\"moving forward\")"
   ]
  },
  {
   "cell_type": "code",
   "execution_count": 30,
   "id": "d3c3fed5-1ce1-42d4-92bd-b6b7461e1954",
   "metadata": {},
   "outputs": [
    {
     "name": "stdout",
     "output_type": "stream",
     "text": [
      "moving forward\n"
     ]
    }
   ],
   "source": [
    "Car.move()"
   ]
  },
  {
   "cell_type": "code",
   "execution_count": 31,
   "id": "9868c1d2-2b55-44cb-a576-2d8bc8d6d1bb",
   "metadata": {},
   "outputs": [],
   "source": [
    "gadi = Car()"
   ]
  },
  {
   "cell_type": "code",
   "execution_count": 32,
   "id": "aec132a3-bec7-464e-b85b-e422e20bbcb3",
   "metadata": {},
   "outputs": [
    {
     "data": {
      "text/plain": [
       "4"
      ]
     },
     "execution_count": 32,
     "metadata": {},
     "output_type": "execute_result"
    }
   ],
   "source": [
    "gadi.tyre"
   ]
  },
  {
   "cell_type": "code",
   "execution_count": 33,
   "id": "759bf911-b55a-4d18-912b-66557b501c02",
   "metadata": {},
   "outputs": [
    {
     "ename": "TypeError",
     "evalue": "Car.move() takes 0 positional arguments but 1 was given",
     "output_type": "error",
     "traceback": [
      "\u001b[1;31m---------------------------------------------------------------------------\u001b[0m",
      "\u001b[1;31mTypeError\u001b[0m                                 Traceback (most recent call last)",
      "Cell \u001b[1;32mIn[33], line 1\u001b[0m\n\u001b[1;32m----> 1\u001b[0m gadi\u001b[38;5;241m.\u001b[39mmove()\n",
      "\u001b[1;31mTypeError\u001b[0m: Car.move() takes 0 positional arguments but 1 was given"
     ]
    }
   ],
   "source": [
    "gadi.move()"
   ]
  },
  {
   "cell_type": "code",
   "execution_count": 34,
   "id": "afe15b9d-83f1-4be8-ba1b-fbb399ee3d34",
   "metadata": {},
   "outputs": [],
   "source": [
    "class Car():\n",
    "    tyre = 4\n",
    "    def move(gadi2):\n",
    "        print(\"moving forward\")"
   ]
  },
  {
   "cell_type": "code",
   "execution_count": 35,
   "id": "1dbd5401-889c-4f97-981b-9f2dbc720bf0",
   "metadata": {},
   "outputs": [],
   "source": [
    "gadi2 = Car()"
   ]
  },
  {
   "cell_type": "code",
   "execution_count": 36,
   "id": "666a9257-f008-45fe-b0ed-adc6bb3bf995",
   "metadata": {},
   "outputs": [
    {
     "name": "stdout",
     "output_type": "stream",
     "text": [
      "moving forward\n"
     ]
    }
   ],
   "source": [
    "gadi2.move()"
   ]
  },
  {
   "cell_type": "code",
   "execution_count": 56,
   "id": "cfdd410a-f3d0-4096-aca2-5acada288918",
   "metadata": {},
   "outputs": [],
   "source": [
    "#self = to move the create item or object\n",
    "#when we use function we should write self must\n",
    "class Car():\n",
    "    tyre = 4\n",
    "    def move(self):\n",
    "        print(\"moving forward\")"
   ]
  },
  {
   "cell_type": "code",
   "execution_count": 58,
   "id": "704eaa0e-25e4-4b78-a108-47607c30c68e",
   "metadata": {},
   "outputs": [
    {
     "name": "stdout",
     "output_type": "stream",
     "text": [
      "moving forward\n"
     ]
    }
   ],
   "source": [
    "#now object can move but class not\n",
    "gadi2.move()"
   ]
  },
  {
   "cell_type": "code",
   "execution_count": 59,
   "id": "ff50354f-7203-4f17-b1f2-851728137082",
   "metadata": {},
   "outputs": [
    {
     "name": "stdout",
     "output_type": "stream",
     "text": [
      "moving forward\n"
     ]
    }
   ],
   "source": [
    "gadi2.move()"
   ]
  },
  {
   "cell_type": "code",
   "execution_count": 60,
   "id": "b0680ac0-e11b-4e9e-b877-baa403102155",
   "metadata": {},
   "outputs": [
    {
     "name": "stdout",
     "output_type": "stream",
     "text": [
      "moving forward\n"
     ]
    }
   ],
   "source": [
    "#now we can't move the class\n",
    "Car.move()"
   ]
  },
  {
   "cell_type": "code",
   "execution_count": null,
   "id": "6e9ddfd5-39cb-4b9a-874e-f50b5c50ad1b",
   "metadata": {},
   "outputs": [],
   "source": []
  },
  {
   "cell_type": "code",
   "execution_count": 45,
   "id": "f55c3b1c-4c01-4a80-ba40-ad4fc90b0c46",
   "metadata": {},
   "outputs": [],
   "source": [
    "gadi.name = \"nano\""
   ]
  },
  {
   "cell_type": "code",
   "execution_count": 46,
   "id": "fba6458b-1dda-4153-80b2-36a2c24748ae",
   "metadata": {},
   "outputs": [],
   "source": [
    "gadi2.name=\"alto\""
   ]
  },
  {
   "cell_type": "code",
   "execution_count": 47,
   "id": "502d9956-2a00-4092-ba2d-e9e29f28a77b",
   "metadata": {},
   "outputs": [
    {
     "data": {
      "text/plain": [
       "'nano'"
      ]
     },
     "execution_count": 47,
     "metadata": {},
     "output_type": "execute_result"
    }
   ],
   "source": [
    "gadi.name"
   ]
  },
  {
   "cell_type": "code",
   "execution_count": 48,
   "id": "3aa9bc19-fedf-4b10-95f4-fff61209382f",
   "metadata": {},
   "outputs": [
    {
     "data": {
      "text/plain": [
       "'alto'"
      ]
     },
     "execution_count": 48,
     "metadata": {},
     "output_type": "execute_result"
    }
   ],
   "source": [
    "gadi2.name"
   ]
  },
  {
   "cell_type": "code",
   "execution_count": 61,
   "id": "e894df04-c2ba-48d1-a106-6ef82d6378b5",
   "metadata": {},
   "outputs": [],
   "source": [
    "class Car():\n",
    "    tyre=4\n",
    "    def __init__(self):#init = initialize(special function after __ and they run automatically) we can see them by write def__ and click on tab\n",
    "        self.name=\"nano\"\n",
    "    def move():\n",
    "        print(\"moving forward\")"
   ]
  },
  {
   "cell_type": "code",
   "execution_count": 62,
   "id": "b3ea6861-5883-4382-8346-a69ec3073c7a",
   "metadata": {},
   "outputs": [],
   "source": [
    "gadi1 = Car()"
   ]
  },
  {
   "cell_type": "code",
   "execution_count": 63,
   "id": "03e7ad63-b0f3-416c-9aec-8631bd442919",
   "metadata": {},
   "outputs": [
    {
     "data": {
      "text/plain": [
       "'nano'"
      ]
     },
     "execution_count": 63,
     "metadata": {},
     "output_type": "execute_result"
    }
   ],
   "source": [
    "gadi1.name"
   ]
  },
  {
   "cell_type": "code",
   "execution_count": 64,
   "id": "4ef0b5d8-5062-4f6a-9494-76f922f49aac",
   "metadata": {},
   "outputs": [],
   "source": [
    "gadi2=Car()"
   ]
  },
  {
   "cell_type": "code",
   "execution_count": 65,
   "id": "0e0dff1a-9456-4839-937b-e18c450fe798",
   "metadata": {},
   "outputs": [
    {
     "data": {
      "text/plain": [
       "'nano'"
      ]
     },
     "execution_count": 65,
     "metadata": {},
     "output_type": "execute_result"
    }
   ],
   "source": [
    "gadi2.name"
   ]
  },
  {
   "cell_type": "code",
   "execution_count": 67,
   "id": "82b500ff-a6b7-4288-8b2c-8dcd4178b556",
   "metadata": {},
   "outputs": [],
   "source": [
    "class Car():\n",
    "    #variable belonging to whole class\n",
    "    tyre=4\n",
    "    def __init__(self,modelName):\n",
    "        #variable of the object\n",
    "        self.name=modelName\n",
    "    def move():\n",
    "        print(\"moving forward\")"
   ]
  },
  {
   "cell_type": "code",
   "execution_count": 68,
   "id": "568e899a-8ce0-484a-9e00-c1e543587bd4",
   "metadata": {},
   "outputs": [],
   "source": [
    "gadi1=Car('nano')"
   ]
  },
  {
   "cell_type": "code",
   "execution_count": 69,
   "id": "f0a7ac6e-0421-43a6-8d30-bab024058bd2",
   "metadata": {},
   "outputs": [
    {
     "data": {
      "text/plain": [
       "'nano'"
      ]
     },
     "execution_count": 69,
     "metadata": {},
     "output_type": "execute_result"
    }
   ],
   "source": [
    "gadi1.name"
   ]
  },
  {
   "cell_type": "code",
   "execution_count": 70,
   "id": "2180f7db-ea38-43fb-86ff-52290c901d32",
   "metadata": {},
   "outputs": [],
   "source": [
    "gadi2=Car(\"alto\")"
   ]
  },
  {
   "cell_type": "code",
   "execution_count": 71,
   "id": "3ca3d228-5060-420c-9a19-61a241b3f676",
   "metadata": {},
   "outputs": [
    {
     "data": {
      "text/plain": [
       "'alto'"
      ]
     },
     "execution_count": 71,
     "metadata": {},
     "output_type": "execute_result"
    }
   ],
   "source": [
    "gadi2.name"
   ]
  },
  {
   "cell_type": "code",
   "execution_count": 78,
   "id": "6afbc9f9-2b75-475d-bb4f-e0c50f6b74ba",
   "metadata": {},
   "outputs": [],
   "source": [
    "class Car():\n",
    "    #variable belonging to whole class\n",
    "    tyre=4\n",
    "    def __init__(self,model,year=None):#automatically runs when object is created\n",
    "        self.model=model\n",
    "        self.year=None\n",
    "    def introduction(self):\n",
    "        print(f\"hi i am {self.model} and i was made in {self.year}\")\n",
    "        def move():\n",
    "            print(\"moving forward\")"
   ]
  },
  {
   "cell_type": "code",
   "execution_count": 79,
   "id": "3897b7f5-5276-4f28-9c6e-0a18067ce550",
   "metadata": {},
   "outputs": [],
   "source": [
    "gadi1=Car(\"nano\",2005)"
   ]
  },
  {
   "cell_type": "code",
   "execution_count": 80,
   "id": "9b87630d-6537-4274-97e2-2bbe1a22dfd8",
   "metadata": {},
   "outputs": [
    {
     "name": "stdout",
     "output_type": "stream",
     "text": [
      "hi i am nano and i was made in None\n"
     ]
    }
   ],
   "source": [
    "gadi1.introduction()"
   ]
  },
  {
   "cell_type": "code",
   "execution_count": 81,
   "id": "8f24d00c-9b02-46ea-b14e-7d62c59721a2",
   "metadata": {},
   "outputs": [],
   "source": [
    "gadi2=Car(\"alto\",2010)"
   ]
  },
  {
   "cell_type": "code",
   "execution_count": 82,
   "id": "df6fbe0c-5fbd-46a0-8c90-7ae40a488588",
   "metadata": {},
   "outputs": [
    {
     "name": "stdout",
     "output_type": "stream",
     "text": [
      "hi i am alto and i was made in None\n"
     ]
    }
   ],
   "source": [
    "gadi2.introduction()"
   ]
  },
  {
   "cell_type": "code",
   "execution_count": 83,
   "id": "abf7bd45-e32d-4a67-8215-306eaefa2c87",
   "metadata": {},
   "outputs": [],
   "source": [
    "class Human():\n",
    "    legs=2\n",
    "    def __init__(self,name,age=0):\n",
    "        self.name=name\n",
    "        self.age=age\n",
    "    def introduction (self):\n",
    "        print(f\"i am {self.name} and my age is {self.age}\")"
   ]
  },
  {
   "cell_type": "code",
   "execution_count": 84,
   "id": "9105931a-c1e0-4557-8eb6-8c2ed80a801a",
   "metadata": {},
   "outputs": [],
   "source": [
    "insan1=Human(\"inder\",20)"
   ]
  },
  {
   "cell_type": "code",
   "execution_count": 85,
   "id": "5aa8b667-9982-4aa9-b36b-ca6632e97585",
   "metadata": {},
   "outputs": [
    {
     "name": "stdout",
     "output_type": "stream",
     "text": [
      "i am inder and my age is 20\n"
     ]
    }
   ],
   "source": [
    "insan1.introduction()"
   ]
  },
  {
   "cell_type": "code",
   "execution_count": 86,
   "id": "4db22a82-3e60-4ac4-a952-8c9cc023529e",
   "metadata": {},
   "outputs": [],
   "source": [
    "insan2=Human(\"preety\",25)"
   ]
  },
  {
   "cell_type": "code",
   "execution_count": 87,
   "id": "6258e234-8934-45d0-bcfd-5ab0dd671869",
   "metadata": {},
   "outputs": [
    {
     "name": "stdout",
     "output_type": "stream",
     "text": [
      "i am preety and my age is 25\n"
     ]
    }
   ],
   "source": [
    "insan2.introduction()"
   ]
  },
  {
   "cell_type": "markdown",
   "id": "b311ee10-f81e-4418-85ae-c1d7cda4ed7b",
   "metadata": {},
   "source": [
    "# Magic(special)Functions"
   ]
  },
  {
   "cell_type": "code",
   "execution_count": 2,
   "id": "feb5780d-cabc-4414-86ec-0937af487693",
   "metadata": {},
   "outputs": [],
   "source": [
    "class Account():\n",
    "    BANK_NAME=\"SBI\"\n",
    "    def __init__(self,name , initialDeposit=0):\n",
    "        self.name= name\n",
    "        self.Balance= initialDeposit\n",
    "        print(f\"{name} welcome to {self.BANK_NAME}\")\n",
    "        "
   ]
  },
  {
   "cell_type": "code",
   "execution_count": 3,
   "id": "98856445-c2b7-4e14-91c9-ad352bba8065",
   "metadata": {},
   "outputs": [
    {
     "name": "stdout",
     "output_type": "stream",
     "text": [
      "inder welcome to SBI\n"
     ]
    }
   ],
   "source": [
    "firstAccount = Account(\"inder\",5000)"
   ]
  },
  {
   "cell_type": "code",
   "execution_count": 4,
   "id": "cd051c6c-3251-4c75-b9de-a54e9781c5f4",
   "metadata": {},
   "outputs": [
    {
     "data": {
      "text/plain": [
       "'inder'"
      ]
     },
     "execution_count": 4,
     "metadata": {},
     "output_type": "execute_result"
    }
   ],
   "source": [
    "firstAccount.name"
   ]
  },
  {
   "cell_type": "code",
   "execution_count": 5,
   "id": "b17b93f5-9bda-4b3d-91e1-225071b91358",
   "metadata": {},
   "outputs": [
    {
     "data": {
      "text/plain": [
       "5000"
      ]
     },
     "execution_count": 5,
     "metadata": {},
     "output_type": "execute_result"
    }
   ],
   "source": [
    "firstAccount.Balance"
   ]
  },
  {
   "cell_type": "code",
   "execution_count": 6,
   "id": "6c5a1652-2510-4893-bfd3-c0b7aed172e8",
   "metadata": {},
   "outputs": [],
   "source": [
    "firstAccount.name=\"preet\""
   ]
  },
  {
   "cell_type": "code",
   "execution_count": 7,
   "id": "e5317f8a-5003-4bfb-8c45-72482f986d5d",
   "metadata": {},
   "outputs": [
    {
     "data": {
      "text/plain": [
       "'preet'"
      ]
     },
     "execution_count": 7,
     "metadata": {},
     "output_type": "execute_result"
    }
   ],
   "source": [
    "firstAccount.name"
   ]
  },
  {
   "cell_type": "code",
   "execution_count": 11,
   "id": "a1fbdceb-6c66-4c1e-9d90-c673279d72b3",
   "metadata": {},
   "outputs": [],
   "source": [
    "#magic functions--str (use when function goes to print)\n",
    "class Account():\n",
    "    BANK_NAME=\"SBI\"\n",
    "    def __init__(self,name , initialDeposit=0):\n",
    "        self.name= name\n",
    "        self.Balance= initialDeposit\n",
    "        print(f\"{name} welcome to {self.BANK_NAME}\")\n",
    "\n",
    "    def __str__(self):\n",
    "        # mandatory to return a str\n",
    "        a= f\"\"\"\n",
    "             ======{self.BANK_NAME}======\n",
    "         Account Holder  : {self.name}\n",
    "         Account Balance : {self.Balance}\n",
    "        \"\"\"\n",
    "        return a\n",
    "        "
   ]
  },
  {
   "cell_type": "code",
   "execution_count": 12,
   "id": "fbfa33a1-d1ee-45cb-815e-1118defbf72c",
   "metadata": {},
   "outputs": [
    {
     "name": "stdout",
     "output_type": "stream",
     "text": [
      "inder welcome to SBI\n"
     ]
    }
   ],
   "source": [
    "firstAccount = Account(\"inder\",5000)"
   ]
  },
  {
   "cell_type": "code",
   "execution_count": 13,
   "id": "b349a306-2904-48c2-908e-1b6ed1789946",
   "metadata": {},
   "outputs": [
    {
     "name": "stdout",
     "output_type": "stream",
     "text": [
      "\n",
      "             ======SBI======\n",
      "         Account Holder  : inder\n",
      "         Account Balance : 5000\n",
      "        \n"
     ]
    }
   ],
   "source": [
    "print(firstAccount)"
   ]
  },
  {
   "cell_type": "code",
   "execution_count": 14,
   "id": "a73989de-09a4-433a-af7f-c6f2992bb5e0",
   "metadata": {},
   "outputs": [],
   "source": [
    "class Account():\n",
    "    BANK_NAME=\"SBI\"\n",
    "    # it runs when object if created\n",
    "    def __init__(self,name , initialDeposit=0):\n",
    "        self.name= name\n",
    "        self.Balance= initialDeposit\n",
    "        print(f\"{name} welcome to {self.BANK_NAME}\")\n",
    "    def __str__(self):\\\n",
    "        # runs before object is printed\n",
    "        # mandatory to return a str\n",
    "        a= f\"\"\"\n",
    "             ==={self.BANK_NAME}===\n",
    "         Account Holder  : {self.name}\n",
    "         Account Balance : {self.Balance}\n",
    "        \"\"\"\n",
    "        return a\n",
    "\n",
    "    def __del__(self):\n",
    "        # when memory location is cleared\n",
    "        # runs before object is deleted \n",
    "        print(\"item was deleted\")"
   ]
  },
  {
   "cell_type": "code",
   "execution_count": 16,
   "id": "e4dcddd9-5083-422d-82a9-5b1e17962b6a",
   "metadata": {},
   "outputs": [
    {
     "name": "stdout",
     "output_type": "stream",
     "text": [
      "inder welcome to SBI\n",
      "item was deleted\n"
     ]
    }
   ],
   "source": [
    "firstAccount = Account(\"inder\",50000)"
   ]
  },
  {
   "cell_type": "code",
   "execution_count": 17,
   "id": "b122f22d-1959-424b-b753-3d1aef8e0335",
   "metadata": {},
   "outputs": [
    {
     "name": "stdout",
     "output_type": "stream",
     "text": [
      "item was deleted\n"
     ]
    }
   ],
   "source": [
    "del firstAccount"
   ]
  },
  {
   "cell_type": "code",
   "execution_count": null,
   "id": "ffebcff3-1b5b-4f96-aae8-2187bb64c9f0",
   "metadata": {},
   "outputs": [],
   "source": [
    "#array list ki tarah hoti hai but array mai saab items same hoti hai\n",
    "# int- use 4 byte(16 bits)\n",
    "# python is interpreted \n",
    "# ram is like continuous block\n",
    "# jad asi numpy ch array bandai ta oo c++ di tarah ek continuous line vich items rakhnai\n",
    "# garbage collection(jad ram vicho jagah saaf hundi)"
   ]
  },
  {
   "cell_type": "code",
   "execution_count": 18,
   "id": "a6c4f95c-8956-480b-98aa-7d1c366e8b24",
   "metadata": {},
   "outputs": [],
   "source": [
    "class Account():\n",
    "    BANK_NAME=\"SBI\"\n",
    "    # it runs when item create\n",
    "    def __init__(self,name , initialDeposit=0):\n",
    "        self.name= name\n",
    "        self.Balance= initialDeposit\n",
    "        print(f\"{name} welcome to {self.BANK_NAME}\")\n",
    "    # it runs when item goes to print\n",
    "    def __str__(self):\n",
    "        # mandatory to return a str\n",
    "        a= f\"\"\"\n",
    "             ==={self.BANK_NAME}===\n",
    "         Account Holder  : {self.name}\n",
    "         Account Balance : {self.Balance}\n",
    "        \"\"\"\n",
    "        return a\n",
    "\n",
    "    def __del__(self):\n",
    "        # when memory location is cleared\n",
    "        a=f\"\"\"\n",
    "                     ==={self.BANK_NAME}===\n",
    "                     we are sorry to see you go \n",
    "        \"\"\"\n",
    "        print(a)\n"
   ]
  },
  {
   "cell_type": "code",
   "execution_count": 19,
   "id": "83dd25d7-35ab-49ad-9ce8-a8faf5fede5b",
   "metadata": {},
   "outputs": [
    {
     "name": "stdout",
     "output_type": "stream",
     "text": [
      "inder welcome to SBI\n"
     ]
    }
   ],
   "source": [
    "firstAccount = Account(\"inder\",5000)"
   ]
  },
  {
   "cell_type": "code",
   "execution_count": 20,
   "id": "b43781e8-e619-4a2e-877d-a8170d346e4c",
   "metadata": {},
   "outputs": [
    {
     "name": "stdout",
     "output_type": "stream",
     "text": [
      "\n",
      "                     ===SBI===\n",
      "                     we are sorry to see you go \n",
      "        \n"
     ]
    }
   ],
   "source": [
    "del firstAccount"
   ]
  },
  {
   "cell_type": "code",
   "execution_count": 21,
   "id": "ad7b7a97-164c-4f32-b5a9-c5e1436a4184",
   "metadata": {},
   "outputs": [],
   "source": [
    "class Car:\n",
    "    def __init__(self):\n",
    "        self.name=\"tata\"\n",
    "    def __str__(self):\n",
    "        print(\"hello\")\n",
    "        return \"runs when item is created\"\n",
    "    def __del__(self):\n",
    "        print(\"runs when memory location is cleared\")"
   ]
  },
  {
   "cell_type": "code",
   "execution_count": 24,
   "id": "a98b5e9d-29c6-4c77-b453-f48806079af6",
   "metadata": {},
   "outputs": [
    {
     "name": "stdout",
     "output_type": "stream",
     "text": [
      "runs when memory location is cleared\n"
     ]
    }
   ],
   "source": [
    "gadi = Car()"
   ]
  },
  {
   "cell_type": "code",
   "execution_count": 25,
   "id": "453af145-a621-4f8b-8072-320e54ab86f2",
   "metadata": {},
   "outputs": [
    {
     "name": "stdout",
     "output_type": "stream",
     "text": [
      "hello\n",
      "runs when item is created\n"
     ]
    }
   ],
   "source": [
    "print(gadi)"
   ]
  },
  {
   "cell_type": "code",
   "execution_count": 26,
   "id": "a27e216d-63f9-4ceb-ae51-2da5e0d1c4c2",
   "metadata": {},
   "outputs": [
    {
     "name": "stdout",
     "output_type": "stream",
     "text": [
      "runs when memory location is cleared\n"
     ]
    }
   ],
   "source": [
    "del gadi"
   ]
  },
  {
   "cell_type": "markdown",
   "id": "cc4097c9-d54b-4ff6-b143-fdbd711d0ad4",
   "metadata": {},
   "source": [
    "# Encapsulation"
   ]
  },
  {
   "cell_type": "code",
   "execution_count": 27,
   "id": "c36c7ca5-61e0-4562-9c63-1aab44a159d8",
   "metadata": {},
   "outputs": [],
   "source": [
    "#encapsulation works on both variables and functions"
   ]
  },
  {
   "cell_type": "code",
   "execution_count": 38,
   "id": "23179a37-56f3-4b7a-9abd-ab7623fc3076",
   "metadata": {},
   "outputs": [],
   "source": [
    "class Account():\n",
    "    BANK_NAME=\"SBI\"\n",
    "   # for encapsulation to balance use __balance by doing this nobody from outer can have access to change your balance \n",
    "    def __init__(self,name , initialDeposit=0):\n",
    "        self.name= name\n",
    "        self.__Balance= initialDeposit\n",
    "        print(f\"{name} welcome to {self.BANK_NAME}\")\n",
    "    # it runs when item goes to print\n",
    "    def __str__(self):\n",
    "    \n",
    "        a= f\"\"\"\n",
    "             ==={self.BANK_NAME}===\n",
    "         Account Holder  : {self.name}\n",
    "         Account Balance : {self.__Balance}\n",
    "        \"\"\"\n",
    "        return a\n",
    "\n",
    "    def __del__(self):\n",
    "        \n",
    "        a=f\"\"\"\n",
    "                     ==={self.BANK_NAME}===\n",
    "                     we are sorry to see you go \n",
    "        \"\"\"\n",
    "        print(a)"
   ]
  },
  {
   "cell_type": "code",
   "execution_count": 39,
   "id": "54ad81b5-b984-4b79-93a6-255a28a7343d",
   "metadata": {},
   "outputs": [
    {
     "name": "stdout",
     "output_type": "stream",
     "text": [
      "inder welcome to SBI\n"
     ]
    }
   ],
   "source": [
    "firstAccount = Account(\"inder\",50000)"
   ]
  },
  {
   "cell_type": "code",
   "execution_count": 40,
   "id": "b1f46635-7fde-40f9-8745-f65851afa547",
   "metadata": {},
   "outputs": [
    {
     "name": "stdout",
     "output_type": "stream",
     "text": [
      "\n",
      "             ===SBI===\n",
      "         Account Holder  : inder\n",
      "         Account Balance : 50000\n",
      "        \n"
     ]
    }
   ],
   "source": [
    "print(firstAccount)"
   ]
  },
  {
   "cell_type": "code",
   "execution_count": 42,
   "id": "068b02f3-dbcc-4940-a343-cf5812fc5bf0",
   "metadata": {},
   "outputs": [
    {
     "ename": "AttributeError",
     "evalue": "'Account' object has no attribute 'Balance'",
     "output_type": "error",
     "traceback": [
      "\u001b[1;31m---------------------------------------------------------------------------\u001b[0m",
      "\u001b[1;31mAttributeError\u001b[0m                            Traceback (most recent call last)",
      "Cell \u001b[1;32mIn[42], line 2\u001b[0m\n\u001b[0;32m      1\u001b[0m \u001b[38;5;66;03m#encapsulation - block direct access\u001b[39;00m\n\u001b[1;32m----> 2\u001b[0m firstAccount\u001b[38;5;241m.\u001b[39mBalance\n",
      "\u001b[1;31mAttributeError\u001b[0m: 'Account' object has no attribute 'Balance'"
     ]
    }
   ],
   "source": [
    "#encapsulation - block direct access\n",
    "firstAccount.Balance"
   ]
  },
  {
   "cell_type": "code",
   "execution_count": 44,
   "id": "07889f10-9a33-4704-b0de-b32bb845f816",
   "metadata": {},
   "outputs": [],
   "source": [
    "firstAccount.Balance = 0"
   ]
  },
  {
   "cell_type": "code",
   "execution_count": 45,
   "id": "b5b503d4-6f67-4189-b3e2-511fb8581d99",
   "metadata": {},
   "outputs": [
    {
     "name": "stdout",
     "output_type": "stream",
     "text": [
      "\n",
      "             ===SBI===\n",
      "         Account Holder  : inder\n",
      "         Account Balance : 50000\n",
      "        \n"
     ]
    }
   ],
   "source": [
    "print(firstAccount)"
   ]
  },
  {
   "cell_type": "code",
   "execution_count": 46,
   "id": "377cb649-d5c1-4af1-8d6a-f9d783d575d0",
   "metadata": {},
   "outputs": [],
   "source": [
    "class Account():\n",
    "    BANK_NAME=\"SBI\"\n",
    "    def __init__(self,name , initialDeposit=0):\n",
    "        self.name= name\n",
    "        self.__balance= initialDeposit\n",
    "        print(f\"{name} welcome to {self.BANK_NAME}\")\n",
    "    # it runs when item goes to print\n",
    "    def __str__(self):\n",
    "    \n",
    "        a= f\"\"\"\n",
    "             ======{self.BANK_NAME}======\n",
    "         Account Holder  : {self.name}\n",
    "         Account Balance : {self.__balance}\n",
    "        \"\"\"\n",
    "        return a\n",
    "\n",
    "    def __del__(self):\n",
    "        \n",
    "        a=f\"\"\"\n",
    "                     ======{self.BANK_NAME}======\n",
    "                     we are sorry to see you go \n",
    "        \"\"\"\n",
    "        print(a)\n",
    "# encapsulate transection\n",
    "    def __transection(self, ammount,T):\n",
    "        print(f\"{ammount} was {T}\")\n",
    "        print(f\" current balance {self.__balance}\")\n",
    "        if T== \"credit\":\n",
    "            print(f\" initial ammount {self.__balance - ammount}\")\n",
    "        else:\n",
    "            print(f\" initial ammount {self.__balance + ammount}\")\n",
    "        \n",
    "    # to add balance in the bank\n",
    "    def credit(self,ammount=0):\n",
    "        self.__balance+=ammount\n",
    "        self.__transection(ammount, \"credit\")\n",
    "\n",
    "    def debit(self, ammount =0):\n",
    "        if self.__balance > ammount and ammount < 10000:\n",
    "            self.__balance -= ammount\n",
    "            self.__transection(ammount, \"debit\")\n",
    "            return ammount\n",
    "        else:\n",
    "            print(\"insufficient balance\")"
   ]
  },
  {
   "cell_type": "code",
   "execution_count": 47,
   "id": "20ba8f36-c521-4b42-9507-6b47fa692857",
   "metadata": {},
   "outputs": [
    {
     "name": "stdout",
     "output_type": "stream",
     "text": [
      "inder welcome to SBI\n"
     ]
    }
   ],
   "source": [
    "firstAccount=Account(\"inder\",5000)"
   ]
  },
  {
   "cell_type": "code",
   "execution_count": 48,
   "id": "384c9590-3df5-41f2-94e3-7f56e0373e3b",
   "metadata": {},
   "outputs": [
    {
     "name": "stdout",
     "output_type": "stream",
     "text": [
      "5000 was credit\n",
      " current balance 10000\n",
      " initial ammount 5000\n"
     ]
    }
   ],
   "source": [
    "firstAccount.credit(5000)"
   ]
  },
  {
   "cell_type": "code",
   "execution_count": 49,
   "id": "ab0b48b3-b097-4050-9d81-ed284b3452ff",
   "metadata": {},
   "outputs": [
    {
     "name": "stdout",
     "output_type": "stream",
     "text": [
      "\n",
      "             ======SBI======\n",
      "         Account Holder  : inder\n",
      "         Account Balance : 10000\n",
      "        \n"
     ]
    }
   ],
   "source": [
    "print(firstAccount)"
   ]
  },
  {
   "cell_type": "code",
   "execution_count": 50,
   "id": "c0a48077-c394-46d2-9486-82e32776af10",
   "metadata": {},
   "outputs": [
    {
     "ename": "AttributeError",
     "evalue": "'Account' object has no attribute 'transection'",
     "output_type": "error",
     "traceback": [
      "\u001b[1;31m---------------------------------------------------------------------------\u001b[0m",
      "\u001b[1;31mAttributeError\u001b[0m                            Traceback (most recent call last)",
      "Cell \u001b[1;32mIn[50], line 1\u001b[0m\n\u001b[1;32m----> 1\u001b[0m firstAccount\u001b[38;5;241m.\u001b[39mtransection(\u001b[38;5;241m3000\u001b[39m,\u001b[38;5;124m\"\u001b[39m\u001b[38;5;124mhi\u001b[39m\u001b[38;5;124m\"\u001b[39m)\n",
      "\u001b[1;31mAttributeError\u001b[0m: 'Account' object has no attribute 'transection'"
     ]
    }
   ],
   "source": [
    "firstAccount.transection(3000,\"hi\")"
   ]
  },
  {
   "cell_type": "code",
   "execution_count": 51,
   "id": "7f729f09-132c-4de8-8f8d-2d965022bb90",
   "metadata": {},
   "outputs": [
    {
     "name": "stdout",
     "output_type": "stream",
     "text": [
      "2000 was debit\n",
      " current balance 8000\n",
      " initial ammount 10000\n"
     ]
    },
    {
     "data": {
      "text/plain": [
       "2000"
      ]
     },
     "execution_count": 51,
     "metadata": {},
     "output_type": "execute_result"
    }
   ],
   "source": [
    "firstAccount.debit(2000)"
   ]
  },
  {
   "cell_type": "code",
   "execution_count": null,
   "id": "c66310c1-f816-497b-ae10-e7979738a869",
   "metadata": {},
   "outputs": [],
   "source": []
  },
  {
   "cell_type": "code",
   "execution_count": null,
   "id": "5ba11c7b-5a91-42fd-9db9-aca66cd1692f",
   "metadata": {},
   "outputs": [],
   "source": []
  },
  {
   "cell_type": "code",
   "execution_count": null,
   "id": "7346fcd2-fec9-45c4-9766-e54aa91bed13",
   "metadata": {},
   "outputs": [],
   "source": []
  },
  {
   "cell_type": "code",
   "execution_count": null,
   "id": "b8b4f738-6ec9-4d1c-98ec-de46fd84fcb5",
   "metadata": {},
   "outputs": [],
   "source": []
  },
  {
   "cell_type": "code",
   "execution_count": null,
   "id": "8f509867-4b6c-4470-a208-25f43c6c57d0",
   "metadata": {},
   "outputs": [],
   "source": []
  },
  {
   "cell_type": "code",
   "execution_count": null,
   "id": "3fd86aed-56fe-4aeb-b91e-67590228099c",
   "metadata": {},
   "outputs": [],
   "source": []
  },
  {
   "cell_type": "markdown",
   "id": "c66f1e69-d885-4bb4-8b66-300798fb57e5",
   "metadata": {},
   "source": [
    "# Inheritence"
   ]
  },
  {
   "cell_type": "code",
   "execution_count": null,
   "id": "72f464e9-e581-43f7-969c-ab8b21f85133",
   "metadata": {},
   "outputs": [],
   "source": [
    "# category (Car) - sub-category (lpg car, cng car etc.)(sub-category which have properties of category and its own property)"
   ]
  },
  {
   "cell_type": "code",
   "execution_count": 70,
   "id": "d1cda346-804c-4ac5-aed5-2c0c62ee2d5a",
   "metadata": {},
   "outputs": [],
   "source": [
    "class Car():\n",
    "    TYRE = 4\n",
    "\n",
    "    def __init__(self,company):\n",
    "        self.company=company\n",
    "        print(\"car was made\")\n",
    "\n",
    "    def __del__(self):\n",
    "        print(\"car was scraped\")\n",
    "\n",
    "    def __str__(self):\n",
    "        return \"this is a car\"\n",
    "    def intro(self):\n",
    "        print(\"this is a car\")\n",
    "    def move(self):\n",
    "        print(\"moving forward\")\n",
    "    def fuelUp(self):\n",
    "        print(\"fuel up\")\n",
    "    "
   ]
  },
  {
   "cell_type": "code",
   "execution_count": 71,
   "id": "9a68078e-6648-4067-927f-b2fbd912ad57",
   "metadata": {},
   "outputs": [
    {
     "name": "stdout",
     "output_type": "stream",
     "text": [
      "car was made\n"
     ]
    }
   ],
   "source": [
    "gadi = Car(\"tata\")"
   ]
  },
  {
   "cell_type": "code",
   "execution_count": 72,
   "id": "7e0e4fa3-5c01-41a4-8364-aec4979a08f7",
   "metadata": {},
   "outputs": [
    {
     "name": "stdout",
     "output_type": "stream",
     "text": [
      "moving forward\n"
     ]
    }
   ],
   "source": [
    "gadi.move()"
   ]
  },
  {
   "cell_type": "code",
   "execution_count": 73,
   "id": "fa13fde1-4f18-499a-ae39-e03d49c5d4aa",
   "metadata": {},
   "outputs": [
    {
     "name": "stdout",
     "output_type": "stream",
     "text": [
      "fuel up\n"
     ]
    }
   ],
   "source": [
    "gadi.fuelUp()"
   ]
  },
  {
   "cell_type": "code",
   "execution_count": 74,
   "id": "d440316c-6cf6-4712-ba99-271a9b598bbe",
   "metadata": {},
   "outputs": [],
   "source": [
    "#super function upr se kisi function ko niche laane me help krta hai\n",
    "class CngCar(Car):\n",
    "    fuel = \"CNG\"\n",
    "    #function overloading\n",
    "    #when we want to run both functions the upper one and new one\n",
    "    def __init__(self,company,model):\n",
    "        super().__init__(company)\n",
    "        self.model = model\n",
    "    # function overloading = rewriting a function (if we want a function to redefined)\n",
    "    def fuelUp(self):\n",
    "        print(\"filling cng\")\n",
    "    #class overloading = rewritting a function \n",
    "    def intro(self):\n",
    "        print(\"this is a cng car\")\n",
    "        #super means parent class\n",
    "    def description(self):\n",
    "        print(\"this is a cng car\")\n",
    "        super().fuelUp()#uper class da function chalan layi super use kardai\n",
    "        print(super().TYRE)"
   ]
  },
  {
   "cell_type": "code",
   "execution_count": 75,
   "id": "0bf58cdc-b151-44ee-b2f1-ab61168773c3",
   "metadata": {},
   "outputs": [
    {
     "name": "stdout",
     "output_type": "stream",
     "text": [
      "car was made\n",
      "car was scraped\n"
     ]
    }
   ],
   "source": [
    "gadi=CngCar(\"tata\",\"2005\")"
   ]
  },
  {
   "cell_type": "code",
   "execution_count": 76,
   "id": "4d8ccb43-6b02-45a9-8605-8a08a3b837c4",
   "metadata": {},
   "outputs": [
    {
     "name": "stdout",
     "output_type": "stream",
     "text": [
      "filling cng\n"
     ]
    }
   ],
   "source": [
    "gadi.fuelUp()"
   ]
  },
  {
   "cell_type": "code",
   "execution_count": 77,
   "id": "eff04b89-c51e-4e98-96cb-3b260a5fc60d",
   "metadata": {},
   "outputs": [
    {
     "name": "stdout",
     "output_type": "stream",
     "text": [
      "moving forward\n"
     ]
    }
   ],
   "source": [
    "gadi.move()"
   ]
  },
  {
   "cell_type": "code",
   "execution_count": 78,
   "id": "98356b29-3bc8-4068-b1ae-705699734370",
   "metadata": {},
   "outputs": [
    {
     "name": "stdout",
     "output_type": "stream",
     "text": [
      "this is a cng car\n",
      "fuel up\n",
      "4\n"
     ]
    }
   ],
   "source": [
    "gadi.description()"
   ]
  },
  {
   "cell_type": "code",
   "execution_count": 79,
   "id": "3a83c8e7-793b-4296-9419-b80a0fb24e20",
   "metadata": {},
   "outputs": [
    {
     "name": "stdout",
     "output_type": "stream",
     "text": [
      "this is a cng car\n"
     ]
    }
   ],
   "source": [
    "gadi.intro()"
   ]
  },
  {
   "cell_type": "code",
   "execution_count": 80,
   "id": "9815ccdb-3282-41aa-86e1-91140f5115f4",
   "metadata": {},
   "outputs": [
    {
     "data": {
      "text/plain": [
       "'2005'"
      ]
     },
     "execution_count": 80,
     "metadata": {},
     "output_type": "execute_result"
    }
   ],
   "source": [
    "gadi.model"
   ]
  },
  {
   "cell_type": "code",
   "execution_count": 81,
   "id": "aad0005b-e7e0-462b-b64d-49fc397869e9",
   "metadata": {},
   "outputs": [
    {
     "data": {
      "text/plain": [
       "'tata'"
      ]
     },
     "execution_count": 81,
     "metadata": {},
     "output_type": "execute_result"
    }
   ],
   "source": [
    "gadi.company"
   ]
  },
  {
   "cell_type": "code",
   "execution_count": 84,
   "id": "81754cf3-3131-4ae5-a2e0-5aeccf990bec",
   "metadata": {},
   "outputs": [],
   "source": [
    "class PetrolCar(Car):\n",
    "    pass"
   ]
  },
  {
   "cell_type": "code",
   "execution_count": 85,
   "id": "e13daf72-bdf3-49d4-8fdd-42b7e327fb4a",
   "metadata": {},
   "outputs": [
    {
     "data": {
      "text/plain": [
       "4"
      ]
     },
     "execution_count": 85,
     "metadata": {},
     "output_type": "execute_result"
    }
   ],
   "source": [
    "gadi.TYRE"
   ]
  },
  {
   "cell_type": "code",
   "execution_count": 86,
   "id": "5164cfcf-bc54-48e3-b2fb-9266ddcec294",
   "metadata": {},
   "outputs": [
    {
     "name": "stdout",
     "output_type": "stream",
     "text": [
      "car was made\n",
      "car was scraped\n"
     ]
    }
   ],
   "source": [
    "gadi = PetrolCar(\"company\")"
   ]
  },
  {
   "cell_type": "code",
   "execution_count": 87,
   "id": "cadbed00-0d5a-4392-b8ec-af94383bee74",
   "metadata": {},
   "outputs": [],
   "source": [
    "class PetrolCar(Car):\n",
    "    fuel= \"petrol\"\n",
    "\n",
    " #when we want to run both functions the upper one and new open   \n",
    "    def __init__(self,company,model):\n",
    "        super().__init__(company)\n",
    "        self.model = model\n",
    "    #function overloading - function redefine or rewriting a function\n",
    "    def fuelUp(self):\n",
    "        print(\"filling up with petrol\")\n",
    "    def intro(self):\n",
    "        print(\"this is a petrol car\")\n",
    "\n",
    "        #super means parent class\n",
    "    def discription(self):\n",
    "        print(\"this is a petrol car\")\n",
    "        super().fuelUp()\n",
    "        print(super().TYRE)"
   ]
  },
  {
   "cell_type": "code",
   "execution_count": 93,
   "id": "f7233759-1b4f-4998-92d3-baee17c16bb6",
   "metadata": {},
   "outputs": [
    {
     "name": "stdout",
     "output_type": "stream",
     "text": [
      "car was made\n",
      "car was scraped\n"
     ]
    }
   ],
   "source": [
    "gadi=PetrolCar(\"NANO\",2005)"
   ]
  },
  {
   "cell_type": "code",
   "execution_count": 103,
   "id": "9c161a36-651b-4b7c-aa89-791222544a23",
   "metadata": {},
   "outputs": [
    {
     "name": "stdout",
     "output_type": "stream",
     "text": [
      "car was scraped\n"
     ]
    },
    {
     "ename": "TypeError",
     "evalue": "PetrolCar.__init__() missing 1 required positional argument: 'model'",
     "output_type": "error",
     "traceback": [
      "\u001b[1;31m---------------------------------------------------------------------------\u001b[0m",
      "\u001b[1;31mTypeError\u001b[0m                                 Traceback (most recent call last)",
      "Cell \u001b[1;32mIn[103], line 1\u001b[0m\n\u001b[1;32m----> 1\u001b[0m gadi\u001b[38;5;241m=\u001b[39mPetrolCar(\u001b[38;5;124m\"\u001b[39m\u001b[38;5;124mCompany\u001b[39m\u001b[38;5;124m\"\u001b[39m)\n",
      "\u001b[1;31mTypeError\u001b[0m: PetrolCar.__init__() missing 1 required positional argument: 'model'"
     ]
    }
   ],
   "source": [
    "gadi=PetrolCar(\"Company\")"
   ]
  },
  {
   "cell_type": "code",
   "execution_count": 104,
   "id": "09a630b5-b585-45ce-8abb-0fb6881d50cf",
   "metadata": {},
   "outputs": [
    {
     "data": {
      "text/plain": [
       "'petrol'"
      ]
     },
     "execution_count": 104,
     "metadata": {},
     "output_type": "execute_result"
    }
   ],
   "source": [
    "gadi.fuel"
   ]
  },
  {
   "cell_type": "code",
   "execution_count": 95,
   "id": "365be666-5f59-4ab6-b2c6-1b5962c33959",
   "metadata": {},
   "outputs": [
    {
     "name": "stdout",
     "output_type": "stream",
     "text": [
      "moving forward\n"
     ]
    }
   ],
   "source": [
    "gadi.move()"
   ]
  },
  {
   "cell_type": "raw",
   "id": "18ff0180-3b7f-46d5-b4ee-a04d018a82fc",
   "metadata": {},
   "source": [
    "gadi.intro()"
   ]
  },
  {
   "cell_type": "code",
   "execution_count": 97,
   "id": "bcc39985-f165-4438-8d3e-cf045388d7a2",
   "metadata": {},
   "outputs": [
    {
     "name": "stdout",
     "output_type": "stream",
     "text": [
      "this is a petrol car\n"
     ]
    }
   ],
   "source": [
    "gadi.intro()"
   ]
  },
  {
   "cell_type": "code",
   "execution_count": 102,
   "id": "a052bead-380e-4de6-a135-de395e46f678",
   "metadata": {},
   "outputs": [
    {
     "data": {
      "text/plain": [
       "'NANO'"
      ]
     },
     "execution_count": 102,
     "metadata": {},
     "output_type": "execute_result"
    }
   ],
   "source": [
    "gadi.company"
   ]
  },
  {
   "cell_type": "code",
   "execution_count": null,
   "id": "db6c8c93-ea42-431e-bbb4-dec9514cd0bb",
   "metadata": {},
   "outputs": [],
   "source": []
  },
  {
   "cell_type": "code",
   "execution_count": 98,
   "id": "9d7a62b1-3af7-4bbc-b170-ccdb7ef20876",
   "metadata": {},
   "outputs": [
    {
     "name": "stdout",
     "output_type": "stream",
     "text": [
      "car was made\n",
      "car was scraped\n"
     ]
    }
   ],
   "source": [
    "cngGadi=CngCar(\"tata\",\"nano\")"
   ]
  },
  {
   "cell_type": "code",
   "execution_count": 99,
   "id": "ab14d355-d6b5-4ad7-9639-f40b72bea1d4",
   "metadata": {},
   "outputs": [
    {
     "name": "stdout",
     "output_type": "stream",
     "text": [
      "car was made\n"
     ]
    }
   ],
   "source": [
    "petGadi=PetrolCar(\"maruti\",\"swift\")"
   ]
  },
  {
   "cell_type": "code",
   "execution_count": 100,
   "id": "7c7934bf-c80b-4961-9cd2-33212198a373",
   "metadata": {},
   "outputs": [
    {
     "name": "stdout",
     "output_type": "stream",
     "text": [
      "this is a cng car\n"
     ]
    }
   ],
   "source": [
    "cngGadi.intro()"
   ]
  },
  {
   "cell_type": "code",
   "execution_count": 101,
   "id": "89cb5b24-08ed-44d1-b5aa-2e034dffb377",
   "metadata": {},
   "outputs": [
    {
     "name": "stdout",
     "output_type": "stream",
     "text": [
      "this is a petrol car\n"
     ]
    }
   ],
   "source": [
    "petGadi.intro()"
   ]
  },
  {
   "cell_type": "markdown",
   "id": "3f3a8616-bc2a-4475-8192-d5d2e8591cf0",
   "metadata": {},
   "source": [
    "## Polymorphism"
   ]
  },
  {
   "cell_type": "code",
   "execution_count": null,
   "id": "f2e84c15-2e3a-4662-9d6e-400f2a5a9b99",
   "metadata": {},
   "outputs": [],
   "source": [
    "#in this function name is same but the functionality is differnce\n",
    "# (very impo. que. in interview ) (class is very impo. topics in interviews )four pilliars of object oriented programming - encapsulation, inhertance, polimorphism , abstraction\n",
    "# basic data types (str, boolen , int, float ), in built (list, tupels , dic, sets ), ordered sequence, variables, a smalll program , diife. bet. class and object , super function ? , function overloading \n",
    "# function da name same a per funcnatlity alag alag a "
   ]
  },
  {
   "cell_type": "code",
   "execution_count": 51,
   "id": "ebb975ea-979c-4da3-b157-2c4fd6ead788",
   "metadata": {},
   "outputs": [],
   "source": [
    "import numpy"
   ]
  },
  {
   "cell_type": "code",
   "execution_count": 52,
   "id": "ca258652-33c7-4b41-9e6b-31978d22a56c",
   "metadata": {},
   "outputs": [],
   "source": [
    "import random"
   ]
  },
  {
   "cell_type": "code",
   "execution_count": 53,
   "id": "c70ddbf5-8c15-490e-926a-174c71586e2c",
   "metadata": {},
   "outputs": [
    {
     "data": {
      "text/plain": [
       "5"
      ]
     },
     "execution_count": 53,
     "metadata": {},
     "output_type": "execute_result"
    }
   ],
   "source": [
    "random.randint(5,10)"
   ]
  },
  {
   "cell_type": "code",
   "execution_count": 54,
   "id": "4c1ad82c-f50a-43e9-b1ad-968b43159e7e",
   "metadata": {},
   "outputs": [
    {
     "data": {
      "text/plain": [
       "array([3, 3, 4, 1, 3, 2, 2, 1, 2, 3], dtype=int32)"
      ]
     },
     "execution_count": 54,
     "metadata": {},
     "output_type": "execute_result"
    }
   ],
   "source": [
    "numpy.random.randint(1,5,10)"
   ]
  },
  {
   "cell_type": "code",
   "execution_count": null,
   "id": "f59e5feb-18ed-402d-bc9b-5cf2c0b0f0b5",
   "metadata": {},
   "outputs": [],
   "source": []
  }
 ],
 "metadata": {
  "kernelspec": {
   "display_name": "Python [conda env:base] *",
   "language": "python",
   "name": "conda-base-py"
  },
  "language_info": {
   "codemirror_mode": {
    "name": "ipython",
    "version": 3
   },
   "file_extension": ".py",
   "mimetype": "text/x-python",
   "name": "python",
   "nbconvert_exporter": "python",
   "pygments_lexer": "ipython3",
   "version": "3.13.5"
  }
 },
 "nbformat": 4,
 "nbformat_minor": 5
}
