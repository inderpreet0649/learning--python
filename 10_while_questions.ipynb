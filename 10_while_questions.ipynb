{
 "cells": [
  {
   "cell_type": "code",
   "execution_count": 1,
   "id": "bd8dab7c-75b5-4e05-83d5-06ec26ab0e54",
   "metadata": {},
   "outputs": [],
   "source": [
    "#we can use simple while loop concept (we already done in 09)with lists,tuples,strings,dictionary too"
   ]
  },
  {
   "cell_type": "code",
   "execution_count": 6,
   "id": "7db77e1f-48e0-4fb0-a6c1-e23d3c13c2ae",
   "metadata": {},
   "outputs": [],
   "source": [
    "#e.g. dictionary\n",
    "d={\"name\":\"inder\",\"age\":20,\"education\":\"b.sc\"}"
   ]
  },
  {
   "cell_type": "code",
   "execution_count": 8,
   "id": "06904bc5-d410-46e2-918a-f48fed594128",
   "metadata": {},
   "outputs": [
    {
     "data": {
      "text/plain": [
       "dict_keys(['name', 'age', 'education'])"
      ]
     },
     "execution_count": 8,
     "metadata": {},
     "output_type": "execute_result"
    }
   ],
   "source": [
    "#direct indexing slicing is not possible\n",
    "d.keys()"
   ]
  },
  {
   "cell_type": "code",
   "execution_count": 9,
   "id": "2493f314-a6dd-4ea0-a2f6-dd8d7c1e4c04",
   "metadata": {},
   "outputs": [
    {
     "data": {
      "text/plain": [
       "['name', 'age', 'education']"
      ]
     },
     "execution_count": 9,
     "metadata": {},
     "output_type": "execute_result"
    }
   ],
   "source": [
    "#we convert into list\n",
    "list(d.keys())"
   ]
  },
  {
   "cell_type": "code",
   "execution_count": 13,
   "id": "24b126cf-54a1-424a-bb59-bc8f8ea624a3",
   "metadata": {},
   "outputs": [
    {
     "data": {
      "text/plain": [
       "3"
      ]
     },
     "execution_count": 13,
     "metadata": {},
     "output_type": "execute_result"
    }
   ],
   "source": [
    "len(d)"
   ]
  },
  {
   "cell_type": "code",
   "execution_count": 14,
   "id": "5c26567b-8503-45e0-a5ff-a06ac309256f",
   "metadata": {},
   "outputs": [
    {
     "data": {
      "text/plain": [
       "[0]"
      ]
     },
     "execution_count": 14,
     "metadata": {},
     "output_type": "execute_result"
    }
   ],
   "source": [
    "[0]"
   ]
  },
  {
   "cell_type": "code",
   "execution_count": 15,
   "id": "f2bfc400-73eb-4ca9-a3fe-a4fd89bc1125",
   "metadata": {},
   "outputs": [
    {
     "name": "stdout",
     "output_type": "stream",
     "text": [
      "inder\n",
      "20\n",
      "b.sc\n"
     ]
    }
   ],
   "source": [
    "d={\"name\":\"inder\",\"age\":20,\"education\":\"b.sc\"}\n",
    "i=0\n",
    "n=len(d)\n",
    "k=list(d.keys())\n",
    "\n",
    "while i < n:\n",
    "    print(d[k[i]])\n",
    "    i+=1"
   ]
  },
  {
   "cell_type": "code",
   "execution_count": 16,
   "id": "f94773c0-9895-4eaa-97b5-212ff34588cc",
   "metadata": {},
   "outputs": [
    {
     "data": {
      "text/plain": [
       "dict_values(['inder', 20, 'b.sc'])"
      ]
     },
     "execution_count": 16,
     "metadata": {},
     "output_type": "execute_result"
    }
   ],
   "source": [
    "d.values()"
   ]
  },
  {
   "cell_type": "code",
   "execution_count": 19,
   "id": "f275149c-fd1a-4bd9-9b0a-41e19ea8d8ca",
   "metadata": {},
   "outputs": [
    {
     "name": "stdout",
     "output_type": "stream",
     "text": [
      "name\n",
      "age\n",
      "education\n"
     ]
    }
   ],
   "source": [
    "d={\"name\":\"inder\",\"age\":20,\"education\":\"b.sc\"}\n",
    "i=0\n",
    "n=len(d)\n",
    "k=list(d.keys())\n",
    "\n",
    "while i < n:\n",
    "    key=k[i]\n",
    "    print(key)\n",
    "    i+=1"
   ]
  },
  {
   "cell_type": "code",
   "execution_count": 1,
   "id": "37a6a2ce-d15a-429c-af51-44dd8b039528",
   "metadata": {},
   "outputs": [
    {
     "name": "stdout",
     "output_type": "stream",
     "text": [
      "5 9\n"
     ]
    }
   ],
   "source": [
    "#largest element\n",
    "li=[2,3,5,4,6,9,4,8]\n",
    "i=0\n",
    "a=0\n",
    "n=len(li)\n",
    "while i<n:\n",
    "    if li[i]>li[a]:\n",
    "        a=i\n",
    "        \n",
    "    i+=1\n",
    "print(a,li[a])"
   ]
  },
  {
   "cell_type": "code",
   "execution_count": 3,
   "id": "f1aea732-4b2a-4797-b752-4c26896e583c",
   "metadata": {},
   "outputs": [
    {
     "name": "stdout",
     "output_type": "stream",
     "text": [
      "0 2 0 2\n",
      "0 2 1 3\n",
      "1 3 2 5\n",
      "2 5 3 4\n",
      "2 5 4 6\n",
      "4 6 5 9\n",
      "5 9 6 4\n",
      "5 9 7 8\n",
      "5 9\n"
     ]
    }
   ],
   "source": [
    "#largest element\n",
    "li=[2,3,5,4,6,9,4,8]\n",
    "i=0\n",
    "a=0\n",
    "n=len(li)\n",
    "while i<n:\n",
    "    #code acche se chala k dekhne k liye\n",
    "    print(a,li[a],i,li[i])\n",
    "    if li[i]>li[a]:\n",
    "        a=i\n",
    "        \n",
    "    i+=1\n",
    "print(a,li[a])"
   ]
  },
  {
   "cell_type": "code",
   "execution_count": 2,
   "id": "ec6bfaaa-73b3-41d2-bc47-4e9e4f6f63a4",
   "metadata": {},
   "outputs": [
    {
     "name": "stdout",
     "output_type": "stream",
     "text": [
      "0 2\n"
     ]
    }
   ],
   "source": [
    "#smallest element\n",
    "li=[2,3,5,4,6,9,4,8]\n",
    "i=0\n",
    "a=0\n",
    "n=len(li)\n",
    "while i<n:\n",
    "    if li[i]<li[a]:\n",
    "        a=i\n",
    "        \n",
    "    i+=1\n",
    "print(a,li[a])"
   ]
  },
  {
   "cell_type": "code",
   "execution_count": 10,
   "id": "7ea52894-725c-4066-96c9-e7d86af34fca",
   "metadata": {},
   "outputs": [
    {
     "name": "stdout",
     "output_type": "stream",
     "text": [
      "total sum: 55\n"
     ]
    }
   ],
   "source": [
    "li=[2,3,4,5,6,7,8,20]\n",
    "i=0\n",
    "n=len(li)\n",
    "a=0\n",
    "while i<n:\n",
    "    a+=li[i]\n",
    "    i+=1\n",
    "print(\"total sum:\",a)"
   ]
  },
  {
   "cell_type": "code",
   "execution_count": 11,
   "id": "e3f795d1-92c4-44f0-8e73-f90e8ca40f38",
   "metadata": {},
   "outputs": [
    {
     "name": "stdout",
     "output_type": "stream",
     "text": [
      "2 2\n",
      "3 5\n",
      "4 9\n",
      "5 14\n",
      "6 20\n",
      "7 27\n",
      "8 35\n",
      "20 55\n",
      "total sum: 55\n"
     ]
    }
   ],
   "source": [
    "li=[2,3,4,5,6,7,8,20]\n",
    "i=0\n",
    "n=len(li)\n",
    "a=0\n",
    "while i<n:\n",
    "    a+=li[i]\n",
    "    print(li[i],a)\n",
    "    i+=1\n",
    "print(\"total sum:\",a)"
   ]
  },
  {
   "cell_type": "code",
   "execution_count": 12,
   "id": "a5b672ff-3fc1-4342-bdc2-0b4ea725895f",
   "metadata": {},
   "outputs": [],
   "source": [
    "li.sort()"
   ]
  },
  {
   "cell_type": "code",
   "execution_count": 13,
   "id": "654d22a6-07dc-4bfc-89e3-80f30d8c5fb9",
   "metadata": {},
   "outputs": [
    {
     "data": {
      "text/plain": [
       "[2, 3, 4, 5, 6, 7, 8, 20]"
      ]
     },
     "execution_count": 13,
     "metadata": {},
     "output_type": "execute_result"
    }
   ],
   "source": [
    "li"
   ]
  },
  {
   "cell_type": "code",
   "execution_count": 14,
   "id": "2d121a6e-4f2f-4a34-9be1-bb2afc059111",
   "metadata": {},
   "outputs": [
    {
     "data": {
      "text/plain": [
       "4"
      ]
     },
     "execution_count": 14,
     "metadata": {},
     "output_type": "execute_result"
    }
   ],
   "source": [
    "len(li)//2"
   ]
  },
  {
   "cell_type": "code",
   "execution_count": 17,
   "id": "c3f67a5f-7f0b-41d0-a1ad-d034ff5f6233",
   "metadata": {},
   "outputs": [
    {
     "data": {
      "text/plain": [
       "6"
      ]
     },
     "execution_count": 17,
     "metadata": {},
     "output_type": "execute_result"
    }
   ],
   "source": [
    "#mid item find krna\n",
    "li[len(li)//2]"
   ]
  },
  {
   "cell_type": "code",
   "execution_count": 22,
   "id": "8502c3a8-64aa-436c-b16c-6aff15c75155",
   "metadata": {},
   "outputs": [
    {
     "name": "stdout",
     "output_type": "stream",
     "text": [
      "25is not a prime number\n"
     ]
    }
   ],
   "source": [
    "#important quwstion*********basic interviews\n",
    "#que.is the number is prime or not.?\n",
    "n=25\n",
    "prime=True\n",
    "i=2\n",
    "\n",
    "while i<n:\n",
    "    #print(i)\n",
    "    if n%i==0:\n",
    "        prime=False\n",
    "        break\n",
    "    i+=1\n",
    "if prime:\n",
    "    print(f\"{n} is a prime number\")\n",
    "else:\n",
    "    print(f\"{n}is not a prime number\")"
   ]
  },
  {
   "cell_type": "code",
   "execution_count": 25,
   "id": "b0dabd13-5179-4346-bf07-c4bed457880a",
   "metadata": {},
   "outputs": [
    {
     "name": "stdout",
     "output_type": "stream",
     "text": [
      "2\n",
      "3\n",
      "4\n",
      "5\n",
      "25is not a prime number\n"
     ]
    }
   ],
   "source": [
    "#important quwstion*********basic interviews\n",
    "#que.is the number is prime or not.?\n",
    "n=25\n",
    "prime=True\n",
    "i=2\n",
    "\n",
    "while i<n:\n",
    "    print(i)\n",
    "    if n%i==0:\n",
    "        prime=False\n",
    "        break\n",
    "    i+=1\n",
    "if prime:\n",
    "    print(f\"{n} is a prime number\")\n",
    "else:\n",
    "    print(f\"{n}is not a prime number\")"
   ]
  },
  {
   "cell_type": "code",
   "execution_count": null,
   "id": "d71d057f-246b-4469-ab53-6db398484ade",
   "metadata": {},
   "outputs": [],
   "source": []
  }
 ],
 "metadata": {
  "kernelspec": {
   "display_name": "Python [conda env:base] *",
   "language": "python",
   "name": "conda-base-py"
  },
  "language_info": {
   "codemirror_mode": {
    "name": "ipython",
    "version": 3
   },
   "file_extension": ".py",
   "mimetype": "text/x-python",
   "name": "python",
   "nbconvert_exporter": "python",
   "pygments_lexer": "ipython3",
   "version": "3.13.5"
  }
 },
 "nbformat": 4,
 "nbformat_minor": 5
}
