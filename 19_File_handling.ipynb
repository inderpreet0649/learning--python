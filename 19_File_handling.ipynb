{
 "cells": [
  {
   "cell_type": "code",
   "execution_count": 1,
   "id": "73ef6b75-58cf-4b37-9020-69cd04f4eb12",
   "metadata": {},
   "outputs": [],
   "source": [
    "# if you don't tell what to do in file like read,write etc. by default it read the file\n",
    "myfile = open(\"netmax.txt\", \"r\")  \n"
   ]
  },
  {
   "cell_type": "raw",
   "id": "f2e059a0-c4d4-4952-8a95-abd8e94f3d79",
   "metadata": {},
   "source": []
  },
  {
   "cell_type": "code",
   "execution_count": 2,
   "id": "a7275df0-6227-44a9-916a-08d0ab7eb049",
   "metadata": {},
   "outputs": [
    {
     "name": "stdout",
     "output_type": "stream",
     "text": [
      "hello !how are you\n",
      "nice to meet you\n",
      "hey everyone\n"
     ]
    }
   ],
   "source": [
    "print(myfile.read())"
   ]
  },
  {
   "cell_type": "code",
   "execution_count": 3,
   "id": "ca6f8b8b-7281-4793-9acd-eb19a86964c4",
   "metadata": {},
   "outputs": [],
   "source": [
    "# it is mandatory when you open then file you should close it\n",
    "myfile.close()"
   ]
  },
  {
   "cell_type": "code",
   "execution_count": 4,
   "id": "64d85b33-6bb5-423a-bbc2-043efd978d89",
   "metadata": {},
   "outputs": [],
   "source": [
    "myfile = open(\"netmax.txt\",\"r\")"
   ]
  },
  {
   "cell_type": "code",
   "execution_count": 5,
   "id": "31d92cf3-1700-4aaa-8412-fa24d35aecd3",
   "metadata": {},
   "outputs": [
    {
     "name": "stdout",
     "output_type": "stream",
     "text": [
      "hello !how are you\n",
      "\n"
     ]
    }
   ],
   "source": [
    "print(myfile.readline())"
   ]
  },
  {
   "cell_type": "code",
   "execution_count": 6,
   "id": "6f3523e8-4283-4d3c-9bed-5cbf06b7d106",
   "metadata": {},
   "outputs": [
    {
     "name": "stdout",
     "output_type": "stream",
     "text": [
      "nice to meet you\n",
      "\n"
     ]
    }
   ],
   "source": [
    "print(myfile.readline())"
   ]
  },
  {
   "cell_type": "code",
   "execution_count": 7,
   "id": "fd4678a6-b527-4dc5-951a-be8f19356277",
   "metadata": {},
   "outputs": [
    {
     "name": "stdout",
     "output_type": "stream",
     "text": [
      "hey everyone\n"
     ]
    }
   ],
   "source": [
    "print(myfile.readline())"
   ]
  },
  {
   "cell_type": "code",
   "execution_count": 8,
   "id": "45cade4d-4854-4d55-8c5f-657b520d5a27",
   "metadata": {},
   "outputs": [],
   "source": [
    "myfile.close()"
   ]
  },
  {
   "cell_type": "code",
   "execution_count": 9,
   "id": "897967b6-a90a-467f-82ca-e58f33232080",
   "metadata": {},
   "outputs": [],
   "source": [
    "# when your file in inner folder of music\n",
    "#myfile= open(\"folder name eg. kanika/file name eg. netmax.txt\",\"r\")\n",
    "# and then close the file\n",
    "# when your file in outer folder not in music folder\n",
    "#myfile= open(\"../kanika/netmax.txt\",\"r\")\n",
    "# and then close the file\n",
    "# when your file in two outer folder not in music folder\n",
    "#myfile= open(\"../../kanika/netmax.txt\",\"r\")\n",
    "# and then close the file\n",
    "# ../ use to come out from any folder"
   ]
  },
  {
   "cell_type": "code",
   "execution_count": 10,
   "id": "2f42f0fc-b4bf-4b9f-8598-768f88d71f34",
   "metadata": {},
   "outputs": [
    {
     "name": "stdout",
     "output_type": "stream",
     "text": [
      "hello !how are you\n",
      "nice to meet you\n",
      "hey everyone\n"
     ]
    }
   ],
   "source": [
    "try:\n",
    "    file = open (\"netmax.txt\",\"r\")\n",
    "    content= file.read()\n",
    "    print(content)\n",
    "except:\n",
    "    print(\"not work\")\n",
    "finally:\n",
    "    file.close()"
   ]
  },
  {
   "cell_type": "code",
   "execution_count": 11,
   "id": "414b91c0-15cc-42ad-a442-c1739d65c5ed",
   "metadata": {},
   "outputs": [
    {
     "name": "stdout",
     "output_type": "stream",
     "text": [
      "hello !how are you\n",
      "nice to meet you\n",
      "hey everyone\n"
     ]
    }
   ],
   "source": [
    "with open (\"netmax.txt\",\"r\") as file:\n",
    "    content= file.read()\n",
    "    print(content)"
   ]
  },
  {
   "cell_type": "code",
   "execution_count": 13,
   "id": "1330b69a-fc3e-484e-8603-d508e833cafe",
   "metadata": {},
   "outputs": [],
   "source": [
    "#a = read a file if there is no such a file it will create it\n",
    "with open(\"customer.txt\",\"a\") as file :\n",
    "    c= \"\"\"\n",
    "     nice to meet you.\n",
    "     lets have dinner\n",
    "    \"\"\"\n",
    "    file.write(c)\n",
    "    "
   ]
  },
  {
   "cell_type": "code",
   "execution_count": null,
   "id": "f4c40aa3-a16b-445a-89dc-dde50aba3d5e",
   "metadata": {},
   "outputs": [],
   "source": []
  }
 ],
 "metadata": {
  "kernelspec": {
   "display_name": "Python [conda env:base] *",
   "language": "python",
   "name": "conda-base-py"
  },
  "language_info": {
   "codemirror_mode": {
    "name": "ipython",
    "version": 3
   },
   "file_extension": ".py",
   "mimetype": "text/x-python",
   "name": "python",
   "nbconvert_exporter": "python",
   "pygments_lexer": "ipython3",
   "version": "3.13.5"
  }
 },
 "nbformat": 4,
 "nbformat_minor": 5
}
